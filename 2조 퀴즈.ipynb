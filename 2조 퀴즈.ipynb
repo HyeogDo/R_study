{
 "cells": [
  {
   "cell_type": "code",
   "execution_count": 1,
   "id": "c16aade7",
   "metadata": {},
   "outputs": [
    {
     "data": {
      "text/html": [
       "<table>\n",
       "<thead><tr><th scope=col>광역시도</th><th scope=col>시군구</th><th scope=col>선거인수</th><th scope=col>투표수</th><th scope=col>이재명</th><th scope=col>윤석열</th><th scope=col>심상정</th></tr></thead>\n",
       "<tbody>\n",
       "\t<tr><td>서울특별시</td><td>종로구    </td><td>129968    </td><td>100629    </td><td> 46130    </td><td> 49172    </td><td>3115      </td></tr>\n",
       "\t<tr><td>서울특별시</td><td>중구      </td><td>111448    </td><td> 84998    </td><td> 38244    </td><td> 42906    </td><td>2310      </td></tr>\n",
       "\t<tr><td>서울특별시</td><td>용산구    </td><td>199077    </td><td>152068    </td><td> 60063    </td><td> 85047    </td><td>4374      </td></tr>\n",
       "\t<tr><td>서울특별시</td><td>성동구    </td><td>252087    </td><td>197240    </td><td> 84411    </td><td>103880    </td><td>5365      </td></tr>\n",
       "\t<tr><td>서울특별시</td><td>광진구    </td><td>303582    </td><td>235471    </td><td>109922    </td><td>113733    </td><td>7072      </td></tr>\n",
       "\t<tr><td>서울특별시</td><td>동대문구  </td><td>300928    </td><td>232106    </td><td>108171    </td><td>112890    </td><td>6416      </td></tr>\n",
       "</tbody>\n",
       "</table>\n"
      ],
      "text/latex": [
       "\\begin{tabular}{r|lllllll}\n",
       " 광역시도 & 시군구 & 선거인수 & 투표수 & 이재명 & 윤석열 & 심상정\\\\\n",
       "\\hline\n",
       "\t 서울특별시 & 종로구     & 129968     & 100629     &  46130     &  49172     & 3115      \\\\\n",
       "\t 서울특별시 & 중구       & 111448     &  84998     &  38244     &  42906     & 2310      \\\\\n",
       "\t 서울특별시 & 용산구     & 199077     & 152068     &  60063     &  85047     & 4374      \\\\\n",
       "\t 서울특별시 & 성동구     & 252087     & 197240     &  84411     & 103880     & 5365      \\\\\n",
       "\t 서울특별시 & 광진구     & 303582     & 235471     & 109922     & 113733     & 7072      \\\\\n",
       "\t 서울특별시 & 동대문구   & 300928     & 232106     & 108171     & 112890     & 6416      \\\\\n",
       "\\end{tabular}\n"
      ],
      "text/markdown": [
       "\n",
       "| 광역시도 | 시군구 | 선거인수 | 투표수 | 이재명 | 윤석열 | 심상정 |\n",
       "|---|---|---|---|---|---|---|\n",
       "| 서울특별시 | 종로구     | 129968     | 100629     |  46130     |  49172     | 3115       |\n",
       "| 서울특별시 | 중구       | 111448     |  84998     |  38244     |  42906     | 2310       |\n",
       "| 서울특별시 | 용산구     | 199077     | 152068     |  60063     |  85047     | 4374       |\n",
       "| 서울특별시 | 성동구     | 252087     | 197240     |  84411     | 103880     | 5365       |\n",
       "| 서울특별시 | 광진구     | 303582     | 235471     | 109922     | 113733     | 7072       |\n",
       "| 서울특별시 | 동대문구   | 300928     | 232106     | 108171     | 112890     | 6416       |\n",
       "\n"
      ],
      "text/plain": [
       "  광역시도   시군구   선거인수 투표수 이재명 윤석열 심상정\n",
       "1 서울특별시 종로구   129968   100629  46130  49172 3115  \n",
       "2 서울특별시 중구     111448    84998  38244  42906 2310  \n",
       "3 서울특별시 용산구   199077   152068  60063  85047 4374  \n",
       "4 서울특별시 성동구   252087   197240  84411 103880 5365  \n",
       "5 서울특별시 광진구   303582   235471 109922 113733 7072  \n",
       "6 서울특별시 동대문구 300928   232106 108171 112890 6416  "
      ]
     },
     "metadata": {},
     "output_type": "display_data"
    },
    {
     "name": "stderr",
     "output_type": "stream",
     "text": [
      "\n",
      "Attaching package: 'dplyr'\n",
      "\n",
      "The following objects are masked from 'package:stats':\n",
      "\n",
      "    filter, lag\n",
      "\n",
      "The following objects are masked from 'package:base':\n",
      "\n",
      "    intersect, setdiff, setequal, union\n",
      "\n"
     ]
    }
   ],
   "source": [
    "election <- read.csv(\"../Data/election_2022.csv\", stringsAsFactors = F, fileEncoding = \"utf-8\")\n",
    "head(election)\n",
    "library(dplyr)\n",
    "library(plotrix)\n",
    "library(stringr)\n",
    "options(scipen = 100)\n",
    "par(family = \"AppleGothic\")\n",
    "options(warn = -1)"
   ]
  },
  {
   "cell_type": "code",
   "execution_count": 2,
   "id": "a840710e",
   "metadata": {},
   "outputs": [],
   "source": [
    "election$투표율 <- election$투표수 / election$선거인수 * 100"
   ]
  },
  {
   "cell_type": "code",
   "execution_count": 3,
   "id": "355d78fc",
   "metadata": {},
   "outputs": [],
   "source": [
    "a <- subset(election, 투표율 >= 75)\n",
    "\n",
    "a$이재명 <- a$이재명 / a$투표수 * 100\n",
    "a$윤석열 <- a$윤석열 / a$투표수 * 100"
   ]
  },
  {
   "cell_type": "code",
   "execution_count": 4,
   "id": "bb823f18",
   "metadata": {},
   "outputs": [],
   "source": [
    "광역시도 <- count(a,광역시도)"
   ]
  },
  {
   "cell_type": "code",
   "execution_count": 5,
   "id": "cf6815ff",
   "metadata": {},
   "outputs": [],
   "source": [
    "b <- merge(x=광역시도, y=merge(count(subset(a,이재명 >= 50 ), 광역시도),count(subset(a,윤석열 >= 50 ), 광역시도),\n",
    "           by.x=\"광역시도\", by.y=\"광역시도\", all.y=T, all.x=T)\n",
    "           , by.x=\"광역시도\", by.y=\"광역시도\", all.x=T)"
   ]
  },
  {
   "cell_type": "code",
   "execution_count": 6,
   "id": "f2d78f34",
   "metadata": {},
   "outputs": [],
   "source": [
    "b[is.na(b)] <- 0\n"
   ]
  },
  {
   "cell_type": "code",
   "execution_count": 7,
   "id": "9456502f",
   "metadata": {},
   "outputs": [
    {
     "data": {
      "text/html": [
       "<table>\n",
       "<thead><tr><th scope=col>광역시도</th><th scope=col>n</th><th scope=col>n.x</th><th scope=col>n.y</th></tr></thead>\n",
       "<tbody>\n",
       "\t<tr><td>강원도        </td><td>14            </td><td> 0            </td><td>14            </td></tr>\n",
       "\t<tr><td>경기도        </td><td>26            </td><td>12            </td><td> 6            </td></tr>\n",
       "\t<tr><td>경상남도      </td><td>18            </td><td> 0            </td><td>18            </td></tr>\n",
       "\t<tr><td>경상북도      </td><td>22            </td><td> 0            </td><td>22            </td></tr>\n",
       "\t<tr><td>광주광역시    </td><td> 5            </td><td> 5            </td><td> 0            </td></tr>\n",
       "\t<tr><td>대구광역시    </td><td> 8            </td><td> 0            </td><td> 8            </td></tr>\n",
       "\t<tr><td>대전광역시    </td><td> 4            </td><td> 0            </td><td> 1            </td></tr>\n",
       "\t<tr><td>부산광역시    </td><td> 8            </td><td> 0            </td><td> 8            </td></tr>\n",
       "\t<tr><td>서울특별시    </td><td>24            </td><td> 2            </td><td> 8            </td></tr>\n",
       "\t<tr><td>세종특별자치시</td><td> 1            </td><td> 1            </td><td> 0            </td></tr>\n",
       "\t<tr><td>울산광역시    </td><td> 5            </td><td> 0            </td><td> 3            </td></tr>\n",
       "\t<tr><td>인천광역시    </td><td> 4            </td><td> 0            </td><td> 3            </td></tr>\n",
       "\t<tr><td>전라남도      </td><td>22            </td><td>22            </td><td> 0            </td></tr>\n",
       "\t<tr><td>전라북도      </td><td>15            </td><td>15            </td><td> 0            </td></tr>\n",
       "\t<tr><td>충청남도      </td><td> 8            </td><td> 0            </td><td> 8            </td></tr>\n",
       "\t<tr><td>충청북도      </td><td> 8            </td><td> 0            </td><td> 7            </td></tr>\n",
       "</tbody>\n",
       "</table>\n"
      ],
      "text/latex": [
       "\\begin{tabular}{r|llll}\n",
       " 광역시도 & n & n.x & n.y\\\\\n",
       "\\hline\n",
       "\t 강원도         & 14             &  0             & 14            \\\\\n",
       "\t 경기도         & 26             & 12             &  6            \\\\\n",
       "\t 경상남도       & 18             &  0             & 18            \\\\\n",
       "\t 경상북도       & 22             &  0             & 22            \\\\\n",
       "\t 광주광역시     &  5             &  5             &  0            \\\\\n",
       "\t 대구광역시     &  8             &  0             &  8            \\\\\n",
       "\t 대전광역시     &  4             &  0             &  1            \\\\\n",
       "\t 부산광역시     &  8             &  0             &  8            \\\\\n",
       "\t 서울특별시     & 24             &  2             &  8            \\\\\n",
       "\t 세종특별자치시 &  1             &  1             &  0            \\\\\n",
       "\t 울산광역시     &  5             &  0             &  3            \\\\\n",
       "\t 인천광역시     &  4             &  0             &  3            \\\\\n",
       "\t 전라남도       & 22             & 22             &  0            \\\\\n",
       "\t 전라북도       & 15             & 15             &  0            \\\\\n",
       "\t 충청남도       &  8             &  0             &  8            \\\\\n",
       "\t 충청북도       &  8             &  0             &  7            \\\\\n",
       "\\end{tabular}\n"
      ],
      "text/markdown": [
       "\n",
       "| 광역시도 | n | n.x | n.y |\n",
       "|---|---|---|---|\n",
       "| 강원도         | 14             |  0             | 14             |\n",
       "| 경기도         | 26             | 12             |  6             |\n",
       "| 경상남도       | 18             |  0             | 18             |\n",
       "| 경상북도       | 22             |  0             | 22             |\n",
       "| 광주광역시     |  5             |  5             |  0             |\n",
       "| 대구광역시     |  8             |  0             |  8             |\n",
       "| 대전광역시     |  4             |  0             |  1             |\n",
       "| 부산광역시     |  8             |  0             |  8             |\n",
       "| 서울특별시     | 24             |  2             |  8             |\n",
       "| 세종특별자치시 |  1             |  1             |  0             |\n",
       "| 울산광역시     |  5             |  0             |  3             |\n",
       "| 인천광역시     |  4             |  0             |  3             |\n",
       "| 전라남도       | 22             | 22             |  0             |\n",
       "| 전라북도       | 15             | 15             |  0             |\n",
       "| 충청남도       |  8             |  0             |  8             |\n",
       "| 충청북도       |  8             |  0             |  7             |\n",
       "\n"
      ],
      "text/plain": [
       "   광역시도       n  n.x n.y\n",
       "1  강원도         14  0  14 \n",
       "2  경기도         26 12   6 \n",
       "3  경상남도       18  0  18 \n",
       "4  경상북도       22  0  22 \n",
       "5  광주광역시      5  5   0 \n",
       "6  대구광역시      8  0   8 \n",
       "7  대전광역시      4  0   1 \n",
       "8  부산광역시      8  0   8 \n",
       "9  서울특별시     24  2   8 \n",
       "10 세종특별자치시  1  1   0 \n",
       "11 울산광역시      5  0   3 \n",
       "12 인천광역시      4  0   3 \n",
       "13 전라남도       22 22   0 \n",
       "14 전라북도       15 15   0 \n",
       "15 충청남도        8  0   8 \n",
       "16 충청북도        8  0   7 "
      ]
     },
     "metadata": {},
     "output_type": "display_data"
    }
   ],
   "source": [
    "b"
   ]
  },
  {
   "cell_type": "code",
   "execution_count": 8,
   "id": "cd4c4cd6",
   "metadata": {},
   "outputs": [
    {
     "data": {
      "text/html": [
       "<ol class=list-inline>\n",
       "\t<li>'강원도'</li>\n",
       "\t<li>'경기도'</li>\n",
       "\t<li>'경상남도'</li>\n",
       "\t<li>'경상북도'</li>\n",
       "\t<li>'광주광역시'</li>\n",
       "\t<li>'대구광역시'</li>\n",
       "\t<li>'대전광역시'</li>\n",
       "\t<li>'부산광역시'</li>\n",
       "\t<li>'서울특별시'</li>\n",
       "\t<li>'세종특별자치시'</li>\n",
       "\t<li>'울산광역시'</li>\n",
       "\t<li>'인천광역시'</li>\n",
       "\t<li>'전라남도'</li>\n",
       "\t<li>'전라북도'</li>\n",
       "\t<li>'충청남도'</li>\n",
       "\t<li>'충청북도'</li>\n",
       "</ol>\n"
      ],
      "text/latex": [
       "\\begin{enumerate*}\n",
       "\\item '강원도'\n",
       "\\item '경기도'\n",
       "\\item '경상남도'\n",
       "\\item '경상북도'\n",
       "\\item '광주광역시'\n",
       "\\item '대구광역시'\n",
       "\\item '대전광역시'\n",
       "\\item '부산광역시'\n",
       "\\item '서울특별시'\n",
       "\\item '세종특별자치시'\n",
       "\\item '울산광역시'\n",
       "\\item '인천광역시'\n",
       "\\item '전라남도'\n",
       "\\item '전라북도'\n",
       "\\item '충청남도'\n",
       "\\item '충청북도'\n",
       "\\end{enumerate*}\n"
      ],
      "text/markdown": [
       "1. '강원도'\n",
       "2. '경기도'\n",
       "3. '경상남도'\n",
       "4. '경상북도'\n",
       "5. '광주광역시'\n",
       "6. '대구광역시'\n",
       "7. '대전광역시'\n",
       "8. '부산광역시'\n",
       "9. '서울특별시'\n",
       "10. '세종특별자치시'\n",
       "11. '울산광역시'\n",
       "12. '인천광역시'\n",
       "13. '전라남도'\n",
       "14. '전라북도'\n",
       "15. '충청남도'\n",
       "16. '충청북도'\n",
       "\n",
       "\n"
      ],
      "text/plain": [
       " [1] \"강원도\"         \"경기도\"         \"경상남도\"       \"경상북도\"      \n",
       " [5] \"광주광역시\"     \"대구광역시\"     \"대전광역시\"     \"부산광역시\"    \n",
       " [9] \"서울특별시\"     \"세종특별자치시\" \"울산광역시\"     \"인천광역시\"    \n",
       "[13] \"전라남도\"       \"전라북도\"       \"충청남도\"       \"충청북도\"      "
      ]
     },
     "metadata": {},
     "output_type": "display_data"
    }
   ],
   "source": [
    "b$광역시도"
   ]
  },
  {
   "cell_type": "code",
   "execution_count": 32,
   "id": "e21051b6",
   "metadata": {},
   "outputs": [
    {
     "data": {
      "image/png": "[encoded data removed]",
      "text/plain": [
       "plot without title"
      ]
     },
     "metadata": {},
     "output_type": "display_data"
    }
   ],
   "source": [
    "plot(b$n,\n",
    "     type=\"o\",\n",
    "     ylim = c(0,30),\n",
    "     col=\"red\",\n",
    "     axes = F,\n",
    "     ann=F,\n",
    "     lty=2\n",
    "    )\n",
    "axis(1, at=1:length(b$광역시도),lab=b$광역시도,cex.axis=0.4)\n",
    "axis(2, ylim = c(0,30))\n",
    "lines(b$n.x,\n",
    "      type=\"o\",\n",
    "      col=\"green\"\n",
    "     )\n",
    "lines(b$n.y,\n",
    "      type=\"o\",\n",
    "      col=\"blue\"\n",
    "     )\n",
    "legend(\"topright\", # x, y 좌표\n",
    "       c(\"전체\", \"이재명\", \"윤석열\"),\n",
    "       col = c(\"red\", \"green\", \"blue\"),\n",
    "       lty = c(2,1,1),\n",
    "       cex = 0.8 )"
   ]
  },
  {
   "cell_type": "code",
   "execution_count": 25,
   "id": "7d4120d5",
   "metadata": {},
   "outputs": [],
   "source": [
    "help(axis)"
   ]
  }
 ],
 "metadata": {
  "kernelspec": {
   "display_name": "R",
   "language": "R",
   "name": "ir"
  },
  "language_info": {
   "codemirror_mode": "r",
   "file_extension": ".r",
   "mimetype": "text/x-r-source",
   "name": "R",
   "pygments_lexer": "r",
   "version": "3.6.1"
  }
 },
 "nbformat": 4,
 "nbformat_minor": 5
}
