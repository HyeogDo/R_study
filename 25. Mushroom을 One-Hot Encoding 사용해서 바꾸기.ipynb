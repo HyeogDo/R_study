{
 "cells": [
  {
   "cell_type": "code",
   "execution_count": 3,
   "id": "f8bbac14",
   "metadata": {},
   "outputs": [
    {
     "data": {
      "text/html": [
       "<table>\n",
       "<thead><tr><th scope=col>V1</th><th scope=col>V2</th><th scope=col>V3</th><th scope=col>V4</th><th scope=col>V5</th><th scope=col>V6</th><th scope=col>V7</th><th scope=col>V8</th><th scope=col>V9</th><th scope=col>V10</th><th scope=col>...</th><th scope=col>V14</th><th scope=col>V15</th><th scope=col>V16</th><th scope=col>V17</th><th scope=col>V18</th><th scope=col>V19</th><th scope=col>V20</th><th scope=col>V21</th><th scope=col>V22</th><th scope=col>V23</th></tr></thead>\n",
       "<tbody>\n",
       "\t<tr><td>p  </td><td>x  </td><td>s  </td><td>n  </td><td>t  </td><td>p  </td><td>f  </td><td>c  </td><td>n  </td><td>k  </td><td>...</td><td>s  </td><td>w  </td><td>w  </td><td>p  </td><td>w  </td><td>o  </td><td>p  </td><td>k  </td><td>s  </td><td>u  </td></tr>\n",
       "\t<tr><td>e  </td><td>x  </td><td>s  </td><td>y  </td><td>t  </td><td>a  </td><td>f  </td><td>c  </td><td>b  </td><td>k  </td><td>...</td><td>s  </td><td>w  </td><td>w  </td><td>p  </td><td>w  </td><td>o  </td><td>p  </td><td>n  </td><td>n  </td><td>g  </td></tr>\n",
       "\t<tr><td>e  </td><td>b  </td><td>s  </td><td>w  </td><td>t  </td><td>l  </td><td>f  </td><td>c  </td><td>b  </td><td>n  </td><td>...</td><td>s  </td><td>w  </td><td>w  </td><td>p  </td><td>w  </td><td>o  </td><td>p  </td><td>n  </td><td>n  </td><td>m  </td></tr>\n",
       "\t<tr><td>p  </td><td>x  </td><td>y  </td><td>w  </td><td>t  </td><td>p  </td><td>f  </td><td>c  </td><td>n  </td><td>n  </td><td>...</td><td>s  </td><td>w  </td><td>w  </td><td>p  </td><td>w  </td><td>o  </td><td>p  </td><td>k  </td><td>s  </td><td>u  </td></tr>\n",
       "\t<tr><td>e  </td><td>x  </td><td>s  </td><td>g  </td><td>f  </td><td>n  </td><td>f  </td><td>w  </td><td>b  </td><td>k  </td><td>...</td><td>s  </td><td>w  </td><td>w  </td><td>p  </td><td>w  </td><td>o  </td><td>e  </td><td>n  </td><td>a  </td><td>g  </td></tr>\n",
       "\t<tr><td>e  </td><td>x  </td><td>y  </td><td>y  </td><td>t  </td><td>a  </td><td>f  </td><td>c  </td><td>b  </td><td>n  </td><td>...</td><td>s  </td><td>w  </td><td>w  </td><td>p  </td><td>w  </td><td>o  </td><td>p  </td><td>k  </td><td>n  </td><td>g  </td></tr>\n",
       "</tbody>\n",
       "</table>\n"
      ],
      "text/latex": [
       "\\begin{tabular}{r|lllllllllllllllllllllll}\n",
       " V1 & V2 & V3 & V4 & V5 & V6 & V7 & V8 & V9 & V10 & ... & V14 & V15 & V16 & V17 & V18 & V19 & V20 & V21 & V22 & V23\\\\\n",
       "\\hline\n",
       "\t p   & x   & s   & n   & t   & p   & f   & c   & n   & k   & ... & s   & w   & w   & p   & w   & o   & p   & k   & s   & u  \\\\\n",
       "\t e   & x   & s   & y   & t   & a   & f   & c   & b   & k   & ... & s   & w   & w   & p   & w   & o   & p   & n   & n   & g  \\\\\n",
       "\t e   & b   & s   & w   & t   & l   & f   & c   & b   & n   & ... & s   & w   & w   & p   & w   & o   & p   & n   & n   & m  \\\\\n",
       "\t p   & x   & y   & w   & t   & p   & f   & c   & n   & n   & ... & s   & w   & w   & p   & w   & o   & p   & k   & s   & u  \\\\\n",
       "\t e   & x   & s   & g   & f   & n   & f   & w   & b   & k   & ... & s   & w   & w   & p   & w   & o   & e   & n   & a   & g  \\\\\n",
       "\t e   & x   & y   & y   & t   & a   & f   & c   & b   & n   & ... & s   & w   & w   & p   & w   & o   & p   & k   & n   & g  \\\\\n",
       "\\end{tabular}\n"
      ],
      "text/markdown": [
       "\n",
       "| V1 | V2 | V3 | V4 | V5 | V6 | V7 | V8 | V9 | V10 | ... | V14 | V15 | V16 | V17 | V18 | V19 | V20 | V21 | V22 | V23 |\n",
       "|---|---|---|---|---|---|---|---|---|---|---|---|---|---|---|---|---|---|---|---|---|\n",
       "| p   | x   | s   | n   | t   | p   | f   | c   | n   | k   | ... | s   | w   | w   | p   | w   | o   | p   | k   | s   | u   |\n",
       "| e   | x   | s   | y   | t   | a   | f   | c   | b   | k   | ... | s   | w   | w   | p   | w   | o   | p   | n   | n   | g   |\n",
       "| e   | b   | s   | w   | t   | l   | f   | c   | b   | n   | ... | s   | w   | w   | p   | w   | o   | p   | n   | n   | m   |\n",
       "| p   | x   | y   | w   | t   | p   | f   | c   | n   | n   | ... | s   | w   | w   | p   | w   | o   | p   | k   | s   | u   |\n",
       "| e   | x   | s   | g   | f   | n   | f   | w   | b   | k   | ... | s   | w   | w   | p   | w   | o   | e   | n   | a   | g   |\n",
       "| e   | x   | y   | y   | t   | a   | f   | c   | b   | n   | ... | s   | w   | w   | p   | w   | o   | p   | k   | n   | g   |\n",
       "\n"
      ],
      "text/plain": [
       "  V1 V2 V3 V4 V5 V6 V7 V8 V9 V10 ... V14 V15 V16 V17 V18 V19 V20 V21 V22 V23\n",
       "1 p  x  s  n  t  p  f  c  n  k   ... s   w   w   p   w   o   p   k   s   u  \n",
       "2 e  x  s  y  t  a  f  c  b  k   ... s   w   w   p   w   o   p   n   n   g  \n",
       "3 e  b  s  w  t  l  f  c  b  n   ... s   w   w   p   w   o   p   n   n   m  \n",
       "4 p  x  y  w  t  p  f  c  n  n   ... s   w   w   p   w   o   p   k   s   u  \n",
       "5 e  x  s  g  f  n  f  w  b  k   ... s   w   w   p   w   o   e   n   a   g  \n",
       "6 e  x  y  y  t  a  f  c  b  n   ... s   w   w   p   w   o   p   k   n   g  "
      ]
     },
     "metadata": {},
     "output_type": "display_data"
    }
   ],
   "source": [
    "mr <- read.csv(\"../Data/mushroom.csv\", header=F)\n",
    "head(mr)"
   ]
  },
  {
   "cell_type": "code",
   "execution_count": 5,
   "id": "bc4af574",
   "metadata": {},
   "outputs": [
    {
     "data": {
      "text/html": [
       "<table>\n",
       "<thead><tr><th scope=col>V1</th><th scope=col>V2</th><th scope=col>V3</th><th scope=col>V4</th><th scope=col>V5</th><th scope=col>V6</th><th scope=col>V7</th><th scope=col>V8</th><th scope=col>V9</th><th scope=col>V10</th><th scope=col>...</th><th scope=col>V14</th><th scope=col>V15</th><th scope=col>V16</th><th scope=col>V17</th><th scope=col>V18</th><th scope=col>V19</th><th scope=col>V20</th><th scope=col>V21</th><th scope=col>V22</th><th scope=col>V23</th></tr></thead>\n",
       "<tbody>\n",
       "\t<tr><td>p  </td><td>6  </td><td>3  </td><td> 5 </td><td>2  </td><td>7  </td><td>2  </td><td>1  </td><td>2  </td><td>5  </td><td>...</td><td>3  </td><td>8  </td><td>8  </td><td>1  </td><td>3  </td><td>2  </td><td>5  </td><td>3  </td><td>4  </td><td>6  </td></tr>\n",
       "\t<tr><td>e  </td><td>6  </td><td>3  </td><td>10 </td><td>2  </td><td>1  </td><td>2  </td><td>1  </td><td>1  </td><td>5  </td><td>...</td><td>3  </td><td>8  </td><td>8  </td><td>1  </td><td>3  </td><td>2  </td><td>5  </td><td>4  </td><td>3  </td><td>2  </td></tr>\n",
       "\t<tr><td>e  </td><td>1  </td><td>3  </td><td> 9 </td><td>2  </td><td>4  </td><td>2  </td><td>1  </td><td>1  </td><td>6  </td><td>...</td><td>3  </td><td>8  </td><td>8  </td><td>1  </td><td>3  </td><td>2  </td><td>5  </td><td>4  </td><td>3  </td><td>4  </td></tr>\n",
       "\t<tr><td>p  </td><td>6  </td><td>4  </td><td> 9 </td><td>2  </td><td>7  </td><td>2  </td><td>1  </td><td>2  </td><td>6  </td><td>...</td><td>3  </td><td>8  </td><td>8  </td><td>1  </td><td>3  </td><td>2  </td><td>5  </td><td>3  </td><td>4  </td><td>6  </td></tr>\n",
       "\t<tr><td>e  </td><td>6  </td><td>3  </td><td> 4 </td><td>1  </td><td>6  </td><td>2  </td><td>2  </td><td>1  </td><td>5  </td><td>...</td><td>3  </td><td>8  </td><td>8  </td><td>1  </td><td>3  </td><td>2  </td><td>1  </td><td>4  </td><td>1  </td><td>2  </td></tr>\n",
       "\t<tr><td>e  </td><td>6  </td><td>4  </td><td>10 </td><td>2  </td><td>1  </td><td>2  </td><td>1  </td><td>1  </td><td>6  </td><td>...</td><td>3  </td><td>8  </td><td>8  </td><td>1  </td><td>3  </td><td>2  </td><td>5  </td><td>3  </td><td>3  </td><td>2  </td></tr>\n",
       "</tbody>\n",
       "</table>\n"
      ],
      "text/latex": [
       "\\begin{tabular}{r|lllllllllllllllllllllll}\n",
       " V1 & V2 & V3 & V4 & V5 & V6 & V7 & V8 & V9 & V10 & ... & V14 & V15 & V16 & V17 & V18 & V19 & V20 & V21 & V22 & V23\\\\\n",
       "\\hline\n",
       "\t p   & 6   & 3   &  5  & 2   & 7   & 2   & 1   & 2   & 5   & ... & 3   & 8   & 8   & 1   & 3   & 2   & 5   & 3   & 4   & 6  \\\\\n",
       "\t e   & 6   & 3   & 10  & 2   & 1   & 2   & 1   & 1   & 5   & ... & 3   & 8   & 8   & 1   & 3   & 2   & 5   & 4   & 3   & 2  \\\\\n",
       "\t e   & 1   & 3   &  9  & 2   & 4   & 2   & 1   & 1   & 6   & ... & 3   & 8   & 8   & 1   & 3   & 2   & 5   & 4   & 3   & 4  \\\\\n",
       "\t p   & 6   & 4   &  9  & 2   & 7   & 2   & 1   & 2   & 6   & ... & 3   & 8   & 8   & 1   & 3   & 2   & 5   & 3   & 4   & 6  \\\\\n",
       "\t e   & 6   & 3   &  4  & 1   & 6   & 2   & 2   & 1   & 5   & ... & 3   & 8   & 8   & 1   & 3   & 2   & 1   & 4   & 1   & 2  \\\\\n",
       "\t e   & 6   & 4   & 10  & 2   & 1   & 2   & 1   & 1   & 6   & ... & 3   & 8   & 8   & 1   & 3   & 2   & 5   & 3   & 3   & 2  \\\\\n",
       "\\end{tabular}\n"
      ],
      "text/markdown": [
       "\n",
       "| V1 | V2 | V3 | V4 | V5 | V6 | V7 | V8 | V9 | V10 | ... | V14 | V15 | V16 | V17 | V18 | V19 | V20 | V21 | V22 | V23 |\n",
       "|---|---|---|---|---|---|---|---|---|---|---|---|---|---|---|---|---|---|---|---|---|\n",
       "| p   | 6   | 3   |  5  | 2   | 7   | 2   | 1   | 2   | 5   | ... | 3   | 8   | 8   | 1   | 3   | 2   | 5   | 3   | 4   | 6   |\n",
       "| e   | 6   | 3   | 10  | 2   | 1   | 2   | 1   | 1   | 5   | ... | 3   | 8   | 8   | 1   | 3   | 2   | 5   | 4   | 3   | 2   |\n",
       "| e   | 1   | 3   |  9  | 2   | 4   | 2   | 1   | 1   | 6   | ... | 3   | 8   | 8   | 1   | 3   | 2   | 5   | 4   | 3   | 4   |\n",
       "| p   | 6   | 4   |  9  | 2   | 7   | 2   | 1   | 2   | 6   | ... | 3   | 8   | 8   | 1   | 3   | 2   | 5   | 3   | 4   | 6   |\n",
       "| e   | 6   | 3   |  4  | 1   | 6   | 2   | 2   | 1   | 5   | ... | 3   | 8   | 8   | 1   | 3   | 2   | 1   | 4   | 1   | 2   |\n",
       "| e   | 6   | 4   | 10  | 2   | 1   | 2   | 1   | 1   | 6   | ... | 3   | 8   | 8   | 1   | 3   | 2   | 5   | 3   | 3   | 2   |\n",
       "\n"
      ],
      "text/plain": [
       "  V1 V2 V3 V4 V5 V6 V7 V8 V9 V10 ... V14 V15 V16 V17 V18 V19 V20 V21 V22 V23\n",
       "1 p  6  3   5 2  7  2  1  2  5   ... 3   8   8   1   3   2   5   3   4   6  \n",
       "2 e  6  3  10 2  1  2  1  1  5   ... 3   8   8   1   3   2   5   4   3   2  \n",
       "3 e  1  3   9 2  4  2  1  1  6   ... 3   8   8   1   3   2   5   4   3   4  \n",
       "4 p  6  4   9 2  7  2  1  2  6   ... 3   8   8   1   3   2   5   3   4   6  \n",
       "5 e  6  3   4 1  6  2  2  1  5   ... 3   8   8   1   3   2   1   4   1   2  \n",
       "6 e  6  4  10 2  1  2  1  1  6   ... 3   8   8   1   3   2   5   3   3   2  "
      ]
     },
     "metadata": {},
     "output_type": "display_data"
    }
   ],
   "source": [
    "# 문자를 숫자로 변환\n",
    "for(i in 2:23) {\n",
    "    mr[,i] <- as.numeric(mr[,i])\n",
    "}\n",
    "head(mr)"
   ]
  },
  {
   "cell_type": "code",
   "execution_count": 6,
   "id": "691697f5",
   "metadata": {},
   "outputs": [
    {
     "data": {
      "text/html": [
       "<ol class=list-inline>\n",
       "\t<li>6</li>\n",
       "\t<li>1</li>\n",
       "\t<li>5</li>\n",
       "\t<li>3</li>\n",
       "\t<li>4</li>\n",
       "\t<li>2</li>\n",
       "</ol>\n"
      ],
      "text/latex": [
       "\\begin{enumerate*}\n",
       "\\item 6\n",
       "\\item 1\n",
       "\\item 5\n",
       "\\item 3\n",
       "\\item 4\n",
       "\\item 2\n",
       "\\end{enumerate*}\n"
      ],
      "text/markdown": [
       "1. 6\n",
       "2. 1\n",
       "3. 5\n",
       "4. 3\n",
       "5. 4\n",
       "6. 2\n",
       "\n",
       "\n"
      ],
      "text/plain": [
       "[1] 6 1 5 3 4 2"
      ]
     },
     "metadata": {},
     "output_type": "display_data"
    }
   ],
   "source": [
    "unique(mr$V2)"
   ]
  },
  {
   "cell_type": "code",
   "execution_count": 11,
   "id": "229861f4",
   "metadata": {},
   "outputs": [
    {
     "name": "stdout",
     "output_type": "stream",
     "text": [
      "Column Name : V2\n",
      "   1    2    3    4    5    6 \n",
      " 452    4 3152  828   32 3656 \n",
      "------------------------------\n",
      "Column Name : V3\n",
      "   1    2    3    4 \n",
      "2320    4 2556 3244 \n",
      "------------------------------\n",
      "Column Name : V4\n",
      "   1    2    3    4    5    6    7    8    9   10 \n",
      " 168   44 1500 1840 2284  144   16   16 1040 1072 \n",
      "------------------------------\n",
      "Column Name : V5\n",
      "   1    2 \n",
      "4748 3376 \n",
      "------------------------------\n",
      "Column Name : V6\n",
      "   1    2    3    4    5    6    7    8    9 \n",
      " 400  192 2160  400   36 3528  256  576  576 \n",
      "------------------------------\n",
      "Column Name : V7\n",
      "   1    2 \n",
      " 210 7914 \n",
      "------------------------------\n",
      "Column Name : V8\n",
      "   1    2 \n",
      "6812 1312 \n",
      "------------------------------\n",
      "Column Name : V9\n",
      "   1    2 \n",
      "5612 2512 \n",
      "------------------------------\n",
      "Column Name : V10\n",
      "   1    2    3    4    5    6    7    8    9   10   11   12 \n",
      "1728   96  752  732  408 1048   64 1492   24  492 1202   86 \n",
      "------------------------------\n",
      "Column Name : V11\n",
      "   1    2 \n",
      "3516 4608 \n",
      "------------------------------\n",
      "Column Name : V12\n",
      "   1    2    3    4    5 \n",
      "2480 3776  556 1120  192 \n",
      "------------------------------\n",
      "Column Name : V13\n",
      "   1    2    3    4 \n",
      " 552 2372 5176   24 \n",
      "------------------------------\n",
      "Column Name : V14\n",
      "   1    2    3    4 \n",
      " 600 2304 4936  284 \n",
      "------------------------------\n",
      "Column Name : V15\n",
      "   1    2    3    4    5    6    7    8    9 \n",
      " 432   36   96  576  448  192 1872 4464    8 \n",
      "------------------------------\n",
      "Column Name : V16\n",
      "   1    2    3    4    5    6    7    8    9 \n",
      " 432   36   96  576  512  192 1872 4384   24 \n",
      "------------------------------\n",
      "Column Name : V17\n",
      "   1 \n",
      "8124 \n",
      "------------------------------\n",
      "Column Name : V18\n",
      "   1    2    3    4 \n",
      "  96   96 7924    8 \n",
      "------------------------------\n",
      "Column Name : V19\n",
      "   1    2    3 \n",
      "  36 7488  600 \n",
      "------------------------------\n",
      "Column Name : V20\n",
      "   1    2    3    4    5 \n",
      "2776   48 1296   36 3968 \n",
      "------------------------------\n",
      "Column Name : V21\n",
      "   1    2    3    4    5    6    7    8    9 \n",
      "  48 1632 1872 1968   48   72   48 2388   48 \n",
      "------------------------------\n",
      "Column Name : V22\n",
      "   1    2    3    4    5    6 \n",
      " 384  340  400 1248 4040 1712 \n",
      "------------------------------\n",
      "Column Name : V23\n",
      "   1    2    3    4    5    6    7 \n",
      "3148 2148  832  292 1144  368  192 \n",
      "------------------------------\n"
     ]
    }
   ],
   "source": [
    "# 각 컬럼별 Data 확인\n",
    "for(i in 2:23) {\n",
    "    cat(\"Column Name :\", colnames(mr)[i])\n",
    "    print(table(mr[,i]))\n",
    "    cat(\"------------------------------\\n\")\n",
    "}"
   ]
  },
  {
   "cell_type": "code",
   "execution_count": 16,
   "id": "5db0be3b",
   "metadata": {},
   "outputs": [
    {
     "data": {
      "text/html": [
       "<ol class=list-inline>\n",
       "\t<li>6</li>\n",
       "\t<li>4</li>\n",
       "\t<li>10</li>\n",
       "\t<li>2</li>\n",
       "\t<li>9</li>\n",
       "\t<li>2</li>\n",
       "\t<li>2</li>\n",
       "\t<li>2</li>\n",
       "\t<li>12</li>\n",
       "\t<li>2</li>\n",
       "\t<li>5</li>\n",
       "\t<li>4</li>\n",
       "\t<li>4</li>\n",
       "\t<li>9</li>\n",
       "\t<li>9</li>\n",
       "\t<li>1</li>\n",
       "\t<li>4</li>\n",
       "\t<li>3</li>\n",
       "\t<li>5</li>\n",
       "\t<li>9</li>\n",
       "\t<li>6</li>\n",
       "\t<li>7</li>\n",
       "</ol>\n"
      ],
      "text/latex": [
       "\\begin{enumerate*}\n",
       "\\item 6\n",
       "\\item 4\n",
       "\\item 10\n",
       "\\item 2\n",
       "\\item 9\n",
       "\\item 2\n",
       "\\item 2\n",
       "\\item 2\n",
       "\\item 12\n",
       "\\item 2\n",
       "\\item 5\n",
       "\\item 4\n",
       "\\item 4\n",
       "\\item 9\n",
       "\\item 9\n",
       "\\item 1\n",
       "\\item 4\n",
       "\\item 3\n",
       "\\item 5\n",
       "\\item 9\n",
       "\\item 6\n",
       "\\item 7\n",
       "\\end{enumerate*}\n"
      ],
      "text/markdown": [
       "1. 6\n",
       "2. 4\n",
       "3. 10\n",
       "4. 2\n",
       "5. 9\n",
       "6. 2\n",
       "7. 2\n",
       "8. 2\n",
       "9. 12\n",
       "10. 2\n",
       "11. 5\n",
       "12. 4\n",
       "13. 4\n",
       "14. 9\n",
       "15. 9\n",
       "16. 1\n",
       "17. 4\n",
       "18. 3\n",
       "19. 5\n",
       "20. 9\n",
       "21. 6\n",
       "22. 7\n",
       "\n",
       "\n"
      ],
      "text/plain": [
       " [1]  6  4 10  2  9  2  2  2 12  2  5  4  4  9  9  1  4  3  5  9  6  7"
      ]
     },
     "metadata": {},
     "output_type": "display_data"
    },
    {
     "data": {
      "text/html": [
       "117"
      ],
      "text/latex": [
       "117"
      ],
      "text/markdown": [
       "117"
      ],
      "text/plain": [
       "[1] 117"
      ]
     },
     "metadata": {},
     "output_type": "display_data"
    }
   ],
   "source": [
    "# 작업 수행후의 컬럼 갯수 파악\n",
    "\n",
    "num <- c()\n",
    "for (i in 2:23) {\n",
    "    num <- append(num, length(unique(mr[,i])))\n",
    "}\n",
    "num\n",
    "sum(num)"
   ]
  },
  {
   "cell_type": "code",
   "execution_count": 20,
   "id": "17feab8b",
   "metadata": {},
   "outputs": [
    {
     "data": {
      "text/html": [
       "<table>\n",
       "<thead><tr><th scope=col>V1</th></tr></thead>\n",
       "<tbody>\n",
       "\t<tr><td>p</td></tr>\n",
       "\t<tr><td>e</td></tr>\n",
       "\t<tr><td>e</td></tr>\n",
       "\t<tr><td>p</td></tr>\n",
       "\t<tr><td>e</td></tr>\n",
       "\t<tr><td>e</td></tr>\n",
       "</tbody>\n",
       "</table>\n"
      ],
      "text/latex": [
       "\\begin{tabular}{r|l}\n",
       " V1\\\\\n",
       "\\hline\n",
       "\t p\\\\\n",
       "\t e\\\\\n",
       "\t e\\\\\n",
       "\t p\\\\\n",
       "\t e\\\\\n",
       "\t e\\\\\n",
       "\\end{tabular}\n"
      ],
      "text/markdown": [
       "\n",
       "| V1 |\n",
       "|---|\n",
       "| p |\n",
       "| e |\n",
       "| e |\n",
       "| p |\n",
       "| e |\n",
       "| e |\n",
       "\n"
      ],
      "text/plain": [
       "  V1\n",
       "1 p \n",
       "2 e \n",
       "3 e \n",
       "4 p \n",
       "5 e \n",
       "6 e "
      ]
     },
     "metadata": {},
     "output_type": "display_data"
    }
   ],
   "source": [
    "# 별도의 DataFrame 생성\n",
    "\n",
    "mr2 <- data.frame(V1 = mr$V1)\n",
    "head(mr2)"
   ]
  },
  {
   "cell_type": "code",
   "execution_count": 22,
   "id": "c192e84a",
   "metadata": {},
   "outputs": [
    {
     "data": {
      "text/html": [
       "<ol class=list-inline>\n",
       "\t<li>1</li>\n",
       "\t<li>2</li>\n",
       "\t<li>3</li>\n",
       "\t<li>4</li>\n",
       "\t<li>5</li>\n",
       "\t<li>6</li>\n",
       "</ol>\n"
      ],
      "text/latex": [
       "\\begin{enumerate*}\n",
       "\\item 1\n",
       "\\item 2\n",
       "\\item 3\n",
       "\\item 4\n",
       "\\item 5\n",
       "\\item 6\n",
       "\\end{enumerate*}\n"
      ],
      "text/markdown": [
       "1. 1\n",
       "2. 2\n",
       "3. 3\n",
       "4. 4\n",
       "5. 5\n",
       "6. 6\n",
       "\n",
       "\n"
      ],
      "text/plain": [
       "[1] 1 2 3 4 5 6"
      ]
     },
     "metadata": {},
     "output_type": "display_data"
    }
   ],
   "source": [
    "sort(unique(mr$V2))"
   ]
  },
  {
   "cell_type": "code",
   "execution_count": 23,
   "id": "7fc755ad",
   "metadata": {
    "collapsed": true
   },
   "outputs": [
    {
     "data": {
      "text/html": [
       "<table>\n",
       "<thead><tr><th scope=col>V1</th><th scope=col>mr[, i] == j</th><th scope=col>mr[, i] == j.1</th><th scope=col>mr[, i] == j.2</th><th scope=col>mr[, i] == j.3</th><th scope=col>mr[, i] == j.4</th><th scope=col>mr[, i] == j.5</th><th scope=col>mr[, i] == j.6</th><th scope=col>mr[, i] == j.7</th><th scope=col>mr[, i] == j.8</th><th scope=col>...</th><th scope=col>mr[, i] == j</th><th scope=col>mr[, i] == j.1</th><th scope=col>mr[, i] == j.2</th><th scope=col>mr[, i] == j.3</th><th scope=col>mr[, i] == j.4</th><th scope=col>mr[, i] == j.5</th><th scope=col>mr[, i] == j.6</th><th scope=col>mr[, i] == j.7</th><th scope=col>mr[, i] == j.8</th><th scope=col>mr[, i] == j.9</th></tr></thead>\n",
       "<tbody>\n",
       "\t<tr><td>p    </td><td>FALSE</td><td>FALSE</td><td>FALSE</td><td>FALSE</td><td>FALSE</td><td> TRUE</td><td>FALSE</td><td>FALSE</td><td> TRUE</td><td>...  </td><td> TRUE</td><td>FALSE</td><td>FALSE</td><td>FALSE</td><td>FALSE</td><td>FALSE</td><td>FALSE</td><td>FALSE</td><td> TRUE</td><td>FALSE</td></tr>\n",
       "\t<tr><td>e    </td><td>FALSE</td><td>FALSE</td><td>FALSE</td><td>FALSE</td><td>FALSE</td><td> TRUE</td><td>FALSE</td><td>FALSE</td><td> TRUE</td><td>...  </td><td>FALSE</td><td>FALSE</td><td>FALSE</td><td>FALSE</td><td> TRUE</td><td>FALSE</td><td>FALSE</td><td>FALSE</td><td>FALSE</td><td>FALSE</td></tr>\n",
       "\t<tr><td>e    </td><td> TRUE</td><td>FALSE</td><td>FALSE</td><td>FALSE</td><td>FALSE</td><td>FALSE</td><td>FALSE</td><td>FALSE</td><td> TRUE</td><td>...  </td><td>FALSE</td><td>FALSE</td><td>FALSE</td><td>FALSE</td><td>FALSE</td><td>FALSE</td><td> TRUE</td><td>FALSE</td><td>FALSE</td><td>FALSE</td></tr>\n",
       "\t<tr><td>p    </td><td>FALSE</td><td>FALSE</td><td>FALSE</td><td>FALSE</td><td>FALSE</td><td> TRUE</td><td>FALSE</td><td>FALSE</td><td>FALSE</td><td>...  </td><td> TRUE</td><td>FALSE</td><td>FALSE</td><td>FALSE</td><td>FALSE</td><td>FALSE</td><td>FALSE</td><td>FALSE</td><td> TRUE</td><td>FALSE</td></tr>\n",
       "\t<tr><td>e    </td><td>FALSE</td><td>FALSE</td><td>FALSE</td><td>FALSE</td><td>FALSE</td><td> TRUE</td><td>FALSE</td><td>FALSE</td><td> TRUE</td><td>...  </td><td>FALSE</td><td>FALSE</td><td>FALSE</td><td>FALSE</td><td> TRUE</td><td>FALSE</td><td>FALSE</td><td>FALSE</td><td>FALSE</td><td>FALSE</td></tr>\n",
       "\t<tr><td>e    </td><td>FALSE</td><td>FALSE</td><td>FALSE</td><td>FALSE</td><td>FALSE</td><td> TRUE</td><td>FALSE</td><td>FALSE</td><td>FALSE</td><td>...  </td><td>FALSE</td><td>FALSE</td><td>FALSE</td><td>FALSE</td><td> TRUE</td><td>FALSE</td><td>FALSE</td><td>FALSE</td><td>FALSE</td><td>FALSE</td></tr>\n",
       "\t<tr><td>e    </td><td> TRUE</td><td>FALSE</td><td>FALSE</td><td>FALSE</td><td>FALSE</td><td>FALSE</td><td>FALSE</td><td>FALSE</td><td> TRUE</td><td>...  </td><td>FALSE</td><td>FALSE</td><td>FALSE</td><td>FALSE</td><td>FALSE</td><td>FALSE</td><td> TRUE</td><td>FALSE</td><td>FALSE</td><td>FALSE</td></tr>\n",
       "\t<tr><td>e    </td><td> TRUE</td><td>FALSE</td><td>FALSE</td><td>FALSE</td><td>FALSE</td><td>FALSE</td><td>FALSE</td><td>FALSE</td><td>FALSE</td><td>...  </td><td> TRUE</td><td>FALSE</td><td>FALSE</td><td>FALSE</td><td>FALSE</td><td>FALSE</td><td> TRUE</td><td>FALSE</td><td>FALSE</td><td>FALSE</td></tr>\n",
       "\t<tr><td>p    </td><td>FALSE</td><td>FALSE</td><td>FALSE</td><td>FALSE</td><td>FALSE</td><td> TRUE</td><td>FALSE</td><td>FALSE</td><td>FALSE</td><td>...  </td><td>FALSE</td><td> TRUE</td><td>FALSE</td><td>FALSE</td><td> TRUE</td><td>FALSE</td><td>FALSE</td><td>FALSE</td><td>FALSE</td><td>FALSE</td></tr>\n",
       "\t<tr><td>e    </td><td> TRUE</td><td>FALSE</td><td>FALSE</td><td>FALSE</td><td>FALSE</td><td>FALSE</td><td>FALSE</td><td>FALSE</td><td> TRUE</td><td>...  </td><td> TRUE</td><td>FALSE</td><td>FALSE</td><td>FALSE</td><td>FALSE</td><td>FALSE</td><td> TRUE</td><td>FALSE</td><td>FALSE</td><td>FALSE</td></tr>\n",
       "\t<tr><td>e    </td><td>FALSE</td><td>FALSE</td><td>FALSE</td><td>FALSE</td><td>FALSE</td><td> TRUE</td><td>FALSE</td><td>FALSE</td><td>FALSE</td><td>...  </td><td>FALSE</td><td>FALSE</td><td>FALSE</td><td>FALSE</td><td> TRUE</td><td>FALSE</td><td>FALSE</td><td>FALSE</td><td>FALSE</td><td>FALSE</td></tr>\n",
       "\t<tr><td>e    </td><td>FALSE</td><td>FALSE</td><td>FALSE</td><td>FALSE</td><td>FALSE</td><td> TRUE</td><td>FALSE</td><td>FALSE</td><td>FALSE</td><td>...  </td><td> TRUE</td><td>FALSE</td><td>FALSE</td><td>FALSE</td><td>FALSE</td><td>FALSE</td><td> TRUE</td><td>FALSE</td><td>FALSE</td><td>FALSE</td></tr>\n",
       "\t<tr><td>e    </td><td> TRUE</td><td>FALSE</td><td>FALSE</td><td>FALSE</td><td>FALSE</td><td>FALSE</td><td>FALSE</td><td>FALSE</td><td> TRUE</td><td>...  </td><td> TRUE</td><td>FALSE</td><td>FALSE</td><td>FALSE</td><td> TRUE</td><td>FALSE</td><td>FALSE</td><td>FALSE</td><td>FALSE</td><td>FALSE</td></tr>\n",
       "\t<tr><td>p    </td><td>FALSE</td><td>FALSE</td><td>FALSE</td><td>FALSE</td><td>FALSE</td><td> TRUE</td><td>FALSE</td><td>FALSE</td><td>FALSE</td><td>...  </td><td>FALSE</td><td> TRUE</td><td>FALSE</td><td>FALSE</td><td>FALSE</td><td>FALSE</td><td>FALSE</td><td>FALSE</td><td> TRUE</td><td>FALSE</td></tr>\n",
       "\t<tr><td>e    </td><td>FALSE</td><td>FALSE</td><td>FALSE</td><td>FALSE</td><td>FALSE</td><td> TRUE</td><td> TRUE</td><td>FALSE</td><td>FALSE</td><td>...  </td><td>FALSE</td><td>FALSE</td><td>FALSE</td><td>FALSE</td><td> TRUE</td><td>FALSE</td><td>FALSE</td><td>FALSE</td><td>FALSE</td><td>FALSE</td></tr>\n",
       "\t<tr><td>e    </td><td>FALSE</td><td>FALSE</td><td>FALSE</td><td>FALSE</td><td> TRUE</td><td>FALSE</td><td> TRUE</td><td>FALSE</td><td>FALSE</td><td>...  </td><td>FALSE</td><td>FALSE</td><td> TRUE</td><td>FALSE</td><td>FALSE</td><td>FALSE</td><td>FALSE</td><td>FALSE</td><td> TRUE</td><td>FALSE</td></tr>\n",
       "\t<tr><td>e    </td><td>FALSE</td><td>FALSE</td><td> TRUE</td><td>FALSE</td><td>FALSE</td><td>FALSE</td><td> TRUE</td><td>FALSE</td><td>FALSE</td><td>...  </td><td>FALSE</td><td>FALSE</td><td>FALSE</td><td>FALSE</td><td> TRUE</td><td>FALSE</td><td>FALSE</td><td>FALSE</td><td>FALSE</td><td>FALSE</td></tr>\n",
       "\t<tr><td>p    </td><td>FALSE</td><td>FALSE</td><td>FALSE</td><td>FALSE</td><td>FALSE</td><td> TRUE</td><td>FALSE</td><td>FALSE</td><td> TRUE</td><td>...  </td><td> TRUE</td><td>FALSE</td><td>FALSE</td><td>FALSE</td><td> TRUE</td><td>FALSE</td><td>FALSE</td><td>FALSE</td><td>FALSE</td><td>FALSE</td></tr>\n",
       "\t<tr><td>p    </td><td>FALSE</td><td>FALSE</td><td>FALSE</td><td>FALSE</td><td>FALSE</td><td> TRUE</td><td>FALSE</td><td>FALSE</td><td>FALSE</td><td>...  </td><td> TRUE</td><td>FALSE</td><td>FALSE</td><td>FALSE</td><td>FALSE</td><td>FALSE</td><td>FALSE</td><td>FALSE</td><td> TRUE</td><td>FALSE</td></tr>\n",
       "\t<tr><td>p    </td><td>FALSE</td><td>FALSE</td><td>FALSE</td><td>FALSE</td><td>FALSE</td><td> TRUE</td><td>FALSE</td><td>FALSE</td><td> TRUE</td><td>...  </td><td> TRUE</td><td>FALSE</td><td>FALSE</td><td>FALSE</td><td>FALSE</td><td>FALSE</td><td>FALSE</td><td>FALSE</td><td> TRUE</td><td>FALSE</td></tr>\n",
       "\t<tr><td>e    </td><td> TRUE</td><td>FALSE</td><td>FALSE</td><td>FALSE</td><td>FALSE</td><td>FALSE</td><td>FALSE</td><td>FALSE</td><td> TRUE</td><td>...  </td><td> TRUE</td><td>FALSE</td><td>FALSE</td><td>FALSE</td><td>FALSE</td><td>FALSE</td><td> TRUE</td><td>FALSE</td><td>FALSE</td><td>FALSE</td></tr>\n",
       "\t<tr><td>p    </td><td>FALSE</td><td>FALSE</td><td>FALSE</td><td>FALSE</td><td>FALSE</td><td> TRUE</td><td>FALSE</td><td>FALSE</td><td>FALSE</td><td>...  </td><td>FALSE</td><td> TRUE</td><td>FALSE</td><td>FALSE</td><td> TRUE</td><td>FALSE</td><td>FALSE</td><td>FALSE</td><td>FALSE</td><td>FALSE</td></tr>\n",
       "\t<tr><td>e    </td><td> TRUE</td><td>FALSE</td><td>FALSE</td><td>FALSE</td><td>FALSE</td><td>FALSE</td><td>FALSE</td><td>FALSE</td><td>FALSE</td><td>...  </td><td> TRUE</td><td>FALSE</td><td>FALSE</td><td>FALSE</td><td>FALSE</td><td>FALSE</td><td> TRUE</td><td>FALSE</td><td>FALSE</td><td>FALSE</td></tr>\n",
       "\t<tr><td>e    </td><td> TRUE</td><td>FALSE</td><td>FALSE</td><td>FALSE</td><td>FALSE</td><td>FALSE</td><td>FALSE</td><td>FALSE</td><td>FALSE</td><td>...  </td><td>FALSE</td><td>FALSE</td><td>FALSE</td><td>FALSE</td><td>FALSE</td><td>FALSE</td><td> TRUE</td><td>FALSE</td><td>FALSE</td><td>FALSE</td></tr>\n",
       "\t<tr><td>e    </td><td> TRUE</td><td>FALSE</td><td>FALSE</td><td>FALSE</td><td>FALSE</td><td>FALSE</td><td>FALSE</td><td>FALSE</td><td> TRUE</td><td>...  </td><td> TRUE</td><td>FALSE</td><td>FALSE</td><td>FALSE</td><td>FALSE</td><td>FALSE</td><td> TRUE</td><td>FALSE</td><td>FALSE</td><td>FALSE</td></tr>\n",
       "\t<tr><td>p    </td><td>FALSE</td><td>FALSE</td><td> TRUE</td><td>FALSE</td><td>FALSE</td><td>FALSE</td><td>FALSE</td><td>FALSE</td><td> TRUE</td><td>...  </td><td>FALSE</td><td> TRUE</td><td>FALSE</td><td>FALSE</td><td> TRUE</td><td>FALSE</td><td>FALSE</td><td>FALSE</td><td>FALSE</td><td>FALSE</td></tr>\n",
       "\t<tr><td>e    </td><td>FALSE</td><td>FALSE</td><td>FALSE</td><td>FALSE</td><td>FALSE</td><td> TRUE</td><td>FALSE</td><td>FALSE</td><td>FALSE</td><td>...  </td><td>FALSE</td><td>FALSE</td><td>FALSE</td><td>FALSE</td><td>FALSE</td><td>FALSE</td><td> TRUE</td><td>FALSE</td><td>FALSE</td><td>FALSE</td></tr>\n",
       "\t<tr><td>e    </td><td>FALSE</td><td>FALSE</td><td>FALSE</td><td>FALSE</td><td>FALSE</td><td> TRUE</td><td>FALSE</td><td>FALSE</td><td>FALSE</td><td>...  </td><td>FALSE</td><td>FALSE</td><td>FALSE</td><td>FALSE</td><td>FALSE</td><td>FALSE</td><td> TRUE</td><td>FALSE</td><td>FALSE</td><td>FALSE</td></tr>\n",
       "\t<tr><td>e    </td><td>FALSE</td><td>FALSE</td><td> TRUE</td><td>FALSE</td><td>FALSE</td><td>FALSE</td><td> TRUE</td><td>FALSE</td><td>FALSE</td><td>...  </td><td>FALSE</td><td>FALSE</td><td> TRUE</td><td>FALSE</td><td>FALSE</td><td>FALSE</td><td>FALSE</td><td>FALSE</td><td> TRUE</td><td>FALSE</td></tr>\n",
       "\t<tr><td>e    </td><td>FALSE</td><td>FALSE</td><td>FALSE</td><td>FALSE</td><td>FALSE</td><td> TRUE</td><td>FALSE</td><td>FALSE</td><td> TRUE</td><td>...  </td><td>FALSE</td><td> TRUE</td><td>FALSE</td><td> TRUE</td><td>FALSE</td><td>FALSE</td><td>FALSE</td><td>FALSE</td><td>FALSE</td><td>FALSE</td></tr>\n",
       "\t<tr><td>...</td><td>...</td><td>...</td><td>...</td><td>...</td><td>...</td><td>...</td><td>...</td><td>...</td><td>...</td><td>   </td><td>...</td><td>...</td><td>...</td><td>...</td><td>...</td><td>...</td><td>...</td><td>...</td><td>...</td><td>...</td></tr>\n",
       "\t<tr><td>e    </td><td> TRUE</td><td>FALSE</td><td>FALSE</td><td>FALSE</td><td>FALSE</td><td>FALSE</td><td>FALSE</td><td>FALSE</td><td> TRUE</td><td>...  </td><td>FALSE</td><td>FALSE</td><td>FALSE</td><td>FALSE</td><td> TRUE</td><td>FALSE</td><td>FALSE</td><td>FALSE</td><td>FALSE</td><td>FALSE</td></tr>\n",
       "\t<tr><td>p    </td><td>FALSE</td><td>FALSE</td><td>FALSE</td><td>FALSE</td><td>FALSE</td><td> TRUE</td><td>FALSE</td><td>FALSE</td><td>FALSE</td><td>...  </td><td>FALSE</td><td>FALSE</td><td>FALSE</td><td> TRUE</td><td>FALSE</td><td>FALSE</td><td>FALSE</td><td>FALSE</td><td>FALSE</td><td>FALSE</td></tr>\n",
       "\t<tr><td>e    </td><td>FALSE</td><td>FALSE</td><td>FALSE</td><td> TRUE</td><td>FALSE</td><td>FALSE</td><td> TRUE</td><td>FALSE</td><td>FALSE</td><td>...  </td><td>FALSE</td><td>FALSE</td><td>FALSE</td><td>FALSE</td><td> TRUE</td><td>FALSE</td><td>FALSE</td><td>FALSE</td><td>FALSE</td><td>FALSE</td></tr>\n",
       "\t<tr><td>p    </td><td>FALSE</td><td>FALSE</td><td>FALSE</td><td> TRUE</td><td>FALSE</td><td>FALSE</td><td>FALSE</td><td>FALSE</td><td>FALSE</td><td>...  </td><td>FALSE</td><td> TRUE</td><td>FALSE</td><td>FALSE</td><td>FALSE</td><td> TRUE</td><td>FALSE</td><td>FALSE</td><td>FALSE</td><td>FALSE</td></tr>\n",
       "\t<tr><td>p    </td><td>FALSE</td><td>FALSE</td><td>FALSE</td><td> TRUE</td><td>FALSE</td><td>FALSE</td><td>FALSE</td><td>FALSE</td><td> TRUE</td><td>...  </td><td>FALSE</td><td> TRUE</td><td>FALSE</td><td> TRUE</td><td>FALSE</td><td>FALSE</td><td>FALSE</td><td>FALSE</td><td>FALSE</td><td>FALSE</td></tr>\n",
       "\t<tr><td>e    </td><td>FALSE</td><td>FALSE</td><td>FALSE</td><td> TRUE</td><td>FALSE</td><td>FALSE</td><td> TRUE</td><td>FALSE</td><td>FALSE</td><td>...  </td><td> TRUE</td><td>FALSE</td><td>FALSE</td><td>FALSE</td><td> TRUE</td><td>FALSE</td><td>FALSE</td><td>FALSE</td><td>FALSE</td><td>FALSE</td></tr>\n",
       "\t<tr><td>e    </td><td>FALSE</td><td>FALSE</td><td> TRUE</td><td>FALSE</td><td>FALSE</td><td>FALSE</td><td>FALSE</td><td>FALSE</td><td> TRUE</td><td>...  </td><td>FALSE</td><td> TRUE</td><td>FALSE</td><td>FALSE</td><td>FALSE</td><td> TRUE</td><td>FALSE</td><td>FALSE</td><td>FALSE</td><td>FALSE</td></tr>\n",
       "\t<tr><td>p    </td><td>FALSE</td><td>FALSE</td><td>FALSE</td><td> TRUE</td><td>FALSE</td><td>FALSE</td><td>FALSE</td><td>FALSE</td><td> TRUE</td><td>...  </td><td>FALSE</td><td> TRUE</td><td>FALSE</td><td>FALSE</td><td>FALSE</td><td>FALSE</td><td>FALSE</td><td> TRUE</td><td>FALSE</td><td>FALSE</td></tr>\n",
       "\t<tr><td>e    </td><td>FALSE</td><td>FALSE</td><td>FALSE</td><td>FALSE</td><td>FALSE</td><td> TRUE</td><td>FALSE</td><td>FALSE</td><td> TRUE</td><td>...  </td><td>FALSE</td><td>FALSE</td><td>FALSE</td><td>FALSE</td><td>FALSE</td><td> TRUE</td><td>FALSE</td><td>FALSE</td><td>FALSE</td><td>FALSE</td></tr>\n",
       "\t<tr><td>e    </td><td>FALSE</td><td>FALSE</td><td>FALSE</td><td> TRUE</td><td>FALSE</td><td>FALSE</td><td>FALSE</td><td>FALSE</td><td> TRUE</td><td>...  </td><td>FALSE</td><td>FALSE</td><td>FALSE</td><td>FALSE</td><td>FALSE</td><td> TRUE</td><td>FALSE</td><td>FALSE</td><td>FALSE</td><td>FALSE</td></tr>\n",
       "\t<tr><td>e    </td><td>FALSE</td><td>FALSE</td><td>FALSE</td><td> TRUE</td><td>FALSE</td><td>FALSE</td><td>FALSE</td><td>FALSE</td><td> TRUE</td><td>...  </td><td>FALSE</td><td> TRUE</td><td>FALSE</td><td>FALSE</td><td>FALSE</td><td> TRUE</td><td>FALSE</td><td>FALSE</td><td>FALSE</td><td>FALSE</td></tr>\n",
       "\t<tr><td>e    </td><td>FALSE</td><td>FALSE</td><td>FALSE</td><td> TRUE</td><td>FALSE</td><td>FALSE</td><td>FALSE</td><td>FALSE</td><td> TRUE</td><td>...  </td><td>FALSE</td><td> TRUE</td><td>FALSE</td><td>FALSE</td><td>FALSE</td><td> TRUE</td><td>FALSE</td><td>FALSE</td><td>FALSE</td><td>FALSE</td></tr>\n",
       "\t<tr><td>e    </td><td>FALSE</td><td>FALSE</td><td>FALSE</td><td> TRUE</td><td>FALSE</td><td>FALSE</td><td>FALSE</td><td>FALSE</td><td> TRUE</td><td>...  </td><td>FALSE</td><td> TRUE</td><td>FALSE</td><td>FALSE</td><td>FALSE</td><td> TRUE</td><td>FALSE</td><td>FALSE</td><td>FALSE</td><td>FALSE</td></tr>\n",
       "\t<tr><td>e    </td><td>FALSE</td><td>FALSE</td><td>FALSE</td><td>FALSE</td><td>FALSE</td><td> TRUE</td><td>FALSE</td><td>FALSE</td><td> TRUE</td><td>...  </td><td>FALSE</td><td>FALSE</td><td>FALSE</td><td>FALSE</td><td>FALSE</td><td> TRUE</td><td>FALSE</td><td>FALSE</td><td>FALSE</td><td>FALSE</td></tr>\n",
       "\t<tr><td>p    </td><td>FALSE</td><td>FALSE</td><td>FALSE</td><td> TRUE</td><td>FALSE</td><td>FALSE</td><td>FALSE</td><td>FALSE</td><td>FALSE</td><td>...  </td><td>FALSE</td><td> TRUE</td><td>FALSE</td><td>FALSE</td><td>FALSE</td><td> TRUE</td><td>FALSE</td><td>FALSE</td><td>FALSE</td><td>FALSE</td></tr>\n",
       "\t<tr><td>e    </td><td> TRUE</td><td>FALSE</td><td>FALSE</td><td>FALSE</td><td>FALSE</td><td>FALSE</td><td>FALSE</td><td>FALSE</td><td> TRUE</td><td>...  </td><td>FALSE</td><td>FALSE</td><td>FALSE</td><td>FALSE</td><td> TRUE</td><td>FALSE</td><td>FALSE</td><td>FALSE</td><td>FALSE</td><td>FALSE</td></tr>\n",
       "\t<tr><td>e    </td><td>FALSE</td><td>FALSE</td><td>FALSE</td><td>FALSE</td><td>FALSE</td><td> TRUE</td><td>FALSE</td><td>FALSE</td><td> TRUE</td><td>...  </td><td>FALSE</td><td> TRUE</td><td>FALSE</td><td>FALSE</td><td>FALSE</td><td> TRUE</td><td>FALSE</td><td>FALSE</td><td>FALSE</td><td>FALSE</td></tr>\n",
       "\t<tr><td>e    </td><td>FALSE</td><td>FALSE</td><td>FALSE</td><td> TRUE</td><td>FALSE</td><td>FALSE</td><td>FALSE</td><td>FALSE</td><td> TRUE</td><td>...  </td><td>FALSE</td><td>FALSE</td><td>FALSE</td><td>FALSE</td><td> TRUE</td><td>FALSE</td><td>FALSE</td><td>FALSE</td><td>FALSE</td><td>FALSE</td></tr>\n",
       "\t<tr><td>e    </td><td>FALSE</td><td>FALSE</td><td>FALSE</td><td> TRUE</td><td>FALSE</td><td>FALSE</td><td>FALSE</td><td>FALSE</td><td> TRUE</td><td>...  </td><td>FALSE</td><td> TRUE</td><td>FALSE</td><td>FALSE</td><td>FALSE</td><td> TRUE</td><td>FALSE</td><td>FALSE</td><td>FALSE</td><td>FALSE</td></tr>\n",
       "\t<tr><td>p    </td><td>FALSE</td><td>FALSE</td><td>FALSE</td><td> TRUE</td><td>FALSE</td><td>FALSE</td><td>FALSE</td><td>FALSE</td><td>FALSE</td><td>...  </td><td>FALSE</td><td> TRUE</td><td>FALSE</td><td> TRUE</td><td>FALSE</td><td>FALSE</td><td>FALSE</td><td>FALSE</td><td>FALSE</td><td>FALSE</td></tr>\n",
       "\t<tr><td>p    </td><td>FALSE</td><td>FALSE</td><td> TRUE</td><td>FALSE</td><td>FALSE</td><td>FALSE</td><td>FALSE</td><td>FALSE</td><td>FALSE</td><td>...  </td><td>FALSE</td><td>FALSE</td><td>FALSE</td><td> TRUE</td><td>FALSE</td><td>FALSE</td><td>FALSE</td><td>FALSE</td><td>FALSE</td><td>FALSE</td></tr>\n",
       "\t<tr><td>e    </td><td>FALSE</td><td>FALSE</td><td>FALSE</td><td>FALSE</td><td>FALSE</td><td> TRUE</td><td>FALSE</td><td>FALSE</td><td> TRUE</td><td>...  </td><td>FALSE</td><td> TRUE</td><td>FALSE</td><td>FALSE</td><td>FALSE</td><td> TRUE</td><td>FALSE</td><td>FALSE</td><td>FALSE</td><td>FALSE</td></tr>\n",
       "\t<tr><td>p    </td><td>FALSE</td><td>FALSE</td><td>FALSE</td><td> TRUE</td><td>FALSE</td><td>FALSE</td><td>FALSE</td><td>FALSE</td><td>FALSE</td><td>...  </td><td>FALSE</td><td> TRUE</td><td>FALSE</td><td>FALSE</td><td>FALSE</td><td> TRUE</td><td>FALSE</td><td>FALSE</td><td>FALSE</td><td>FALSE</td></tr>\n",
       "\t<tr><td>p    </td><td>FALSE</td><td>FALSE</td><td>FALSE</td><td> TRUE</td><td>FALSE</td><td>FALSE</td><td>FALSE</td><td>FALSE</td><td> TRUE</td><td>...  </td><td>FALSE</td><td> TRUE</td><td>FALSE</td><td> TRUE</td><td>FALSE</td><td>FALSE</td><td>FALSE</td><td>FALSE</td><td>FALSE</td><td>FALSE</td></tr>\n",
       "\t<tr><td>p    </td><td>FALSE</td><td>FALSE</td><td>FALSE</td><td> TRUE</td><td>FALSE</td><td>FALSE</td><td>FALSE</td><td>FALSE</td><td>FALSE</td><td>...  </td><td>FALSE</td><td> TRUE</td><td>FALSE</td><td> TRUE</td><td>FALSE</td><td>FALSE</td><td>FALSE</td><td>FALSE</td><td>FALSE</td><td>FALSE</td></tr>\n",
       "\t<tr><td>e    </td><td>FALSE</td><td>FALSE</td><td>FALSE</td><td> TRUE</td><td>FALSE</td><td>FALSE</td><td>FALSE</td><td>FALSE</td><td> TRUE</td><td>...  </td><td>FALSE</td><td>FALSE</td><td>FALSE</td><td>FALSE</td><td>FALSE</td><td> TRUE</td><td>FALSE</td><td>FALSE</td><td>FALSE</td><td>FALSE</td></tr>\n",
       "\t<tr><td>e    </td><td>FALSE</td><td>FALSE</td><td>FALSE</td><td>FALSE</td><td>FALSE</td><td> TRUE</td><td>FALSE</td><td>FALSE</td><td> TRUE</td><td>...  </td><td>FALSE</td><td> TRUE</td><td>FALSE</td><td>FALSE</td><td>FALSE</td><td> TRUE</td><td>FALSE</td><td>FALSE</td><td>FALSE</td><td>FALSE</td></tr>\n",
       "\t<tr><td>e    </td><td>FALSE</td><td>FALSE</td><td> TRUE</td><td>FALSE</td><td>FALSE</td><td>FALSE</td><td>FALSE</td><td>FALSE</td><td> TRUE</td><td>...  </td><td>FALSE</td><td>FALSE</td><td>FALSE</td><td>FALSE</td><td>FALSE</td><td> TRUE</td><td>FALSE</td><td>FALSE</td><td>FALSE</td><td>FALSE</td></tr>\n",
       "\t<tr><td>p    </td><td>FALSE</td><td>FALSE</td><td>FALSE</td><td> TRUE</td><td>FALSE</td><td>FALSE</td><td>FALSE</td><td>FALSE</td><td>FALSE</td><td>...  </td><td>FALSE</td><td> TRUE</td><td>FALSE</td><td>FALSE</td><td>FALSE</td><td> TRUE</td><td>FALSE</td><td>FALSE</td><td>FALSE</td><td>FALSE</td></tr>\n",
       "\t<tr><td>e    </td><td>FALSE</td><td>FALSE</td><td>FALSE</td><td>FALSE</td><td>FALSE</td><td> TRUE</td><td>FALSE</td><td>FALSE</td><td> TRUE</td><td>...  </td><td>FALSE</td><td>FALSE</td><td>FALSE</td><td>FALSE</td><td>FALSE</td><td> TRUE</td><td>FALSE</td><td>FALSE</td><td>FALSE</td><td>FALSE</td></tr>\n",
       "</tbody>\n",
       "</table>\n"
      ],
      "text/latex": [
       "\\begin{tabular}{r|llllllllllllllllllllllllllllllllllllllllllllllllllllllllllllllllllllllllllllllllllllllllllllllllllllllllllllllllllllll}\n",
       " V1 & mr{[}, i{]} == j & mr{[}, i{]} == j.1 & mr{[}, i{]} == j.2 & mr{[}, i{]} == j.3 & mr{[}, i{]} == j.4 & mr{[}, i{]} == j.5 & mr{[}, i{]} == j.6 & mr{[}, i{]} == j.7 & mr{[}, i{]} == j.8 & ... & mr{[}, i{]} == j & mr{[}, i{]} == j.1 & mr{[}, i{]} == j.2 & mr{[}, i{]} == j.3 & mr{[}, i{]} == j.4 & mr{[}, i{]} == j.5 & mr{[}, i{]} == j.6 & mr{[}, i{]} == j.7 & mr{[}, i{]} == j.8 & mr{[}, i{]} == j.9\\\\\n",
       "\\hline\n",
       "\t p     & FALSE & FALSE & FALSE & FALSE & FALSE &  TRUE & FALSE & FALSE &  TRUE & ...   &  TRUE & FALSE & FALSE & FALSE & FALSE & FALSE & FALSE & FALSE &  TRUE & FALSE\\\\\n",
       "\t e     & FALSE & FALSE & FALSE & FALSE & FALSE &  TRUE & FALSE & FALSE &  TRUE & ...   & FALSE & FALSE & FALSE & FALSE &  TRUE & FALSE & FALSE & FALSE & FALSE & FALSE\\\\\n",
       "\t e     &  TRUE & FALSE & FALSE & FALSE & FALSE & FALSE & FALSE & FALSE &  TRUE & ...   & FALSE & FALSE & FALSE & FALSE & FALSE & FALSE &  TRUE & FALSE & FALSE & FALSE\\\\\n",
       "\t p     & FALSE & FALSE & FALSE & FALSE & FALSE &  TRUE & FALSE & FALSE & FALSE & ...   &  TRUE & FALSE & FALSE & FALSE & FALSE & FALSE & FALSE & FALSE &  TRUE & FALSE\\\\\n",
       "\t e     & FALSE & FALSE & FALSE & FALSE & FALSE &  TRUE & FALSE & FALSE &  TRUE & ...   & FALSE & FALSE & FALSE & FALSE &  TRUE & FALSE & FALSE & FALSE & FALSE & FALSE\\\\\n",
       "\t e     & FALSE & FALSE & FALSE & FALSE & FALSE &  TRUE & FALSE & FALSE & FALSE & ...   & FALSE & FALSE & FALSE & FALSE &  TRUE & FALSE & FALSE & FALSE & FALSE & FALSE\\\\\n",
       "\t e     &  TRUE & FALSE & FALSE & FALSE & FALSE & FALSE & FALSE & FALSE &  TRUE & ...   & FALSE & FALSE & FALSE & FALSE & FALSE & FALSE &  TRUE & FALSE & FALSE & FALSE\\\\\n",
       "\t e     &  TRUE & FALSE & FALSE & FALSE & FALSE & FALSE & FALSE & FALSE & FALSE & ...   &  TRUE & FALSE & FALSE & FALSE & FALSE & FALSE &  TRUE & FALSE & FALSE & FALSE\\\\\n",
       "\t p     & FALSE & FALSE & FALSE & FALSE & FALSE &  TRUE & FALSE & FALSE & FALSE & ...   & FALSE &  TRUE & FALSE & FALSE &  TRUE & FALSE & FALSE & FALSE & FALSE & FALSE\\\\\n",
       "\t e     &  TRUE & FALSE & FALSE & FALSE & FALSE & FALSE & FALSE & FALSE &  TRUE & ...   &  TRUE & FALSE & FALSE & FALSE & FALSE & FALSE &  TRUE & FALSE & FALSE & FALSE\\\\\n",
       "\t e     & FALSE & FALSE & FALSE & FALSE & FALSE &  TRUE & FALSE & FALSE & FALSE & ...   & FALSE & FALSE & FALSE & FALSE &  TRUE & FALSE & FALSE & FALSE & FALSE & FALSE\\\\\n",
       "\t e     & FALSE & FALSE & FALSE & FALSE & FALSE &  TRUE & FALSE & FALSE & FALSE & ...   &  TRUE & FALSE & FALSE & FALSE & FALSE & FALSE &  TRUE & FALSE & FALSE & FALSE\\\\\n",
       "\t e     &  TRUE & FALSE & FALSE & FALSE & FALSE & FALSE & FALSE & FALSE &  TRUE & ...   &  TRUE & FALSE & FALSE & FALSE &  TRUE & FALSE & FALSE & FALSE & FALSE & FALSE\\\\\n",
       "\t p     & FALSE & FALSE & FALSE & FALSE & FALSE &  TRUE & FALSE & FALSE & FALSE & ...   & FALSE &  TRUE & FALSE & FALSE & FALSE & FALSE & FALSE & FALSE &  TRUE & FALSE\\\\\n",
       "\t e     & FALSE & FALSE & FALSE & FALSE & FALSE &  TRUE &  TRUE & FALSE & FALSE & ...   & FALSE & FALSE & FALSE & FALSE &  TRUE & FALSE & FALSE & FALSE & FALSE & FALSE\\\\\n",
       "\t e     & FALSE & FALSE & FALSE & FALSE &  TRUE & FALSE &  TRUE & FALSE & FALSE & ...   & FALSE & FALSE &  TRUE & FALSE & FALSE & FALSE & FALSE & FALSE &  TRUE & FALSE\\\\\n",
       "\t e     & FALSE & FALSE &  TRUE & FALSE & FALSE & FALSE &  TRUE & FALSE & FALSE & ...   & FALSE & FALSE & FALSE & FALSE &  TRUE & FALSE & FALSE & FALSE & FALSE & FALSE\\\\\n",
       "\t p     & FALSE & FALSE & FALSE & FALSE & FALSE &  TRUE & FALSE & FALSE &  TRUE & ...   &  TRUE & FALSE & FALSE & FALSE &  TRUE & FALSE & FALSE & FALSE & FALSE & FALSE\\\\\n",
       "\t p     & FALSE & FALSE & FALSE & FALSE & FALSE &  TRUE & FALSE & FALSE & FALSE & ...   &  TRUE & FALSE & FALSE & FALSE & FALSE & FALSE & FALSE & FALSE &  TRUE & FALSE\\\\\n",
       "\t p     & FALSE & FALSE & FALSE & FALSE & FALSE &  TRUE & FALSE & FALSE &  TRUE & ...   &  TRUE & FALSE & FALSE & FALSE & FALSE & FALSE & FALSE & FALSE &  TRUE & FALSE\\\\\n",
       "\t e     &  TRUE & FALSE & FALSE & FALSE & FALSE & FALSE & FALSE & FALSE &  TRUE & ...   &  TRUE & FALSE & FALSE & FALSE & FALSE & FALSE &  TRUE & FALSE & FALSE & FALSE\\\\\n",
       "\t p     & FALSE & FALSE & FALSE & FALSE & FALSE &  TRUE & FALSE & FALSE & FALSE & ...   & FALSE &  TRUE & FALSE & FALSE &  TRUE & FALSE & FALSE & FALSE & FALSE & FALSE\\\\\n",
       "\t e     &  TRUE & FALSE & FALSE & FALSE & FALSE & FALSE & FALSE & FALSE & FALSE & ...   &  TRUE & FALSE & FALSE & FALSE & FALSE & FALSE &  TRUE & FALSE & FALSE & FALSE\\\\\n",
       "\t e     &  TRUE & FALSE & FALSE & FALSE & FALSE & FALSE & FALSE & FALSE & FALSE & ...   & FALSE & FALSE & FALSE & FALSE & FALSE & FALSE &  TRUE & FALSE & FALSE & FALSE\\\\\n",
       "\t e     &  TRUE & FALSE & FALSE & FALSE & FALSE & FALSE & FALSE & FALSE &  TRUE & ...   &  TRUE & FALSE & FALSE & FALSE & FALSE & FALSE &  TRUE & FALSE & FALSE & FALSE\\\\\n",
       "\t p     & FALSE & FALSE &  TRUE & FALSE & FALSE & FALSE & FALSE & FALSE &  TRUE & ...   & FALSE &  TRUE & FALSE & FALSE &  TRUE & FALSE & FALSE & FALSE & FALSE & FALSE\\\\\n",
       "\t e     & FALSE & FALSE & FALSE & FALSE & FALSE &  TRUE & FALSE & FALSE & FALSE & ...   & FALSE & FALSE & FALSE & FALSE & FALSE & FALSE &  TRUE & FALSE & FALSE & FALSE\\\\\n",
       "\t e     & FALSE & FALSE & FALSE & FALSE & FALSE &  TRUE & FALSE & FALSE & FALSE & ...   & FALSE & FALSE & FALSE & FALSE & FALSE & FALSE &  TRUE & FALSE & FALSE & FALSE\\\\\n",
       "\t e     & FALSE & FALSE &  TRUE & FALSE & FALSE & FALSE &  TRUE & FALSE & FALSE & ...   & FALSE & FALSE &  TRUE & FALSE & FALSE & FALSE & FALSE & FALSE &  TRUE & FALSE\\\\\n",
       "\t e     & FALSE & FALSE & FALSE & FALSE & FALSE &  TRUE & FALSE & FALSE &  TRUE & ...   & FALSE &  TRUE & FALSE &  TRUE & FALSE & FALSE & FALSE & FALSE & FALSE & FALSE\\\\\n",
       "\t ... & ... & ... & ... & ... & ... & ... & ... & ... & ... &     & ... & ... & ... & ... & ... & ... & ... & ... & ... & ...\\\\\n",
       "\t e     &  TRUE & FALSE & FALSE & FALSE & FALSE & FALSE & FALSE & FALSE &  TRUE & ...   & FALSE & FALSE & FALSE & FALSE &  TRUE & FALSE & FALSE & FALSE & FALSE & FALSE\\\\\n",
       "\t p     & FALSE & FALSE & FALSE & FALSE & FALSE &  TRUE & FALSE & FALSE & FALSE & ...   & FALSE & FALSE & FALSE &  TRUE & FALSE & FALSE & FALSE & FALSE & FALSE & FALSE\\\\\n",
       "\t e     & FALSE & FALSE & FALSE &  TRUE & FALSE & FALSE &  TRUE & FALSE & FALSE & ...   & FALSE & FALSE & FALSE & FALSE &  TRUE & FALSE & FALSE & FALSE & FALSE & FALSE\\\\\n",
       "\t p     & FALSE & FALSE & FALSE &  TRUE & FALSE & FALSE & FALSE & FALSE & FALSE & ...   & FALSE &  TRUE & FALSE & FALSE & FALSE &  TRUE & FALSE & FALSE & FALSE & FALSE\\\\\n",
       "\t p     & FALSE & FALSE & FALSE &  TRUE & FALSE & FALSE & FALSE & FALSE &  TRUE & ...   & FALSE &  TRUE & FALSE &  TRUE & FALSE & FALSE & FALSE & FALSE & FALSE & FALSE\\\\\n",
       "\t e     & FALSE & FALSE & FALSE &  TRUE & FALSE & FALSE &  TRUE & FALSE & FALSE & ...   &  TRUE & FALSE & FALSE & FALSE &  TRUE & FALSE & FALSE & FALSE & FALSE & FALSE\\\\\n",
       "\t e     & FALSE & FALSE &  TRUE & FALSE & FALSE & FALSE & FALSE & FALSE &  TRUE & ...   & FALSE &  TRUE & FALSE & FALSE & FALSE &  TRUE & FALSE & FALSE & FALSE & FALSE\\\\\n",
       "\t p     & FALSE & FALSE & FALSE &  TRUE & FALSE & FALSE & FALSE & FALSE &  TRUE & ...   & FALSE &  TRUE & FALSE & FALSE & FALSE & FALSE & FALSE &  TRUE & FALSE & FALSE\\\\\n",
       "\t e     & FALSE & FALSE & FALSE & FALSE & FALSE &  TRUE & FALSE & FALSE &  TRUE & ...   & FALSE & FALSE & FALSE & FALSE & FALSE &  TRUE & FALSE & FALSE & FALSE & FALSE\\\\\n",
       "\t e     & FALSE & FALSE & FALSE &  TRUE & FALSE & FALSE & FALSE & FALSE &  TRUE & ...   & FALSE & FALSE & FALSE & FALSE & FALSE &  TRUE & FALSE & FALSE & FALSE & FALSE\\\\\n",
       "\t e     & FALSE & FALSE & FALSE &  TRUE & FALSE & FALSE & FALSE & FALSE &  TRUE & ...   & FALSE &  TRUE & FALSE & FALSE & FALSE &  TRUE & FALSE & FALSE & FALSE & FALSE\\\\\n",
       "\t e     & FALSE & FALSE & FALSE &  TRUE & FALSE & FALSE & FALSE & FALSE &  TRUE & ...   & FALSE &  TRUE & FALSE & FALSE & FALSE &  TRUE & FALSE & FALSE & FALSE & FALSE\\\\\n",
       "\t e     & FALSE & FALSE & FALSE &  TRUE & FALSE & FALSE & FALSE & FALSE &  TRUE & ...   & FALSE &  TRUE & FALSE & FALSE & FALSE &  TRUE & FALSE & FALSE & FALSE & FALSE\\\\\n",
       "\t e     & FALSE & FALSE & FALSE & FALSE & FALSE &  TRUE & FALSE & FALSE &  TRUE & ...   & FALSE & FALSE & FALSE & FALSE & FALSE &  TRUE & FALSE & FALSE & FALSE & FALSE\\\\\n",
       "\t p     & FALSE & FALSE & FALSE &  TRUE & FALSE & FALSE & FALSE & FALSE & FALSE & ...   & FALSE &  TRUE & FALSE & FALSE & FALSE &  TRUE & FALSE & FALSE & FALSE & FALSE\\\\\n",
       "\t e     &  TRUE & FALSE & FALSE & FALSE & FALSE & FALSE & FALSE & FALSE &  TRUE & ...   & FALSE & FALSE & FALSE & FALSE &  TRUE & FALSE & FALSE & FALSE & FALSE & FALSE\\\\\n",
       "\t e     & FALSE & FALSE & FALSE & FALSE & FALSE &  TRUE & FALSE & FALSE &  TRUE & ...   & FALSE &  TRUE & FALSE & FALSE & FALSE &  TRUE & FALSE & FALSE & FALSE & FALSE\\\\\n",
       "\t e     & FALSE & FALSE & FALSE &  TRUE & FALSE & FALSE & FALSE & FALSE &  TRUE & ...   & FALSE & FALSE & FALSE & FALSE &  TRUE & FALSE & FALSE & FALSE & FALSE & FALSE\\\\\n",
       "\t e     & FALSE & FALSE & FALSE &  TRUE & FALSE & FALSE & FALSE & FALSE &  TRUE & ...   & FALSE &  TRUE & FALSE & FALSE & FALSE &  TRUE & FALSE & FALSE & FALSE & FALSE\\\\\n",
       "\t p     & FALSE & FALSE & FALSE &  TRUE & FALSE & FALSE & FALSE & FALSE & FALSE & ...   & FALSE &  TRUE & FALSE &  TRUE & FALSE & FALSE & FALSE & FALSE & FALSE & FALSE\\\\\n",
       "\t p     & FALSE & FALSE &  TRUE & FALSE & FALSE & FALSE & FALSE & FALSE & FALSE & ...   & FALSE & FALSE & FALSE &  TRUE & FALSE & FALSE & FALSE & FALSE & FALSE & FALSE\\\\\n",
       "\t e     & FALSE & FALSE & FALSE & FALSE & FALSE &  TRUE & FALSE & FALSE &  TRUE & ...   & FALSE &  TRUE & FALSE & FALSE & FALSE &  TRUE & FALSE & FALSE & FALSE & FALSE\\\\\n",
       "\t p     & FALSE & FALSE & FALSE &  TRUE & FALSE & FALSE & FALSE & FALSE & FALSE & ...   & FALSE &  TRUE & FALSE & FALSE & FALSE &  TRUE & FALSE & FALSE & FALSE & FALSE\\\\\n",
       "\t p     & FALSE & FALSE & FALSE &  TRUE & FALSE & FALSE & FALSE & FALSE &  TRUE & ...   & FALSE &  TRUE & FALSE &  TRUE & FALSE & FALSE & FALSE & FALSE & FALSE & FALSE\\\\\n",
       "\t p     & FALSE & FALSE & FALSE &  TRUE & FALSE & FALSE & FALSE & FALSE & FALSE & ...   & FALSE &  TRUE & FALSE &  TRUE & FALSE & FALSE & FALSE & FALSE & FALSE & FALSE\\\\\n",
       "\t e     & FALSE & FALSE & FALSE &  TRUE & FALSE & FALSE & FALSE & FALSE &  TRUE & ...   & FALSE & FALSE & FALSE & FALSE & FALSE &  TRUE & FALSE & FALSE & FALSE & FALSE\\\\\n",
       "\t e     & FALSE & FALSE & FALSE & FALSE & FALSE &  TRUE & FALSE & FALSE &  TRUE & ...   & FALSE &  TRUE & FALSE & FALSE & FALSE &  TRUE & FALSE & FALSE & FALSE & FALSE\\\\\n",
       "\t e     & FALSE & FALSE &  TRUE & FALSE & FALSE & FALSE & FALSE & FALSE &  TRUE & ...   & FALSE & FALSE & FALSE & FALSE & FALSE &  TRUE & FALSE & FALSE & FALSE & FALSE\\\\\n",
       "\t p     & FALSE & FALSE & FALSE &  TRUE & FALSE & FALSE & FALSE & FALSE & FALSE & ...   & FALSE &  TRUE & FALSE & FALSE & FALSE &  TRUE & FALSE & FALSE & FALSE & FALSE\\\\\n",
       "\t e     & FALSE & FALSE & FALSE & FALSE & FALSE &  TRUE & FALSE & FALSE &  TRUE & ...   & FALSE & FALSE & FALSE & FALSE & FALSE &  TRUE & FALSE & FALSE & FALSE & FALSE\\\\\n",
       "\\end{tabular}\n"
      ],
      "text/markdown": [
       "\n",
       "| V1 | mr[, i] == j | mr[, i] == j.1 | mr[, i] == j.2 | mr[, i] == j.3 | mr[, i] == j.4 | mr[, i] == j.5 | mr[, i] == j.6 | mr[, i] == j.7 | mr[, i] == j.8 | ... | mr[, i] == j | mr[, i] == j.1 | mr[, i] == j.2 | mr[, i] == j.3 | mr[, i] == j.4 | mr[, i] == j.5 | mr[, i] == j.6 | mr[, i] == j.7 | mr[, i] == j.8 | mr[, i] == j.9 |\n",
       "|---|---|---|---|---|---|---|---|---|---|---|---|---|---|---|---|---|---|---|---|---|\n",
       "| p     | FALSE | FALSE | FALSE | FALSE | FALSE |  TRUE | FALSE | FALSE |  TRUE | ...   |  TRUE | FALSE | FALSE | FALSE | FALSE | FALSE | FALSE | FALSE |  TRUE | FALSE |\n",
       "| e     | FALSE | FALSE | FALSE | FALSE | FALSE |  TRUE | FALSE | FALSE |  TRUE | ...   | FALSE | FALSE | FALSE | FALSE |  TRUE | FALSE | FALSE | FALSE | FALSE | FALSE |\n",
       "| e     |  TRUE | FALSE | FALSE | FALSE | FALSE | FALSE | FALSE | FALSE |  TRUE | ...   | FALSE | FALSE | FALSE | FALSE | FALSE | FALSE |  TRUE | FALSE | FALSE | FALSE |\n",
       "| p     | FALSE | FALSE | FALSE | FALSE | FALSE |  TRUE | FALSE | FALSE | FALSE | ...   |  TRUE | FALSE | FALSE | FALSE | FALSE | FALSE | FALSE | FALSE |  TRUE | FALSE |\n",
       "| e     | FALSE | FALSE | FALSE | FALSE | FALSE |  TRUE | FALSE | FALSE |  TRUE | ...   | FALSE | FALSE | FALSE | FALSE |  TRUE | FALSE | FALSE | FALSE | FALSE | FALSE |\n",
       "| e     | FALSE | FALSE | FALSE | FALSE | FALSE |  TRUE | FALSE | FALSE | FALSE | ...   | FALSE | FALSE | FALSE | FALSE |  TRUE | FALSE | FALSE | FALSE | FALSE | FALSE |\n",
       "| e     |  TRUE | FALSE | FALSE | FALSE | FALSE | FALSE | FALSE | FALSE |  TRUE | ...   | FALSE | FALSE | FALSE | FALSE | FALSE | FALSE |  TRUE | FALSE | FALSE | FALSE |\n",
       "| e     |  TRUE | FALSE | FALSE | FALSE | FALSE | FALSE | FALSE | FALSE | FALSE | ...   |  TRUE | FALSE | FALSE | FALSE | FALSE | FALSE |  TRUE | FALSE | FALSE | FALSE |\n",
       "| p     | FALSE | FALSE | FALSE | FALSE | FALSE |  TRUE | FALSE | FALSE | FALSE | ...   | FALSE |  TRUE | FALSE | FALSE |  TRUE | FALSE | FALSE | FALSE | FALSE | FALSE |\n",
       "| e     |  TRUE | FALSE | FALSE | FALSE | FALSE | FALSE | FALSE | FALSE |  TRUE | ...   |  TRUE | FALSE | FALSE | FALSE | FALSE | FALSE |  TRUE | FALSE | FALSE | FALSE |\n",
       "| e     | FALSE | FALSE | FALSE | FALSE | FALSE |  TRUE | FALSE | FALSE | FALSE | ...   | FALSE | FALSE | FALSE | FALSE |  TRUE | FALSE | FALSE | FALSE | FALSE | FALSE |\n",
       "| e     | FALSE | FALSE | FALSE | FALSE | FALSE |  TRUE | FALSE | FALSE | FALSE | ...   |  TRUE | FALSE | FALSE | FALSE | FALSE | FALSE |  TRUE | FALSE | FALSE | FALSE |\n",
       "| e     |  TRUE | FALSE | FALSE | FALSE | FALSE | FALSE | FALSE | FALSE |  TRUE | ...   |  TRUE | FALSE | FALSE | FALSE |  TRUE | FALSE | FALSE | FALSE | FALSE | FALSE |\n",
       "| p     | FALSE | FALSE | FALSE | FALSE | FALSE |  TRUE | FALSE | FALSE | FALSE | ...   | FALSE |  TRUE | FALSE | FALSE | FALSE | FALSE | FALSE | FALSE |  TRUE | FALSE |\n",
       "| e     | FALSE | FALSE | FALSE | FALSE | FALSE |  TRUE |  TRUE | FALSE | FALSE | ...   | FALSE | FALSE | FALSE | FALSE |  TRUE | FALSE | FALSE | FALSE | FALSE | FALSE |\n",
       "| e     | FALSE | FALSE | FALSE | FALSE |  TRUE | FALSE |  TRUE | FALSE | FALSE | ...   | FALSE | FALSE |  TRUE | FALSE | FALSE | FALSE | FALSE | FALSE |  TRUE | FALSE |\n",
       "| e     | FALSE | FALSE |  TRUE | FALSE | FALSE | FALSE |  TRUE | FALSE | FALSE | ...   | FALSE | FALSE | FALSE | FALSE |  TRUE | FALSE | FALSE | FALSE | FALSE | FALSE |\n",
       "| p     | FALSE | FALSE | FALSE | FALSE | FALSE |  TRUE | FALSE | FALSE |  TRUE | ...   |  TRUE | FALSE | FALSE | FALSE |  TRUE | FALSE | FALSE | FALSE | FALSE | FALSE |\n",
       "| p     | FALSE | FALSE | FALSE | FALSE | FALSE |  TRUE | FALSE | FALSE | FALSE | ...   |  TRUE | FALSE | FALSE | FALSE | FALSE | FALSE | FALSE | FALSE |  TRUE | FALSE |\n",
       "| p     | FALSE | FALSE | FALSE | FALSE | FALSE |  TRUE | FALSE | FALSE |  TRUE | ...   |  TRUE | FALSE | FALSE | FALSE | FALSE | FALSE | FALSE | FALSE |  TRUE | FALSE |\n",
       "| e     |  TRUE | FALSE | FALSE | FALSE | FALSE | FALSE | FALSE | FALSE |  TRUE | ...   |  TRUE | FALSE | FALSE | FALSE | FALSE | FALSE |  TRUE | FALSE | FALSE | FALSE |\n",
       "| p     | FALSE | FALSE | FALSE | FALSE | FALSE |  TRUE | FALSE | FALSE | FALSE | ...   | FALSE |  TRUE | FALSE | FALSE |  TRUE | FALSE | FALSE | FALSE | FALSE | FALSE |\n",
       "| e     |  TRUE | FALSE | FALSE | FALSE | FALSE | FALSE | FALSE | FALSE | FALSE | ...   |  TRUE | FALSE | FALSE | FALSE | FALSE | FALSE |  TRUE | FALSE | FALSE | FALSE |\n",
       "| e     |  TRUE | FALSE | FALSE | FALSE | FALSE | FALSE | FALSE | FALSE | FALSE | ...   | FALSE | FALSE | FALSE | FALSE | FALSE | FALSE |  TRUE | FALSE | FALSE | FALSE |\n",
       "| e     |  TRUE | FALSE | FALSE | FALSE | FALSE | FALSE | FALSE | FALSE |  TRUE | ...   |  TRUE | FALSE | FALSE | FALSE | FALSE | FALSE |  TRUE | FALSE | FALSE | FALSE |\n",
       "| p     | FALSE | FALSE |  TRUE | FALSE | FALSE | FALSE | FALSE | FALSE |  TRUE | ...   | FALSE |  TRUE | FALSE | FALSE |  TRUE | FALSE | FALSE | FALSE | FALSE | FALSE |\n",
       "| e     | FALSE | FALSE | FALSE | FALSE | FALSE |  TRUE | FALSE | FALSE | FALSE | ...   | FALSE | FALSE | FALSE | FALSE | FALSE | FALSE |  TRUE | FALSE | FALSE | FALSE |\n",
       "| e     | FALSE | FALSE | FALSE | FALSE | FALSE |  TRUE | FALSE | FALSE | FALSE | ...   | FALSE | FALSE | FALSE | FALSE | FALSE | FALSE |  TRUE | FALSE | FALSE | FALSE |\n",
       "| e     | FALSE | FALSE |  TRUE | FALSE | FALSE | FALSE |  TRUE | FALSE | FALSE | ...   | FALSE | FALSE |  TRUE | FALSE | FALSE | FALSE | FALSE | FALSE |  TRUE | FALSE |\n",
       "| e     | FALSE | FALSE | FALSE | FALSE | FALSE |  TRUE | FALSE | FALSE |  TRUE | ...   | FALSE |  TRUE | FALSE |  TRUE | FALSE | FALSE | FALSE | FALSE | FALSE | FALSE |\n",
       "| ... | ... | ... | ... | ... | ... | ... | ... | ... | ... |     | ... | ... | ... | ... | ... | ... | ... | ... | ... | ... |\n",
       "| e     |  TRUE | FALSE | FALSE | FALSE | FALSE | FALSE | FALSE | FALSE |  TRUE | ...   | FALSE | FALSE | FALSE | FALSE |  TRUE | FALSE | FALSE | FALSE | FALSE | FALSE |\n",
       "| p     | FALSE | FALSE | FALSE | FALSE | FALSE |  TRUE | FALSE | FALSE | FALSE | ...   | FALSE | FALSE | FALSE |  TRUE | FALSE | FALSE | FALSE | FALSE | FALSE | FALSE |\n",
       "| e     | FALSE | FALSE | FALSE |  TRUE | FALSE | FALSE |  TRUE | FALSE | FALSE | ...   | FALSE | FALSE | FALSE | FALSE |  TRUE | FALSE | FALSE | FALSE | FALSE | FALSE |\n",
       "| p     | FALSE | FALSE | FALSE |  TRUE | FALSE | FALSE | FALSE | FALSE | FALSE | ...   | FALSE |  TRUE | FALSE | FALSE | FALSE |  TRUE | FALSE | FALSE | FALSE | FALSE |\n",
       "| p     | FALSE | FALSE | FALSE |  TRUE | FALSE | FALSE | FALSE | FALSE |  TRUE | ...   | FALSE |  TRUE | FALSE |  TRUE | FALSE | FALSE | FALSE | FALSE | FALSE | FALSE |\n",
       "| e     | FALSE | FALSE | FALSE |  TRUE | FALSE | FALSE |  TRUE | FALSE | FALSE | ...   |  TRUE | FALSE | FALSE | FALSE |  TRUE | FALSE | FALSE | FALSE | FALSE | FALSE |\n",
       "| e     | FALSE | FALSE |  TRUE | FALSE | FALSE | FALSE | FALSE | FALSE |  TRUE | ...   | FALSE |  TRUE | FALSE | FALSE | FALSE |  TRUE | FALSE | FALSE | FALSE | FALSE |\n",
       "| p     | FALSE | FALSE | FALSE |  TRUE | FALSE | FALSE | FALSE | FALSE |  TRUE | ...   | FALSE |  TRUE | FALSE | FALSE | FALSE | FALSE | FALSE |  TRUE | FALSE | FALSE |\n",
       "| e     | FALSE | FALSE | FALSE | FALSE | FALSE |  TRUE | FALSE | FALSE |  TRUE | ...   | FALSE | FALSE | FALSE | FALSE | FALSE |  TRUE | FALSE | FALSE | FALSE | FALSE |\n",
       "| e     | FALSE | FALSE | FALSE |  TRUE | FALSE | FALSE | FALSE | FALSE |  TRUE | ...   | FALSE | FALSE | FALSE | FALSE | FALSE |  TRUE | FALSE | FALSE | FALSE | FALSE |\n",
       "| e     | FALSE | FALSE | FALSE |  TRUE | FALSE | FALSE | FALSE | FALSE |  TRUE | ...   | FALSE |  TRUE | FALSE | FALSE | FALSE |  TRUE | FALSE | FALSE | FALSE | FALSE |\n",
       "| e     | FALSE | FALSE | FALSE |  TRUE | FALSE | FALSE | FALSE | FALSE |  TRUE | ...   | FALSE |  TRUE | FALSE | FALSE | FALSE |  TRUE | FALSE | FALSE | FALSE | FALSE |\n",
       "| e     | FALSE | FALSE | FALSE |  TRUE | FALSE | FALSE | FALSE | FALSE |  TRUE | ...   | FALSE |  TRUE | FALSE | FALSE | FALSE |  TRUE | FALSE | FALSE | FALSE | FALSE |\n",
       "| e     | FALSE | FALSE | FALSE | FALSE | FALSE |  TRUE | FALSE | FALSE |  TRUE | ...   | FALSE | FALSE | FALSE | FALSE | FALSE |  TRUE | FALSE | FALSE | FALSE | FALSE |\n",
       "| p     | FALSE | FALSE | FALSE |  TRUE | FALSE | FALSE | FALSE | FALSE | FALSE | ...   | FALSE |  TRUE | FALSE | FALSE | FALSE |  TRUE | FALSE | FALSE | FALSE | FALSE |\n",
       "| e     |  TRUE | FALSE | FALSE | FALSE | FALSE | FALSE | FALSE | FALSE |  TRUE | ...   | FALSE | FALSE | FALSE | FALSE |  TRUE | FALSE | FALSE | FALSE | FALSE | FALSE |\n",
       "| e     | FALSE | FALSE | FALSE | FALSE | FALSE |  TRUE | FALSE | FALSE |  TRUE | ...   | FALSE |  TRUE | FALSE | FALSE | FALSE |  TRUE | FALSE | FALSE | FALSE | FALSE |\n",
       "| e     | FALSE | FALSE | FALSE |  TRUE | FALSE | FALSE | FALSE | FALSE |  TRUE | ...   | FALSE | FALSE | FALSE | FALSE |  TRUE | FALSE | FALSE | FALSE | FALSE | FALSE |\n",
       "| e     | FALSE | FALSE | FALSE |  TRUE | FALSE | FALSE | FALSE | FALSE |  TRUE | ...   | FALSE |  TRUE | FALSE | FALSE | FALSE |  TRUE | FALSE | FALSE | FALSE | FALSE |\n",
       "| p     | FALSE | FALSE | FALSE |  TRUE | FALSE | FALSE | FALSE | FALSE | FALSE | ...   | FALSE |  TRUE | FALSE |  TRUE | FALSE | FALSE | FALSE | FALSE | FALSE | FALSE |\n",
       "| p     | FALSE | FALSE |  TRUE | FALSE | FALSE | FALSE | FALSE | FALSE | FALSE | ...   | FALSE | FALSE | FALSE |  TRUE | FALSE | FALSE | FALSE | FALSE | FALSE | FALSE |\n",
       "| e     | FALSE | FALSE | FALSE | FALSE | FALSE |  TRUE | FALSE | FALSE |  TRUE | ...   | FALSE |  TRUE | FALSE | FALSE | FALSE |  TRUE | FALSE | FALSE | FALSE | FALSE |\n",
       "| p     | FALSE | FALSE | FALSE |  TRUE | FALSE | FALSE | FALSE | FALSE | FALSE | ...   | FALSE |  TRUE | FALSE | FALSE | FALSE |  TRUE | FALSE | FALSE | FALSE | FALSE |\n",
       "| p     | FALSE | FALSE | FALSE |  TRUE | FALSE | FALSE | FALSE | FALSE |  TRUE | ...   | FALSE |  TRUE | FALSE |  TRUE | FALSE | FALSE | FALSE | FALSE | FALSE | FALSE |\n",
       "| p     | FALSE | FALSE | FALSE |  TRUE | FALSE | FALSE | FALSE | FALSE | FALSE | ...   | FALSE |  TRUE | FALSE |  TRUE | FALSE | FALSE | FALSE | FALSE | FALSE | FALSE |\n",
       "| e     | FALSE | FALSE | FALSE |  TRUE | FALSE | FALSE | FALSE | FALSE |  TRUE | ...   | FALSE | FALSE | FALSE | FALSE | FALSE |  TRUE | FALSE | FALSE | FALSE | FALSE |\n",
       "| e     | FALSE | FALSE | FALSE | FALSE | FALSE |  TRUE | FALSE | FALSE |  TRUE | ...   | FALSE |  TRUE | FALSE | FALSE | FALSE |  TRUE | FALSE | FALSE | FALSE | FALSE |\n",
       "| e     | FALSE | FALSE |  TRUE | FALSE | FALSE | FALSE | FALSE | FALSE |  TRUE | ...   | FALSE | FALSE | FALSE | FALSE | FALSE |  TRUE | FALSE | FALSE | FALSE | FALSE |\n",
       "| p     | FALSE | FALSE | FALSE |  TRUE | FALSE | FALSE | FALSE | FALSE | FALSE | ...   | FALSE |  TRUE | FALSE | FALSE | FALSE |  TRUE | FALSE | FALSE | FALSE | FALSE |\n",
       "| e     | FALSE | FALSE | FALSE | FALSE | FALSE |  TRUE | FALSE | FALSE |  TRUE | ...   | FALSE | FALSE | FALSE | FALSE | FALSE |  TRUE | FALSE | FALSE | FALSE | FALSE |\n",
       "\n"
      ],
      "text/plain": [
       "     V1  mr[, i] == j mr[, i] == j.1 mr[, i] == j.2 mr[, i] == j.3\n",
       "1    p   FALSE        FALSE          FALSE          FALSE         \n",
       "2    e   FALSE        FALSE          FALSE          FALSE         \n",
       "3    e    TRUE        FALSE          FALSE          FALSE         \n",
       "4    p   FALSE        FALSE          FALSE          FALSE         \n",
       "5    e   FALSE        FALSE          FALSE          FALSE         \n",
       "6    e   FALSE        FALSE          FALSE          FALSE         \n",
       "7    e    TRUE        FALSE          FALSE          FALSE         \n",
       "8    e    TRUE        FALSE          FALSE          FALSE         \n",
       "9    p   FALSE        FALSE          FALSE          FALSE         \n",
       "10   e    TRUE        FALSE          FALSE          FALSE         \n",
       "11   e   FALSE        FALSE          FALSE          FALSE         \n",
       "12   e   FALSE        FALSE          FALSE          FALSE         \n",
       "13   e    TRUE        FALSE          FALSE          FALSE         \n",
       "14   p   FALSE        FALSE          FALSE          FALSE         \n",
       "15   e   FALSE        FALSE          FALSE          FALSE         \n",
       "16   e   FALSE        FALSE          FALSE          FALSE         \n",
       "17   e   FALSE        FALSE           TRUE          FALSE         \n",
       "18   p   FALSE        FALSE          FALSE          FALSE         \n",
       "19   p   FALSE        FALSE          FALSE          FALSE         \n",
       "20   p   FALSE        FALSE          FALSE          FALSE         \n",
       "21   e    TRUE        FALSE          FALSE          FALSE         \n",
       "22   p   FALSE        FALSE          FALSE          FALSE         \n",
       "23   e    TRUE        FALSE          FALSE          FALSE         \n",
       "24   e    TRUE        FALSE          FALSE          FALSE         \n",
       "25   e    TRUE        FALSE          FALSE          FALSE         \n",
       "26   p   FALSE        FALSE           TRUE          FALSE         \n",
       "27   e   FALSE        FALSE          FALSE          FALSE         \n",
       "28   e   FALSE        FALSE          FALSE          FALSE         \n",
       "29   e   FALSE        FALSE           TRUE          FALSE         \n",
       "30   e   FALSE        FALSE          FALSE          FALSE         \n",
       "...  ... ...          ...            ...            ...           \n",
       "8095 e    TRUE        FALSE          FALSE          FALSE         \n",
       "8096 p   FALSE        FALSE          FALSE          FALSE         \n",
       "8097 e   FALSE        FALSE          FALSE           TRUE         \n",
       "8098 p   FALSE        FALSE          FALSE           TRUE         \n",
       "8099 p   FALSE        FALSE          FALSE           TRUE         \n",
       "8100 e   FALSE        FALSE          FALSE           TRUE         \n",
       "8101 e   FALSE        FALSE           TRUE          FALSE         \n",
       "8102 p   FALSE        FALSE          FALSE           TRUE         \n",
       "8103 e   FALSE        FALSE          FALSE          FALSE         \n",
       "8104 e   FALSE        FALSE          FALSE           TRUE         \n",
       "8105 e   FALSE        FALSE          FALSE           TRUE         \n",
       "8106 e   FALSE        FALSE          FALSE           TRUE         \n",
       "8107 e   FALSE        FALSE          FALSE           TRUE         \n",
       "8108 e   FALSE        FALSE          FALSE          FALSE         \n",
       "8109 p   FALSE        FALSE          FALSE           TRUE         \n",
       "8110 e    TRUE        FALSE          FALSE          FALSE         \n",
       "8111 e   FALSE        FALSE          FALSE          FALSE         \n",
       "8112 e   FALSE        FALSE          FALSE           TRUE         \n",
       "8113 e   FALSE        FALSE          FALSE           TRUE         \n",
       "8114 p   FALSE        FALSE          FALSE           TRUE         \n",
       "8115 p   FALSE        FALSE           TRUE          FALSE         \n",
       "8116 e   FALSE        FALSE          FALSE          FALSE         \n",
       "8117 p   FALSE        FALSE          FALSE           TRUE         \n",
       "8118 p   FALSE        FALSE          FALSE           TRUE         \n",
       "8119 p   FALSE        FALSE          FALSE           TRUE         \n",
       "8120 e   FALSE        FALSE          FALSE           TRUE         \n",
       "8121 e   FALSE        FALSE          FALSE          FALSE         \n",
       "8122 e   FALSE        FALSE           TRUE          FALSE         \n",
       "8123 p   FALSE        FALSE          FALSE           TRUE         \n",
       "8124 e   FALSE        FALSE          FALSE          FALSE         \n",
       "     mr[, i] == j.4 mr[, i] == j.5 mr[, i] == j.6 mr[, i] == j.7 mr[, i] == j.8\n",
       "1    FALSE           TRUE          FALSE          FALSE           TRUE         \n",
       "2    FALSE           TRUE          FALSE          FALSE           TRUE         \n",
       "3    FALSE          FALSE          FALSE          FALSE           TRUE         \n",
       "4    FALSE           TRUE          FALSE          FALSE          FALSE         \n",
       "5    FALSE           TRUE          FALSE          FALSE           TRUE         \n",
       "6    FALSE           TRUE          FALSE          FALSE          FALSE         \n",
       "7    FALSE          FALSE          FALSE          FALSE           TRUE         \n",
       "8    FALSE          FALSE          FALSE          FALSE          FALSE         \n",
       "9    FALSE           TRUE          FALSE          FALSE          FALSE         \n",
       "10   FALSE          FALSE          FALSE          FALSE           TRUE         \n",
       "11   FALSE           TRUE          FALSE          FALSE          FALSE         \n",
       "12   FALSE           TRUE          FALSE          FALSE          FALSE         \n",
       "13   FALSE          FALSE          FALSE          FALSE           TRUE         \n",
       "14   FALSE           TRUE          FALSE          FALSE          FALSE         \n",
       "15   FALSE           TRUE           TRUE          FALSE          FALSE         \n",
       "16    TRUE          FALSE           TRUE          FALSE          FALSE         \n",
       "17   FALSE          FALSE           TRUE          FALSE          FALSE         \n",
       "18   FALSE           TRUE          FALSE          FALSE           TRUE         \n",
       "19   FALSE           TRUE          FALSE          FALSE          FALSE         \n",
       "20   FALSE           TRUE          FALSE          FALSE           TRUE         \n",
       "21   FALSE          FALSE          FALSE          FALSE           TRUE         \n",
       "22   FALSE           TRUE          FALSE          FALSE          FALSE         \n",
       "23   FALSE          FALSE          FALSE          FALSE          FALSE         \n",
       "24   FALSE          FALSE          FALSE          FALSE          FALSE         \n",
       "25   FALSE          FALSE          FALSE          FALSE           TRUE         \n",
       "26   FALSE          FALSE          FALSE          FALSE           TRUE         \n",
       "27   FALSE           TRUE          FALSE          FALSE          FALSE         \n",
       "28   FALSE           TRUE          FALSE          FALSE          FALSE         \n",
       "29   FALSE          FALSE           TRUE          FALSE          FALSE         \n",
       "30   FALSE           TRUE          FALSE          FALSE           TRUE         \n",
       "...  ...            ...            ...            ...            ...           \n",
       "8095 FALSE          FALSE          FALSE          FALSE           TRUE         \n",
       "8096 FALSE           TRUE          FALSE          FALSE          FALSE         \n",
       "8097 FALSE          FALSE           TRUE          FALSE          FALSE         \n",
       "8098 FALSE          FALSE          FALSE          FALSE          FALSE         \n",
       "8099 FALSE          FALSE          FALSE          FALSE           TRUE         \n",
       "8100 FALSE          FALSE           TRUE          FALSE          FALSE         \n",
       "8101 FALSE          FALSE          FALSE          FALSE           TRUE         \n",
       "8102 FALSE          FALSE          FALSE          FALSE           TRUE         \n",
       "8103 FALSE           TRUE          FALSE          FALSE           TRUE         \n",
       "8104 FALSE          FALSE          FALSE          FALSE           TRUE         \n",
       "8105 FALSE          FALSE          FALSE          FALSE           TRUE         \n",
       "8106 FALSE          FALSE          FALSE          FALSE           TRUE         \n",
       "8107 FALSE          FALSE          FALSE          FALSE           TRUE         \n",
       "8108 FALSE           TRUE          FALSE          FALSE           TRUE         \n",
       "8109 FALSE          FALSE          FALSE          FALSE          FALSE         \n",
       "8110 FALSE          FALSE          FALSE          FALSE           TRUE         \n",
       "8111 FALSE           TRUE          FALSE          FALSE           TRUE         \n",
       "8112 FALSE          FALSE          FALSE          FALSE           TRUE         \n",
       "8113 FALSE          FALSE          FALSE          FALSE           TRUE         \n",
       "8114 FALSE          FALSE          FALSE          FALSE          FALSE         \n",
       "8115 FALSE          FALSE          FALSE          FALSE          FALSE         \n",
       "8116 FALSE           TRUE          FALSE          FALSE           TRUE         \n",
       "8117 FALSE          FALSE          FALSE          FALSE          FALSE         \n",
       "8118 FALSE          FALSE          FALSE          FALSE           TRUE         \n",
       "8119 FALSE          FALSE          FALSE          FALSE          FALSE         \n",
       "8120 FALSE          FALSE          FALSE          FALSE           TRUE         \n",
       "8121 FALSE           TRUE          FALSE          FALSE           TRUE         \n",
       "8122 FALSE          FALSE          FALSE          FALSE           TRUE         \n",
       "8123 FALSE          FALSE          FALSE          FALSE          FALSE         \n",
       "8124 FALSE           TRUE          FALSE          FALSE           TRUE         \n",
       "     ... mr[, i] == j mr[, i] == j.1 mr[, i] == j.2 mr[, i] == j.3\n",
       "1    ...  TRUE        FALSE          FALSE          FALSE         \n",
       "2    ... FALSE        FALSE          FALSE          FALSE         \n",
       "3    ... FALSE        FALSE          FALSE          FALSE         \n",
       "4    ...  TRUE        FALSE          FALSE          FALSE         \n",
       "5    ... FALSE        FALSE          FALSE          FALSE         \n",
       "6    ... FALSE        FALSE          FALSE          FALSE         \n",
       "7    ... FALSE        FALSE          FALSE          FALSE         \n",
       "8    ...  TRUE        FALSE          FALSE          FALSE         \n",
       "9    ... FALSE         TRUE          FALSE          FALSE         \n",
       "10   ...  TRUE        FALSE          FALSE          FALSE         \n",
       "11   ... FALSE        FALSE          FALSE          FALSE         \n",
       "12   ...  TRUE        FALSE          FALSE          FALSE         \n",
       "13   ...  TRUE        FALSE          FALSE          FALSE         \n",
       "14   ... FALSE         TRUE          FALSE          FALSE         \n",
       "15   ... FALSE        FALSE          FALSE          FALSE         \n",
       "16   ... FALSE        FALSE           TRUE          FALSE         \n",
       "17   ... FALSE        FALSE          FALSE          FALSE         \n",
       "18   ...  TRUE        FALSE          FALSE          FALSE         \n",
       "19   ...  TRUE        FALSE          FALSE          FALSE         \n",
       "20   ...  TRUE        FALSE          FALSE          FALSE         \n",
       "21   ...  TRUE        FALSE          FALSE          FALSE         \n",
       "22   ... FALSE         TRUE          FALSE          FALSE         \n",
       "23   ...  TRUE        FALSE          FALSE          FALSE         \n",
       "24   ... FALSE        FALSE          FALSE          FALSE         \n",
       "25   ...  TRUE        FALSE          FALSE          FALSE         \n",
       "26   ... FALSE         TRUE          FALSE          FALSE         \n",
       "27   ... FALSE        FALSE          FALSE          FALSE         \n",
       "28   ... FALSE        FALSE          FALSE          FALSE         \n",
       "29   ... FALSE        FALSE           TRUE          FALSE         \n",
       "30   ... FALSE         TRUE          FALSE           TRUE         \n",
       "...      ...          ...            ...            ...           \n",
       "8095 ... FALSE        FALSE          FALSE          FALSE         \n",
       "8096 ... FALSE        FALSE          FALSE           TRUE         \n",
       "8097 ... FALSE        FALSE          FALSE          FALSE         \n",
       "8098 ... FALSE         TRUE          FALSE          FALSE         \n",
       "8099 ... FALSE         TRUE          FALSE           TRUE         \n",
       "8100 ...  TRUE        FALSE          FALSE          FALSE         \n",
       "8101 ... FALSE         TRUE          FALSE          FALSE         \n",
       "8102 ... FALSE         TRUE          FALSE          FALSE         \n",
       "8103 ... FALSE        FALSE          FALSE          FALSE         \n",
       "8104 ... FALSE        FALSE          FALSE          FALSE         \n",
       "8105 ... FALSE         TRUE          FALSE          FALSE         \n",
       "8106 ... FALSE         TRUE          FALSE          FALSE         \n",
       "8107 ... FALSE         TRUE          FALSE          FALSE         \n",
       "8108 ... FALSE        FALSE          FALSE          FALSE         \n",
       "8109 ... FALSE         TRUE          FALSE          FALSE         \n",
       "8110 ... FALSE        FALSE          FALSE          FALSE         \n",
       "8111 ... FALSE         TRUE          FALSE          FALSE         \n",
       "8112 ... FALSE        FALSE          FALSE          FALSE         \n",
       "8113 ... FALSE         TRUE          FALSE          FALSE         \n",
       "8114 ... FALSE         TRUE          FALSE           TRUE         \n",
       "8115 ... FALSE        FALSE          FALSE           TRUE         \n",
       "8116 ... FALSE         TRUE          FALSE          FALSE         \n",
       "8117 ... FALSE         TRUE          FALSE          FALSE         \n",
       "8118 ... FALSE         TRUE          FALSE           TRUE         \n",
       "8119 ... FALSE         TRUE          FALSE           TRUE         \n",
       "8120 ... FALSE        FALSE          FALSE          FALSE         \n",
       "8121 ... FALSE         TRUE          FALSE          FALSE         \n",
       "8122 ... FALSE        FALSE          FALSE          FALSE         \n",
       "8123 ... FALSE         TRUE          FALSE          FALSE         \n",
       "8124 ... FALSE        FALSE          FALSE          FALSE         \n",
       "     mr[, i] == j.4 mr[, i] == j.5 mr[, i] == j.6 mr[, i] == j.7 mr[, i] == j.8\n",
       "1    FALSE          FALSE          FALSE          FALSE           TRUE         \n",
       "2     TRUE          FALSE          FALSE          FALSE          FALSE         \n",
       "3    FALSE          FALSE           TRUE          FALSE          FALSE         \n",
       "4    FALSE          FALSE          FALSE          FALSE           TRUE         \n",
       "5     TRUE          FALSE          FALSE          FALSE          FALSE         \n",
       "6     TRUE          FALSE          FALSE          FALSE          FALSE         \n",
       "7    FALSE          FALSE           TRUE          FALSE          FALSE         \n",
       "8    FALSE          FALSE           TRUE          FALSE          FALSE         \n",
       "9     TRUE          FALSE          FALSE          FALSE          FALSE         \n",
       "10   FALSE          FALSE           TRUE          FALSE          FALSE         \n",
       "11    TRUE          FALSE          FALSE          FALSE          FALSE         \n",
       "12   FALSE          FALSE           TRUE          FALSE          FALSE         \n",
       "13    TRUE          FALSE          FALSE          FALSE          FALSE         \n",
       "14   FALSE          FALSE          FALSE          FALSE           TRUE         \n",
       "15    TRUE          FALSE          FALSE          FALSE          FALSE         \n",
       "16   FALSE          FALSE          FALSE          FALSE           TRUE         \n",
       "17    TRUE          FALSE          FALSE          FALSE          FALSE         \n",
       "18    TRUE          FALSE          FALSE          FALSE          FALSE         \n",
       "19   FALSE          FALSE          FALSE          FALSE           TRUE         \n",
       "20   FALSE          FALSE          FALSE          FALSE           TRUE         \n",
       "21   FALSE          FALSE           TRUE          FALSE          FALSE         \n",
       "22    TRUE          FALSE          FALSE          FALSE          FALSE         \n",
       "23   FALSE          FALSE           TRUE          FALSE          FALSE         \n",
       "24   FALSE          FALSE           TRUE          FALSE          FALSE         \n",
       "25   FALSE          FALSE           TRUE          FALSE          FALSE         \n",
       "26    TRUE          FALSE          FALSE          FALSE          FALSE         \n",
       "27   FALSE          FALSE           TRUE          FALSE          FALSE         \n",
       "28   FALSE          FALSE           TRUE          FALSE          FALSE         \n",
       "29   FALSE          FALSE          FALSE          FALSE           TRUE         \n",
       "30   FALSE          FALSE          FALSE          FALSE          FALSE         \n",
       "...  ...            ...            ...            ...            ...           \n",
       "8095  TRUE          FALSE          FALSE          FALSE          FALSE         \n",
       "8096 FALSE          FALSE          FALSE          FALSE          FALSE         \n",
       "8097  TRUE          FALSE          FALSE          FALSE          FALSE         \n",
       "8098 FALSE           TRUE          FALSE          FALSE          FALSE         \n",
       "8099 FALSE          FALSE          FALSE          FALSE          FALSE         \n",
       "8100  TRUE          FALSE          FALSE          FALSE          FALSE         \n",
       "8101 FALSE           TRUE          FALSE          FALSE          FALSE         \n",
       "8102 FALSE          FALSE          FALSE           TRUE          FALSE         \n",
       "8103 FALSE           TRUE          FALSE          FALSE          FALSE         \n",
       "8104 FALSE           TRUE          FALSE          FALSE          FALSE         \n",
       "8105 FALSE           TRUE          FALSE          FALSE          FALSE         \n",
       "8106 FALSE           TRUE          FALSE          FALSE          FALSE         \n",
       "8107 FALSE           TRUE          FALSE          FALSE          FALSE         \n",
       "8108 FALSE           TRUE          FALSE          FALSE          FALSE         \n",
       "8109 FALSE           TRUE          FALSE          FALSE          FALSE         \n",
       "8110  TRUE          FALSE          FALSE          FALSE          FALSE         \n",
       "8111 FALSE           TRUE          FALSE          FALSE          FALSE         \n",
       "8112  TRUE          FALSE          FALSE          FALSE          FALSE         \n",
       "8113 FALSE           TRUE          FALSE          FALSE          FALSE         \n",
       "8114 FALSE          FALSE          FALSE          FALSE          FALSE         \n",
       "8115 FALSE          FALSE          FALSE          FALSE          FALSE         \n",
       "8116 FALSE           TRUE          FALSE          FALSE          FALSE         \n",
       "8117 FALSE           TRUE          FALSE          FALSE          FALSE         \n",
       "8118 FALSE          FALSE          FALSE          FALSE          FALSE         \n",
       "8119 FALSE          FALSE          FALSE          FALSE          FALSE         \n",
       "8120 FALSE           TRUE          FALSE          FALSE          FALSE         \n",
       "8121 FALSE           TRUE          FALSE          FALSE          FALSE         \n",
       "8122 FALSE           TRUE          FALSE          FALSE          FALSE         \n",
       "8123 FALSE           TRUE          FALSE          FALSE          FALSE         \n",
       "8124 FALSE           TRUE          FALSE          FALSE          FALSE         \n",
       "     mr[, i] == j.9\n",
       "1    FALSE         \n",
       "2    FALSE         \n",
       "3    FALSE         \n",
       "4    FALSE         \n",
       "5    FALSE         \n",
       "6    FALSE         \n",
       "7    FALSE         \n",
       "8    FALSE         \n",
       "9    FALSE         \n",
       "10   FALSE         \n",
       "11   FALSE         \n",
       "12   FALSE         \n",
       "13   FALSE         \n",
       "14   FALSE         \n",
       "15   FALSE         \n",
       "16   FALSE         \n",
       "17   FALSE         \n",
       "18   FALSE         \n",
       "19   FALSE         \n",
       "20   FALSE         \n",
       "21   FALSE         \n",
       "22   FALSE         \n",
       "23   FALSE         \n",
       "24   FALSE         \n",
       "25   FALSE         \n",
       "26   FALSE         \n",
       "27   FALSE         \n",
       "28   FALSE         \n",
       "29   FALSE         \n",
       "30   FALSE         \n",
       "...  ...           \n",
       "8095 FALSE         \n",
       "8096 FALSE         \n",
       "8097 FALSE         \n",
       "8098 FALSE         \n",
       "8099 FALSE         \n",
       "8100 FALSE         \n",
       "8101 FALSE         \n",
       "8102 FALSE         \n",
       "8103 FALSE         \n",
       "8104 FALSE         \n",
       "8105 FALSE         \n",
       "8106 FALSE         \n",
       "8107 FALSE         \n",
       "8108 FALSE         \n",
       "8109 FALSE         \n",
       "8110 FALSE         \n",
       "8111 FALSE         \n",
       "8112 FALSE         \n",
       "8113 FALSE         \n",
       "8114 FALSE         \n",
       "8115 FALSE         \n",
       "8116 FALSE         \n",
       "8117 FALSE         \n",
       "8118 FALSE         \n",
       "8119 FALSE         \n",
       "8120 FALSE         \n",
       "8121 FALSE         \n",
       "8122 FALSE         \n",
       "8123 FALSE         \n",
       "8124 FALSE         "
      ]
     },
     "metadata": {},
     "output_type": "display_data"
    }
   ],
   "source": [
    "for (i in 2:23) {\n",
    "    for (j in sort(unique(mr[,i]))) {\n",
    "        mr2 <- cbind(mr2, mr[,i] == j)\n",
    "    }\n",
    "}\n",
    "mr2"
   ]
  },
  {
   "cell_type": "code",
   "execution_count": 24,
   "id": "77095844",
   "metadata": {},
   "outputs": [
    {
     "data": {
      "text/html": [
       "118"
      ],
      "text/latex": [
       "118"
      ],
      "text/markdown": [
       "118"
      ],
      "text/plain": [
       "[1] 118"
      ]
     },
     "metadata": {},
     "output_type": "display_data"
    }
   ],
   "source": [
    "ncol(mr2)"
   ]
  },
  {
   "cell_type": "code",
   "execution_count": 25,
   "id": "ec0e829d",
   "metadata": {
    "collapsed": true
   },
   "outputs": [
    {
     "name": "stdout",
     "output_type": "stream",
     "text": [
      "'data.frame':\t8124 obs. of  118 variables:\n",
      " $ V1          : Factor w/ 2 levels \"e\",\"p\": 2 1 1 2 1 1 1 1 2 1 ...\n",
      " $ mr[, i] == j: logi  FALSE FALSE TRUE FALSE FALSE FALSE ...\n",
      " $ mr[, i] == j: logi  FALSE FALSE FALSE FALSE FALSE FALSE ...\n",
      " $ mr[, i] == j: logi  FALSE FALSE FALSE FALSE FALSE FALSE ...\n",
      " $ mr[, i] == j: logi  FALSE FALSE FALSE FALSE FALSE FALSE ...\n",
      " $ mr[, i] == j: logi  FALSE FALSE FALSE FALSE FALSE FALSE ...\n",
      " $ mr[, i] == j: logi  TRUE TRUE FALSE TRUE TRUE TRUE ...\n",
      " $ mr[, i] == j: logi  FALSE FALSE FALSE FALSE FALSE FALSE ...\n",
      " $ mr[, i] == j: logi  FALSE FALSE FALSE FALSE FALSE FALSE ...\n",
      " $ mr[, i] == j: logi  TRUE TRUE TRUE FALSE TRUE FALSE ...\n",
      " $ mr[, i] == j: logi  FALSE FALSE FALSE TRUE FALSE TRUE ...\n",
      " $ mr[, i] == j: logi  FALSE FALSE FALSE FALSE FALSE FALSE ...\n",
      " $ mr[, i] == j: logi  FALSE FALSE FALSE FALSE FALSE FALSE ...\n",
      " $ mr[, i] == j: logi  FALSE FALSE FALSE FALSE FALSE FALSE ...\n",
      " $ mr[, i] == j: logi  FALSE FALSE FALSE FALSE TRUE FALSE ...\n",
      " $ mr[, i] == j: logi  TRUE FALSE FALSE FALSE FALSE FALSE ...\n",
      " $ mr[, i] == j: logi  FALSE FALSE FALSE FALSE FALSE FALSE ...\n",
      " $ mr[, i] == j: logi  FALSE FALSE FALSE FALSE FALSE FALSE ...\n",
      " $ mr[, i] == j: logi  FALSE FALSE FALSE FALSE FALSE FALSE ...\n",
      " $ mr[, i] == j: logi  FALSE FALSE TRUE TRUE FALSE FALSE ...\n",
      " $ mr[, i] == j: logi  FALSE TRUE FALSE FALSE FALSE TRUE ...\n",
      " $ mr[, i] == j: logi  FALSE FALSE FALSE FALSE TRUE FALSE ...\n",
      " $ mr[, i] == j: logi  TRUE TRUE TRUE TRUE FALSE TRUE ...\n",
      " $ mr[, i] == j: logi  FALSE TRUE FALSE FALSE FALSE TRUE ...\n",
      " $ mr[, i] == j: logi  FALSE FALSE FALSE FALSE FALSE FALSE ...\n",
      " $ mr[, i] == j: logi  FALSE FALSE FALSE FALSE FALSE FALSE ...\n",
      " $ mr[, i] == j: logi  FALSE FALSE TRUE FALSE FALSE FALSE ...\n",
      " $ mr[, i] == j: logi  FALSE FALSE FALSE FALSE FALSE FALSE ...\n",
      " $ mr[, i] == j: logi  FALSE FALSE FALSE FALSE TRUE FALSE ...\n",
      " $ mr[, i] == j: logi  TRUE FALSE FALSE TRUE FALSE FALSE ...\n",
      " $ mr[, i] == j: logi  FALSE FALSE FALSE FALSE FALSE FALSE ...\n",
      " $ mr[, i] == j: logi  FALSE FALSE FALSE FALSE FALSE FALSE ...\n",
      " $ mr[, i] == j: logi  FALSE FALSE FALSE FALSE FALSE FALSE ...\n",
      " $ mr[, i] == j: logi  TRUE TRUE TRUE TRUE TRUE TRUE ...\n",
      " $ mr[, i] == j: logi  TRUE TRUE TRUE TRUE FALSE TRUE ...\n",
      " $ mr[, i] == j: logi  FALSE FALSE FALSE FALSE TRUE FALSE ...\n",
      " $ mr[, i] == j: logi  FALSE TRUE TRUE FALSE TRUE TRUE ...\n",
      " $ mr[, i] == j: logi  TRUE FALSE FALSE TRUE FALSE FALSE ...\n",
      " $ mr[, i] == j: logi  FALSE FALSE FALSE FALSE FALSE FALSE ...\n",
      " $ mr[, i] == j: logi  FALSE FALSE FALSE FALSE FALSE FALSE ...\n",
      " $ mr[, i] == j: logi  FALSE FALSE FALSE FALSE FALSE FALSE ...\n",
      " $ mr[, i] == j: logi  FALSE FALSE FALSE FALSE FALSE FALSE ...\n",
      " $ mr[, i] == j: logi  TRUE TRUE FALSE FALSE TRUE FALSE ...\n",
      " $ mr[, i] == j: logi  FALSE FALSE TRUE TRUE FALSE TRUE ...\n",
      " $ mr[, i] == j: logi  FALSE FALSE FALSE FALSE FALSE FALSE ...\n",
      " $ mr[, i] == j: logi  FALSE FALSE FALSE FALSE FALSE FALSE ...\n",
      " $ mr[, i] == j: logi  FALSE FALSE FALSE FALSE FALSE FALSE ...\n",
      " $ mr[, i] == j: logi  FALSE FALSE FALSE FALSE FALSE FALSE ...\n",
      " $ mr[, i] == j: logi  FALSE FALSE FALSE FALSE FALSE FALSE ...\n",
      " $ mr[, i] == j: logi  FALSE FALSE FALSE FALSE FALSE FALSE ...\n",
      " $ mr[, i] == j: logi  TRUE TRUE TRUE TRUE FALSE TRUE ...\n",
      " $ mr[, i] == j: logi  FALSE FALSE FALSE FALSE TRUE FALSE ...\n",
      " $ mr[, i] == j: logi  FALSE FALSE FALSE FALSE FALSE FALSE ...\n",
      " $ mr[, i] == j: logi  FALSE FALSE FALSE FALSE FALSE FALSE ...\n",
      " $ mr[, i] == j: logi  FALSE TRUE TRUE FALSE FALSE TRUE ...\n",
      " $ mr[, i] == j: logi  TRUE FALSE FALSE TRUE TRUE FALSE ...\n",
      " $ mr[, i] == j: logi  FALSE FALSE FALSE FALSE FALSE FALSE ...\n",
      " $ mr[, i] == j: logi  FALSE FALSE FALSE FALSE FALSE FALSE ...\n",
      " $ mr[, i] == j: logi  FALSE FALSE FALSE FALSE FALSE FALSE ...\n",
      " $ mr[, i] == j: logi  TRUE TRUE TRUE TRUE TRUE TRUE ...\n",
      " $ mr[, i] == j: logi  FALSE FALSE FALSE FALSE FALSE FALSE ...\n",
      " $ mr[, i] == j: logi  FALSE FALSE FALSE FALSE FALSE FALSE ...\n",
      " $ mr[, i] == j: logi  FALSE FALSE FALSE FALSE FALSE FALSE ...\n",
      " $ mr[, i] == j: logi  TRUE TRUE TRUE TRUE TRUE TRUE ...\n",
      " $ mr[, i] == j: logi  FALSE FALSE FALSE FALSE FALSE FALSE ...\n",
      " $ mr[, i] == j: logi  FALSE FALSE FALSE FALSE FALSE FALSE ...\n",
      " $ mr[, i] == j: logi  FALSE FALSE FALSE FALSE FALSE FALSE ...\n",
      " $ mr[, i] == j: logi  FALSE FALSE FALSE FALSE FALSE FALSE ...\n",
      " $ mr[, i] == j: logi  FALSE FALSE FALSE FALSE FALSE FALSE ...\n",
      " $ mr[, i] == j: logi  FALSE FALSE FALSE FALSE FALSE FALSE ...\n",
      " $ mr[, i] == j: logi  FALSE FALSE FALSE FALSE FALSE FALSE ...\n",
      " $ mr[, i] == j: logi  FALSE FALSE FALSE FALSE FALSE FALSE ...\n",
      " $ mr[, i] == j: logi  TRUE TRUE TRUE TRUE TRUE TRUE ...\n",
      " $ mr[, i] == j: logi  FALSE FALSE FALSE FALSE FALSE FALSE ...\n",
      " $ mr[, i] == j: logi  FALSE FALSE FALSE FALSE FALSE FALSE ...\n",
      " $ mr[, i] == j: logi  FALSE FALSE FALSE FALSE FALSE FALSE ...\n",
      " $ mr[, i] == j: logi  FALSE FALSE FALSE FALSE FALSE FALSE ...\n",
      " $ mr[, i] == j: logi  FALSE FALSE FALSE FALSE FALSE FALSE ...\n",
      " $ mr[, i] == j: logi  FALSE FALSE FALSE FALSE FALSE FALSE ...\n",
      " $ mr[, i] == j: logi  FALSE FALSE FALSE FALSE FALSE FALSE ...\n",
      " $ mr[, i] == j: logi  FALSE FALSE FALSE FALSE FALSE FALSE ...\n",
      " $ mr[, i] == j: logi  TRUE TRUE TRUE TRUE TRUE TRUE ...\n",
      " $ mr[, i] == j: logi  FALSE FALSE FALSE FALSE FALSE FALSE ...\n",
      " $ mr[, i] == j: logi  TRUE TRUE TRUE TRUE TRUE TRUE ...\n",
      " $ mr[, i] == j: logi  FALSE FALSE FALSE FALSE FALSE FALSE ...\n",
      " $ mr[, i] == j: logi  FALSE FALSE FALSE FALSE FALSE FALSE ...\n",
      " $ mr[, i] == j: logi  TRUE TRUE TRUE TRUE TRUE TRUE ...\n",
      " $ mr[, i] == j: logi  FALSE FALSE FALSE FALSE FALSE FALSE ...\n",
      " $ mr[, i] == j: logi  FALSE FALSE FALSE FALSE FALSE FALSE ...\n",
      " $ mr[, i] == j: logi  TRUE TRUE TRUE TRUE TRUE TRUE ...\n",
      " $ mr[, i] == j: logi  FALSE FALSE FALSE FALSE FALSE FALSE ...\n",
      " $ mr[, i] == j: logi  FALSE FALSE FALSE FALSE TRUE FALSE ...\n",
      " $ mr[, i] == j: logi  FALSE FALSE FALSE FALSE FALSE FALSE ...\n",
      " $ mr[, i] == j: logi  FALSE FALSE FALSE FALSE FALSE FALSE ...\n",
      " $ mr[, i] == j: logi  FALSE FALSE FALSE FALSE FALSE FALSE ...\n",
      " $ mr[, i] == j: logi  TRUE TRUE TRUE TRUE FALSE TRUE ...\n",
      " $ mr[, i] == j: logi  FALSE FALSE FALSE FALSE FALSE FALSE ...\n",
      " $ mr[, i] == j: logi  FALSE FALSE FALSE FALSE FALSE FALSE ...\n",
      " $ mr[, i] == j: logi  TRUE FALSE FALSE TRUE FALSE TRUE ...\n",
      "  [list output truncated]\n"
     ]
    }
   ],
   "source": [
    "str(mr2)"
   ]
  },
  {
   "cell_type": "code",
   "execution_count": 27,
   "id": "e2803e07",
   "metadata": {},
   "outputs": [
    {
     "name": "stdout",
     "output_type": "stream",
     "text": [
      "'data.frame':\t8124 obs. of  19 variables:\n",
      " $ mr[, i] == j   : logi  FALSE TRUE TRUE FALSE TRUE FALSE ...\n",
      " $ mr[, i] == j.1 : logi  FALSE FALSE FALSE FALSE FALSE FALSE ...\n",
      " $ mr[, i] == j.2 : logi  FALSE FALSE FALSE FALSE FALSE FALSE ...\n",
      " $ mr[, i] == j.3 : logi  FALSE FALSE FALSE FALSE FALSE FALSE ...\n",
      " $ mr[, i] == j.4 : logi  FALSE FALSE FALSE FALSE FALSE FALSE ...\n",
      " $ mr[, i] == j.5 : logi  FALSE FALSE FALSE FALSE FALSE FALSE ...\n",
      " $ mr[, i] == j.6 : logi  FALSE FALSE FALSE FALSE TRUE FALSE ...\n",
      " $ mr[, i] == j.7 : logi  FALSE FALSE FALSE FALSE FALSE FALSE ...\n",
      " $ mr[, i] == j.8 : logi  FALSE TRUE TRUE FALSE FALSE TRUE ...\n",
      " $ mr[, i] == j.9 : logi  TRUE FALSE FALSE TRUE FALSE FALSE ...\n",
      " $ mr[, i] == j.10: logi  FALSE FALSE FALSE FALSE FALSE FALSE ...\n",
      " $ mr[, i] == j.11: logi  FALSE FALSE FALSE FALSE FALSE FALSE ...\n",
      " $ mr[, i] == j.12: logi  FALSE FALSE FALSE FALSE FALSE FALSE ...\n",
      " $ mr[, i] == j.13: logi  FALSE TRUE FALSE FALSE TRUE TRUE ...\n",
      " $ mr[, i] == j.14: logi  FALSE FALSE FALSE FALSE FALSE FALSE ...\n",
      " $ mr[, i] == j.15: logi  FALSE FALSE TRUE FALSE FALSE FALSE ...\n",
      " $ mr[, i] == j.16: logi  FALSE FALSE FALSE FALSE FALSE FALSE ...\n",
      " $ mr[, i] == j.17: logi  TRUE FALSE FALSE TRUE FALSE FALSE ...\n",
      " $ mr[, i] == j.18: logi  FALSE FALSE FALSE FALSE FALSE FALSE ...\n"
     ]
    }
   ],
   "source": [
    "# 컬럼 개수가 많아서 structure를 다 못보는 경우\n",
    "# 100번부터 끝까지 보기\n",
    "str(mr2[,100:ncol(mr2)])"
   ]
  },
  {
   "cell_type": "code",
   "execution_count": 28,
   "id": "3d6383cb",
   "metadata": {
    "collapsed": true
   },
   "outputs": [
    {
     "name": "stderr",
     "output_type": "stream",
     "text": [
      "\n",
      "Attaching package: ‘dplyr’\n",
      "\n",
      "The following objects are masked from ‘package:stats’:\n",
      "\n",
      "    filter, lag\n",
      "\n",
      "The following objects are masked from ‘package:base’:\n",
      "\n",
      "    intersect, setdiff, setequal, union\n",
      "\n"
     ]
    }
   ],
   "source": [
    "# 정렬\n",
    "library(dplyr)"
   ]
  },
  {
   "cell_type": "code",
   "execution_count": 29,
   "id": "c823d967",
   "metadata": {},
   "outputs": [
    {
     "ename": "ERROR",
     "evalue": "Column names `mr[, i] == j`, `mr[, i] == j`, `mr[, i] == j`, `mr[, i] == j`, `mr[, i] == j`, … (and 111 more) must not be duplicated.\nUse .name_repair to specify repair.",
     "output_type": "error",
     "traceback": [
      "Column names `mr[, i] == j`, `mr[, i] == j`, `mr[, i] == j`, `mr[, i] == j`, `mr[, i] == j`, … (and 111 more) must not be duplicated.\nUse .name_repair to specify repair.Traceback:\n",
      "1. arrange(mr2, desc(V1))",
      "2. arrange.data.frame(mr2, desc(V1))",
      "3. as.data.frame(arrange(tbl_df(.data), ..., .by_group = .by_group))",
      "4. arrange(tbl_df(.data), ..., .by_group = .by_group)",
      "5. tbl_df(.data)",
      "6. as_tibble(data, .name_repair = \"check_unique\")",
      "7. as_tibble.data.frame(data, .name_repair = \"check_unique\")",
      "8. as_tibble.list(unclass(x), ..., .rows = .rows, .name_repair = .name_repair)",
      "9. lst_to_tibble(x, .rows, .name_repair, col_lengths(x))",
      "10. set_repaired_names(x, .name_repair)",
      "11. set_names(x, repaired_names(names(x), .name_repair = .name_repair))",
      "12. set_names_impl(x, x, nm, ...)",
      "13. is_function(nm)",
      "14. is_closure(x)",
      "15. repaired_names(names(x), .name_repair = .name_repair)",
      "16. check_unique(new_name)",
      "17. abort(error_column_names_must_be_unique(name[dups]))"
     ]
    }
   ],
   "source": [
    "arrange(mr2, desc(V1))"
   ]
  },
  {
   "cell_type": "code",
   "execution_count": 31,
   "id": "fbbf5113",
   "metadata": {},
   "outputs": [
    {
     "data": {
      "text/html": [
       "<table>\n",
       "<thead><tr><th scope=col>V1</th><th scope=col>V2</th><th scope=col>V3</th><th scope=col>V4</th><th scope=col>V5</th><th scope=col>V6</th><th scope=col>V7</th><th scope=col>V8</th><th scope=col>V9</th><th scope=col>V10</th><th scope=col>...</th><th scope=col>V109</th><th scope=col>V110</th><th scope=col>V111</th><th scope=col>V112</th><th scope=col>V113</th><th scope=col>V114</th><th scope=col>V115</th><th scope=col>V116</th><th scope=col>V117</th><th scope=col>V118</th></tr></thead>\n",
       "<tbody>\n",
       "\t<tr><td>p    </td><td>FALSE</td><td>FALSE</td><td>FALSE</td><td>FALSE</td><td>FALSE</td><td> TRUE</td><td>FALSE</td><td>FALSE</td><td> TRUE</td><td>...  </td><td> TRUE</td><td>FALSE</td><td>FALSE</td><td>FALSE</td><td>FALSE</td><td>FALSE</td><td>FALSE</td><td>FALSE</td><td> TRUE</td><td>FALSE</td></tr>\n",
       "\t<tr><td>e    </td><td>FALSE</td><td>FALSE</td><td>FALSE</td><td>FALSE</td><td>FALSE</td><td> TRUE</td><td>FALSE</td><td>FALSE</td><td> TRUE</td><td>...  </td><td>FALSE</td><td>FALSE</td><td>FALSE</td><td>FALSE</td><td> TRUE</td><td>FALSE</td><td>FALSE</td><td>FALSE</td><td>FALSE</td><td>FALSE</td></tr>\n",
       "\t<tr><td>e    </td><td> TRUE</td><td>FALSE</td><td>FALSE</td><td>FALSE</td><td>FALSE</td><td>FALSE</td><td>FALSE</td><td>FALSE</td><td> TRUE</td><td>...  </td><td>FALSE</td><td>FALSE</td><td>FALSE</td><td>FALSE</td><td>FALSE</td><td>FALSE</td><td> TRUE</td><td>FALSE</td><td>FALSE</td><td>FALSE</td></tr>\n",
       "\t<tr><td>p    </td><td>FALSE</td><td>FALSE</td><td>FALSE</td><td>FALSE</td><td>FALSE</td><td> TRUE</td><td>FALSE</td><td>FALSE</td><td>FALSE</td><td>...  </td><td> TRUE</td><td>FALSE</td><td>FALSE</td><td>FALSE</td><td>FALSE</td><td>FALSE</td><td>FALSE</td><td>FALSE</td><td> TRUE</td><td>FALSE</td></tr>\n",
       "\t<tr><td>e    </td><td>FALSE</td><td>FALSE</td><td>FALSE</td><td>FALSE</td><td>FALSE</td><td> TRUE</td><td>FALSE</td><td>FALSE</td><td> TRUE</td><td>...  </td><td>FALSE</td><td>FALSE</td><td>FALSE</td><td>FALSE</td><td> TRUE</td><td>FALSE</td><td>FALSE</td><td>FALSE</td><td>FALSE</td><td>FALSE</td></tr>\n",
       "\t<tr><td>e    </td><td>FALSE</td><td>FALSE</td><td>FALSE</td><td>FALSE</td><td>FALSE</td><td> TRUE</td><td>FALSE</td><td>FALSE</td><td>FALSE</td><td>...  </td><td>FALSE</td><td>FALSE</td><td>FALSE</td><td>FALSE</td><td> TRUE</td><td>FALSE</td><td>FALSE</td><td>FALSE</td><td>FALSE</td><td>FALSE</td></tr>\n",
       "</tbody>\n",
       "</table>\n"
      ],
      "text/latex": [
       "\\begin{tabular}{r|llllllllllllllllllllllllllllllllllllllllllllllllllllllllllllllllllllllllllllllllllllllllllllllllllllllllllllllllllllll}\n",
       " V1 & V2 & V3 & V4 & V5 & V6 & V7 & V8 & V9 & V10 & ... & V109 & V110 & V111 & V112 & V113 & V114 & V115 & V116 & V117 & V118\\\\\n",
       "\\hline\n",
       "\t p     & FALSE & FALSE & FALSE & FALSE & FALSE &  TRUE & FALSE & FALSE &  TRUE & ...   &  TRUE & FALSE & FALSE & FALSE & FALSE & FALSE & FALSE & FALSE &  TRUE & FALSE\\\\\n",
       "\t e     & FALSE & FALSE & FALSE & FALSE & FALSE &  TRUE & FALSE & FALSE &  TRUE & ...   & FALSE & FALSE & FALSE & FALSE &  TRUE & FALSE & FALSE & FALSE & FALSE & FALSE\\\\\n",
       "\t e     &  TRUE & FALSE & FALSE & FALSE & FALSE & FALSE & FALSE & FALSE &  TRUE & ...   & FALSE & FALSE & FALSE & FALSE & FALSE & FALSE &  TRUE & FALSE & FALSE & FALSE\\\\\n",
       "\t p     & FALSE & FALSE & FALSE & FALSE & FALSE &  TRUE & FALSE & FALSE & FALSE & ...   &  TRUE & FALSE & FALSE & FALSE & FALSE & FALSE & FALSE & FALSE &  TRUE & FALSE\\\\\n",
       "\t e     & FALSE & FALSE & FALSE & FALSE & FALSE &  TRUE & FALSE & FALSE &  TRUE & ...   & FALSE & FALSE & FALSE & FALSE &  TRUE & FALSE & FALSE & FALSE & FALSE & FALSE\\\\\n",
       "\t e     & FALSE & FALSE & FALSE & FALSE & FALSE &  TRUE & FALSE & FALSE & FALSE & ...   & FALSE & FALSE & FALSE & FALSE &  TRUE & FALSE & FALSE & FALSE & FALSE & FALSE\\\\\n",
       "\\end{tabular}\n"
      ],
      "text/markdown": [
       "\n",
       "| V1 | V2 | V3 | V4 | V5 | V6 | V7 | V8 | V9 | V10 | ... | V109 | V110 | V111 | V112 | V113 | V114 | V115 | V116 | V117 | V118 |\n",
       "|---|---|---|---|---|---|---|---|---|---|---|---|---|---|---|---|---|---|---|---|---|\n",
       "| p     | FALSE | FALSE | FALSE | FALSE | FALSE |  TRUE | FALSE | FALSE |  TRUE | ...   |  TRUE | FALSE | FALSE | FALSE | FALSE | FALSE | FALSE | FALSE |  TRUE | FALSE |\n",
       "| e     | FALSE | FALSE | FALSE | FALSE | FALSE |  TRUE | FALSE | FALSE |  TRUE | ...   | FALSE | FALSE | FALSE | FALSE |  TRUE | FALSE | FALSE | FALSE | FALSE | FALSE |\n",
       "| e     |  TRUE | FALSE | FALSE | FALSE | FALSE | FALSE | FALSE | FALSE |  TRUE | ...   | FALSE | FALSE | FALSE | FALSE | FALSE | FALSE |  TRUE | FALSE | FALSE | FALSE |\n",
       "| p     | FALSE | FALSE | FALSE | FALSE | FALSE |  TRUE | FALSE | FALSE | FALSE | ...   |  TRUE | FALSE | FALSE | FALSE | FALSE | FALSE | FALSE | FALSE |  TRUE | FALSE |\n",
       "| e     | FALSE | FALSE | FALSE | FALSE | FALSE |  TRUE | FALSE | FALSE |  TRUE | ...   | FALSE | FALSE | FALSE | FALSE |  TRUE | FALSE | FALSE | FALSE | FALSE | FALSE |\n",
       "| e     | FALSE | FALSE | FALSE | FALSE | FALSE |  TRUE | FALSE | FALSE | FALSE | ...   | FALSE | FALSE | FALSE | FALSE |  TRUE | FALSE | FALSE | FALSE | FALSE | FALSE |\n",
       "\n"
      ],
      "text/plain": [
       "  V1 V2    V3    V4    V5    V6    V7    V8    V9    V10   ... V109  V110 \n",
       "1 p  FALSE FALSE FALSE FALSE FALSE  TRUE FALSE FALSE  TRUE ...  TRUE FALSE\n",
       "2 e  FALSE FALSE FALSE FALSE FALSE  TRUE FALSE FALSE  TRUE ... FALSE FALSE\n",
       "3 e   TRUE FALSE FALSE FALSE FALSE FALSE FALSE FALSE  TRUE ... FALSE FALSE\n",
       "4 p  FALSE FALSE FALSE FALSE FALSE  TRUE FALSE FALSE FALSE ...  TRUE FALSE\n",
       "5 e  FALSE FALSE FALSE FALSE FALSE  TRUE FALSE FALSE  TRUE ... FALSE FALSE\n",
       "6 e  FALSE FALSE FALSE FALSE FALSE  TRUE FALSE FALSE FALSE ... FALSE FALSE\n",
       "  V111  V112  V113  V114  V115  V116  V117  V118 \n",
       "1 FALSE FALSE FALSE FALSE FALSE FALSE  TRUE FALSE\n",
       "2 FALSE FALSE  TRUE FALSE FALSE FALSE FALSE FALSE\n",
       "3 FALSE FALSE FALSE FALSE  TRUE FALSE FALSE FALSE\n",
       "4 FALSE FALSE FALSE FALSE FALSE FALSE  TRUE FALSE\n",
       "5 FALSE FALSE  TRUE FALSE FALSE FALSE FALSE FALSE\n",
       "6 FALSE FALSE  TRUE FALSE FALSE FALSE FALSE FALSE"
      ]
     },
     "metadata": {},
     "output_type": "display_data"
    }
   ],
   "source": [
    "# 정렬하려고 하면 column name 때문에 정렬이 안됨\n",
    "colnames(mr2) <- paste(\"V\",1:118,sep=\"\")\n",
    "head(mr2)"
   ]
  },
  {
   "cell_type": "code",
   "execution_count": 33,
   "id": "6c9a8901",
   "metadata": {},
   "outputs": [],
   "source": [
    "# 위처럼 하면 분석할 때 원래 column 파악이 어려움"
   ]
  },
  {
   "cell_type": "code",
   "execution_count": 32,
   "id": "a9c93250",
   "metadata": {
    "collapsed": true
   },
   "outputs": [
    {
     "data": {
      "text/html": [
       "<table>\n",
       "<thead><tr><th scope=col>V1</th><th scope=col>V2</th><th scope=col>V3</th><th scope=col>V4</th><th scope=col>V5</th><th scope=col>V6</th><th scope=col>V7</th><th scope=col>V8</th><th scope=col>V9</th><th scope=col>V10</th><th scope=col>...</th><th scope=col>V109</th><th scope=col>V110</th><th scope=col>V111</th><th scope=col>V112</th><th scope=col>V113</th><th scope=col>V114</th><th scope=col>V115</th><th scope=col>V116</th><th scope=col>V117</th><th scope=col>V118</th></tr></thead>\n",
       "<tbody>\n",
       "\t<tr><td>p    </td><td>FALSE</td><td>FALSE</td><td>FALSE</td><td>FALSE</td><td>FALSE</td><td> TRUE</td><td>FALSE</td><td>FALSE</td><td> TRUE</td><td>...  </td><td> TRUE</td><td>FALSE</td><td>FALSE</td><td>FALSE</td><td>FALSE</td><td>FALSE</td><td>FALSE</td><td>FALSE</td><td> TRUE</td><td>FALSE</td></tr>\n",
       "\t<tr><td>p    </td><td>FALSE</td><td>FALSE</td><td>FALSE</td><td>FALSE</td><td>FALSE</td><td> TRUE</td><td>FALSE</td><td>FALSE</td><td>FALSE</td><td>...  </td><td> TRUE</td><td>FALSE</td><td>FALSE</td><td>FALSE</td><td>FALSE</td><td>FALSE</td><td>FALSE</td><td>FALSE</td><td> TRUE</td><td>FALSE</td></tr>\n",
       "\t<tr><td>p    </td><td>FALSE</td><td>FALSE</td><td>FALSE</td><td>FALSE</td><td>FALSE</td><td> TRUE</td><td>FALSE</td><td>FALSE</td><td>FALSE</td><td>...  </td><td>FALSE</td><td> TRUE</td><td>FALSE</td><td>FALSE</td><td> TRUE</td><td>FALSE</td><td>FALSE</td><td>FALSE</td><td>FALSE</td><td>FALSE</td></tr>\n",
       "\t<tr><td>p    </td><td>FALSE</td><td>FALSE</td><td>FALSE</td><td>FALSE</td><td>FALSE</td><td> TRUE</td><td>FALSE</td><td>FALSE</td><td>FALSE</td><td>...  </td><td>FALSE</td><td> TRUE</td><td>FALSE</td><td>FALSE</td><td>FALSE</td><td>FALSE</td><td>FALSE</td><td>FALSE</td><td> TRUE</td><td>FALSE</td></tr>\n",
       "\t<tr><td>p    </td><td>FALSE</td><td>FALSE</td><td>FALSE</td><td>FALSE</td><td>FALSE</td><td> TRUE</td><td>FALSE</td><td>FALSE</td><td> TRUE</td><td>...  </td><td> TRUE</td><td>FALSE</td><td>FALSE</td><td>FALSE</td><td> TRUE</td><td>FALSE</td><td>FALSE</td><td>FALSE</td><td>FALSE</td><td>FALSE</td></tr>\n",
       "\t<tr><td>p    </td><td>FALSE</td><td>FALSE</td><td>FALSE</td><td>FALSE</td><td>FALSE</td><td> TRUE</td><td>FALSE</td><td>FALSE</td><td>FALSE</td><td>...  </td><td> TRUE</td><td>FALSE</td><td>FALSE</td><td>FALSE</td><td>FALSE</td><td>FALSE</td><td>FALSE</td><td>FALSE</td><td> TRUE</td><td>FALSE</td></tr>\n",
       "\t<tr><td>p    </td><td>FALSE</td><td>FALSE</td><td>FALSE</td><td>FALSE</td><td>FALSE</td><td> TRUE</td><td>FALSE</td><td>FALSE</td><td> TRUE</td><td>...  </td><td> TRUE</td><td>FALSE</td><td>FALSE</td><td>FALSE</td><td>FALSE</td><td>FALSE</td><td>FALSE</td><td>FALSE</td><td> TRUE</td><td>FALSE</td></tr>\n",
       "\t<tr><td>p    </td><td>FALSE</td><td>FALSE</td><td>FALSE</td><td>FALSE</td><td>FALSE</td><td> TRUE</td><td>FALSE</td><td>FALSE</td><td>FALSE</td><td>...  </td><td>FALSE</td><td> TRUE</td><td>FALSE</td><td>FALSE</td><td> TRUE</td><td>FALSE</td><td>FALSE</td><td>FALSE</td><td>FALSE</td><td>FALSE</td></tr>\n",
       "\t<tr><td>p    </td><td>FALSE</td><td>FALSE</td><td> TRUE</td><td>FALSE</td><td>FALSE</td><td>FALSE</td><td>FALSE</td><td>FALSE</td><td> TRUE</td><td>...  </td><td>FALSE</td><td> TRUE</td><td>FALSE</td><td>FALSE</td><td> TRUE</td><td>FALSE</td><td>FALSE</td><td>FALSE</td><td>FALSE</td><td>FALSE</td></tr>\n",
       "\t<tr><td>p    </td><td>FALSE</td><td>FALSE</td><td>FALSE</td><td>FALSE</td><td>FALSE</td><td> TRUE</td><td>FALSE</td><td>FALSE</td><td>FALSE</td><td>...  </td><td> TRUE</td><td>FALSE</td><td>FALSE</td><td>FALSE</td><td>FALSE</td><td>FALSE</td><td>FALSE</td><td>FALSE</td><td> TRUE</td><td>FALSE</td></tr>\n",
       "\t<tr><td>p    </td><td>FALSE</td><td>FALSE</td><td>FALSE</td><td>FALSE</td><td>FALSE</td><td> TRUE</td><td>FALSE</td><td>FALSE</td><td>FALSE</td><td>...  </td><td> TRUE</td><td>FALSE</td><td>FALSE</td><td>FALSE</td><td>FALSE</td><td>FALSE</td><td>FALSE</td><td>FALSE</td><td> TRUE</td><td>FALSE</td></tr>\n",
       "\t<tr><td>p    </td><td>FALSE</td><td>FALSE</td><td>FALSE</td><td>FALSE</td><td>FALSE</td><td> TRUE</td><td>FALSE</td><td>FALSE</td><td>FALSE</td><td>...  </td><td>FALSE</td><td> TRUE</td><td>FALSE</td><td>FALSE</td><td> TRUE</td><td>FALSE</td><td>FALSE</td><td>FALSE</td><td>FALSE</td><td>FALSE</td></tr>\n",
       "\t<tr><td>p    </td><td>FALSE</td><td>FALSE</td><td>FALSE</td><td>FALSE</td><td>FALSE</td><td> TRUE</td><td>FALSE</td><td>FALSE</td><td>FALSE</td><td>...  </td><td>FALSE</td><td> TRUE</td><td>FALSE</td><td>FALSE</td><td>FALSE</td><td>FALSE</td><td>FALSE</td><td>FALSE</td><td> TRUE</td><td>FALSE</td></tr>\n",
       "\t<tr><td>p    </td><td>FALSE</td><td>FALSE</td><td>FALSE</td><td>FALSE</td><td>FALSE</td><td> TRUE</td><td>FALSE</td><td>FALSE</td><td> TRUE</td><td>...  </td><td>FALSE</td><td> TRUE</td><td>FALSE</td><td>FALSE</td><td>FALSE</td><td>FALSE</td><td>FALSE</td><td>FALSE</td><td> TRUE</td><td>FALSE</td></tr>\n",
       "\t<tr><td>p    </td><td>FALSE</td><td>FALSE</td><td>FALSE</td><td>FALSE</td><td>FALSE</td><td> TRUE</td><td>FALSE</td><td>FALSE</td><td>FALSE</td><td>...  </td><td>FALSE</td><td> TRUE</td><td>FALSE</td><td>FALSE</td><td>FALSE</td><td>FALSE</td><td>FALSE</td><td>FALSE</td><td> TRUE</td><td>FALSE</td></tr>\n",
       "\t<tr><td>p    </td><td>FALSE</td><td>FALSE</td><td>FALSE</td><td>FALSE</td><td>FALSE</td><td> TRUE</td><td>FALSE</td><td>FALSE</td><td>FALSE</td><td>...  </td><td> TRUE</td><td>FALSE</td><td>FALSE</td><td>FALSE</td><td> TRUE</td><td>FALSE</td><td>FALSE</td><td>FALSE</td><td>FALSE</td><td>FALSE</td></tr>\n",
       "\t<tr><td>p    </td><td>FALSE</td><td>FALSE</td><td>FALSE</td><td>FALSE</td><td>FALSE</td><td> TRUE</td><td>FALSE</td><td>FALSE</td><td>FALSE</td><td>...  </td><td>FALSE</td><td> TRUE</td><td>FALSE</td><td>FALSE</td><td>FALSE</td><td>FALSE</td><td>FALSE</td><td>FALSE</td><td> TRUE</td><td>FALSE</td></tr>\n",
       "\t<tr><td>p    </td><td>FALSE</td><td>FALSE</td><td>FALSE</td><td>FALSE</td><td>FALSE</td><td> TRUE</td><td>FALSE</td><td>FALSE</td><td> TRUE</td><td>...  </td><td>FALSE</td><td> TRUE</td><td>FALSE</td><td>FALSE</td><td> TRUE</td><td>FALSE</td><td>FALSE</td><td>FALSE</td><td>FALSE</td><td>FALSE</td></tr>\n",
       "\t<tr><td>p    </td><td>FALSE</td><td>FALSE</td><td> TRUE</td><td>FALSE</td><td>FALSE</td><td>FALSE</td><td>FALSE</td><td>FALSE</td><td>FALSE</td><td>...  </td><td>FALSE</td><td> TRUE</td><td>FALSE</td><td>FALSE</td><td> TRUE</td><td>FALSE</td><td>FALSE</td><td>FALSE</td><td>FALSE</td><td>FALSE</td></tr>\n",
       "\t<tr><td>p    </td><td>FALSE</td><td>FALSE</td><td>FALSE</td><td>FALSE</td><td>FALSE</td><td> TRUE</td><td>FALSE</td><td>FALSE</td><td>FALSE</td><td>...  </td><td>FALSE</td><td> TRUE</td><td>FALSE</td><td>FALSE</td><td>FALSE</td><td>FALSE</td><td>FALSE</td><td>FALSE</td><td> TRUE</td><td>FALSE</td></tr>\n",
       "\t<tr><td>p    </td><td>FALSE</td><td>FALSE</td><td>FALSE</td><td>FALSE</td><td>FALSE</td><td> TRUE</td><td>FALSE</td><td>FALSE</td><td> TRUE</td><td>...  </td><td>FALSE</td><td> TRUE</td><td>FALSE</td><td>FALSE</td><td> TRUE</td><td>FALSE</td><td>FALSE</td><td>FALSE</td><td>FALSE</td><td>FALSE</td></tr>\n",
       "\t<tr><td>p    </td><td>FALSE</td><td>FALSE</td><td>FALSE</td><td>FALSE</td><td>FALSE</td><td> TRUE</td><td>FALSE</td><td>FALSE</td><td>FALSE</td><td>...  </td><td>FALSE</td><td> TRUE</td><td>FALSE</td><td>FALSE</td><td>FALSE</td><td>FALSE</td><td>FALSE</td><td>FALSE</td><td> TRUE</td><td>FALSE</td></tr>\n",
       "\t<tr><td>p    </td><td>FALSE</td><td>FALSE</td><td>FALSE</td><td>FALSE</td><td>FALSE</td><td> TRUE</td><td>FALSE</td><td>FALSE</td><td>FALSE</td><td>...  </td><td> TRUE</td><td>FALSE</td><td>FALSE</td><td>FALSE</td><td> TRUE</td><td>FALSE</td><td>FALSE</td><td>FALSE</td><td>FALSE</td><td>FALSE</td></tr>\n",
       "\t<tr><td>p    </td><td>FALSE</td><td>FALSE</td><td>FALSE</td><td>FALSE</td><td>FALSE</td><td> TRUE</td><td>FALSE</td><td>FALSE</td><td> TRUE</td><td>...  </td><td>FALSE</td><td> TRUE</td><td>FALSE</td><td>FALSE</td><td>FALSE</td><td>FALSE</td><td>FALSE</td><td>FALSE</td><td> TRUE</td><td>FALSE</td></tr>\n",
       "\t<tr><td>p    </td><td>FALSE</td><td>FALSE</td><td>FALSE</td><td>FALSE</td><td>FALSE</td><td> TRUE</td><td>FALSE</td><td>FALSE</td><td> TRUE</td><td>...  </td><td> TRUE</td><td>FALSE</td><td>FALSE</td><td>FALSE</td><td> TRUE</td><td>FALSE</td><td>FALSE</td><td>FALSE</td><td>FALSE</td><td>FALSE</td></tr>\n",
       "\t<tr><td>p    </td><td>FALSE</td><td>FALSE</td><td>FALSE</td><td>FALSE</td><td>FALSE</td><td> TRUE</td><td>FALSE</td><td>FALSE</td><td>FALSE</td><td>...  </td><td>FALSE</td><td> TRUE</td><td>FALSE</td><td>FALSE</td><td>FALSE</td><td>FALSE</td><td>FALSE</td><td>FALSE</td><td> TRUE</td><td>FALSE</td></tr>\n",
       "\t<tr><td>p    </td><td>FALSE</td><td>FALSE</td><td>FALSE</td><td>FALSE</td><td>FALSE</td><td> TRUE</td><td>FALSE</td><td>FALSE</td><td>FALSE</td><td>...  </td><td> TRUE</td><td>FALSE</td><td>FALSE</td><td>FALSE</td><td>FALSE</td><td>FALSE</td><td>FALSE</td><td>FALSE</td><td> TRUE</td><td>FALSE</td></tr>\n",
       "\t<tr><td>p    </td><td>FALSE</td><td>FALSE</td><td>FALSE</td><td>FALSE</td><td>FALSE</td><td> TRUE</td><td>FALSE</td><td>FALSE</td><td> TRUE</td><td>...  </td><td>FALSE</td><td> TRUE</td><td>FALSE</td><td>FALSE</td><td>FALSE</td><td>FALSE</td><td>FALSE</td><td>FALSE</td><td> TRUE</td><td>FALSE</td></tr>\n",
       "\t<tr><td>p    </td><td>FALSE</td><td>FALSE</td><td>FALSE</td><td>FALSE</td><td>FALSE</td><td> TRUE</td><td>FALSE</td><td>FALSE</td><td> TRUE</td><td>...  </td><td> TRUE</td><td>FALSE</td><td>FALSE</td><td>FALSE</td><td> TRUE</td><td>FALSE</td><td>FALSE</td><td>FALSE</td><td>FALSE</td><td>FALSE</td></tr>\n",
       "\t<tr><td>p    </td><td>FALSE</td><td>FALSE</td><td>FALSE</td><td>FALSE</td><td>FALSE</td><td> TRUE</td><td>FALSE</td><td>FALSE</td><td>FALSE</td><td>...  </td><td>FALSE</td><td> TRUE</td><td>FALSE</td><td>FALSE</td><td> TRUE</td><td>FALSE</td><td>FALSE</td><td>FALSE</td><td>FALSE</td><td>FALSE</td></tr>\n",
       "\t<tr><td>...</td><td>...</td><td>...</td><td>...</td><td>...</td><td>...</td><td>...</td><td>...</td><td>...</td><td>...</td><td>   </td><td>...</td><td>...</td><td>...</td><td>...</td><td>...</td><td>...</td><td>...</td><td>...</td><td>...</td><td>...</td></tr>\n",
       "\t<tr><td>e    </td><td>FALSE</td><td>FALSE</td><td>FALSE</td><td> TRUE</td><td>FALSE</td><td>FALSE</td><td>FALSE</td><td>FALSE</td><td> TRUE</td><td>...  </td><td>FALSE</td><td> TRUE</td><td>FALSE</td><td>FALSE</td><td>FALSE</td><td> TRUE</td><td>FALSE</td><td>FALSE</td><td>FALSE</td><td>FALSE</td></tr>\n",
       "\t<tr><td>e    </td><td>FALSE</td><td>FALSE</td><td>FALSE</td><td> TRUE</td><td>FALSE</td><td>FALSE</td><td>FALSE</td><td>FALSE</td><td> TRUE</td><td>...  </td><td>FALSE</td><td> TRUE</td><td>FALSE</td><td>FALSE</td><td>FALSE</td><td> TRUE</td><td>FALSE</td><td>FALSE</td><td>FALSE</td><td>FALSE</td></tr>\n",
       "\t<tr><td>e    </td><td> TRUE</td><td>FALSE</td><td>FALSE</td><td>FALSE</td><td>FALSE</td><td>FALSE</td><td> TRUE</td><td>FALSE</td><td>FALSE</td><td>...  </td><td>FALSE</td><td>FALSE</td><td>FALSE</td><td>FALSE</td><td> TRUE</td><td>FALSE</td><td>FALSE</td><td>FALSE</td><td>FALSE</td><td>FALSE</td></tr>\n",
       "\t<tr><td>e    </td><td>FALSE</td><td>FALSE</td><td> TRUE</td><td>FALSE</td><td>FALSE</td><td>FALSE</td><td>FALSE</td><td>FALSE</td><td> TRUE</td><td>...  </td><td>FALSE</td><td>FALSE</td><td>FALSE</td><td>FALSE</td><td>FALSE</td><td> TRUE</td><td>FALSE</td><td>FALSE</td><td>FALSE</td><td>FALSE</td></tr>\n",
       "\t<tr><td>e    </td><td> TRUE</td><td>FALSE</td><td>FALSE</td><td>FALSE</td><td>FALSE</td><td>FALSE</td><td>FALSE</td><td>FALSE</td><td> TRUE</td><td>...  </td><td>FALSE</td><td>FALSE</td><td>FALSE</td><td>FALSE</td><td>FALSE</td><td> TRUE</td><td>FALSE</td><td>FALSE</td><td>FALSE</td><td>FALSE</td></tr>\n",
       "\t<tr><td>e    </td><td>FALSE</td><td>FALSE</td><td> TRUE</td><td>FALSE</td><td>FALSE</td><td>FALSE</td><td>FALSE</td><td>FALSE</td><td> TRUE</td><td>...  </td><td>FALSE</td><td> TRUE</td><td>FALSE</td><td>FALSE</td><td>FALSE</td><td> TRUE</td><td>FALSE</td><td>FALSE</td><td>FALSE</td><td>FALSE</td></tr>\n",
       "\t<tr><td>e    </td><td> TRUE</td><td>FALSE</td><td>FALSE</td><td>FALSE</td><td>FALSE</td><td>FALSE</td><td> TRUE</td><td>FALSE</td><td>FALSE</td><td>...  </td><td> TRUE</td><td>FALSE</td><td>FALSE</td><td>FALSE</td><td> TRUE</td><td>FALSE</td><td>FALSE</td><td>FALSE</td><td>FALSE</td><td>FALSE</td></tr>\n",
       "\t<tr><td>e    </td><td> TRUE</td><td>FALSE</td><td>FALSE</td><td>FALSE</td><td>FALSE</td><td>FALSE</td><td> TRUE</td><td>FALSE</td><td>FALSE</td><td>...  </td><td> TRUE</td><td>FALSE</td><td>FALSE</td><td>FALSE</td><td> TRUE</td><td>FALSE</td><td>FALSE</td><td>FALSE</td><td>FALSE</td><td>FALSE</td></tr>\n",
       "\t<tr><td>e    </td><td>FALSE</td><td>FALSE</td><td>FALSE</td><td> TRUE</td><td>FALSE</td><td>FALSE</td><td> TRUE</td><td>FALSE</td><td>FALSE</td><td>...  </td><td> TRUE</td><td>FALSE</td><td>FALSE</td><td>FALSE</td><td> TRUE</td><td>FALSE</td><td>FALSE</td><td>FALSE</td><td>FALSE</td><td>FALSE</td></tr>\n",
       "\t<tr><td>e    </td><td>FALSE</td><td>FALSE</td><td>FALSE</td><td> TRUE</td><td>FALSE</td><td>FALSE</td><td>FALSE</td><td>FALSE</td><td> TRUE</td><td>...  </td><td>FALSE</td><td> TRUE</td><td>FALSE</td><td>FALSE</td><td>FALSE</td><td> TRUE</td><td>FALSE</td><td>FALSE</td><td>FALSE</td><td>FALSE</td></tr>\n",
       "\t<tr><td>e    </td><td>FALSE</td><td>FALSE</td><td>FALSE</td><td> TRUE</td><td>FALSE</td><td>FALSE</td><td>FALSE</td><td>FALSE</td><td> TRUE</td><td>...  </td><td>FALSE</td><td> TRUE</td><td>FALSE</td><td>FALSE</td><td>FALSE</td><td> TRUE</td><td>FALSE</td><td>FALSE</td><td>FALSE</td><td>FALSE</td></tr>\n",
       "\t<tr><td>e    </td><td> TRUE</td><td>FALSE</td><td>FALSE</td><td>FALSE</td><td>FALSE</td><td>FALSE</td><td>FALSE</td><td>FALSE</td><td> TRUE</td><td>...  </td><td>FALSE</td><td>FALSE</td><td>FALSE</td><td>FALSE</td><td> TRUE</td><td>FALSE</td><td>FALSE</td><td>FALSE</td><td>FALSE</td><td>FALSE</td></tr>\n",
       "\t<tr><td>e    </td><td>FALSE</td><td>FALSE</td><td>FALSE</td><td> TRUE</td><td>FALSE</td><td>FALSE</td><td> TRUE</td><td>FALSE</td><td>FALSE</td><td>...  </td><td>FALSE</td><td>FALSE</td><td>FALSE</td><td>FALSE</td><td> TRUE</td><td>FALSE</td><td>FALSE</td><td>FALSE</td><td>FALSE</td><td>FALSE</td></tr>\n",
       "\t<tr><td>e    </td><td>FALSE</td><td>FALSE</td><td>FALSE</td><td> TRUE</td><td>FALSE</td><td>FALSE</td><td> TRUE</td><td>FALSE</td><td>FALSE</td><td>...  </td><td> TRUE</td><td>FALSE</td><td>FALSE</td><td>FALSE</td><td> TRUE</td><td>FALSE</td><td>FALSE</td><td>FALSE</td><td>FALSE</td><td>FALSE</td></tr>\n",
       "\t<tr><td>e    </td><td>FALSE</td><td>FALSE</td><td> TRUE</td><td>FALSE</td><td>FALSE</td><td>FALSE</td><td>FALSE</td><td>FALSE</td><td> TRUE</td><td>...  </td><td>FALSE</td><td> TRUE</td><td>FALSE</td><td>FALSE</td><td>FALSE</td><td> TRUE</td><td>FALSE</td><td>FALSE</td><td>FALSE</td><td>FALSE</td></tr>\n",
       "\t<tr><td>e    </td><td>FALSE</td><td>FALSE</td><td>FALSE</td><td>FALSE</td><td>FALSE</td><td> TRUE</td><td>FALSE</td><td>FALSE</td><td> TRUE</td><td>...  </td><td>FALSE</td><td>FALSE</td><td>FALSE</td><td>FALSE</td><td>FALSE</td><td> TRUE</td><td>FALSE</td><td>FALSE</td><td>FALSE</td><td>FALSE</td></tr>\n",
       "\t<tr><td>e    </td><td>FALSE</td><td>FALSE</td><td>FALSE</td><td> TRUE</td><td>FALSE</td><td>FALSE</td><td>FALSE</td><td>FALSE</td><td> TRUE</td><td>...  </td><td>FALSE</td><td>FALSE</td><td>FALSE</td><td>FALSE</td><td>FALSE</td><td> TRUE</td><td>FALSE</td><td>FALSE</td><td>FALSE</td><td>FALSE</td></tr>\n",
       "\t<tr><td>e    </td><td>FALSE</td><td>FALSE</td><td>FALSE</td><td> TRUE</td><td>FALSE</td><td>FALSE</td><td>FALSE</td><td>FALSE</td><td> TRUE</td><td>...  </td><td>FALSE</td><td> TRUE</td><td>FALSE</td><td>FALSE</td><td>FALSE</td><td> TRUE</td><td>FALSE</td><td>FALSE</td><td>FALSE</td><td>FALSE</td></tr>\n",
       "\t<tr><td>e    </td><td>FALSE</td><td>FALSE</td><td>FALSE</td><td> TRUE</td><td>FALSE</td><td>FALSE</td><td>FALSE</td><td>FALSE</td><td> TRUE</td><td>...  </td><td>FALSE</td><td> TRUE</td><td>FALSE</td><td>FALSE</td><td>FALSE</td><td> TRUE</td><td>FALSE</td><td>FALSE</td><td>FALSE</td><td>FALSE</td></tr>\n",
       "\t<tr><td>e    </td><td>FALSE</td><td>FALSE</td><td>FALSE</td><td> TRUE</td><td>FALSE</td><td>FALSE</td><td>FALSE</td><td>FALSE</td><td> TRUE</td><td>...  </td><td>FALSE</td><td> TRUE</td><td>FALSE</td><td>FALSE</td><td>FALSE</td><td> TRUE</td><td>FALSE</td><td>FALSE</td><td>FALSE</td><td>FALSE</td></tr>\n",
       "\t<tr><td>e    </td><td>FALSE</td><td>FALSE</td><td>FALSE</td><td>FALSE</td><td>FALSE</td><td> TRUE</td><td>FALSE</td><td>FALSE</td><td> TRUE</td><td>...  </td><td>FALSE</td><td>FALSE</td><td>FALSE</td><td>FALSE</td><td>FALSE</td><td> TRUE</td><td>FALSE</td><td>FALSE</td><td>FALSE</td><td>FALSE</td></tr>\n",
       "\t<tr><td>e    </td><td> TRUE</td><td>FALSE</td><td>FALSE</td><td>FALSE</td><td>FALSE</td><td>FALSE</td><td>FALSE</td><td>FALSE</td><td> TRUE</td><td>...  </td><td>FALSE</td><td>FALSE</td><td>FALSE</td><td>FALSE</td><td> TRUE</td><td>FALSE</td><td>FALSE</td><td>FALSE</td><td>FALSE</td><td>FALSE</td></tr>\n",
       "\t<tr><td>e    </td><td>FALSE</td><td>FALSE</td><td>FALSE</td><td>FALSE</td><td>FALSE</td><td> TRUE</td><td>FALSE</td><td>FALSE</td><td> TRUE</td><td>...  </td><td>FALSE</td><td> TRUE</td><td>FALSE</td><td>FALSE</td><td>FALSE</td><td> TRUE</td><td>FALSE</td><td>FALSE</td><td>FALSE</td><td>FALSE</td></tr>\n",
       "\t<tr><td>e    </td><td>FALSE</td><td>FALSE</td><td>FALSE</td><td> TRUE</td><td>FALSE</td><td>FALSE</td><td>FALSE</td><td>FALSE</td><td> TRUE</td><td>...  </td><td>FALSE</td><td>FALSE</td><td>FALSE</td><td>FALSE</td><td> TRUE</td><td>FALSE</td><td>FALSE</td><td>FALSE</td><td>FALSE</td><td>FALSE</td></tr>\n",
       "\t<tr><td>e    </td><td>FALSE</td><td>FALSE</td><td>FALSE</td><td> TRUE</td><td>FALSE</td><td>FALSE</td><td>FALSE</td><td>FALSE</td><td> TRUE</td><td>...  </td><td>FALSE</td><td> TRUE</td><td>FALSE</td><td>FALSE</td><td>FALSE</td><td> TRUE</td><td>FALSE</td><td>FALSE</td><td>FALSE</td><td>FALSE</td></tr>\n",
       "\t<tr><td>e    </td><td>FALSE</td><td>FALSE</td><td>FALSE</td><td>FALSE</td><td>FALSE</td><td> TRUE</td><td>FALSE</td><td>FALSE</td><td> TRUE</td><td>...  </td><td>FALSE</td><td> TRUE</td><td>FALSE</td><td>FALSE</td><td>FALSE</td><td> TRUE</td><td>FALSE</td><td>FALSE</td><td>FALSE</td><td>FALSE</td></tr>\n",
       "\t<tr><td>e    </td><td>FALSE</td><td>FALSE</td><td>FALSE</td><td> TRUE</td><td>FALSE</td><td>FALSE</td><td>FALSE</td><td>FALSE</td><td> TRUE</td><td>...  </td><td>FALSE</td><td>FALSE</td><td>FALSE</td><td>FALSE</td><td>FALSE</td><td> TRUE</td><td>FALSE</td><td>FALSE</td><td>FALSE</td><td>FALSE</td></tr>\n",
       "\t<tr><td>e    </td><td>FALSE</td><td>FALSE</td><td>FALSE</td><td>FALSE</td><td>FALSE</td><td> TRUE</td><td>FALSE</td><td>FALSE</td><td> TRUE</td><td>...  </td><td>FALSE</td><td> TRUE</td><td>FALSE</td><td>FALSE</td><td>FALSE</td><td> TRUE</td><td>FALSE</td><td>FALSE</td><td>FALSE</td><td>FALSE</td></tr>\n",
       "\t<tr><td>e    </td><td>FALSE</td><td>FALSE</td><td> TRUE</td><td>FALSE</td><td>FALSE</td><td>FALSE</td><td>FALSE</td><td>FALSE</td><td> TRUE</td><td>...  </td><td>FALSE</td><td>FALSE</td><td>FALSE</td><td>FALSE</td><td>FALSE</td><td> TRUE</td><td>FALSE</td><td>FALSE</td><td>FALSE</td><td>FALSE</td></tr>\n",
       "\t<tr><td>e    </td><td>FALSE</td><td>FALSE</td><td>FALSE</td><td>FALSE</td><td>FALSE</td><td> TRUE</td><td>FALSE</td><td>FALSE</td><td> TRUE</td><td>...  </td><td>FALSE</td><td>FALSE</td><td>FALSE</td><td>FALSE</td><td>FALSE</td><td> TRUE</td><td>FALSE</td><td>FALSE</td><td>FALSE</td><td>FALSE</td></tr>\n",
       "</tbody>\n",
       "</table>\n"
      ],
      "text/latex": [
       "\\begin{tabular}{r|llllllllllllllllllllllllllllllllllllllllllllllllllllllllllllllllllllllllllllllllllllllllllllllllllllllllllllllllllllll}\n",
       " V1 & V2 & V3 & V4 & V5 & V6 & V7 & V8 & V9 & V10 & ... & V109 & V110 & V111 & V112 & V113 & V114 & V115 & V116 & V117 & V118\\\\\n",
       "\\hline\n",
       "\t p     & FALSE & FALSE & FALSE & FALSE & FALSE &  TRUE & FALSE & FALSE &  TRUE & ...   &  TRUE & FALSE & FALSE & FALSE & FALSE & FALSE & FALSE & FALSE &  TRUE & FALSE\\\\\n",
       "\t p     & FALSE & FALSE & FALSE & FALSE & FALSE &  TRUE & FALSE & FALSE & FALSE & ...   &  TRUE & FALSE & FALSE & FALSE & FALSE & FALSE & FALSE & FALSE &  TRUE & FALSE\\\\\n",
       "\t p     & FALSE & FALSE & FALSE & FALSE & FALSE &  TRUE & FALSE & FALSE & FALSE & ...   & FALSE &  TRUE & FALSE & FALSE &  TRUE & FALSE & FALSE & FALSE & FALSE & FALSE\\\\\n",
       "\t p     & FALSE & FALSE & FALSE & FALSE & FALSE &  TRUE & FALSE & FALSE & FALSE & ...   & FALSE &  TRUE & FALSE & FALSE & FALSE & FALSE & FALSE & FALSE &  TRUE & FALSE\\\\\n",
       "\t p     & FALSE & FALSE & FALSE & FALSE & FALSE &  TRUE & FALSE & FALSE &  TRUE & ...   &  TRUE & FALSE & FALSE & FALSE &  TRUE & FALSE & FALSE & FALSE & FALSE & FALSE\\\\\n",
       "\t p     & FALSE & FALSE & FALSE & FALSE & FALSE &  TRUE & FALSE & FALSE & FALSE & ...   &  TRUE & FALSE & FALSE & FALSE & FALSE & FALSE & FALSE & FALSE &  TRUE & FALSE\\\\\n",
       "\t p     & FALSE & FALSE & FALSE & FALSE & FALSE &  TRUE & FALSE & FALSE &  TRUE & ...   &  TRUE & FALSE & FALSE & FALSE & FALSE & FALSE & FALSE & FALSE &  TRUE & FALSE\\\\\n",
       "\t p     & FALSE & FALSE & FALSE & FALSE & FALSE &  TRUE & FALSE & FALSE & FALSE & ...   & FALSE &  TRUE & FALSE & FALSE &  TRUE & FALSE & FALSE & FALSE & FALSE & FALSE\\\\\n",
       "\t p     & FALSE & FALSE &  TRUE & FALSE & FALSE & FALSE & FALSE & FALSE &  TRUE & ...   & FALSE &  TRUE & FALSE & FALSE &  TRUE & FALSE & FALSE & FALSE & FALSE & FALSE\\\\\n",
       "\t p     & FALSE & FALSE & FALSE & FALSE & FALSE &  TRUE & FALSE & FALSE & FALSE & ...   &  TRUE & FALSE & FALSE & FALSE & FALSE & FALSE & FALSE & FALSE &  TRUE & FALSE\\\\\n",
       "\t p     & FALSE & FALSE & FALSE & FALSE & FALSE &  TRUE & FALSE & FALSE & FALSE & ...   &  TRUE & FALSE & FALSE & FALSE & FALSE & FALSE & FALSE & FALSE &  TRUE & FALSE\\\\\n",
       "\t p     & FALSE & FALSE & FALSE & FALSE & FALSE &  TRUE & FALSE & FALSE & FALSE & ...   & FALSE &  TRUE & FALSE & FALSE &  TRUE & FALSE & FALSE & FALSE & FALSE & FALSE\\\\\n",
       "\t p     & FALSE & FALSE & FALSE & FALSE & FALSE &  TRUE & FALSE & FALSE & FALSE & ...   & FALSE &  TRUE & FALSE & FALSE & FALSE & FALSE & FALSE & FALSE &  TRUE & FALSE\\\\\n",
       "\t p     & FALSE & FALSE & FALSE & FALSE & FALSE &  TRUE & FALSE & FALSE &  TRUE & ...   & FALSE &  TRUE & FALSE & FALSE & FALSE & FALSE & FALSE & FALSE &  TRUE & FALSE\\\\\n",
       "\t p     & FALSE & FALSE & FALSE & FALSE & FALSE &  TRUE & FALSE & FALSE & FALSE & ...   & FALSE &  TRUE & FALSE & FALSE & FALSE & FALSE & FALSE & FALSE &  TRUE & FALSE\\\\\n",
       "\t p     & FALSE & FALSE & FALSE & FALSE & FALSE &  TRUE & FALSE & FALSE & FALSE & ...   &  TRUE & FALSE & FALSE & FALSE &  TRUE & FALSE & FALSE & FALSE & FALSE & FALSE\\\\\n",
       "\t p     & FALSE & FALSE & FALSE & FALSE & FALSE &  TRUE & FALSE & FALSE & FALSE & ...   & FALSE &  TRUE & FALSE & FALSE & FALSE & FALSE & FALSE & FALSE &  TRUE & FALSE\\\\\n",
       "\t p     & FALSE & FALSE & FALSE & FALSE & FALSE &  TRUE & FALSE & FALSE &  TRUE & ...   & FALSE &  TRUE & FALSE & FALSE &  TRUE & FALSE & FALSE & FALSE & FALSE & FALSE\\\\\n",
       "\t p     & FALSE & FALSE &  TRUE & FALSE & FALSE & FALSE & FALSE & FALSE & FALSE & ...   & FALSE &  TRUE & FALSE & FALSE &  TRUE & FALSE & FALSE & FALSE & FALSE & FALSE\\\\\n",
       "\t p     & FALSE & FALSE & FALSE & FALSE & FALSE &  TRUE & FALSE & FALSE & FALSE & ...   & FALSE &  TRUE & FALSE & FALSE & FALSE & FALSE & FALSE & FALSE &  TRUE & FALSE\\\\\n",
       "\t p     & FALSE & FALSE & FALSE & FALSE & FALSE &  TRUE & FALSE & FALSE &  TRUE & ...   & FALSE &  TRUE & FALSE & FALSE &  TRUE & FALSE & FALSE & FALSE & FALSE & FALSE\\\\\n",
       "\t p     & FALSE & FALSE & FALSE & FALSE & FALSE &  TRUE & FALSE & FALSE & FALSE & ...   & FALSE &  TRUE & FALSE & FALSE & FALSE & FALSE & FALSE & FALSE &  TRUE & FALSE\\\\\n",
       "\t p     & FALSE & FALSE & FALSE & FALSE & FALSE &  TRUE & FALSE & FALSE & FALSE & ...   &  TRUE & FALSE & FALSE & FALSE &  TRUE & FALSE & FALSE & FALSE & FALSE & FALSE\\\\\n",
       "\t p     & FALSE & FALSE & FALSE & FALSE & FALSE &  TRUE & FALSE & FALSE &  TRUE & ...   & FALSE &  TRUE & FALSE & FALSE & FALSE & FALSE & FALSE & FALSE &  TRUE & FALSE\\\\\n",
       "\t p     & FALSE & FALSE & FALSE & FALSE & FALSE &  TRUE & FALSE & FALSE &  TRUE & ...   &  TRUE & FALSE & FALSE & FALSE &  TRUE & FALSE & FALSE & FALSE & FALSE & FALSE\\\\\n",
       "\t p     & FALSE & FALSE & FALSE & FALSE & FALSE &  TRUE & FALSE & FALSE & FALSE & ...   & FALSE &  TRUE & FALSE & FALSE & FALSE & FALSE & FALSE & FALSE &  TRUE & FALSE\\\\\n",
       "\t p     & FALSE & FALSE & FALSE & FALSE & FALSE &  TRUE & FALSE & FALSE & FALSE & ...   &  TRUE & FALSE & FALSE & FALSE & FALSE & FALSE & FALSE & FALSE &  TRUE & FALSE\\\\\n",
       "\t p     & FALSE & FALSE & FALSE & FALSE & FALSE &  TRUE & FALSE & FALSE &  TRUE & ...   & FALSE &  TRUE & FALSE & FALSE & FALSE & FALSE & FALSE & FALSE &  TRUE & FALSE\\\\\n",
       "\t p     & FALSE & FALSE & FALSE & FALSE & FALSE &  TRUE & FALSE & FALSE &  TRUE & ...   &  TRUE & FALSE & FALSE & FALSE &  TRUE & FALSE & FALSE & FALSE & FALSE & FALSE\\\\\n",
       "\t p     & FALSE & FALSE & FALSE & FALSE & FALSE &  TRUE & FALSE & FALSE & FALSE & ...   & FALSE &  TRUE & FALSE & FALSE &  TRUE & FALSE & FALSE & FALSE & FALSE & FALSE\\\\\n",
       "\t ... & ... & ... & ... & ... & ... & ... & ... & ... & ... &     & ... & ... & ... & ... & ... & ... & ... & ... & ... & ...\\\\\n",
       "\t e     & FALSE & FALSE & FALSE &  TRUE & FALSE & FALSE & FALSE & FALSE &  TRUE & ...   & FALSE &  TRUE & FALSE & FALSE & FALSE &  TRUE & FALSE & FALSE & FALSE & FALSE\\\\\n",
       "\t e     & FALSE & FALSE & FALSE &  TRUE & FALSE & FALSE & FALSE & FALSE &  TRUE & ...   & FALSE &  TRUE & FALSE & FALSE & FALSE &  TRUE & FALSE & FALSE & FALSE & FALSE\\\\\n",
       "\t e     &  TRUE & FALSE & FALSE & FALSE & FALSE & FALSE &  TRUE & FALSE & FALSE & ...   & FALSE & FALSE & FALSE & FALSE &  TRUE & FALSE & FALSE & FALSE & FALSE & FALSE\\\\\n",
       "\t e     & FALSE & FALSE &  TRUE & FALSE & FALSE & FALSE & FALSE & FALSE &  TRUE & ...   & FALSE & FALSE & FALSE & FALSE & FALSE &  TRUE & FALSE & FALSE & FALSE & FALSE\\\\\n",
       "\t e     &  TRUE & FALSE & FALSE & FALSE & FALSE & FALSE & FALSE & FALSE &  TRUE & ...   & FALSE & FALSE & FALSE & FALSE & FALSE &  TRUE & FALSE & FALSE & FALSE & FALSE\\\\\n",
       "\t e     & FALSE & FALSE &  TRUE & FALSE & FALSE & FALSE & FALSE & FALSE &  TRUE & ...   & FALSE &  TRUE & FALSE & FALSE & FALSE &  TRUE & FALSE & FALSE & FALSE & FALSE\\\\\n",
       "\t e     &  TRUE & FALSE & FALSE & FALSE & FALSE & FALSE &  TRUE & FALSE & FALSE & ...   &  TRUE & FALSE & FALSE & FALSE &  TRUE & FALSE & FALSE & FALSE & FALSE & FALSE\\\\\n",
       "\t e     &  TRUE & FALSE & FALSE & FALSE & FALSE & FALSE &  TRUE & FALSE & FALSE & ...   &  TRUE & FALSE & FALSE & FALSE &  TRUE & FALSE & FALSE & FALSE & FALSE & FALSE\\\\\n",
       "\t e     & FALSE & FALSE & FALSE &  TRUE & FALSE & FALSE &  TRUE & FALSE & FALSE & ...   &  TRUE & FALSE & FALSE & FALSE &  TRUE & FALSE & FALSE & FALSE & FALSE & FALSE\\\\\n",
       "\t e     & FALSE & FALSE & FALSE &  TRUE & FALSE & FALSE & FALSE & FALSE &  TRUE & ...   & FALSE &  TRUE & FALSE & FALSE & FALSE &  TRUE & FALSE & FALSE & FALSE & FALSE\\\\\n",
       "\t e     & FALSE & FALSE & FALSE &  TRUE & FALSE & FALSE & FALSE & FALSE &  TRUE & ...   & FALSE &  TRUE & FALSE & FALSE & FALSE &  TRUE & FALSE & FALSE & FALSE & FALSE\\\\\n",
       "\t e     &  TRUE & FALSE & FALSE & FALSE & FALSE & FALSE & FALSE & FALSE &  TRUE & ...   & FALSE & FALSE & FALSE & FALSE &  TRUE & FALSE & FALSE & FALSE & FALSE & FALSE\\\\\n",
       "\t e     & FALSE & FALSE & FALSE &  TRUE & FALSE & FALSE &  TRUE & FALSE & FALSE & ...   & FALSE & FALSE & FALSE & FALSE &  TRUE & FALSE & FALSE & FALSE & FALSE & FALSE\\\\\n",
       "\t e     & FALSE & FALSE & FALSE &  TRUE & FALSE & FALSE &  TRUE & FALSE & FALSE & ...   &  TRUE & FALSE & FALSE & FALSE &  TRUE & FALSE & FALSE & FALSE & FALSE & FALSE\\\\\n",
       "\t e     & FALSE & FALSE &  TRUE & FALSE & FALSE & FALSE & FALSE & FALSE &  TRUE & ...   & FALSE &  TRUE & FALSE & FALSE & FALSE &  TRUE & FALSE & FALSE & FALSE & FALSE\\\\\n",
       "\t e     & FALSE & FALSE & FALSE & FALSE & FALSE &  TRUE & FALSE & FALSE &  TRUE & ...   & FALSE & FALSE & FALSE & FALSE & FALSE &  TRUE & FALSE & FALSE & FALSE & FALSE\\\\\n",
       "\t e     & FALSE & FALSE & FALSE &  TRUE & FALSE & FALSE & FALSE & FALSE &  TRUE & ...   & FALSE & FALSE & FALSE & FALSE & FALSE &  TRUE & FALSE & FALSE & FALSE & FALSE\\\\\n",
       "\t e     & FALSE & FALSE & FALSE &  TRUE & FALSE & FALSE & FALSE & FALSE &  TRUE & ...   & FALSE &  TRUE & FALSE & FALSE & FALSE &  TRUE & FALSE & FALSE & FALSE & FALSE\\\\\n",
       "\t e     & FALSE & FALSE & FALSE &  TRUE & FALSE & FALSE & FALSE & FALSE &  TRUE & ...   & FALSE &  TRUE & FALSE & FALSE & FALSE &  TRUE & FALSE & FALSE & FALSE & FALSE\\\\\n",
       "\t e     & FALSE & FALSE & FALSE &  TRUE & FALSE & FALSE & FALSE & FALSE &  TRUE & ...   & FALSE &  TRUE & FALSE & FALSE & FALSE &  TRUE & FALSE & FALSE & FALSE & FALSE\\\\\n",
       "\t e     & FALSE & FALSE & FALSE & FALSE & FALSE &  TRUE & FALSE & FALSE &  TRUE & ...   & FALSE & FALSE & FALSE & FALSE & FALSE &  TRUE & FALSE & FALSE & FALSE & FALSE\\\\\n",
       "\t e     &  TRUE & FALSE & FALSE & FALSE & FALSE & FALSE & FALSE & FALSE &  TRUE & ...   & FALSE & FALSE & FALSE & FALSE &  TRUE & FALSE & FALSE & FALSE & FALSE & FALSE\\\\\n",
       "\t e     & FALSE & FALSE & FALSE & FALSE & FALSE &  TRUE & FALSE & FALSE &  TRUE & ...   & FALSE &  TRUE & FALSE & FALSE & FALSE &  TRUE & FALSE & FALSE & FALSE & FALSE\\\\\n",
       "\t e     & FALSE & FALSE & FALSE &  TRUE & FALSE & FALSE & FALSE & FALSE &  TRUE & ...   & FALSE & FALSE & FALSE & FALSE &  TRUE & FALSE & FALSE & FALSE & FALSE & FALSE\\\\\n",
       "\t e     & FALSE & FALSE & FALSE &  TRUE & FALSE & FALSE & FALSE & FALSE &  TRUE & ...   & FALSE &  TRUE & FALSE & FALSE & FALSE &  TRUE & FALSE & FALSE & FALSE & FALSE\\\\\n",
       "\t e     & FALSE & FALSE & FALSE & FALSE & FALSE &  TRUE & FALSE & FALSE &  TRUE & ...   & FALSE &  TRUE & FALSE & FALSE & FALSE &  TRUE & FALSE & FALSE & FALSE & FALSE\\\\\n",
       "\t e     & FALSE & FALSE & FALSE &  TRUE & FALSE & FALSE & FALSE & FALSE &  TRUE & ...   & FALSE & FALSE & FALSE & FALSE & FALSE &  TRUE & FALSE & FALSE & FALSE & FALSE\\\\\n",
       "\t e     & FALSE & FALSE & FALSE & FALSE & FALSE &  TRUE & FALSE & FALSE &  TRUE & ...   & FALSE &  TRUE & FALSE & FALSE & FALSE &  TRUE & FALSE & FALSE & FALSE & FALSE\\\\\n",
       "\t e     & FALSE & FALSE &  TRUE & FALSE & FALSE & FALSE & FALSE & FALSE &  TRUE & ...   & FALSE & FALSE & FALSE & FALSE & FALSE &  TRUE & FALSE & FALSE & FALSE & FALSE\\\\\n",
       "\t e     & FALSE & FALSE & FALSE & FALSE & FALSE &  TRUE & FALSE & FALSE &  TRUE & ...   & FALSE & FALSE & FALSE & FALSE & FALSE &  TRUE & FALSE & FALSE & FALSE & FALSE\\\\\n",
       "\\end{tabular}\n"
      ],
      "text/markdown": [
       "\n",
       "| V1 | V2 | V3 | V4 | V5 | V6 | V7 | V8 | V9 | V10 | ... | V109 | V110 | V111 | V112 | V113 | V114 | V115 | V116 | V117 | V118 |\n",
       "|---|---|---|---|---|---|---|---|---|---|---|---|---|---|---|---|---|---|---|---|---|\n",
       "| p     | FALSE | FALSE | FALSE | FALSE | FALSE |  TRUE | FALSE | FALSE |  TRUE | ...   |  TRUE | FALSE | FALSE | FALSE | FALSE | FALSE | FALSE | FALSE |  TRUE | FALSE |\n",
       "| p     | FALSE | FALSE | FALSE | FALSE | FALSE |  TRUE | FALSE | FALSE | FALSE | ...   |  TRUE | FALSE | FALSE | FALSE | FALSE | FALSE | FALSE | FALSE |  TRUE | FALSE |\n",
       "| p     | FALSE | FALSE | FALSE | FALSE | FALSE |  TRUE | FALSE | FALSE | FALSE | ...   | FALSE |  TRUE | FALSE | FALSE |  TRUE | FALSE | FALSE | FALSE | FALSE | FALSE |\n",
       "| p     | FALSE | FALSE | FALSE | FALSE | FALSE |  TRUE | FALSE | FALSE | FALSE | ...   | FALSE |  TRUE | FALSE | FALSE | FALSE | FALSE | FALSE | FALSE |  TRUE | FALSE |\n",
       "| p     | FALSE | FALSE | FALSE | FALSE | FALSE |  TRUE | FALSE | FALSE |  TRUE | ...   |  TRUE | FALSE | FALSE | FALSE |  TRUE | FALSE | FALSE | FALSE | FALSE | FALSE |\n",
       "| p     | FALSE | FALSE | FALSE | FALSE | FALSE |  TRUE | FALSE | FALSE | FALSE | ...   |  TRUE | FALSE | FALSE | FALSE | FALSE | FALSE | FALSE | FALSE |  TRUE | FALSE |\n",
       "| p     | FALSE | FALSE | FALSE | FALSE | FALSE |  TRUE | FALSE | FALSE |  TRUE | ...   |  TRUE | FALSE | FALSE | FALSE | FALSE | FALSE | FALSE | FALSE |  TRUE | FALSE |\n",
       "| p     | FALSE | FALSE | FALSE | FALSE | FALSE |  TRUE | FALSE | FALSE | FALSE | ...   | FALSE |  TRUE | FALSE | FALSE |  TRUE | FALSE | FALSE | FALSE | FALSE | FALSE |\n",
       "| p     | FALSE | FALSE |  TRUE | FALSE | FALSE | FALSE | FALSE | FALSE |  TRUE | ...   | FALSE |  TRUE | FALSE | FALSE |  TRUE | FALSE | FALSE | FALSE | FALSE | FALSE |\n",
       "| p     | FALSE | FALSE | FALSE | FALSE | FALSE |  TRUE | FALSE | FALSE | FALSE | ...   |  TRUE | FALSE | FALSE | FALSE | FALSE | FALSE | FALSE | FALSE |  TRUE | FALSE |\n",
       "| p     | FALSE | FALSE | FALSE | FALSE | FALSE |  TRUE | FALSE | FALSE | FALSE | ...   |  TRUE | FALSE | FALSE | FALSE | FALSE | FALSE | FALSE | FALSE |  TRUE | FALSE |\n",
       "| p     | FALSE | FALSE | FALSE | FALSE | FALSE |  TRUE | FALSE | FALSE | FALSE | ...   | FALSE |  TRUE | FALSE | FALSE |  TRUE | FALSE | FALSE | FALSE | FALSE | FALSE |\n",
       "| p     | FALSE | FALSE | FALSE | FALSE | FALSE |  TRUE | FALSE | FALSE | FALSE | ...   | FALSE |  TRUE | FALSE | FALSE | FALSE | FALSE | FALSE | FALSE |  TRUE | FALSE |\n",
       "| p     | FALSE | FALSE | FALSE | FALSE | FALSE |  TRUE | FALSE | FALSE |  TRUE | ...   | FALSE |  TRUE | FALSE | FALSE | FALSE | FALSE | FALSE | FALSE |  TRUE | FALSE |\n",
       "| p     | FALSE | FALSE | FALSE | FALSE | FALSE |  TRUE | FALSE | FALSE | FALSE | ...   | FALSE |  TRUE | FALSE | FALSE | FALSE | FALSE | FALSE | FALSE |  TRUE | FALSE |\n",
       "| p     | FALSE | FALSE | FALSE | FALSE | FALSE |  TRUE | FALSE | FALSE | FALSE | ...   |  TRUE | FALSE | FALSE | FALSE |  TRUE | FALSE | FALSE | FALSE | FALSE | FALSE |\n",
       "| p     | FALSE | FALSE | FALSE | FALSE | FALSE |  TRUE | FALSE | FALSE | FALSE | ...   | FALSE |  TRUE | FALSE | FALSE | FALSE | FALSE | FALSE | FALSE |  TRUE | FALSE |\n",
       "| p     | FALSE | FALSE | FALSE | FALSE | FALSE |  TRUE | FALSE | FALSE |  TRUE | ...   | FALSE |  TRUE | FALSE | FALSE |  TRUE | FALSE | FALSE | FALSE | FALSE | FALSE |\n",
       "| p     | FALSE | FALSE |  TRUE | FALSE | FALSE | FALSE | FALSE | FALSE | FALSE | ...   | FALSE |  TRUE | FALSE | FALSE |  TRUE | FALSE | FALSE | FALSE | FALSE | FALSE |\n",
       "| p     | FALSE | FALSE | FALSE | FALSE | FALSE |  TRUE | FALSE | FALSE | FALSE | ...   | FALSE |  TRUE | FALSE | FALSE | FALSE | FALSE | FALSE | FALSE |  TRUE | FALSE |\n",
       "| p     | FALSE | FALSE | FALSE | FALSE | FALSE |  TRUE | FALSE | FALSE |  TRUE | ...   | FALSE |  TRUE | FALSE | FALSE |  TRUE | FALSE | FALSE | FALSE | FALSE | FALSE |\n",
       "| p     | FALSE | FALSE | FALSE | FALSE | FALSE |  TRUE | FALSE | FALSE | FALSE | ...   | FALSE |  TRUE | FALSE | FALSE | FALSE | FALSE | FALSE | FALSE |  TRUE | FALSE |\n",
       "| p     | FALSE | FALSE | FALSE | FALSE | FALSE |  TRUE | FALSE | FALSE | FALSE | ...   |  TRUE | FALSE | FALSE | FALSE |  TRUE | FALSE | FALSE | FALSE | FALSE | FALSE |\n",
       "| p     | FALSE | FALSE | FALSE | FALSE | FALSE |  TRUE | FALSE | FALSE |  TRUE | ...   | FALSE |  TRUE | FALSE | FALSE | FALSE | FALSE | FALSE | FALSE |  TRUE | FALSE |\n",
       "| p     | FALSE | FALSE | FALSE | FALSE | FALSE |  TRUE | FALSE | FALSE |  TRUE | ...   |  TRUE | FALSE | FALSE | FALSE |  TRUE | FALSE | FALSE | FALSE | FALSE | FALSE |\n",
       "| p     | FALSE | FALSE | FALSE | FALSE | FALSE |  TRUE | FALSE | FALSE | FALSE | ...   | FALSE |  TRUE | FALSE | FALSE | FALSE | FALSE | FALSE | FALSE |  TRUE | FALSE |\n",
       "| p     | FALSE | FALSE | FALSE | FALSE | FALSE |  TRUE | FALSE | FALSE | FALSE | ...   |  TRUE | FALSE | FALSE | FALSE | FALSE | FALSE | FALSE | FALSE |  TRUE | FALSE |\n",
       "| p     | FALSE | FALSE | FALSE | FALSE | FALSE |  TRUE | FALSE | FALSE |  TRUE | ...   | FALSE |  TRUE | FALSE | FALSE | FALSE | FALSE | FALSE | FALSE |  TRUE | FALSE |\n",
       "| p     | FALSE | FALSE | FALSE | FALSE | FALSE |  TRUE | FALSE | FALSE |  TRUE | ...   |  TRUE | FALSE | FALSE | FALSE |  TRUE | FALSE | FALSE | FALSE | FALSE | FALSE |\n",
       "| p     | FALSE | FALSE | FALSE | FALSE | FALSE |  TRUE | FALSE | FALSE | FALSE | ...   | FALSE |  TRUE | FALSE | FALSE |  TRUE | FALSE | FALSE | FALSE | FALSE | FALSE |\n",
       "| ... | ... | ... | ... | ... | ... | ... | ... | ... | ... |     | ... | ... | ... | ... | ... | ... | ... | ... | ... | ... |\n",
       "| e     | FALSE | FALSE | FALSE |  TRUE | FALSE | FALSE | FALSE | FALSE |  TRUE | ...   | FALSE |  TRUE | FALSE | FALSE | FALSE |  TRUE | FALSE | FALSE | FALSE | FALSE |\n",
       "| e     | FALSE | FALSE | FALSE |  TRUE | FALSE | FALSE | FALSE | FALSE |  TRUE | ...   | FALSE |  TRUE | FALSE | FALSE | FALSE |  TRUE | FALSE | FALSE | FALSE | FALSE |\n",
       "| e     |  TRUE | FALSE | FALSE | FALSE | FALSE | FALSE |  TRUE | FALSE | FALSE | ...   | FALSE | FALSE | FALSE | FALSE |  TRUE | FALSE | FALSE | FALSE | FALSE | FALSE |\n",
       "| e     | FALSE | FALSE |  TRUE | FALSE | FALSE | FALSE | FALSE | FALSE |  TRUE | ...   | FALSE | FALSE | FALSE | FALSE | FALSE |  TRUE | FALSE | FALSE | FALSE | FALSE |\n",
       "| e     |  TRUE | FALSE | FALSE | FALSE | FALSE | FALSE | FALSE | FALSE |  TRUE | ...   | FALSE | FALSE | FALSE | FALSE | FALSE |  TRUE | FALSE | FALSE | FALSE | FALSE |\n",
       "| e     | FALSE | FALSE |  TRUE | FALSE | FALSE | FALSE | FALSE | FALSE |  TRUE | ...   | FALSE |  TRUE | FALSE | FALSE | FALSE |  TRUE | FALSE | FALSE | FALSE | FALSE |\n",
       "| e     |  TRUE | FALSE | FALSE | FALSE | FALSE | FALSE |  TRUE | FALSE | FALSE | ...   |  TRUE | FALSE | FALSE | FALSE |  TRUE | FALSE | FALSE | FALSE | FALSE | FALSE |\n",
       "| e     |  TRUE | FALSE | FALSE | FALSE | FALSE | FALSE |  TRUE | FALSE | FALSE | ...   |  TRUE | FALSE | FALSE | FALSE |  TRUE | FALSE | FALSE | FALSE | FALSE | FALSE |\n",
       "| e     | FALSE | FALSE | FALSE |  TRUE | FALSE | FALSE |  TRUE | FALSE | FALSE | ...   |  TRUE | FALSE | FALSE | FALSE |  TRUE | FALSE | FALSE | FALSE | FALSE | FALSE |\n",
       "| e     | FALSE | FALSE | FALSE |  TRUE | FALSE | FALSE | FALSE | FALSE |  TRUE | ...   | FALSE |  TRUE | FALSE | FALSE | FALSE |  TRUE | FALSE | FALSE | FALSE | FALSE |\n",
       "| e     | FALSE | FALSE | FALSE |  TRUE | FALSE | FALSE | FALSE | FALSE |  TRUE | ...   | FALSE |  TRUE | FALSE | FALSE | FALSE |  TRUE | FALSE | FALSE | FALSE | FALSE |\n",
       "| e     |  TRUE | FALSE | FALSE | FALSE | FALSE | FALSE | FALSE | FALSE |  TRUE | ...   | FALSE | FALSE | FALSE | FALSE |  TRUE | FALSE | FALSE | FALSE | FALSE | FALSE |\n",
       "| e     | FALSE | FALSE | FALSE |  TRUE | FALSE | FALSE |  TRUE | FALSE | FALSE | ...   | FALSE | FALSE | FALSE | FALSE |  TRUE | FALSE | FALSE | FALSE | FALSE | FALSE |\n",
       "| e     | FALSE | FALSE | FALSE |  TRUE | FALSE | FALSE |  TRUE | FALSE | FALSE | ...   |  TRUE | FALSE | FALSE | FALSE |  TRUE | FALSE | FALSE | FALSE | FALSE | FALSE |\n",
       "| e     | FALSE | FALSE |  TRUE | FALSE | FALSE | FALSE | FALSE | FALSE |  TRUE | ...   | FALSE |  TRUE | FALSE | FALSE | FALSE |  TRUE | FALSE | FALSE | FALSE | FALSE |\n",
       "| e     | FALSE | FALSE | FALSE | FALSE | FALSE |  TRUE | FALSE | FALSE |  TRUE | ...   | FALSE | FALSE | FALSE | FALSE | FALSE |  TRUE | FALSE | FALSE | FALSE | FALSE |\n",
       "| e     | FALSE | FALSE | FALSE |  TRUE | FALSE | FALSE | FALSE | FALSE |  TRUE | ...   | FALSE | FALSE | FALSE | FALSE | FALSE |  TRUE | FALSE | FALSE | FALSE | FALSE |\n",
       "| e     | FALSE | FALSE | FALSE |  TRUE | FALSE | FALSE | FALSE | FALSE |  TRUE | ...   | FALSE |  TRUE | FALSE | FALSE | FALSE |  TRUE | FALSE | FALSE | FALSE | FALSE |\n",
       "| e     | FALSE | FALSE | FALSE |  TRUE | FALSE | FALSE | FALSE | FALSE |  TRUE | ...   | FALSE |  TRUE | FALSE | FALSE | FALSE |  TRUE | FALSE | FALSE | FALSE | FALSE |\n",
       "| e     | FALSE | FALSE | FALSE |  TRUE | FALSE | FALSE | FALSE | FALSE |  TRUE | ...   | FALSE |  TRUE | FALSE | FALSE | FALSE |  TRUE | FALSE | FALSE | FALSE | FALSE |\n",
       "| e     | FALSE | FALSE | FALSE | FALSE | FALSE |  TRUE | FALSE | FALSE |  TRUE | ...   | FALSE | FALSE | FALSE | FALSE | FALSE |  TRUE | FALSE | FALSE | FALSE | FALSE |\n",
       "| e     |  TRUE | FALSE | FALSE | FALSE | FALSE | FALSE | FALSE | FALSE |  TRUE | ...   | FALSE | FALSE | FALSE | FALSE |  TRUE | FALSE | FALSE | FALSE | FALSE | FALSE |\n",
       "| e     | FALSE | FALSE | FALSE | FALSE | FALSE |  TRUE | FALSE | FALSE |  TRUE | ...   | FALSE |  TRUE | FALSE | FALSE | FALSE |  TRUE | FALSE | FALSE | FALSE | FALSE |\n",
       "| e     | FALSE | FALSE | FALSE |  TRUE | FALSE | FALSE | FALSE | FALSE |  TRUE | ...   | FALSE | FALSE | FALSE | FALSE |  TRUE | FALSE | FALSE | FALSE | FALSE | FALSE |\n",
       "| e     | FALSE | FALSE | FALSE |  TRUE | FALSE | FALSE | FALSE | FALSE |  TRUE | ...   | FALSE |  TRUE | FALSE | FALSE | FALSE |  TRUE | FALSE | FALSE | FALSE | FALSE |\n",
       "| e     | FALSE | FALSE | FALSE | FALSE | FALSE |  TRUE | FALSE | FALSE |  TRUE | ...   | FALSE |  TRUE | FALSE | FALSE | FALSE |  TRUE | FALSE | FALSE | FALSE | FALSE |\n",
       "| e     | FALSE | FALSE | FALSE |  TRUE | FALSE | FALSE | FALSE | FALSE |  TRUE | ...   | FALSE | FALSE | FALSE | FALSE | FALSE |  TRUE | FALSE | FALSE | FALSE | FALSE |\n",
       "| e     | FALSE | FALSE | FALSE | FALSE | FALSE |  TRUE | FALSE | FALSE |  TRUE | ...   | FALSE |  TRUE | FALSE | FALSE | FALSE |  TRUE | FALSE | FALSE | FALSE | FALSE |\n",
       "| e     | FALSE | FALSE |  TRUE | FALSE | FALSE | FALSE | FALSE | FALSE |  TRUE | ...   | FALSE | FALSE | FALSE | FALSE | FALSE |  TRUE | FALSE | FALSE | FALSE | FALSE |\n",
       "| e     | FALSE | FALSE | FALSE | FALSE | FALSE |  TRUE | FALSE | FALSE |  TRUE | ...   | FALSE | FALSE | FALSE | FALSE | FALSE |  TRUE | FALSE | FALSE | FALSE | FALSE |\n",
       "\n"
      ],
      "text/plain": [
       "     V1  V2    V3    V4    V5    V6    V7    V8    V9    V10   ... V109  V110 \n",
       "1    p   FALSE FALSE FALSE FALSE FALSE  TRUE FALSE FALSE  TRUE ...  TRUE FALSE\n",
       "2    p   FALSE FALSE FALSE FALSE FALSE  TRUE FALSE FALSE FALSE ...  TRUE FALSE\n",
       "3    p   FALSE FALSE FALSE FALSE FALSE  TRUE FALSE FALSE FALSE ... FALSE  TRUE\n",
       "4    p   FALSE FALSE FALSE FALSE FALSE  TRUE FALSE FALSE FALSE ... FALSE  TRUE\n",
       "5    p   FALSE FALSE FALSE FALSE FALSE  TRUE FALSE FALSE  TRUE ...  TRUE FALSE\n",
       "6    p   FALSE FALSE FALSE FALSE FALSE  TRUE FALSE FALSE FALSE ...  TRUE FALSE\n",
       "7    p   FALSE FALSE FALSE FALSE FALSE  TRUE FALSE FALSE  TRUE ...  TRUE FALSE\n",
       "8    p   FALSE FALSE FALSE FALSE FALSE  TRUE FALSE FALSE FALSE ... FALSE  TRUE\n",
       "9    p   FALSE FALSE  TRUE FALSE FALSE FALSE FALSE FALSE  TRUE ... FALSE  TRUE\n",
       "10   p   FALSE FALSE FALSE FALSE FALSE  TRUE FALSE FALSE FALSE ...  TRUE FALSE\n",
       "11   p   FALSE FALSE FALSE FALSE FALSE  TRUE FALSE FALSE FALSE ...  TRUE FALSE\n",
       "12   p   FALSE FALSE FALSE FALSE FALSE  TRUE FALSE FALSE FALSE ... FALSE  TRUE\n",
       "13   p   FALSE FALSE FALSE FALSE FALSE  TRUE FALSE FALSE FALSE ... FALSE  TRUE\n",
       "14   p   FALSE FALSE FALSE FALSE FALSE  TRUE FALSE FALSE  TRUE ... FALSE  TRUE\n",
       "15   p   FALSE FALSE FALSE FALSE FALSE  TRUE FALSE FALSE FALSE ... FALSE  TRUE\n",
       "16   p   FALSE FALSE FALSE FALSE FALSE  TRUE FALSE FALSE FALSE ...  TRUE FALSE\n",
       "17   p   FALSE FALSE FALSE FALSE FALSE  TRUE FALSE FALSE FALSE ... FALSE  TRUE\n",
       "18   p   FALSE FALSE FALSE FALSE FALSE  TRUE FALSE FALSE  TRUE ... FALSE  TRUE\n",
       "19   p   FALSE FALSE  TRUE FALSE FALSE FALSE FALSE FALSE FALSE ... FALSE  TRUE\n",
       "20   p   FALSE FALSE FALSE FALSE FALSE  TRUE FALSE FALSE FALSE ... FALSE  TRUE\n",
       "21   p   FALSE FALSE FALSE FALSE FALSE  TRUE FALSE FALSE  TRUE ... FALSE  TRUE\n",
       "22   p   FALSE FALSE FALSE FALSE FALSE  TRUE FALSE FALSE FALSE ... FALSE  TRUE\n",
       "23   p   FALSE FALSE FALSE FALSE FALSE  TRUE FALSE FALSE FALSE ...  TRUE FALSE\n",
       "24   p   FALSE FALSE FALSE FALSE FALSE  TRUE FALSE FALSE  TRUE ... FALSE  TRUE\n",
       "25   p   FALSE FALSE FALSE FALSE FALSE  TRUE FALSE FALSE  TRUE ...  TRUE FALSE\n",
       "26   p   FALSE FALSE FALSE FALSE FALSE  TRUE FALSE FALSE FALSE ... FALSE  TRUE\n",
       "27   p   FALSE FALSE FALSE FALSE FALSE  TRUE FALSE FALSE FALSE ...  TRUE FALSE\n",
       "28   p   FALSE FALSE FALSE FALSE FALSE  TRUE FALSE FALSE  TRUE ... FALSE  TRUE\n",
       "29   p   FALSE FALSE FALSE FALSE FALSE  TRUE FALSE FALSE  TRUE ...  TRUE FALSE\n",
       "30   p   FALSE FALSE FALSE FALSE FALSE  TRUE FALSE FALSE FALSE ... FALSE  TRUE\n",
       "...  ... ...   ...   ...   ...   ...   ...   ...   ...   ...       ...   ...  \n",
       "8095 e   FALSE FALSE FALSE  TRUE FALSE FALSE FALSE FALSE  TRUE ... FALSE  TRUE\n",
       "8096 e   FALSE FALSE FALSE  TRUE FALSE FALSE FALSE FALSE  TRUE ... FALSE  TRUE\n",
       "8097 e    TRUE FALSE FALSE FALSE FALSE FALSE  TRUE FALSE FALSE ... FALSE FALSE\n",
       "8098 e   FALSE FALSE  TRUE FALSE FALSE FALSE FALSE FALSE  TRUE ... FALSE FALSE\n",
       "8099 e    TRUE FALSE FALSE FALSE FALSE FALSE FALSE FALSE  TRUE ... FALSE FALSE\n",
       "8100 e   FALSE FALSE  TRUE FALSE FALSE FALSE FALSE FALSE  TRUE ... FALSE  TRUE\n",
       "8101 e    TRUE FALSE FALSE FALSE FALSE FALSE  TRUE FALSE FALSE ...  TRUE FALSE\n",
       "8102 e    TRUE FALSE FALSE FALSE FALSE FALSE  TRUE FALSE FALSE ...  TRUE FALSE\n",
       "8103 e   FALSE FALSE FALSE  TRUE FALSE FALSE  TRUE FALSE FALSE ...  TRUE FALSE\n",
       "8104 e   FALSE FALSE FALSE  TRUE FALSE FALSE FALSE FALSE  TRUE ... FALSE  TRUE\n",
       "8105 e   FALSE FALSE FALSE  TRUE FALSE FALSE FALSE FALSE  TRUE ... FALSE  TRUE\n",
       "8106 e    TRUE FALSE FALSE FALSE FALSE FALSE FALSE FALSE  TRUE ... FALSE FALSE\n",
       "8107 e   FALSE FALSE FALSE  TRUE FALSE FALSE  TRUE FALSE FALSE ... FALSE FALSE\n",
       "8108 e   FALSE FALSE FALSE  TRUE FALSE FALSE  TRUE FALSE FALSE ...  TRUE FALSE\n",
       "8109 e   FALSE FALSE  TRUE FALSE FALSE FALSE FALSE FALSE  TRUE ... FALSE  TRUE\n",
       "8110 e   FALSE FALSE FALSE FALSE FALSE  TRUE FALSE FALSE  TRUE ... FALSE FALSE\n",
       "8111 e   FALSE FALSE FALSE  TRUE FALSE FALSE FALSE FALSE  TRUE ... FALSE FALSE\n",
       "8112 e   FALSE FALSE FALSE  TRUE FALSE FALSE FALSE FALSE  TRUE ... FALSE  TRUE\n",
       "8113 e   FALSE FALSE FALSE  TRUE FALSE FALSE FALSE FALSE  TRUE ... FALSE  TRUE\n",
       "8114 e   FALSE FALSE FALSE  TRUE FALSE FALSE FALSE FALSE  TRUE ... FALSE  TRUE\n",
       "8115 e   FALSE FALSE FALSE FALSE FALSE  TRUE FALSE FALSE  TRUE ... FALSE FALSE\n",
       "8116 e    TRUE FALSE FALSE FALSE FALSE FALSE FALSE FALSE  TRUE ... FALSE FALSE\n",
       "8117 e   FALSE FALSE FALSE FALSE FALSE  TRUE FALSE FALSE  TRUE ... FALSE  TRUE\n",
       "8118 e   FALSE FALSE FALSE  TRUE FALSE FALSE FALSE FALSE  TRUE ... FALSE FALSE\n",
       "8119 e   FALSE FALSE FALSE  TRUE FALSE FALSE FALSE FALSE  TRUE ... FALSE  TRUE\n",
       "8120 e   FALSE FALSE FALSE FALSE FALSE  TRUE FALSE FALSE  TRUE ... FALSE  TRUE\n",
       "8121 e   FALSE FALSE FALSE  TRUE FALSE FALSE FALSE FALSE  TRUE ... FALSE FALSE\n",
       "8122 e   FALSE FALSE FALSE FALSE FALSE  TRUE FALSE FALSE  TRUE ... FALSE  TRUE\n",
       "8123 e   FALSE FALSE  TRUE FALSE FALSE FALSE FALSE FALSE  TRUE ... FALSE FALSE\n",
       "8124 e   FALSE FALSE FALSE FALSE FALSE  TRUE FALSE FALSE  TRUE ... FALSE FALSE\n",
       "     V111  V112  V113  V114  V115  V116  V117  V118 \n",
       "1    FALSE FALSE FALSE FALSE FALSE FALSE  TRUE FALSE\n",
       "2    FALSE FALSE FALSE FALSE FALSE FALSE  TRUE FALSE\n",
       "3    FALSE FALSE  TRUE FALSE FALSE FALSE FALSE FALSE\n",
       "4    FALSE FALSE FALSE FALSE FALSE FALSE  TRUE FALSE\n",
       "5    FALSE FALSE  TRUE FALSE FALSE FALSE FALSE FALSE\n",
       "6    FALSE FALSE FALSE FALSE FALSE FALSE  TRUE FALSE\n",
       "7    FALSE FALSE FALSE FALSE FALSE FALSE  TRUE FALSE\n",
       "8    FALSE FALSE  TRUE FALSE FALSE FALSE FALSE FALSE\n",
       "9    FALSE FALSE  TRUE FALSE FALSE FALSE FALSE FALSE\n",
       "10   FALSE FALSE FALSE FALSE FALSE FALSE  TRUE FALSE\n",
       "11   FALSE FALSE FALSE FALSE FALSE FALSE  TRUE FALSE\n",
       "12   FALSE FALSE  TRUE FALSE FALSE FALSE FALSE FALSE\n",
       "13   FALSE FALSE FALSE FALSE FALSE FALSE  TRUE FALSE\n",
       "14   FALSE FALSE FALSE FALSE FALSE FALSE  TRUE FALSE\n",
       "15   FALSE FALSE FALSE FALSE FALSE FALSE  TRUE FALSE\n",
       "16   FALSE FALSE  TRUE FALSE FALSE FALSE FALSE FALSE\n",
       "17   FALSE FALSE FALSE FALSE FALSE FALSE  TRUE FALSE\n",
       "18   FALSE FALSE  TRUE FALSE FALSE FALSE FALSE FALSE\n",
       "19   FALSE FALSE  TRUE FALSE FALSE FALSE FALSE FALSE\n",
       "20   FALSE FALSE FALSE FALSE FALSE FALSE  TRUE FALSE\n",
       "21   FALSE FALSE  TRUE FALSE FALSE FALSE FALSE FALSE\n",
       "22   FALSE FALSE FALSE FALSE FALSE FALSE  TRUE FALSE\n",
       "23   FALSE FALSE  TRUE FALSE FALSE FALSE FALSE FALSE\n",
       "24   FALSE FALSE FALSE FALSE FALSE FALSE  TRUE FALSE\n",
       "25   FALSE FALSE  TRUE FALSE FALSE FALSE FALSE FALSE\n",
       "26   FALSE FALSE FALSE FALSE FALSE FALSE  TRUE FALSE\n",
       "27   FALSE FALSE FALSE FALSE FALSE FALSE  TRUE FALSE\n",
       "28   FALSE FALSE FALSE FALSE FALSE FALSE  TRUE FALSE\n",
       "29   FALSE FALSE  TRUE FALSE FALSE FALSE FALSE FALSE\n",
       "30   FALSE FALSE  TRUE FALSE FALSE FALSE FALSE FALSE\n",
       "...  ...   ...   ...   ...   ...   ...   ...   ...  \n",
       "8095 FALSE FALSE FALSE  TRUE FALSE FALSE FALSE FALSE\n",
       "8096 FALSE FALSE FALSE  TRUE FALSE FALSE FALSE FALSE\n",
       "8097 FALSE FALSE  TRUE FALSE FALSE FALSE FALSE FALSE\n",
       "8098 FALSE FALSE FALSE  TRUE FALSE FALSE FALSE FALSE\n",
       "8099 FALSE FALSE FALSE  TRUE FALSE FALSE FALSE FALSE\n",
       "8100 FALSE FALSE FALSE  TRUE FALSE FALSE FALSE FALSE\n",
       "8101 FALSE FALSE  TRUE FALSE FALSE FALSE FALSE FALSE\n",
       "8102 FALSE FALSE  TRUE FALSE FALSE FALSE FALSE FALSE\n",
       "8103 FALSE FALSE  TRUE FALSE FALSE FALSE FALSE FALSE\n",
       "8104 FALSE FALSE FALSE  TRUE FALSE FALSE FALSE FALSE\n",
       "8105 FALSE FALSE FALSE  TRUE FALSE FALSE FALSE FALSE\n",
       "8106 FALSE FALSE  TRUE FALSE FALSE FALSE FALSE FALSE\n",
       "8107 FALSE FALSE  TRUE FALSE FALSE FALSE FALSE FALSE\n",
       "8108 FALSE FALSE  TRUE FALSE FALSE FALSE FALSE FALSE\n",
       "8109 FALSE FALSE FALSE  TRUE FALSE FALSE FALSE FALSE\n",
       "8110 FALSE FALSE FALSE  TRUE FALSE FALSE FALSE FALSE\n",
       "8111 FALSE FALSE FALSE  TRUE FALSE FALSE FALSE FALSE\n",
       "8112 FALSE FALSE FALSE  TRUE FALSE FALSE FALSE FALSE\n",
       "8113 FALSE FALSE FALSE  TRUE FALSE FALSE FALSE FALSE\n",
       "8114 FALSE FALSE FALSE  TRUE FALSE FALSE FALSE FALSE\n",
       "8115 FALSE FALSE FALSE  TRUE FALSE FALSE FALSE FALSE\n",
       "8116 FALSE FALSE  TRUE FALSE FALSE FALSE FALSE FALSE\n",
       "8117 FALSE FALSE FALSE  TRUE FALSE FALSE FALSE FALSE\n",
       "8118 FALSE FALSE  TRUE FALSE FALSE FALSE FALSE FALSE\n",
       "8119 FALSE FALSE FALSE  TRUE FALSE FALSE FALSE FALSE\n",
       "8120 FALSE FALSE FALSE  TRUE FALSE FALSE FALSE FALSE\n",
       "8121 FALSE FALSE FALSE  TRUE FALSE FALSE FALSE FALSE\n",
       "8122 FALSE FALSE FALSE  TRUE FALSE FALSE FALSE FALSE\n",
       "8123 FALSE FALSE FALSE  TRUE FALSE FALSE FALSE FALSE\n",
       "8124 FALSE FALSE FALSE  TRUE FALSE FALSE FALSE FALSE"
      ]
     },
     "metadata": {},
     "output_type": "display_data"
    }
   ],
   "source": [
    "arrange(mr2, desc(V1))"
   ]
  },
  {
   "cell_type": "markdown",
   "id": "36fb9b6e",
   "metadata": {},
   "source": [
    "## column 이름과 one-hot encoding을 한번에 처리하기"
   ]
  },
  {
   "cell_type": "code",
   "execution_count": 34,
   "id": "68e1352e",
   "metadata": {},
   "outputs": [
    {
     "data": {
      "text/html": [
       "<table>\n",
       "<thead><tr><th scope=col>V1</th></tr></thead>\n",
       "<tbody>\n",
       "\t<tr><td>p</td></tr>\n",
       "\t<tr><td>e</td></tr>\n",
       "\t<tr><td>e</td></tr>\n",
       "\t<tr><td>p</td></tr>\n",
       "\t<tr><td>e</td></tr>\n",
       "\t<tr><td>e</td></tr>\n",
       "</tbody>\n",
       "</table>\n"
      ],
      "text/latex": [
       "\\begin{tabular}{r|l}\n",
       " V1\\\\\n",
       "\\hline\n",
       "\t p\\\\\n",
       "\t e\\\\\n",
       "\t e\\\\\n",
       "\t p\\\\\n",
       "\t e\\\\\n",
       "\t e\\\\\n",
       "\\end{tabular}\n"
      ],
      "text/markdown": [
       "\n",
       "| V1 |\n",
       "|---|\n",
       "| p |\n",
       "| e |\n",
       "| e |\n",
       "| p |\n",
       "| e |\n",
       "| e |\n",
       "\n"
      ],
      "text/plain": [
       "  V1\n",
       "1 p \n",
       "2 e \n",
       "3 e \n",
       "4 p \n",
       "5 e \n",
       "6 e "
      ]
     },
     "metadata": {},
     "output_type": "display_data"
    }
   ],
   "source": [
    "mr3 <- data.frame(V1 = mr$V1)\n",
    "head(mr3)"
   ]
  },
  {
   "cell_type": "code",
   "execution_count": 36,
   "id": "591b6dc6",
   "metadata": {},
   "outputs": [
    {
     "data": {
      "text/html": [
       "<table>\n",
       "<thead><tr><th scope=col>V1</th><th scope=col>V2_1</th><th scope=col>V2_2</th><th scope=col>V2_3</th><th scope=col>V2_4</th><th scope=col>V2_5</th><th scope=col>V2_6</th><th scope=col>V3_1</th><th scope=col>V3_2</th><th scope=col>V3_3</th><th scope=col>...</th><th scope=col>V22_4</th><th scope=col>V22_5</th><th scope=col>V22_6</th><th scope=col>V23_1</th><th scope=col>V23_2</th><th scope=col>V23_3</th><th scope=col>V23_4</th><th scope=col>V23_5</th><th scope=col>V23_6</th><th scope=col>V23_7</th></tr></thead>\n",
       "<tbody>\n",
       "\t<tr><td>p    </td><td>FALSE</td><td>FALSE</td><td>FALSE</td><td>FALSE</td><td>FALSE</td><td> TRUE</td><td>FALSE</td><td>FALSE</td><td> TRUE</td><td>...  </td><td> TRUE</td><td>FALSE</td><td>FALSE</td><td>FALSE</td><td>FALSE</td><td>FALSE</td><td>FALSE</td><td>FALSE</td><td> TRUE</td><td>FALSE</td></tr>\n",
       "\t<tr><td>e    </td><td>FALSE</td><td>FALSE</td><td>FALSE</td><td>FALSE</td><td>FALSE</td><td> TRUE</td><td>FALSE</td><td>FALSE</td><td> TRUE</td><td>...  </td><td>FALSE</td><td>FALSE</td><td>FALSE</td><td>FALSE</td><td> TRUE</td><td>FALSE</td><td>FALSE</td><td>FALSE</td><td>FALSE</td><td>FALSE</td></tr>\n",
       "\t<tr><td>e    </td><td> TRUE</td><td>FALSE</td><td>FALSE</td><td>FALSE</td><td>FALSE</td><td>FALSE</td><td>FALSE</td><td>FALSE</td><td> TRUE</td><td>...  </td><td>FALSE</td><td>FALSE</td><td>FALSE</td><td>FALSE</td><td>FALSE</td><td>FALSE</td><td> TRUE</td><td>FALSE</td><td>FALSE</td><td>FALSE</td></tr>\n",
       "\t<tr><td>p    </td><td>FALSE</td><td>FALSE</td><td>FALSE</td><td>FALSE</td><td>FALSE</td><td> TRUE</td><td>FALSE</td><td>FALSE</td><td>FALSE</td><td>...  </td><td> TRUE</td><td>FALSE</td><td>FALSE</td><td>FALSE</td><td>FALSE</td><td>FALSE</td><td>FALSE</td><td>FALSE</td><td> TRUE</td><td>FALSE</td></tr>\n",
       "\t<tr><td>e    </td><td>FALSE</td><td>FALSE</td><td>FALSE</td><td>FALSE</td><td>FALSE</td><td> TRUE</td><td>FALSE</td><td>FALSE</td><td> TRUE</td><td>...  </td><td>FALSE</td><td>FALSE</td><td>FALSE</td><td>FALSE</td><td> TRUE</td><td>FALSE</td><td>FALSE</td><td>FALSE</td><td>FALSE</td><td>FALSE</td></tr>\n",
       "\t<tr><td>e    </td><td>FALSE</td><td>FALSE</td><td>FALSE</td><td>FALSE</td><td>FALSE</td><td> TRUE</td><td>FALSE</td><td>FALSE</td><td>FALSE</td><td>...  </td><td>FALSE</td><td>FALSE</td><td>FALSE</td><td>FALSE</td><td> TRUE</td><td>FALSE</td><td>FALSE</td><td>FALSE</td><td>FALSE</td><td>FALSE</td></tr>\n",
       "</tbody>\n",
       "</table>\n"
      ],
      "text/latex": [
       "\\begin{tabular}{r|llllllllllllllllllllllllllllllllllllllllllllllllllllllllllllllllllllllllllllllllllllllllllllllllllllllllllllllllllllll}\n",
       " V1 & V2\\_1 & V2\\_2 & V2\\_3 & V2\\_4 & V2\\_5 & V2\\_6 & V3\\_1 & V3\\_2 & V3\\_3 & ... & V22\\_4 & V22\\_5 & V22\\_6 & V23\\_1 & V23\\_2 & V23\\_3 & V23\\_4 & V23\\_5 & V23\\_6 & V23\\_7\\\\\n",
       "\\hline\n",
       "\t p     & FALSE & FALSE & FALSE & FALSE & FALSE &  TRUE & FALSE & FALSE &  TRUE & ...   &  TRUE & FALSE & FALSE & FALSE & FALSE & FALSE & FALSE & FALSE &  TRUE & FALSE\\\\\n",
       "\t e     & FALSE & FALSE & FALSE & FALSE & FALSE &  TRUE & FALSE & FALSE &  TRUE & ...   & FALSE & FALSE & FALSE & FALSE &  TRUE & FALSE & FALSE & FALSE & FALSE & FALSE\\\\\n",
       "\t e     &  TRUE & FALSE & FALSE & FALSE & FALSE & FALSE & FALSE & FALSE &  TRUE & ...   & FALSE & FALSE & FALSE & FALSE & FALSE & FALSE &  TRUE & FALSE & FALSE & FALSE\\\\\n",
       "\t p     & FALSE & FALSE & FALSE & FALSE & FALSE &  TRUE & FALSE & FALSE & FALSE & ...   &  TRUE & FALSE & FALSE & FALSE & FALSE & FALSE & FALSE & FALSE &  TRUE & FALSE\\\\\n",
       "\t e     & FALSE & FALSE & FALSE & FALSE & FALSE &  TRUE & FALSE & FALSE &  TRUE & ...   & FALSE & FALSE & FALSE & FALSE &  TRUE & FALSE & FALSE & FALSE & FALSE & FALSE\\\\\n",
       "\t e     & FALSE & FALSE & FALSE & FALSE & FALSE &  TRUE & FALSE & FALSE & FALSE & ...   & FALSE & FALSE & FALSE & FALSE &  TRUE & FALSE & FALSE & FALSE & FALSE & FALSE\\\\\n",
       "\\end{tabular}\n"
      ],
      "text/markdown": [
       "\n",
       "| V1 | V2_1 | V2_2 | V2_3 | V2_4 | V2_5 | V2_6 | V3_1 | V3_2 | V3_3 | ... | V22_4 | V22_5 | V22_6 | V23_1 | V23_2 | V23_3 | V23_4 | V23_5 | V23_6 | V23_7 |\n",
       "|---|---|---|---|---|---|---|---|---|---|---|---|---|---|---|---|---|---|---|---|---|\n",
       "| p     | FALSE | FALSE | FALSE | FALSE | FALSE |  TRUE | FALSE | FALSE |  TRUE | ...   |  TRUE | FALSE | FALSE | FALSE | FALSE | FALSE | FALSE | FALSE |  TRUE | FALSE |\n",
       "| e     | FALSE | FALSE | FALSE | FALSE | FALSE |  TRUE | FALSE | FALSE |  TRUE | ...   | FALSE | FALSE | FALSE | FALSE |  TRUE | FALSE | FALSE | FALSE | FALSE | FALSE |\n",
       "| e     |  TRUE | FALSE | FALSE | FALSE | FALSE | FALSE | FALSE | FALSE |  TRUE | ...   | FALSE | FALSE | FALSE | FALSE | FALSE | FALSE |  TRUE | FALSE | FALSE | FALSE |\n",
       "| p     | FALSE | FALSE | FALSE | FALSE | FALSE |  TRUE | FALSE | FALSE | FALSE | ...   |  TRUE | FALSE | FALSE | FALSE | FALSE | FALSE | FALSE | FALSE |  TRUE | FALSE |\n",
       "| e     | FALSE | FALSE | FALSE | FALSE | FALSE |  TRUE | FALSE | FALSE |  TRUE | ...   | FALSE | FALSE | FALSE | FALSE |  TRUE | FALSE | FALSE | FALSE | FALSE | FALSE |\n",
       "| e     | FALSE | FALSE | FALSE | FALSE | FALSE |  TRUE | FALSE | FALSE | FALSE | ...   | FALSE | FALSE | FALSE | FALSE |  TRUE | FALSE | FALSE | FALSE | FALSE | FALSE |\n",
       "\n"
      ],
      "text/plain": [
       "  V1 V2_1  V2_2  V2_3  V2_4  V2_5  V2_6  V3_1  V3_2  V3_3  ... V22_4 V22_5\n",
       "1 p  FALSE FALSE FALSE FALSE FALSE  TRUE FALSE FALSE  TRUE ...  TRUE FALSE\n",
       "2 e  FALSE FALSE FALSE FALSE FALSE  TRUE FALSE FALSE  TRUE ... FALSE FALSE\n",
       "3 e   TRUE FALSE FALSE FALSE FALSE FALSE FALSE FALSE  TRUE ... FALSE FALSE\n",
       "4 p  FALSE FALSE FALSE FALSE FALSE  TRUE FALSE FALSE FALSE ...  TRUE FALSE\n",
       "5 e  FALSE FALSE FALSE FALSE FALSE  TRUE FALSE FALSE  TRUE ... FALSE FALSE\n",
       "6 e  FALSE FALSE FALSE FALSE FALSE  TRUE FALSE FALSE FALSE ... FALSE FALSE\n",
       "  V22_6 V23_1 V23_2 V23_3 V23_4 V23_5 V23_6 V23_7\n",
       "1 FALSE FALSE FALSE FALSE FALSE FALSE  TRUE FALSE\n",
       "2 FALSE FALSE  TRUE FALSE FALSE FALSE FALSE FALSE\n",
       "3 FALSE FALSE FALSE FALSE  TRUE FALSE FALSE FALSE\n",
       "4 FALSE FALSE FALSE FALSE FALSE FALSE  TRUE FALSE\n",
       "5 FALSE FALSE  TRUE FALSE FALSE FALSE FALSE FALSE\n",
       "6 FALSE FALSE  TRUE FALSE FALSE FALSE FALSE FALSE"
      ]
     },
     "metadata": {},
     "output_type": "display_data"
    }
   ],
   "source": [
    "count = 2 #\n",
    "for( i in 2:23 ) {\n",
    "    for (j in sort(unique(mr[,i]))) {\n",
    "        mr3 <- cbind(mr3, mr[,i] == j)\n",
    "        colnames(mr3)[count] <- paste(\"V\",i,\"_\",j,sep=\"\")\n",
    "        count <- count + 1\n",
    "    }\n",
    "}\n",
    "head(mr3)"
   ]
  },
  {
   "cell_type": "code",
   "execution_count": 38,
   "id": "cdd3030c",
   "metadata": {},
   "outputs": [],
   "source": [
    "mr3 <- arrange(mr3, V1)"
   ]
  },
  {
   "cell_type": "code",
   "execution_count": 39,
   "id": "412a0cc6",
   "metadata": {},
   "outputs": [
    {
     "data": {
      "text/plain": [
       "\n",
       "   e    p \n",
       "4208 3916 "
      ]
     },
     "metadata": {},
     "output_type": "display_data"
    }
   ],
   "source": [
    "table(mr3$V1)"
   ]
  },
  {
   "cell_type": "code",
   "execution_count": 59,
   "id": "56f49346",
   "metadata": {},
   "outputs": [],
   "source": [
    "library(caret)\n",
    "library(randomForest)\n",
    "library(nnet)"
   ]
  },
  {
   "cell_type": "code",
   "execution_count": 48,
   "id": "d4a5e1ce",
   "metadata": {},
   "outputs": [],
   "source": [
    "set.seed(1234)\n",
    "# Sampling\n",
    "samp <- createDataPartition(mr3$V1, p = 0.7, list=F )\n",
    "\n",
    "# 학습용 데이터\n",
    "data.tr <- mr3[samp,]\n",
    "# 테스트 용 데이터\n",
    "data.test <- mr3[-samp,]\n",
    "x <- subset(data.test, select = -V1)\n",
    "y <- data.test$V1"
   ]
  },
  {
   "cell_type": "code",
   "execution_count": 55,
   "id": "79be9db7",
   "metadata": {},
   "outputs": [
    {
     "data": {
      "text/html": [
       "5688"
      ],
      "text/latex": [
       "5688"
      ],
      "text/markdown": [
       "5688"
      ],
      "text/plain": [
       "[1] 5688"
      ]
     },
     "metadata": {},
     "output_type": "display_data"
    },
    {
     "data": {
      "text/html": [
       "2436"
      ],
      "text/latex": [
       "2436"
      ],
      "text/markdown": [
       "2436"
      ],
      "text/plain": [
       "[1] 2436"
      ]
     },
     "metadata": {},
     "output_type": "display_data"
    }
   ],
   "source": [
    "nrow(data.tr)\n",
    "nrow(data.test)"
   ]
  },
  {
   "cell_type": "code",
   "execution_count": 56,
   "id": "97f962c6",
   "metadata": {},
   "outputs": [
    {
     "data": {
      "text/html": [
       "<table>\n",
       "<thead><tr><th></th><th scope=col>V2_1</th><th scope=col>V2_2</th><th scope=col>V2_3</th><th scope=col>V2_4</th><th scope=col>V2_5</th><th scope=col>V2_6</th><th scope=col>V3_1</th><th scope=col>V3_2</th><th scope=col>V3_3</th><th scope=col>V3_4</th><th scope=col>...</th><th scope=col>V22_4</th><th scope=col>V22_5</th><th scope=col>V22_6</th><th scope=col>V23_1</th><th scope=col>V23_2</th><th scope=col>V23_3</th><th scope=col>V23_4</th><th scope=col>V23_5</th><th scope=col>V23_6</th><th scope=col>V23_7</th></tr></thead>\n",
       "<tbody>\n",
       "\t<tr><th scope=row>1</th><td>FALSE</td><td>FALSE</td><td>FALSE</td><td>FALSE</td><td>FALSE</td><td> TRUE</td><td>FALSE</td><td>FALSE</td><td> TRUE</td><td>FALSE</td><td>...  </td><td>FALSE</td><td>FALSE</td><td>FALSE</td><td>FALSE</td><td> TRUE</td><td>FALSE</td><td>FALSE</td><td>FALSE</td><td>FALSE</td><td>FALSE</td></tr>\n",
       "\t<tr><th scope=row>8</th><td>FALSE</td><td>FALSE</td><td>FALSE</td><td>FALSE</td><td>FALSE</td><td> TRUE</td><td>FALSE</td><td>FALSE</td><td>FALSE</td><td> TRUE</td><td>...  </td><td>FALSE</td><td>FALSE</td><td>FALSE</td><td>FALSE</td><td> TRUE</td><td>FALSE</td><td>FALSE</td><td>FALSE</td><td>FALSE</td><td>FALSE</td></tr>\n",
       "\t<tr><th scope=row>14</th><td> TRUE</td><td>FALSE</td><td>FALSE</td><td>FALSE</td><td>FALSE</td><td>FALSE</td><td>FALSE</td><td>FALSE</td><td> TRUE</td><td>FALSE</td><td>...  </td><td> TRUE</td><td>FALSE</td><td>FALSE</td><td>FALSE</td><td>FALSE</td><td>FALSE</td><td> TRUE</td><td>FALSE</td><td>FALSE</td><td>FALSE</td></tr>\n",
       "\t<tr><th scope=row>18</th><td>FALSE</td><td>FALSE</td><td>FALSE</td><td>FALSE</td><td>FALSE</td><td> TRUE</td><td>FALSE</td><td>FALSE</td><td>FALSE</td><td> TRUE</td><td>...  </td><td>FALSE</td><td>FALSE</td><td>FALSE</td><td>FALSE</td><td>FALSE</td><td>FALSE</td><td> TRUE</td><td>FALSE</td><td>FALSE</td><td>FALSE</td></tr>\n",
       "\t<tr><th scope=row>20</th><td>FALSE</td><td>FALSE</td><td> TRUE</td><td>FALSE</td><td>FALSE</td><td>FALSE</td><td> TRUE</td><td>FALSE</td><td>FALSE</td><td>FALSE</td><td>...  </td><td>FALSE</td><td>FALSE</td><td> TRUE</td><td>FALSE</td><td>FALSE</td><td>FALSE</td><td>FALSE</td><td>FALSE</td><td> TRUE</td><td>FALSE</td></tr>\n",
       "\t<tr><th scope=row>33</th><td>FALSE</td><td>FALSE</td><td>FALSE</td><td>FALSE</td><td>FALSE</td><td> TRUE</td><td>FALSE</td><td>FALSE</td><td> TRUE</td><td>FALSE</td><td>...  </td><td>FALSE</td><td>FALSE</td><td>FALSE</td><td>FALSE</td><td>FALSE</td><td>FALSE</td><td> TRUE</td><td>FALSE</td><td>FALSE</td><td>FALSE</td></tr>\n",
       "</tbody>\n",
       "</table>\n"
      ],
      "text/latex": [
       "\\begin{tabular}{r|lllllllllllllllllllllllllllllllllllllllllllllllllllllllllllllllllllllllllllllllllllllllllllllllllllllllllllllllllllll}\n",
       "  & V2\\_1 & V2\\_2 & V2\\_3 & V2\\_4 & V2\\_5 & V2\\_6 & V3\\_1 & V3\\_2 & V3\\_3 & V3\\_4 & ... & V22\\_4 & V22\\_5 & V22\\_6 & V23\\_1 & V23\\_2 & V23\\_3 & V23\\_4 & V23\\_5 & V23\\_6 & V23\\_7\\\\\n",
       "\\hline\n",
       "\t1 & FALSE & FALSE & FALSE & FALSE & FALSE &  TRUE & FALSE & FALSE &  TRUE & FALSE & ...   & FALSE & FALSE & FALSE & FALSE &  TRUE & FALSE & FALSE & FALSE & FALSE & FALSE\\\\\n",
       "\t8 & FALSE & FALSE & FALSE & FALSE & FALSE &  TRUE & FALSE & FALSE & FALSE &  TRUE & ...   & FALSE & FALSE & FALSE & FALSE &  TRUE & FALSE & FALSE & FALSE & FALSE & FALSE\\\\\n",
       "\t14 &  TRUE & FALSE & FALSE & FALSE & FALSE & FALSE & FALSE & FALSE &  TRUE & FALSE & ...   &  TRUE & FALSE & FALSE & FALSE & FALSE & FALSE &  TRUE & FALSE & FALSE & FALSE\\\\\n",
       "\t18 & FALSE & FALSE & FALSE & FALSE & FALSE &  TRUE & FALSE & FALSE & FALSE &  TRUE & ...   & FALSE & FALSE & FALSE & FALSE & FALSE & FALSE &  TRUE & FALSE & FALSE & FALSE\\\\\n",
       "\t20 & FALSE & FALSE &  TRUE & FALSE & FALSE & FALSE &  TRUE & FALSE & FALSE & FALSE & ...   & FALSE & FALSE &  TRUE & FALSE & FALSE & FALSE & FALSE & FALSE &  TRUE & FALSE\\\\\n",
       "\t33 & FALSE & FALSE & FALSE & FALSE & FALSE &  TRUE & FALSE & FALSE &  TRUE & FALSE & ...   & FALSE & FALSE & FALSE & FALSE & FALSE & FALSE &  TRUE & FALSE & FALSE & FALSE\\\\\n",
       "\\end{tabular}\n"
      ],
      "text/markdown": [
       "\n",
       "| <!--/--> | V2_1 | V2_2 | V2_3 | V2_4 | V2_5 | V2_6 | V3_1 | V3_2 | V3_3 | V3_4 | ... | V22_4 | V22_5 | V22_6 | V23_1 | V23_2 | V23_3 | V23_4 | V23_5 | V23_6 | V23_7 |\n",
       "|---|---|---|---|---|---|---|---|---|---|---|---|---|---|---|---|---|---|---|---|---|---|\n",
       "| 1 | FALSE | FALSE | FALSE | FALSE | FALSE |  TRUE | FALSE | FALSE |  TRUE | FALSE | ...   | FALSE | FALSE | FALSE | FALSE |  TRUE | FALSE | FALSE | FALSE | FALSE | FALSE |\n",
       "| 8 | FALSE | FALSE | FALSE | FALSE | FALSE |  TRUE | FALSE | FALSE | FALSE |  TRUE | ...   | FALSE | FALSE | FALSE | FALSE |  TRUE | FALSE | FALSE | FALSE | FALSE | FALSE |\n",
       "| 14 |  TRUE | FALSE | FALSE | FALSE | FALSE | FALSE | FALSE | FALSE |  TRUE | FALSE | ...   |  TRUE | FALSE | FALSE | FALSE | FALSE | FALSE |  TRUE | FALSE | FALSE | FALSE |\n",
       "| 18 | FALSE | FALSE | FALSE | FALSE | FALSE |  TRUE | FALSE | FALSE | FALSE |  TRUE | ...   | FALSE | FALSE | FALSE | FALSE | FALSE | FALSE |  TRUE | FALSE | FALSE | FALSE |\n",
       "| 20 | FALSE | FALSE |  TRUE | FALSE | FALSE | FALSE |  TRUE | FALSE | FALSE | FALSE | ...   | FALSE | FALSE |  TRUE | FALSE | FALSE | FALSE | FALSE | FALSE |  TRUE | FALSE |\n",
       "| 33 | FALSE | FALSE | FALSE | FALSE | FALSE |  TRUE | FALSE | FALSE |  TRUE | FALSE | ...   | FALSE | FALSE | FALSE | FALSE | FALSE | FALSE |  TRUE | FALSE | FALSE | FALSE |\n",
       "\n"
      ],
      "text/plain": [
       "   V2_1  V2_2  V2_3  V2_4  V2_5  V2_6  V3_1  V3_2  V3_3  V3_4  ... V22_4 V22_5\n",
       "1  FALSE FALSE FALSE FALSE FALSE  TRUE FALSE FALSE  TRUE FALSE ... FALSE FALSE\n",
       "8  FALSE FALSE FALSE FALSE FALSE  TRUE FALSE FALSE FALSE  TRUE ... FALSE FALSE\n",
       "14  TRUE FALSE FALSE FALSE FALSE FALSE FALSE FALSE  TRUE FALSE ...  TRUE FALSE\n",
       "18 FALSE FALSE FALSE FALSE FALSE  TRUE FALSE FALSE FALSE  TRUE ... FALSE FALSE\n",
       "20 FALSE FALSE  TRUE FALSE FALSE FALSE  TRUE FALSE FALSE FALSE ... FALSE FALSE\n",
       "33 FALSE FALSE FALSE FALSE FALSE  TRUE FALSE FALSE  TRUE FALSE ... FALSE FALSE\n",
       "   V22_6 V23_1 V23_2 V23_3 V23_4 V23_5 V23_6 V23_7\n",
       "1  FALSE FALSE  TRUE FALSE FALSE FALSE FALSE FALSE\n",
       "8  FALSE FALSE  TRUE FALSE FALSE FALSE FALSE FALSE\n",
       "14 FALSE FALSE FALSE FALSE  TRUE FALSE FALSE FALSE\n",
       "18 FALSE FALSE FALSE FALSE  TRUE FALSE FALSE FALSE\n",
       "20  TRUE FALSE FALSE FALSE FALSE FALSE  TRUE FALSE\n",
       "33 FALSE FALSE FALSE FALSE  TRUE FALSE FALSE FALSE"
      ]
     },
     "metadata": {},
     "output_type": "display_data"
    }
   ],
   "source": [
    "head(x)"
   ]
  },
  {
   "cell_type": "code",
   "execution_count": 57,
   "id": "8e5d0396",
   "metadata": {
    "scrolled": true
   },
   "outputs": [
    {
     "data": {
      "text/html": [
       "<ol class=list-inline>\n",
       "\t<li>e</li>\n",
       "\t<li>e</li>\n",
       "\t<li>e</li>\n",
       "\t<li>e</li>\n",
       "\t<li>e</li>\n",
       "\t<li>e</li>\n",
       "</ol>\n",
       "\n",
       "<details>\n",
       "\t<summary style=display:list-item;cursor:pointer>\n",
       "\t\t<strong>Levels</strong>:\n",
       "\t</summary>\n",
       "\t<ol class=list-inline>\n",
       "\t\t<li>'e'</li>\n",
       "\t\t<li>'p'</li>\n",
       "\t</ol>\n",
       "</details>"
      ],
      "text/latex": [
       "\\begin{enumerate*}\n",
       "\\item e\n",
       "\\item e\n",
       "\\item e\n",
       "\\item e\n",
       "\\item e\n",
       "\\item e\n",
       "\\end{enumerate*}\n",
       "\n",
       "\\emph{Levels}: \\begin{enumerate*}\n",
       "\\item 'e'\n",
       "\\item 'p'\n",
       "\\end{enumerate*}\n"
      ],
      "text/markdown": [
       "1. e\n",
       "2. e\n",
       "3. e\n",
       "4. e\n",
       "5. e\n",
       "6. e\n",
       "\n",
       "\n",
       "\n",
       "**Levels**: 1. 'e'\n",
       "2. 'p'\n",
       "\n",
       "\n"
      ],
      "text/plain": [
       "[1] e e e e e e\n",
       "Levels: e p"
      ]
     },
     "metadata": {},
     "output_type": "display_data"
    }
   ],
   "source": [
    "head(y)"
   ]
  },
  {
   "cell_type": "code",
   "execution_count": 66,
   "id": "f622ee91",
   "metadata": {},
   "outputs": [
    {
     "name": "stdout",
     "output_type": "stream",
     "text": [
      "# weights:  953\n",
      "initial  value 3917.572140 \n",
      "iter  10 value 27.923408\n",
      "iter  20 value 0.868047\n",
      "iter  30 value 0.020031\n",
      "iter  40 value 0.001186\n",
      "iter  50 value 0.000433\n",
      "final  value 0.000098 \n",
      "converged\n"
     ]
    }
   ],
   "source": [
    "# 학습시키기\n",
    "model.rf <- randomForest(V1~.,data=data.tr, ntree = 100 )\n",
    "model.nnet <- nnet(V1~., data=data.tr, size = 8)"
   ]
  },
  {
   "cell_type": "code",
   "execution_count": 67,
   "id": "4c7bee75",
   "metadata": {},
   "outputs": [],
   "source": [
    "# 검증하기\n",
    "pred <- predict(model.rf, x)\n",
    "pred2 <- predict(model.nnet, x, type=\"class\")"
   ]
  },
  {
   "cell_type": "code",
   "execution_count": 68,
   "id": "b594acb6",
   "metadata": {},
   "outputs": [
    {
     "data": {
      "text/html": [
       "1"
      ],
      "text/latex": [
       "1"
      ],
      "text/markdown": [
       "1"
      ],
      "text/plain": [
       "[1] 1"
      ]
     },
     "metadata": {},
     "output_type": "display_data"
    },
    {
     "data": {
      "text/html": [
       "1"
      ],
      "text/latex": [
       "1"
      ],
      "text/markdown": [
       "1"
      ],
      "text/plain": [
       "[1] 1"
      ]
     },
     "metadata": {},
     "output_type": "display_data"
    }
   ],
   "source": [
    "mean(pred == y)\n",
    "mean(pred2 == y)"
   ]
  },
  {
   "cell_type": "code",
   "execution_count": 69,
   "id": "b4c0b974",
   "metadata": {},
   "outputs": [
    {
     "data": {
      "text/plain": [
       "    y\n",
       "pred    e    p\n",
       "   e 1262    0\n",
       "   p    0 1174"
      ]
     },
     "metadata": {},
     "output_type": "display_data"
    },
    {
     "data": {
      "text/plain": [
       "     y\n",
       "pred2    e    p\n",
       "    e 1262    0\n",
       "    p    0 1174"
      ]
     },
     "metadata": {},
     "output_type": "display_data"
    }
   ],
   "source": [
    "table(pred, y)\n",
    "table(pred2, y)"
   ]
  },
  {
   "cell_type": "code",
   "execution_count": null,
   "id": "0550a4b3",
   "metadata": {},
   "outputs": [],
   "source": []
  },
  {
   "cell_type": "code",
   "execution_count": null,
   "id": "19e4a63a",
   "metadata": {},
   "outputs": [],
   "source": []
  },
  {
   "cell_type": "code",
   "execution_count": null,
   "id": "768cefe1",
   "metadata": {},
   "outputs": [],
   "source": []
  },
  {
   "cell_type": "code",
   "execution_count": null,
   "id": "ed3ccbe8",
   "metadata": {},
   "outputs": [],
   "source": []
  }
 ],
 "metadata": {
  "kernelspec": {
   "display_name": "R",
   "language": "R",
   "name": "ir"
  },
  "language_info": {
   "codemirror_mode": "r",
   "file_extension": ".r",
   "mimetype": "text/x-r-source",
   "name": "R",
   "pygments_lexer": "r",
   "version": "3.6.1"
  }
 },
 "nbformat": 4,
 "nbformat_minor": 5
}
