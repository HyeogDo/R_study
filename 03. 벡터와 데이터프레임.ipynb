{
 "cells": [
  {
   "cell_type": "code",
   "execution_count": 2,
   "metadata": {
    "vscode": {
     "languageId": "r"
    }
   },
   "outputs": [
    {
     "name": "stdout",
     "output_type": "stream",
     "text": [
      " [1] \"red\"  \"blue\" \"red\"  \"blue\" \"red\"  \"blue\" \"red\"  \"blue\" \"red\"  \"blue\"\n",
      "[11] \"red\"  \"blue\" \"red\"  \"blue\" \"red\"  \"blue\" \"red\"  \"blue\" \"red\"  \"blue\"\n",
      "[21] \"red\"  \"blue\" \"red\"  \"blue\" \"red\"  \"blue\" \"red\"  \"blue\" \"red\"  \"blue\"\n",
      "[31] \"red\"  \"blue\" \"red\"  \"blue\" \"red\"  \"blue\" \"red\"  \"blue\" \"red\"  \"blue\"\n"
     ]
    }
   ],
   "source": [
    "# red라는 글자와 blue라는 글자를 20개 만들기\n",
    "# red, blue, red, blue, ....\n",
    "\n",
    "print(rep(c(\"red\",\"blue\"), 20))"
   ]
  },
  {
   "cell_type": "code",
   "execution_count": 7,
   "metadata": {
    "vscode": {
     "languageId": "r"
    }
   },
   "outputs": [
    {
     "name": "stdout",
     "output_type": "stream",
     "text": [
      " [1]  1  3  5  1  2  3  4  5  6  7  8  9 10  1  3  5  7  9  1  2  3  1  2  3\n"
     ]
    }
   ],
   "source": [
    "print(c(1,3,5,1:10,seq(1,9,2),rep(1:3, 2)))"
   ]
  },
  {
   "cell_type": "code",
   "execution_count": 12,
   "metadata": {
    "vscode": {
     "languageId": "r"
    }
   },
   "outputs": [
    {
     "data": {
      "text/html": [
       "<table>\n",
       "<thead><tr><th scope=col>Sepal.Length</th><th scope=col>Sepal.Width</th><th scope=col>Petal.Length</th><th scope=col>Petal.Width</th><th scope=col>Species</th></tr></thead>\n",
       "<tbody>\n",
       "\t<tr><td>5.1   </td><td>3.5   </td><td>1.4   </td><td>0.2   </td><td>setosa</td></tr>\n",
       "\t<tr><td>4.9   </td><td>3.0   </td><td>1.4   </td><td>0.2   </td><td>setosa</td></tr>\n",
       "\t<tr><td>4.7   </td><td>3.2   </td><td>1.3   </td><td>0.2   </td><td>setosa</td></tr>\n",
       "\t<tr><td>4.6   </td><td>3.1   </td><td>1.5   </td><td>0.2   </td><td>setosa</td></tr>\n",
       "\t<tr><td>5.0   </td><td>3.6   </td><td>1.4   </td><td>0.2   </td><td>setosa</td></tr>\n",
       "</tbody>\n",
       "</table>\n"
      ],
      "text/latex": [
       "\\begin{tabular}{r|lllll}\n",
       " Sepal.Length & Sepal.Width & Petal.Length & Petal.Width & Species\\\\\n",
       "\\hline\n",
       "\t 5.1    & 3.5    & 1.4    & 0.2    & setosa\\\\\n",
       "\t 4.9    & 3.0    & 1.4    & 0.2    & setosa\\\\\n",
       "\t 4.7    & 3.2    & 1.3    & 0.2    & setosa\\\\\n",
       "\t 4.6    & 3.1    & 1.5    & 0.2    & setosa\\\\\n",
       "\t 5.0    & 3.6    & 1.4    & 0.2    & setosa\\\\\n",
       "\\end{tabular}\n"
      ],
      "text/markdown": [
       "\n",
       "| Sepal.Length | Sepal.Width | Petal.Length | Petal.Width | Species |\n",
       "|---|---|---|---|---|\n",
       "| 5.1    | 3.5    | 1.4    | 0.2    | setosa |\n",
       "| 4.9    | 3.0    | 1.4    | 0.2    | setosa |\n",
       "| 4.7    | 3.2    | 1.3    | 0.2    | setosa |\n",
       "| 4.6    | 3.1    | 1.5    | 0.2    | setosa |\n",
       "| 5.0    | 3.6    | 1.4    | 0.2    | setosa |\n",
       "\n"
      ],
      "text/plain": [
       "  Sepal.Length Sepal.Width Petal.Length Petal.Width Species\n",
       "1 5.1          3.5         1.4          0.2         setosa \n",
       "2 4.9          3.0         1.4          0.2         setosa \n",
       "3 4.7          3.2         1.3          0.2         setosa \n",
       "4 4.6          3.1         1.5          0.2         setosa \n",
       "5 5.0          3.6         1.4          0.2         setosa "
      ]
     },
     "metadata": {},
     "output_type": "display_data"
    }
   ],
   "source": [
    "# iris의 1~5번째 줄의 데이터만 추출해서 변수(데이터프레임) 만들기\n",
    "head(iris, 5)\n",
    "irisHead <- iris[1:5,]"
   ]
  },
  {
   "cell_type": "code",
   "execution_count": 14,
   "metadata": {
    "vscode": {
     "languageId": "r"
    }
   },
   "outputs": [
    {
     "data": {
      "text/html": [
       "<table>\n",
       "<thead><tr><th></th><th scope=col>1</th><th scope=col>2</th><th scope=col>3</th><th scope=col>4</th><th scope=col>5</th></tr></thead>\n",
       "<tbody>\n",
       "\t<tr><th scope=row>Sepal.Length</th><td>5.1   </td><td>4.9   </td><td>4.7   </td><td>4.6   </td><td>5.0   </td></tr>\n",
       "\t<tr><th scope=row>Sepal.Width</th><td>3.5   </td><td>3.0   </td><td>3.2   </td><td>3.1   </td><td>3.6   </td></tr>\n",
       "\t<tr><th scope=row>Petal.Length</th><td>1.4   </td><td>1.4   </td><td>1.3   </td><td>1.5   </td><td>1.4   </td></tr>\n",
       "\t<tr><th scope=row>Petal.Width</th><td>0.2   </td><td>0.2   </td><td>0.2   </td><td>0.2   </td><td>0.2   </td></tr>\n",
       "\t<tr><th scope=row>Species</th><td>setosa</td><td>setosa</td><td>setosa</td><td>setosa</td><td>setosa</td></tr>\n",
       "</tbody>\n",
       "</table>\n"
      ],
      "text/latex": [
       "\\begin{tabular}{r|lllll}\n",
       "  & 1 & 2 & 3 & 4 & 5\\\\\n",
       "\\hline\n",
       "\tSepal.Length & 5.1    & 4.9    & 4.7    & 4.6    & 5.0   \\\\\n",
       "\tSepal.Width & 3.5    & 3.0    & 3.2    & 3.1    & 3.6   \\\\\n",
       "\tPetal.Length & 1.4    & 1.4    & 1.3    & 1.5    & 1.4   \\\\\n",
       "\tPetal.Width & 0.2    & 0.2    & 0.2    & 0.2    & 0.2   \\\\\n",
       "\tSpecies & setosa & setosa & setosa & setosa & setosa\\\\\n",
       "\\end{tabular}\n"
      ],
      "text/markdown": [
       "\n",
       "| <!--/--> | 1 | 2 | 3 | 4 | 5 |\n",
       "|---|---|---|---|---|---|\n",
       "| Sepal.Length | 5.1    | 4.9    | 4.7    | 4.6    | 5.0    |\n",
       "| Sepal.Width | 3.5    | 3.0    | 3.2    | 3.1    | 3.6    |\n",
       "| Petal.Length | 1.4    | 1.4    | 1.3    | 1.5    | 1.4    |\n",
       "| Petal.Width | 0.2    | 0.2    | 0.2    | 0.2    | 0.2    |\n",
       "| Species | setosa | setosa | setosa | setosa | setosa |\n",
       "\n"
      ],
      "text/plain": [
       "             1      2      3      4      5     \n",
       "Sepal.Length 5.1    4.9    4.7    4.6    5.0   \n",
       "Sepal.Width  3.5    3.0    3.2    3.1    3.6   \n",
       "Petal.Length 1.4    1.4    1.3    1.5    1.4   \n",
       "Petal.Width  0.2    0.2    0.2    0.2    0.2   \n",
       "Species      setosa setosa setosa setosa setosa"
      ]
     },
     "metadata": {},
     "output_type": "display_data"
    }
   ],
   "source": [
    "# 행과 열을 뒤집는다\n",
    "\n",
    "t(irisHead)"
   ]
  },
  {
   "cell_type": "code",
   "execution_count": 16,
   "metadata": {
    "vscode": {
     "languageId": "r"
    }
   },
   "outputs": [
    {
     "data": {
      "text/html": [
       "<table>\n",
       "<thead><tr><th></th><th scope=col>Sepal.Length</th><th scope=col>Sepal.Width</th><th scope=col>Petal.Length</th><th scope=col>Petal.Width</th><th scope=col>Species</th></tr></thead>\n",
       "<tbody>\n",
       "\t<tr><th scope=row>10</th><td>4.9       </td><td>3.1       </td><td>1.5       </td><td>0.1       </td><td>setosa    </td></tr>\n",
       "\t<tr><th scope=row>20</th><td>5.1       </td><td>3.8       </td><td>1.5       </td><td>0.3       </td><td>setosa    </td></tr>\n",
       "\t<tr><th scope=row>30</th><td>4.7       </td><td>3.2       </td><td>1.6       </td><td>0.2       </td><td>setosa    </td></tr>\n",
       "\t<tr><th scope=row>40</th><td>5.1       </td><td>3.4       </td><td>1.5       </td><td>0.2       </td><td>setosa    </td></tr>\n",
       "\t<tr><th scope=row>50</th><td>5.0       </td><td>3.3       </td><td>1.4       </td><td>0.2       </td><td>setosa    </td></tr>\n",
       "\t<tr><th scope=row>60</th><td>5.2       </td><td>2.7       </td><td>3.9       </td><td>1.4       </td><td>versicolor</td></tr>\n",
       "\t<tr><th scope=row>70</th><td>5.6       </td><td>2.5       </td><td>3.9       </td><td>1.1       </td><td>versicolor</td></tr>\n",
       "\t<tr><th scope=row>80</th><td>5.7       </td><td>2.6       </td><td>3.5       </td><td>1.0       </td><td>versicolor</td></tr>\n",
       "\t<tr><th scope=row>90</th><td>5.5       </td><td>2.5       </td><td>4.0       </td><td>1.3       </td><td>versicolor</td></tr>\n",
       "\t<tr><th scope=row>100</th><td>5.7       </td><td>2.8       </td><td>4.1       </td><td>1.3       </td><td>versicolor</td></tr>\n",
       "\t<tr><th scope=row>110</th><td>7.2       </td><td>3.6       </td><td>6.1       </td><td>2.5       </td><td>virginica </td></tr>\n",
       "\t<tr><th scope=row>120</th><td>6.0       </td><td>2.2       </td><td>5.0       </td><td>1.5       </td><td>virginica </td></tr>\n",
       "\t<tr><th scope=row>130</th><td>7.2       </td><td>3.0       </td><td>5.8       </td><td>1.6       </td><td>virginica </td></tr>\n",
       "\t<tr><th scope=row>140</th><td>6.9       </td><td>3.1       </td><td>5.4       </td><td>2.1       </td><td>virginica </td></tr>\n",
       "\t<tr><th scope=row>150</th><td>5.9       </td><td>3.0       </td><td>5.1       </td><td>1.8       </td><td>virginica </td></tr>\n",
       "</tbody>\n",
       "</table>\n"
      ],
      "text/latex": [
       "\\begin{tabular}{r|lllll}\n",
       "  & Sepal.Length & Sepal.Width & Petal.Length & Petal.Width & Species\\\\\n",
       "\\hline\n",
       "\t10 & 4.9        & 3.1        & 1.5        & 0.1        & setosa    \\\\\n",
       "\t20 & 5.1        & 3.8        & 1.5        & 0.3        & setosa    \\\\\n",
       "\t30 & 4.7        & 3.2        & 1.6        & 0.2        & setosa    \\\\\n",
       "\t40 & 5.1        & 3.4        & 1.5        & 0.2        & setosa    \\\\\n",
       "\t50 & 5.0        & 3.3        & 1.4        & 0.2        & setosa    \\\\\n",
       "\t60 & 5.2        & 2.7        & 3.9        & 1.4        & versicolor\\\\\n",
       "\t70 & 5.6        & 2.5        & 3.9        & 1.1        & versicolor\\\\\n",
       "\t80 & 5.7        & 2.6        & 3.5        & 1.0        & versicolor\\\\\n",
       "\t90 & 5.5        & 2.5        & 4.0        & 1.3        & versicolor\\\\\n",
       "\t100 & 5.7        & 2.8        & 4.1        & 1.3        & versicolor\\\\\n",
       "\t110 & 7.2        & 3.6        & 6.1        & 2.5        & virginica \\\\\n",
       "\t120 & 6.0        & 2.2        & 5.0        & 1.5        & virginica \\\\\n",
       "\t130 & 7.2        & 3.0        & 5.8        & 1.6        & virginica \\\\\n",
       "\t140 & 6.9        & 3.1        & 5.4        & 2.1        & virginica \\\\\n",
       "\t150 & 5.9        & 3.0        & 5.1        & 1.8        & virginica \\\\\n",
       "\\end{tabular}\n"
      ],
      "text/markdown": [
       "\n",
       "| <!--/--> | Sepal.Length | Sepal.Width | Petal.Length | Petal.Width | Species |\n",
       "|---|---|---|---|---|---|\n",
       "| 10 | 4.9        | 3.1        | 1.5        | 0.1        | setosa     |\n",
       "| 20 | 5.1        | 3.8        | 1.5        | 0.3        | setosa     |\n",
       "| 30 | 4.7        | 3.2        | 1.6        | 0.2        | setosa     |\n",
       "| 40 | 5.1        | 3.4        | 1.5        | 0.2        | setosa     |\n",
       "| 50 | 5.0        | 3.3        | 1.4        | 0.2        | setosa     |\n",
       "| 60 | 5.2        | 2.7        | 3.9        | 1.4        | versicolor |\n",
       "| 70 | 5.6        | 2.5        | 3.9        | 1.1        | versicolor |\n",
       "| 80 | 5.7        | 2.6        | 3.5        | 1.0        | versicolor |\n",
       "| 90 | 5.5        | 2.5        | 4.0        | 1.3        | versicolor |\n",
       "| 100 | 5.7        | 2.8        | 4.1        | 1.3        | versicolor |\n",
       "| 110 | 7.2        | 3.6        | 6.1        | 2.5        | virginica  |\n",
       "| 120 | 6.0        | 2.2        | 5.0        | 1.5        | virginica  |\n",
       "| 130 | 7.2        | 3.0        | 5.8        | 1.6        | virginica  |\n",
       "| 140 | 6.9        | 3.1        | 5.4        | 2.1        | virginica  |\n",
       "| 150 | 5.9        | 3.0        | 5.1        | 1.8        | virginica  |\n",
       "\n"
      ],
      "text/plain": [
       "    Sepal.Length Sepal.Width Petal.Length Petal.Width Species   \n",
       "10  4.9          3.1         1.5          0.1         setosa    \n",
       "20  5.1          3.8         1.5          0.3         setosa    \n",
       "30  4.7          3.2         1.6          0.2         setosa    \n",
       "40  5.1          3.4         1.5          0.2         setosa    \n",
       "50  5.0          3.3         1.4          0.2         setosa    \n",
       "60  5.2          2.7         3.9          1.4         versicolor\n",
       "70  5.6          2.5         3.9          1.1         versicolor\n",
       "80  5.7          2.6         3.5          1.0         versicolor\n",
       "90  5.5          2.5         4.0          1.3         versicolor\n",
       "100 5.7          2.8         4.1          1.3         versicolor\n",
       "110 7.2          3.6         6.1          2.5         virginica \n",
       "120 6.0          2.2         5.0          1.5         virginica \n",
       "130 7.2          3.0         5.8          1.6         virginica \n",
       "140 6.9          3.1         5.4          2.1         virginica \n",
       "150 5.9          3.0         5.1          1.8         virginica "
      ]
     },
     "metadata": {},
     "output_type": "display_data"
    }
   ],
   "source": [
    "# iris에서 150 데이터 중 10번부터 10씩 증가하여 15개만 Sampling 하기\n",
    "\n",
    "iris[seq(10,150,10),]"
   ]
  },
  {
   "cell_type": "code",
   "execution_count": 23,
   "metadata": {
    "vscode": {
     "languageId": "r"
    }
   },
   "outputs": [
    {
     "data": {
      "text/html": [
       "150"
      ],
      "text/latex": [
       "150"
      ],
      "text/markdown": [
       "150"
      ],
      "text/plain": [
       "[1] 150"
      ]
     },
     "metadata": {},
     "output_type": "display_data"
    }
   ],
   "source": [
    "length(iris$Sepal.Length)"
   ]
  },
  {
   "cell_type": "code",
   "execution_count": 24,
   "metadata": {
    "vscode": {
     "languageId": "r"
    }
   },
   "outputs": [
    {
     "data": {
      "text/html": [
       "5"
      ],
      "text/latex": [
       "5"
      ],
      "text/markdown": [
       "5"
      ],
      "text/plain": [
       "[1] 5"
      ]
     },
     "metadata": {},
     "output_type": "display_data"
    }
   ],
   "source": [
    "length(iris)"
   ]
  },
  {
   "cell_type": "code",
   "execution_count": 26,
   "metadata": {
    "vscode": {
     "languageId": "r"
    }
   },
   "outputs": [
    {
     "data": {
      "text/html": [
       "150"
      ],
      "text/latex": [
       "150"
      ],
      "text/markdown": [
       "150"
      ],
      "text/plain": [
       "[1] 150"
      ]
     },
     "metadata": {},
     "output_type": "display_data"
    },
    {
     "data": {
      "text/html": [
       "5"
      ],
      "text/latex": [
       "5"
      ],
      "text/markdown": [
       "5"
      ],
      "text/plain": [
       "[1] 5"
      ]
     },
     "metadata": {},
     "output_type": "display_data"
    }
   ],
   "source": [
    "nrow(iris) # row 수\n",
    "ncol(iris) # column 수"
   ]
  },
  {
   "cell_type": "code",
   "execution_count": 30,
   "metadata": {
    "vscode": {
     "languageId": "r"
    }
   },
   "outputs": [
    {
     "data": {
      "text/html": [
       "7.9"
      ],
      "text/latex": [
       "7.9"
      ],
      "text/markdown": [
       "7.9"
      ],
      "text/plain": [
       "[1] 7.9"
      ]
     },
     "metadata": {},
     "output_type": "display_data"
    },
    {
     "data": {
      "text/html": [
       "4.3"
      ],
      "text/latex": [
       "4.3"
      ],
      "text/markdown": [
       "4.3"
      ],
      "text/plain": [
       "[1] 4.3"
      ]
     },
     "metadata": {},
     "output_type": "display_data"
    },
    {
     "data": {
      "text/html": [
       "5.84333333333333"
      ],
      "text/latex": [
       "5.84333333333333"
      ],
      "text/markdown": [
       "5.84333333333333"
      ],
      "text/plain": [
       "[1] 5.843333"
      ]
     },
     "metadata": {},
     "output_type": "display_data"
    },
    {
     "data": {
      "text/html": [
       "FALSE"
      ],
      "text/latex": [
       "FALSE"
      ],
      "text/markdown": [
       "FALSE"
      ],
      "text/plain": [
       "[1] FALSE"
      ]
     },
     "metadata": {},
     "output_type": "display_data"
    }
   ],
   "source": [
    "# iris의 Sepal.Length의 최대값과 최소값의 차이가 평규보다 큰지 확인\n",
    "max(iris$Sepal.Length)\n",
    "min(iris$Sepal.Length)\n",
    "mean(iris$Sepal.Length)\n",
    "(max(iris$Sepal.Length) - min(iris$Sepal.Length)) > mean(iris$Sepal.Length)"
   ]
  },
  {
   "cell_type": "code",
   "execution_count": 33,
   "metadata": {
    "vscode": {
     "languageId": "r"
    }
   },
   "outputs": [
    {
     "data": {
      "text/html": [
       "<table>\n",
       "<thead><tr><th scope=col>Sepal.Length</th><th scope=col>Sepal.Width</th></tr></thead>\n",
       "<tbody>\n",
       "\t<tr><td>5.1</td><td>3.5</td></tr>\n",
       "\t<tr><td>4.9</td><td>3.0</td></tr>\n",
       "\t<tr><td>4.7</td><td>3.2</td></tr>\n",
       "\t<tr><td>4.6</td><td>3.1</td></tr>\n",
       "\t<tr><td>5.0</td><td>3.6</td></tr>\n",
       "\t<tr><td>5.4</td><td>3.9</td></tr>\n",
       "\t<tr><td>4.6</td><td>3.4</td></tr>\n",
       "\t<tr><td>5.0</td><td>3.4</td></tr>\n",
       "\t<tr><td>4.4</td><td>2.9</td></tr>\n",
       "\t<tr><td>4.9</td><td>3.1</td></tr>\n",
       "</tbody>\n",
       "</table>\n"
      ],
      "text/latex": [
       "\\begin{tabular}{r|ll}\n",
       " Sepal.Length & Sepal.Width\\\\\n",
       "\\hline\n",
       "\t 5.1 & 3.5\\\\\n",
       "\t 4.9 & 3.0\\\\\n",
       "\t 4.7 & 3.2\\\\\n",
       "\t 4.6 & 3.1\\\\\n",
       "\t 5.0 & 3.6\\\\\n",
       "\t 5.4 & 3.9\\\\\n",
       "\t 4.6 & 3.4\\\\\n",
       "\t 5.0 & 3.4\\\\\n",
       "\t 4.4 & 2.9\\\\\n",
       "\t 4.9 & 3.1\\\\\n",
       "\\end{tabular}\n"
      ],
      "text/markdown": [
       "\n",
       "| Sepal.Length | Sepal.Width |\n",
       "|---|---|\n",
       "| 5.1 | 3.5 |\n",
       "| 4.9 | 3.0 |\n",
       "| 4.7 | 3.2 |\n",
       "| 4.6 | 3.1 |\n",
       "| 5.0 | 3.6 |\n",
       "| 5.4 | 3.9 |\n",
       "| 4.6 | 3.4 |\n",
       "| 5.0 | 3.4 |\n",
       "| 4.4 | 2.9 |\n",
       "| 4.9 | 3.1 |\n",
       "\n"
      ],
      "text/plain": [
       "   Sepal.Length Sepal.Width\n",
       "1  5.1          3.5        \n",
       "2  4.9          3.0        \n",
       "3  4.7          3.2        \n",
       "4  4.6          3.1        \n",
       "5  5.0          3.6        \n",
       "6  5.4          3.9        \n",
       "7  4.6          3.4        \n",
       "8  5.0          3.4        \n",
       "9  4.4          2.9        \n",
       "10 4.9          3.1        "
      ]
     },
     "metadata": {},
     "output_type": "display_data"
    },
    {
     "data": {
      "text/html": [
       "<table>\n",
       "<thead><tr><th scope=col>Sepal.Length</th><th scope=col>Sepal.Width</th></tr></thead>\n",
       "<tbody>\n",
       "\t<tr><td>5.1</td><td>3.5</td></tr>\n",
       "\t<tr><td>4.9</td><td>3.0</td></tr>\n",
       "\t<tr><td>4.7</td><td>3.2</td></tr>\n",
       "\t<tr><td>4.6</td><td>3.1</td></tr>\n",
       "\t<tr><td>5.0</td><td>3.6</td></tr>\n",
       "\t<tr><td>5.4</td><td>3.9</td></tr>\n",
       "\t<tr><td>4.6</td><td>3.4</td></tr>\n",
       "\t<tr><td>5.0</td><td>3.4</td></tr>\n",
       "\t<tr><td>4.4</td><td>2.9</td></tr>\n",
       "\t<tr><td>4.9</td><td>3.1</td></tr>\n",
       "</tbody>\n",
       "</table>\n"
      ],
      "text/latex": [
       "\\begin{tabular}{r|ll}\n",
       " Sepal.Length & Sepal.Width\\\\\n",
       "\\hline\n",
       "\t 5.1 & 3.5\\\\\n",
       "\t 4.9 & 3.0\\\\\n",
       "\t 4.7 & 3.2\\\\\n",
       "\t 4.6 & 3.1\\\\\n",
       "\t 5.0 & 3.6\\\\\n",
       "\t 5.4 & 3.9\\\\\n",
       "\t 4.6 & 3.4\\\\\n",
       "\t 5.0 & 3.4\\\\\n",
       "\t 4.4 & 2.9\\\\\n",
       "\t 4.9 & 3.1\\\\\n",
       "\\end{tabular}\n"
      ],
      "text/markdown": [
       "\n",
       "| Sepal.Length | Sepal.Width |\n",
       "|---|---|\n",
       "| 5.1 | 3.5 |\n",
       "| 4.9 | 3.0 |\n",
       "| 4.7 | 3.2 |\n",
       "| 4.6 | 3.1 |\n",
       "| 5.0 | 3.6 |\n",
       "| 5.4 | 3.9 |\n",
       "| 4.6 | 3.4 |\n",
       "| 5.0 | 3.4 |\n",
       "| 4.4 | 2.9 |\n",
       "| 4.9 | 3.1 |\n",
       "\n"
      ],
      "text/plain": [
       "   Sepal.Length Sepal.Width\n",
       "1  5.1          3.5        \n",
       "2  4.9          3.0        \n",
       "3  4.7          3.2        \n",
       "4  4.6          3.1        \n",
       "5  5.0          3.6        \n",
       "6  5.4          3.9        \n",
       "7  4.6          3.4        \n",
       "8  5.0          3.4        \n",
       "9  4.4          2.9        \n",
       "10 4.9          3.1        "
      ]
     },
     "metadata": {},
     "output_type": "display_data"
    }
   ],
   "source": [
    "# iris에서 1~10까지의 데이터 중 Sepal.Length와 Sepal.Width만 출력\n",
    "\n",
    "iris[1:10,1:2]\n",
    "iris[1:10, c(\"Sepal.Length\", \"Sepal.Width\")]"
   ]
  },
  {
   "cell_type": "code",
   "execution_count": 36,
   "metadata": {
    "vscode": {
     "languageId": "r"
    }
   },
   "outputs": [
    {
     "data": {
      "text/html": [
       "<table>\n",
       "<thead><tr><th scope=col>Sepal.Length</th><th scope=col>Sepal.Width</th><th scope=col>Petal.Length</th><th scope=col>Petal.Width</th><th scope=col>Species</th></tr></thead>\n",
       "<tbody>\n",
       "\t<tr><td>5.1   </td><td>3.5   </td><td>1.4   </td><td>0.2   </td><td>setosa</td></tr>\n",
       "\t<tr><td>4.9   </td><td>3.0   </td><td>1.4   </td><td>0.2   </td><td>setosa</td></tr>\n",
       "\t<tr><td>4.7   </td><td>3.2   </td><td>1.3   </td><td>0.2   </td><td>setosa</td></tr>\n",
       "\t<tr><td>4.6   </td><td>3.1   </td><td>1.5   </td><td>0.2   </td><td>setosa</td></tr>\n",
       "\t<tr><td>5.0   </td><td>3.6   </td><td>1.4   </td><td>0.2   </td><td>setosa</td></tr>\n",
       "\t<tr><td>5.4   </td><td>3.9   </td><td>1.7   </td><td>0.4   </td><td>setosa</td></tr>\n",
       "</tbody>\n",
       "</table>\n"
      ],
      "text/latex": [
       "\\begin{tabular}{r|lllll}\n",
       " Sepal.Length & Sepal.Width & Petal.Length & Petal.Width & Species\\\\\n",
       "\\hline\n",
       "\t 5.1    & 3.5    & 1.4    & 0.2    & setosa\\\\\n",
       "\t 4.9    & 3.0    & 1.4    & 0.2    & setosa\\\\\n",
       "\t 4.7    & 3.2    & 1.3    & 0.2    & setosa\\\\\n",
       "\t 4.6    & 3.1    & 1.5    & 0.2    & setosa\\\\\n",
       "\t 5.0    & 3.6    & 1.4    & 0.2    & setosa\\\\\n",
       "\t 5.4    & 3.9    & 1.7    & 0.4    & setosa\\\\\n",
       "\\end{tabular}\n"
      ],
      "text/markdown": [
       "\n",
       "| Sepal.Length | Sepal.Width | Petal.Length | Petal.Width | Species |\n",
       "|---|---|---|---|---|\n",
       "| 5.1    | 3.5    | 1.4    | 0.2    | setosa |\n",
       "| 4.9    | 3.0    | 1.4    | 0.2    | setosa |\n",
       "| 4.7    | 3.2    | 1.3    | 0.2    | setosa |\n",
       "| 4.6    | 3.1    | 1.5    | 0.2    | setosa |\n",
       "| 5.0    | 3.6    | 1.4    | 0.2    | setosa |\n",
       "| 5.4    | 3.9    | 1.7    | 0.4    | setosa |\n",
       "\n"
      ],
      "text/plain": [
       "  Sepal.Length Sepal.Width Petal.Length Petal.Width Species\n",
       "1 5.1          3.5         1.4          0.2         setosa \n",
       "2 4.9          3.0         1.4          0.2         setosa \n",
       "3 4.7          3.2         1.3          0.2         setosa \n",
       "4 4.6          3.1         1.5          0.2         setosa \n",
       "5 5.0          3.6         1.4          0.2         setosa \n",
       "6 5.4          3.9         1.7          0.4         setosa "
      ]
     },
     "metadata": {},
     "output_type": "display_data"
    },
    {
     "data": {
      "text/html": [
       "<table>\n",
       "<thead><tr><th></th><th scope=col>Sepal.Length</th><th scope=col>Sepal.Width</th><th scope=col>Petal.Length</th><th scope=col>Petal.Width</th><th scope=col>Species</th></tr></thead>\n",
       "<tbody>\n",
       "\t<tr><th scope=row>145</th><td>6.7      </td><td>3.3      </td><td>5.7      </td><td>2.5      </td><td>virginica</td></tr>\n",
       "\t<tr><th scope=row>146</th><td>6.7      </td><td>3.0      </td><td>5.2      </td><td>2.3      </td><td>virginica</td></tr>\n",
       "\t<tr><th scope=row>147</th><td>6.3      </td><td>2.5      </td><td>5.0      </td><td>1.9      </td><td>virginica</td></tr>\n",
       "\t<tr><th scope=row>148</th><td>6.5      </td><td>3.0      </td><td>5.2      </td><td>2.0      </td><td>virginica</td></tr>\n",
       "\t<tr><th scope=row>149</th><td>6.2      </td><td>3.4      </td><td>5.4      </td><td>2.3      </td><td>virginica</td></tr>\n",
       "\t<tr><th scope=row>150</th><td>5.9      </td><td>3.0      </td><td>5.1      </td><td>1.8      </td><td>virginica</td></tr>\n",
       "</tbody>\n",
       "</table>\n"
      ],
      "text/latex": [
       "\\begin{tabular}{r|lllll}\n",
       "  & Sepal.Length & Sepal.Width & Petal.Length & Petal.Width & Species\\\\\n",
       "\\hline\n",
       "\t145 & 6.7       & 3.3       & 5.7       & 2.5       & virginica\\\\\n",
       "\t146 & 6.7       & 3.0       & 5.2       & 2.3       & virginica\\\\\n",
       "\t147 & 6.3       & 2.5       & 5.0       & 1.9       & virginica\\\\\n",
       "\t148 & 6.5       & 3.0       & 5.2       & 2.0       & virginica\\\\\n",
       "\t149 & 6.2       & 3.4       & 5.4       & 2.3       & virginica\\\\\n",
       "\t150 & 5.9       & 3.0       & 5.1       & 1.8       & virginica\\\\\n",
       "\\end{tabular}\n"
      ],
      "text/markdown": [
       "\n",
       "| <!--/--> | Sepal.Length | Sepal.Width | Petal.Length | Petal.Width | Species |\n",
       "|---|---|---|---|---|---|\n",
       "| 145 | 6.7       | 3.3       | 5.7       | 2.5       | virginica |\n",
       "| 146 | 6.7       | 3.0       | 5.2       | 2.3       | virginica |\n",
       "| 147 | 6.3       | 2.5       | 5.0       | 1.9       | virginica |\n",
       "| 148 | 6.5       | 3.0       | 5.2       | 2.0       | virginica |\n",
       "| 149 | 6.2       | 3.4       | 5.4       | 2.3       | virginica |\n",
       "| 150 | 5.9       | 3.0       | 5.1       | 1.8       | virginica |\n",
       "\n"
      ],
      "text/plain": [
       "    Sepal.Length Sepal.Width Petal.Length Petal.Width Species  \n",
       "145 6.7          3.3         5.7          2.5         virginica\n",
       "146 6.7          3.0         5.2          2.3         virginica\n",
       "147 6.3          2.5         5.0          1.9         virginica\n",
       "148 6.5          3.0         5.2          2.0         virginica\n",
       "149 6.2          3.4         5.4          2.3         virginica\n",
       "150 5.9          3.0         5.1          1.8         virginica"
      ]
     },
     "metadata": {},
     "output_type": "display_data"
    },
    {
     "name": "stdout",
     "output_type": "stream",
     "text": [
      "'data.frame':\t150 obs. of  5 variables:\n",
      " $ Sepal.Length: num  5.1 4.9 4.7 4.6 5 5.4 4.6 5 4.4 4.9 ...\n",
      " $ Sepal.Width : num  3.5 3 3.2 3.1 3.6 3.9 3.4 3.4 2.9 3.1 ...\n",
      " $ Petal.Length: num  1.4 1.4 1.3 1.5 1.4 1.7 1.4 1.5 1.4 1.5 ...\n",
      " $ Petal.Width : num  0.2 0.2 0.2 0.2 0.2 0.4 0.3 0.2 0.2 0.1 ...\n",
      " $ Species     : Factor w/ 3 levels \"setosa\",\"versicolor\",..: 1 1 1 1 1 1 1 1 1 1 ...\n"
     ]
    }
   ],
   "source": [
    "head(iris)\n",
    "tail(iris)\n",
    "str(iris)"
   ]
  },
  {
   "cell_type": "code",
   "execution_count": 37,
   "metadata": {
    "vscode": {
     "languageId": "r"
    }
   },
   "outputs": [
    {
     "data": {
      "text/plain": [
       "  Sepal.Length    Sepal.Width     Petal.Length    Petal.Width   \n",
       " Min.   :4.300   Min.   :2.000   Min.   :1.000   Min.   :0.100  \n",
       " 1st Qu.:5.100   1st Qu.:2.800   1st Qu.:1.600   1st Qu.:0.300  \n",
       " Median :5.800   Median :3.000   Median :4.350   Median :1.300  \n",
       " Mean   :5.843   Mean   :3.057   Mean   :3.758   Mean   :1.199  \n",
       " 3rd Qu.:6.400   3rd Qu.:3.300   3rd Qu.:5.100   3rd Qu.:1.800  \n",
       " Max.   :7.900   Max.   :4.400   Max.   :6.900   Max.   :2.500  \n",
       "       Species  \n",
       " setosa    :50  \n",
       " versicolor:50  \n",
       " virginica :50  \n",
       "                \n",
       "                \n",
       "                "
      ]
     },
     "metadata": {},
     "output_type": "display_data"
    }
   ],
   "source": [
    "summary(iris)"
   ]
  },
  {
   "cell_type": "code",
   "execution_count": 40,
   "metadata": {
    "vscode": {
     "languageId": "r"
    }
   },
   "outputs": [
    {
     "name": "stdout",
     "output_type": "stream",
     "text": [
      "  [1] \"setosa\"     \"setosa\"     \"setosa\"     \"setosa\"     \"setosa\"    \n",
      "  [6] \"setosa\"     \"setosa\"     \"setosa\"     \"setosa\"     \"setosa\"    \n",
      " [11] \"setosa\"     \"setosa\"     \"setosa\"     \"setosa\"     \"setosa\"    \n",
      " [16] \"setosa\"     \"setosa\"     \"setosa\"     \"setosa\"     \"setosa\"    \n",
      " [21] \"setosa\"     \"setosa\"     \"setosa\"     \"setosa\"     \"setosa\"    \n",
      " [26] \"setosa\"     \"setosa\"     \"setosa\"     \"setosa\"     \"setosa\"    \n",
      " [31] \"setosa\"     \"setosa\"     \"setosa\"     \"setosa\"     \"setosa\"    \n",
      " [36] \"setosa\"     \"setosa\"     \"setosa\"     \"setosa\"     \"setosa\"    \n",
      " [41] \"setosa\"     \"setosa\"     \"setosa\"     \"setosa\"     \"setosa\"    \n",
      " [46] \"setosa\"     \"setosa\"     \"setosa\"     \"setosa\"     \"setosa\"    \n",
      " [51] \"versicolor\" \"versicolor\" \"versicolor\" \"versicolor\" \"versicolor\"\n",
      " [56] \"versicolor\" \"versicolor\" \"versicolor\" \"versicolor\" \"versicolor\"\n",
      " [61] \"versicolor\" \"versicolor\" \"versicolor\" \"versicolor\" \"versicolor\"\n",
      " [66] \"versicolor\" \"versicolor\" \"versicolor\" \"versicolor\" \"versicolor\"\n",
      " [71] \"versicolor\" \"versicolor\" \"versicolor\" \"versicolor\" \"versicolor\"\n",
      " [76] \"versicolor\" \"versicolor\" \"versicolor\" \"versicolor\" \"versicolor\"\n",
      " [81] \"versicolor\" \"versicolor\" \"versicolor\" \"versicolor\" \"versicolor\"\n",
      " [86] \"versicolor\" \"versicolor\" \"versicolor\" \"versicolor\" \"versicolor\"\n",
      " [91] \"versicolor\" \"versicolor\" \"versicolor\" \"versicolor\" \"versicolor\"\n",
      " [96] \"versicolor\" \"versicolor\" \"versicolor\" \"versicolor\" \"versicolor\"\n",
      "[101] \"virginica\"  \"virginica\"  \"virginica\"  \"virginica\"  \"virginica\" \n",
      "[106] \"virginica\"  \"virginica\"  \"virginica\"  \"virginica\"  \"virginica\" \n",
      "[111] \"virginica\"  \"virginica\"  \"virginica\"  \"virginica\"  \"virginica\" \n",
      "[116] \"virginica\"  \"virginica\"  \"virginica\"  \"virginica\"  \"virginica\" \n",
      "[121] \"virginica\"  \"virginica\"  \"virginica\"  \"virginica\"  \"virginica\" \n",
      "[126] \"virginica\"  \"virginica\"  \"virginica\"  \"virginica\"  \"virginica\" \n",
      "[131] \"virginica\"  \"virginica\"  \"virginica\"  \"virginica\"  \"virginica\" \n",
      "[136] \"virginica\"  \"virginica\"  \"virginica\"  \"virginica\"  \"virginica\" \n",
      "[141] \"virginica\"  \"virginica\"  \"virginica\"  \"virginica\"  \"virginica\" \n",
      "[146] \"virginica\"  \"virginica\"  \"virginica\"  \"virginica\"  \"virginica\" \n",
      "  [1] 1 1 1 1 1 1 1 1 1 1 1 1 1 1 1 1 1 1 1 1 1 1 1 1 1 1 1 1 1 1 1 1 1 1 1 1 1\n",
      " [38] 1 1 1 1 1 1 1 1 1 1 1 1 1 2 2 2 2 2 2 2 2 2 2 2 2 2 2 2 2 2 2 2 2 2 2 2 2\n",
      " [75] 2 2 2 2 2 2 2 2 2 2 2 2 2 2 2 2 2 2 2 2 2 2 2 2 2 2 3 3 3 3 3 3 3 3 3 3 3\n",
      "[112] 3 3 3 3 3 3 3 3 3 3 3 3 3 3 3 3 3 3 3 3 3 3 3 3 3 3 3 3 3 3 3 3 3 3 3 3 3\n",
      "[149] 3 3\n"
     ]
    }
   ],
   "source": [
    "# factor Type인 Species에서 문자와 숫자로 각각 가져오기\n",
    "\n",
    "print(as.character(iris$Species))\n",
    "print(as.numeric(iris$Species))"
   ]
  },
  {
   "cell_type": "markdown",
   "metadata": {},
   "source": [
    "---\n",
    "# 벡터 계산"
   ]
  },
  {
   "cell_type": "code",
   "execution_count": 48,
   "metadata": {
    "vscode": {
     "languageId": "r"
    }
   },
   "outputs": [
    {
     "name": "stdout",
     "output_type": "stream",
     "text": [
      "[1]  4  7 10 13 16\n"
     ]
    }
   ],
   "source": [
    "x <- c(3,6,9,12,15)\n",
    "print(x + 1)"
   ]
  },
  {
   "cell_type": "code",
   "execution_count": 49,
   "metadata": {
    "vscode": {
     "languageId": "r"
    }
   },
   "outputs": [
    {
     "name": "stdout",
     "output_type": "stream",
     "text": [
      "[1]  4  8 12 16 20\n"
     ]
    }
   ],
   "source": [
    "print(x + 1:5)"
   ]
  },
  {
   "cell_type": "code",
   "execution_count": 50,
   "metadata": {
    "vscode": {
     "languageId": "r"
    }
   },
   "outputs": [
    {
     "name": "stderr",
     "output_type": "stream",
     "text": [
      "Warning message in x + 1:2:\n",
      "“두 객체의 길이가 서로 배수관계에 있지 않습니다”"
     ]
    },
    {
     "name": "stdout",
     "output_type": "stream",
     "text": [
      "[1]  4  8 10 14 16\n"
     ]
    }
   ],
   "source": [
    "print(x + 1:2)"
   ]
  },
  {
   "cell_type": "code",
   "execution_count": 51,
   "metadata": {
    "vscode": {
     "languageId": "r"
    }
   },
   "outputs": [
    {
     "data": {
      "text/html": [
       "<ol class=list-inline>\n",
       "\t<li>3</li>\n",
       "\t<li>5</li>\n",
       "\t<li>6</li>\n",
       "\t<li>12</li>\n",
       "\t<li>15</li>\n",
       "\t<li>1</li>\n",
       "\t<li>2</li>\n",
       "\t<li>3</li>\n",
       "\t<li>4</li>\n",
       "\t<li>5</li>\n",
       "</ol>\n"
      ],
      "text/latex": [
       "\\begin{enumerate*}\n",
       "\\item 3\n",
       "\\item 5\n",
       "\\item 6\n",
       "\\item 12\n",
       "\\item 15\n",
       "\\item 1\n",
       "\\item 2\n",
       "\\item 3\n",
       "\\item 4\n",
       "\\item 5\n",
       "\\end{enumerate*}\n"
      ],
      "text/markdown": [
       "1. 3\n",
       "2. 5\n",
       "3. 6\n",
       "4. 12\n",
       "5. 15\n",
       "6. 1\n",
       "7. 2\n",
       "8. 3\n",
       "9. 4\n",
       "10. 5\n",
       "\n",
       "\n"
      ],
      "text/plain": [
       " [1]  3  5  6 12 15  1  2  3  4  5"
      ]
     },
     "metadata": {},
     "output_type": "display_data"
    }
   ],
   "source": [
    "# 벡터 합치기\n",
    "\n",
    "x <- c(3,5,6,12,15)\n",
    "y <- 1:5\n",
    "append(x, y)"
   ]
  },
  {
   "cell_type": "code",
   "execution_count": 53,
   "metadata": {
    "vscode": {
     "languageId": "r"
    }
   },
   "outputs": [
    {
     "data": {
      "text/html": [
       "300"
      ],
      "text/latex": [
       "300"
      ],
      "text/markdown": [
       "300"
      ],
      "text/plain": [
       "[1] 300"
      ]
     },
     "metadata": {},
     "output_type": "display_data"
    }
   ],
   "source": [
    "length(append(iris$Sepal.Length, iris$Sepal.Width))"
   ]
  },
  {
   "cell_type": "code",
   "execution_count": 55,
   "metadata": {
    "vscode": {
     "languageId": "r"
    }
   },
   "outputs": [
    {
     "data": {
      "text/html": [
       "300"
      ],
      "text/latex": [
       "300"
      ],
      "text/markdown": [
       "300"
      ],
      "text/plain": [
       "[1] 300"
      ]
     },
     "metadata": {},
     "output_type": "display_data"
    }
   ],
   "source": [
    "length(c(iris$Sepal.Length, iris$Sepal.Width))"
   ]
  },
  {
   "cell_type": "code",
   "execution_count": 63,
   "metadata": {
    "vscode": {
     "languageId": "r"
    }
   },
   "outputs": [
    {
     "data": {
      "text/html": [
       "23.33"
      ],
      "text/latex": [
       "23.33"
      ],
      "text/markdown": [
       "23.33"
      ],
      "text/plain": [
       "[1] 23.33"
      ]
     },
     "metadata": {},
     "output_type": "display_data"
    },
    {
     "data": {
      "text/html": [
       "76.67"
      ],
      "text/latex": [
       "76.67"
      ],
      "text/markdown": [
       "76.67"
      ],
      "text/plain": [
       "[1] 76.67"
      ]
     },
     "metadata": {},
     "output_type": "display_data"
    }
   ],
   "source": [
    "# iris의 Sepal.Length의 중복되지 않은 개수의 percent 구하기\n",
    "# iris의 Sepal.Length의 중복된 개수의 percent 구하기\n",
    "\n",
    "round((length(unique(iris$Sepal.Length)) / length(iris$Sepal.Length)) * 100, 2)\n",
    "round(((length(iris$Sepal.Length) - length(unique(iris$Sepal.Length))) / length(iris$Sepal.Length)) * 100, 2)"
   ]
  },
  {
   "cell_type": "code",
   "execution_count": 70,
   "metadata": {
    "vscode": {
     "languageId": "r"
    }
   },
   "outputs": [
    {
     "name": "stdout",
     "output_type": "stream",
     "text": [
      "grep                   package:base                    R Documentation\n",
      "\n",
      "_\bP_\ba_\bt_\bt_\be_\br_\bn _\bM_\ba_\bt_\bc_\bh_\bi_\bn_\bg _\ba_\bn_\bd _\bR_\be_\bp_\bl_\ba_\bc_\be_\bm_\be_\bn_\bt\n",
      "\n",
      "_\bD_\be_\bs_\bc_\br_\bi_\bp_\bt_\bi_\bo_\bn:\n",
      "\n",
      "     ‘grep’, ‘grepl’, ‘regexpr’, ‘gregexpr’ and ‘regexec’ search for\n",
      "     matches to argument ‘pattern’ within each element of a character\n",
      "     vector: they differ in the format of and amount of detail in the\n",
      "     results.\n",
      "\n",
      "     ‘sub’ and ‘gsub’ perform replacement of the first and all matches\n",
      "     respectively.\n",
      "\n",
      "_\bU_\bs_\ba_\bg_\be:\n",
      "\n",
      "     grep(pattern, x, ignore.case = FALSE, perl = FALSE, value = FALSE,\n",
      "          fixed = FALSE, useBytes = FALSE, invert = FALSE)\n",
      "     \n",
      "     grepl(pattern, x, ignore.case = FALSE, perl = FALSE,\n",
      "           fixed = FALSE, useBytes = FALSE)\n",
      "     \n",
      "     sub(pattern, replacement, x, ignore.case = FALSE, perl = FALSE,\n",
      "         fixed = FALSE, useBytes = FALSE)\n",
      "     \n",
      "     gsub(pattern, replacement, x, ignore.case = FALSE, perl = FALSE,\n",
      "          fixed = FALSE, useBytes = FALSE)\n",
      "     \n",
      "     regexpr(pattern, text, ignore.case = FALSE, perl = FALSE,\n",
      "             fixed = FALSE, useBytes = FALSE)\n",
      "     \n",
      "     gregexpr(pattern, text, ignore.case = FALSE, perl = FALSE,\n",
      "              fixed = FALSE, useBytes = FALSE)\n",
      "     \n",
      "     regexec(pattern, text, ignore.case = FALSE, perl = FALSE,\n",
      "             fixed = FALSE, useBytes = FALSE)\n",
      "     \n",
      "_\bA_\br_\bg_\bu_\bm_\be_\bn_\bt_\bs:\n",
      "\n",
      " pattern: character string containing a regular expression (or\n",
      "          character string for ‘fixed = TRUE’) to be matched in the\n",
      "          given character vector.  Coerced by ‘as.character’ to a\n",
      "          character string if possible.  If a character vector of\n",
      "          length 2 or more is supplied, the first element is used with\n",
      "          a warning.  Missing values are allowed except for ‘regexpr’\n",
      "          and ‘gregexpr’.\n",
      "\n",
      " x, text: a character vector where matches are sought, or an object\n",
      "          which can be coerced by ‘as.character’ to a character vector.\n",
      "          Long vectors are supported.\n",
      "\n",
      "ignore.case: if ‘FALSE’, the pattern matching is _case sensitive_ and\n",
      "          if ‘TRUE’, case is ignored during matching.\n",
      "\n",
      "    perl: logical.  Should Perl-compatible regexps be used?\n",
      "\n",
      "   value: if ‘FALSE’, a vector containing the (‘integer’) indices of\n",
      "          the matches determined by ‘grep’ is returned, and if ‘TRUE’,\n",
      "          a vector containing the matching elements themselves is\n",
      "          returned.\n",
      "\n",
      "   fixed: logical.  If ‘TRUE’, ‘pattern’ is a string to be matched as\n",
      "          is.  Overrides all conflicting arguments.\n",
      "\n",
      "useBytes: logical.  If ‘TRUE’ the matching is done byte-by-byte rather\n",
      "          than character-by-character.  See ‘Details’.\n",
      "\n",
      "  invert: logical.  If ‘TRUE’ return indices or values for elements\n",
      "          that do _not_ match.\n",
      "\n",
      "replacement: a replacement for matched pattern in ‘sub’ and ‘gsub’.\n",
      "          Coerced to character if possible.  For ‘fixed = FALSE’ this\n",
      "          can include backreferences ‘\"\\1\"’ to ‘\"\\9\"’ to parenthesized\n",
      "          subexpressions of ‘pattern’.  For ‘perl = TRUE’ only, it can\n",
      "          also contain ‘\"\\U\"’ or ‘\"\\L\"’ to convert the rest of the\n",
      "          replacement to upper or lower case and ‘\"\\E\"’ to end case\n",
      "          conversion.  If a character vector of length 2 or more is\n",
      "          supplied, the first element is used with a warning.  If ‘NA’,\n",
      "          all elements in the result corresponding to matches will be\n",
      "          set to ‘NA’.\n",
      "\n",
      "_\bD_\be_\bt_\ba_\bi_\bl_\bs:\n",
      "\n",
      "     Arguments which should be character strings or character vectors\n",
      "     are coerced to character if possible.\n",
      "\n",
      "     Each of these functions operates in one of three modes:\n",
      "\n",
      "       1. ‘fixed = TRUE’: use exact matching.\n",
      "\n",
      "       2. ‘perl = TRUE’: use Perl-style regular expressions.\n",
      "\n",
      "       3. ‘fixed = FALSE, perl = FALSE’: use POSIX 1003.2 extended\n",
      "          regular expressions (the default).\n",
      "\n",
      "     See the help pages on regular expression for details of the\n",
      "     different types of regular expressions.\n",
      "\n",
      "     The two ‘*sub’ functions differ only in that ‘sub’ replaces only\n",
      "     the first occurrence of a ‘pattern’ whereas ‘gsub’ replaces all\n",
      "     occurrences.  If ‘replacement’ contains backreferences which are\n",
      "     not defined in ‘pattern’ the result is undefined (but most often\n",
      "     the backreference is taken to be ‘\"\"’).\n",
      "\n",
      "     For ‘regexpr’, ‘gregexpr’ and ‘regexec’ it is an error for\n",
      "     ‘pattern’ to be ‘NA’, otherwise ‘NA’ is permitted and gives an\n",
      "     ‘NA’ match.\n",
      "\n",
      "     The main effect of ‘useBytes’ is to avoid errors/warnings about\n",
      "     invalid inputs and spurious matches in multibyte locales, but for\n",
      "     ‘regexpr’ it changes the interpretation of the output.  It\n",
      "     inhibits the conversion of inputs with marked encodings, and is\n",
      "     forced if any input is found which is marked as ‘\"bytes\"’ (see\n",
      "     ‘Encoding’).\n",
      "\n",
      "     Caseless matching does not make much sense for bytes in a\n",
      "     multibyte locale, and you should expect it only to work for ASCII\n",
      "     characters if ‘useBytes = TRUE’.\n",
      "\n",
      "     ‘regexpr’ and ‘gregexpr’ with ‘perl = TRUE’ allow Python-style\n",
      "     named captures, but not for _long vector_ inputs.\n",
      "\n",
      "     Invalid inputs in the current locale are warned about up to 5\n",
      "     times.\n",
      "\n",
      "     Caseless matching with ‘perl = TRUE’ for non-ASCII characters\n",
      "     depends on the PCRE library being compiled with ‘Unicode property\n",
      "     support’: an external library might not be.\n",
      "\n",
      "_\bV_\ba_\bl_\bu_\be:\n",
      "\n",
      "     ‘grep(value = FALSE)’ returns a vector of the indices of the\n",
      "     elements of ‘x’ that yielded a match (or not, for ‘invert =\n",
      "     TRUE’).  This will be an integer vector unless the input is a\n",
      "     _long vector_, when it will be a double vector.\n",
      "\n",
      "     ‘grep(value = TRUE)’ returns a character vector containing the\n",
      "     selected elements of ‘x’ (after coercion, preserving names but no\n",
      "     other attributes).\n",
      "\n",
      "     ‘grepl’ returns a logical vector (match or not for each element of\n",
      "     ‘x’).\n",
      "\n",
      "     ‘sub’ and ‘gsub’ return a character vector of the same length and\n",
      "     with the same attributes as ‘x’ (after possible coercion to\n",
      "     character).  Elements of character vectors ‘x’ which are not\n",
      "     substituted will be returned unchanged (including any declared\n",
      "     encoding).  If ‘useBytes = FALSE’ a non-ASCII substituted result\n",
      "     will often be in UTF-8 with a marked encoding (e.g., if there is a\n",
      "     UTF-8 input, and in a multibyte locale unless ‘fixed = TRUE’).\n",
      "     Such strings can be re-encoded by ‘enc2native’.\n",
      "\n",
      "     ‘regexpr’ returns an integer vector of the same length as ‘text’\n",
      "     giving the starting position of the first match or -1 if there is\n",
      "     none, with attribute ‘\"match.length\"’, an integer vector giving\n",
      "     the length of the matched text (or -1 for no match).  The match\n",
      "     positions and lengths are in characters unless ‘useBytes = TRUE’\n",
      "     is used, when they are in bytes (as they are for an ASCII-only\n",
      "     matching: in either case an attribute ‘useBytes’ with value ‘TRUE’\n",
      "     is set on the result).  If named capture is used there are further\n",
      "     attributes ‘\"capture.start\"’, ‘\"capture.length\"’ and\n",
      "     ‘\"capture.names\"’.\n",
      "\n",
      "     ‘gregexpr’ returns a list of the same length as ‘text’ each\n",
      "     element of which is of the same form as the return value for\n",
      "     ‘regexpr’, except that the starting positions of every (disjoint)\n",
      "     match are given.\n",
      "\n",
      "     ‘regexec’ returns a list of the same length as ‘text’ each element\n",
      "     of which is either -1 if there is no match, or a sequence of\n",
      "     integers with the starting positions of the match and all\n",
      "     substrings corresponding to parenthesized subexpressions of\n",
      "     ‘pattern’, with attribute ‘\"match.length\"’ a vector giving the\n",
      "     lengths of the matches (or -1 for no match).  The interpretation\n",
      "     of positions and length and the attributes follows ‘regexpr’.\n",
      "\n",
      "     Where matching failed because of resource limits (especially for\n",
      "     PCRE) this is regarded as a non-match, usually with a warning.\n",
      "\n",
      "_\bW_\ba_\br_\bn_\bi_\bn_\bg:\n",
      "\n",
      "     The POSIX 1003.2 mode of ‘gsub’ and ‘gregexpr’ does not work\n",
      "     correctly with repeated word-boundaries (e.g., ‘pattern = \"\\b\"’).\n",
      "     Use ‘perl = TRUE’ for such matches (but that may not work as\n",
      "     expected with non-ASCII inputs, as the meaning of ‘word’ is\n",
      "     system-dependent).\n",
      "\n",
      "_\bP_\be_\br_\bf_\bo_\br_\bm_\ba_\bn_\bc_\be _\bc_\bo_\bn_\bs_\bi_\bd_\be_\br_\ba_\bt_\bi_\bo_\bn_\bs:\n",
      "\n",
      "     If you are doing a lot of regular expression matching, including\n",
      "     on very long strings, you will want to consider the options used.\n",
      "     Generally PCRE will be faster than the default regular expression\n",
      "     engine, and ‘fixed = TRUE’ faster still (especially when each\n",
      "     pattern is matched only a few times).\n",
      "\n",
      "     If you are working in a single-byte locale and have marked UTF-8\n",
      "     strings that are representable in that locale, convert them first\n",
      "     as just one UTF-8 string will force all the matching to be done in\n",
      "     Unicode, which attracts a penalty of around 3x for the default\n",
      "     POSIX 1003.2 mode.\n",
      "\n",
      "     If you can make use of ‘useBytes = TRUE’, the strings will not be\n",
      "     checked before matching, and the actual matching will be faster.\n",
      "     Often byte-based matching suffices in a UTF-8 locale since byte\n",
      "     patterns of one character never match part of another.\n",
      "\n",
      "     PCRE-based matching by default puts additional effort into\n",
      "     ‘studying’ the compiled pattern when ‘x’/‘text’ has length at\n",
      "     least 10.  As from R 3.4.0 that study may use the PCRE JIT\n",
      "     compiler on platforms where it is available (see ‘pcre_config’).\n",
      "     The details are controlled by ‘options’ ‘PCRE_study’ and\n",
      "     ‘PCRE_use_JIT’.  (Some timing comparisons can be seen by running\n",
      "     file ‘tests/PCRE.R’ in the R sources (and perhaps installed).)\n",
      "     People working with PCRE and very long strings can adjust the\n",
      "     maximum size of the JIT stack by setting environment variable\n",
      "     ‘R_PCRE_JIT_STACK_MAXSIZE’ before JIT is used to a value between\n",
      "     ‘1’ and ‘1000’ in MB: the default is ‘64’.  (Then it would usually\n",
      "     be wise to set the option ‘PCRE_limit_recursion’.)\n",
      "\n",
      "_\bS_\bo_\bu_\br_\bc_\be:\n",
      "\n",
      "     The C code for POSIX-style regular expression matching has changed\n",
      "     over the years.  As from R 2.10.0 (Oct 2009) the TRE library of\n",
      "     Ville Laurikari (<URL: http://laurikari.net/tre/>) is used.  The\n",
      "     POSIX standard does give some room for interpretation, especially\n",
      "     in the handling of invalid regular expressions and the collation\n",
      "     of character ranges, so the results will have changed slightly\n",
      "     over the years.\n",
      "\n",
      "     For Perl-style matching PCRE (<URL: http://www.pcre.org>) is used:\n",
      "     again the results may depend (slightly) on the version of PCRE in\n",
      "     use.\n",
      "\n",
      "_\bR_\be_\bf_\be_\br_\be_\bn_\bc_\be_\bs:\n",
      "\n",
      "     Becker, R. A., Chambers, J. M. and Wilks, A. R. (1988) _The New S\n",
      "     Language_.  Wadsworth & Brooks/Cole (‘grep’)\n",
      "\n",
      "_\bS_\be_\be _\bA_\bl_\bs_\bo:\n",
      "\n",
      "     regular expression (aka ‘regexp’) for the details of the pattern\n",
      "     specification.\n",
      "\n",
      "     ‘regmatches’ for extracting matched substrings based on the\n",
      "     results of ‘regexpr’, ‘gregexpr’ and ‘regexec’.\n",
      "\n",
      "     ‘glob2rx’ to turn wildcard matches into regular expressions.\n",
      "\n",
      "     ‘agrep’ for approximate matching.\n",
      "\n",
      "     ‘charmatch’, ‘pmatch’ for partial matching, ‘match’ for matching\n",
      "     to whole strings, ‘startsWith’ for matching of initial parts of\n",
      "     strings.\n",
      "\n",
      "     ‘tolower’, ‘toupper’ and ‘chartr’ for character translations.\n",
      "\n",
      "     ‘apropos’ uses regexps and has more examples.\n",
      "\n",
      "     ‘grepRaw’ for matching raw vectors.\n",
      "\n",
      "     Options ‘PCRE_limit_recursion’, ‘PCRE_study’ and ‘PCRE_use_JIT’.\n",
      "\n",
      "     ‘extSoftVersion’ for the versions of regex and PCRE libraries in\n",
      "     use, ‘pcre_config’ for more details for PCRE.\n",
      "\n",
      "_\bE_\bx_\ba_\bm_\bp_\bl_\be_\bs:\n",
      "\n",
      "     grep(\"[a-z]\", letters)\n",
      "     \n",
      "     txt <- c(\"arm\",\"foot\",\"lefroo\", \"bafoobar\")\n",
      "     if(length(i <- grep(\"foo\", txt)))\n",
      "        cat(\"'foo' appears at least once in\\n\\t\", txt, \"\\n\")\n",
      "     i # 2 and 4\n",
      "     txt[i]\n",
      "     \n",
      "     ## Double all 'a' or 'b's;  \"\\\" must be escaped, i.e., 'doubled'\n",
      "     gsub(\"([ab])\", \"\\\\1_\\\\1_\", \"abc and ABC\")\n",
      "     \n",
      "     txt <- c(\"The\", \"licenses\", \"for\", \"most\", \"software\", \"are\",\n",
      "       \"designed\", \"to\", \"take\", \"away\", \"your\", \"freedom\",\n",
      "       \"to\", \"share\", \"and\", \"change\", \"it.\",\n",
      "       \"\", \"By\", \"contrast,\", \"the\", \"GNU\", \"General\", \"Public\", \"License\",\n",
      "       \"is\", \"intended\", \"to\", \"guarantee\", \"your\", \"freedom\", \"to\",\n",
      "       \"share\", \"and\", \"change\", \"free\", \"software\", \"--\",\n",
      "       \"to\", \"make\", \"sure\", \"the\", \"software\", \"is\",\n",
      "       \"free\", \"for\", \"all\", \"its\", \"users\")\n",
      "     ( i <- grep(\"[gu]\", txt) ) # indices\n",
      "     stopifnot( txt[i] == grep(\"[gu]\", txt, value = TRUE) )\n",
      "     \n",
      "     ## Note that in locales such as en_US this includes B as the\n",
      "     ## collation order is aAbBcCdDe ...\n",
      "     (ot <- sub(\"[b-e]\",\".\", txt))\n",
      "     txt[ot != gsub(\"[b-e]\",\".\", txt)]#- gsub does \"global\" substitution\n",
      "     \n",
      "     txt[gsub(\"g\",\"#\", txt) !=\n",
      "         gsub(\"g\",\"#\", txt, ignore.case = TRUE)] # the \"G\" words\n",
      "     \n",
      "     regexpr(\"en\", txt)\n",
      "     \n",
      "     gregexpr(\"e\", txt)\n",
      "     \n",
      "     ## Using grepl() for filtering\n",
      "     ## Find functions with argument names matching \"warn\":\n",
      "     findArgs <- function(env, pattern) {\n",
      "       nms <- ls(envir = as.environment(env))\n",
      "       nms <- nms[is.na(match(nms, c(\"F\",\"T\")))] # <-- work around \"checking hack\"\n",
      "       aa <- sapply(nms, function(.) { o <- get(.)\n",
      "                    if(is.function(o)) names(formals(o)) })\n",
      "       iw <- sapply(aa, function(a) any(grepl(pattern, a, ignore.case=TRUE)))\n",
      "       aa[iw]\n",
      "     }\n",
      "     findArgs(\"package:base\", \"warn\")\n",
      "     \n",
      "     ## trim trailing white space\n",
      "     str <- \"Now is the time      \"\n",
      "     sub(\" +$\", \"\", str)  ## spaces only\n",
      "     ## what is considered 'white space' depends on the locale.\n",
      "     sub(\"[[:space:]]+$\", \"\", str) ## white space, POSIX-style\n",
      "     ## what PCRE considered white space changed in version 8.34: see ?regex\n",
      "     sub(\"\\\\s+$\", \"\", str, perl = TRUE) ## PCRE-style white space\n",
      "     \n",
      "     ## capitalizing\n",
      "     txt <- \"a test of capitalizing\"\n",
      "     gsub(\"(\\\\w)(\\\\w*)\", \"\\\\U\\\\1\\\\L\\\\2\", txt, perl=TRUE)\n",
      "     gsub(\"\\\\b(\\\\w)\",    \"\\\\U\\\\1\",       txt, perl=TRUE)\n",
      "     \n",
      "     txt2 <- \"useRs may fly into JFK or laGuardia\"\n",
      "     gsub(\"(\\\\w)(\\\\w*)(\\\\w)\", \"\\\\U\\\\1\\\\E\\\\2\\\\U\\\\3\", txt2, perl=TRUE)\n",
      "      sub(\"(\\\\w)(\\\\w*)(\\\\w)\", \"\\\\U\\\\1\\\\E\\\\2\\\\U\\\\3\", txt2, perl=TRUE)\n",
      "     \n",
      "     ## named capture\n",
      "     notables <- c(\"  Ben Franklin and Jefferson Davis\",\n",
      "                   \"\\tMillard Fillmore\")\n",
      "     # name groups 'first' and 'last'\n",
      "     name.rex <- \"(?<first>[[:upper:]][[:lower:]]+) (?<last>[[:upper:]][[:lower:]]+)\"\n",
      "     (parsed <- regexpr(name.rex, notables, perl = TRUE))\n",
      "     gregexpr(name.rex, notables, perl = TRUE)[[2]]\n",
      "     parse.one <- function(res, result) {\n",
      "       m <- do.call(rbind, lapply(seq_along(res), function(i) {\n",
      "         if(result[i] == -1) return(\"\")\n",
      "         st <- attr(result, \"capture.start\")[i, ]\n",
      "         substring(res[i], st, st + attr(result, \"capture.length\")[i, ] - 1)\n",
      "       }))\n",
      "       colnames(m) <- attr(result, \"capture.names\")\n",
      "       m\n",
      "     }\n",
      "     parse.one(notables, parsed)\n",
      "     \n",
      "     ## Decompose a URL into its components.\n",
      "     ## Example by LT (http://www.cs.uiowa.edu/~luke/R/regexp.html).\n",
      "     x <- \"http://stat.umn.edu:80/xyz\"\n",
      "     m <- regexec(\"^(([^:]+)://)?([^:/]+)(:([0-9]+))?(/.*)\", x)\n",
      "     m\n",
      "     regmatches(x, m)\n",
      "     ## Element 3 is the protocol, 4 is the host, 6 is the port, and 7\n",
      "     ## is the path.  We can use this to make a function for extracting the\n",
      "     ## parts of a URL:\n",
      "     URL_parts <- function(x) {\n",
      "         m <- regexec(\"^(([^:]+)://)?([^:/]+)(:([0-9]+))?(/.*)\", x)\n",
      "         parts <- do.call(rbind,\n",
      "                          lapply(regmatches(x, m), `[`, c(3L, 4L, 6L, 7L)))\n",
      "         colnames(parts) <- c(\"protocol\",\"host\",\"port\",\"path\")\n",
      "         parts\n",
      "     }\n",
      "     URL_parts(x)\n",
      "     \n",
      "     ## There is no gregexec() yet, but one can emulate it by running\n",
      "     ## regexec() on the regmatches obtained via gregexpr().  E.g.:\n",
      "     pattern <- \"([[:alpha:]]+)([[:digit:]]+)\"\n",
      "     s <- \"Test: A1 BC23 DEF456\"\n",
      "     lapply(regmatches(s, gregexpr(pattern, s)),\n",
      "            function(e) regmatches(e, regexec(pattern, e)))\n",
      "     "
     ]
    }
   ],
   "source": [
    "help(gsub)"
   ]
  },
  {
   "cell_type": "code",
   "execution_count": null,
   "metadata": {
    "vscode": {
     "languageId": "r"
    }
   },
   "outputs": [],
   "source": []
  },
  {
   "cell_type": "code",
   "execution_count": null,
   "metadata": {
    "vscode": {
     "languageId": "r"
    }
   },
   "outputs": [],
   "source": []
  },
  {
   "cell_type": "code",
   "execution_count": null,
   "metadata": {
    "vscode": {
     "languageId": "r"
    }
   },
   "outputs": [],
   "source": []
  },
  {
   "cell_type": "code",
   "execution_count": null,
   "metadata": {
    "vscode": {
     "languageId": "r"
    }
   },
   "outputs": [],
   "source": []
  },
  {
   "cell_type": "code",
   "execution_count": null,
   "metadata": {
    "vscode": {
     "languageId": "r"
    }
   },
   "outputs": [],
   "source": []
  }
 ],
 "metadata": {
  "kernelspec": {
   "display_name": "R",
   "language": "R",
   "name": "ir"
  },
  "language_info": {
   "codemirror_mode": "r",
   "file_extension": ".r",
   "mimetype": "text/x-r-source",
   "name": "R",
   "pygments_lexer": "r",
   "version": "3.6.1"
  },
  "orig_nbformat": 4
 },
 "nbformat": 4,
 "nbformat_minor": 2
}
