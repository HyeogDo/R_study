{
 "cells": [
  {
   "cell_type": "markdown",
   "id": "984d5b5e",
   "metadata": {},
   "source": [
    "# 머신러닝\n",
    "- 인공신경망\n",
    "- 의사결정나무\n",
    "- RandomForest\n",
    "- SVM\n",
    "- 로지스틱 회귀 분석"
   ]
  },
  {
   "cell_type": "code",
   "execution_count": 1,
   "id": "d05601f6",
   "metadata": {
    "scrolled": true
   },
   "outputs": [
    {
     "name": "stderr",
     "output_type": "stream",
     "text": [
      "Loading required package: grid\n",
      "Loading required package: mvtnorm\n",
      "Loading required package: modeltools\n",
      "Loading required package: stats4\n",
      "Loading required package: strucchange\n",
      "Loading required package: zoo\n",
      "\n",
      "Attaching package: ‘zoo’\n",
      "\n",
      "The following objects are masked from ‘package:base’:\n",
      "\n",
      "    as.Date, as.Date.numeric\n",
      "\n",
      "Loading required package: sandwich\n",
      "randomForest 4.6-14\n",
      "Type rfNews() to see new features/changes/bug fixes.\n",
      "Loading required package: lattice\n",
      "Loading required package: ggplot2\n",
      "Registered S3 methods overwritten by 'ggplot2':\n",
      "  method         from \n",
      "  [.quosures     rlang\n",
      "  c.quosures     rlang\n",
      "  print.quosures rlang\n",
      "\n",
      "Attaching package: ‘ggplot2’\n",
      "\n",
      "The following object is masked from ‘package:randomForest’:\n",
      "\n",
      "    margin\n",
      "\n"
     ]
    }
   ],
   "source": [
    "options(warn = -1)\n",
    "library(nnet)\n",
    "library(party)\n",
    "library(randomForest)\n",
    "library(e1071)\n",
    "library(caret)"
   ]
  },
  {
   "cell_type": "code",
   "execution_count": 2,
   "id": "0dfc3f5f",
   "metadata": {},
   "outputs": [],
   "source": [
    "# 샘플링을 위한 인덱스 뽑기\n",
    "set.seed(1234)\n",
    "samp <- createDataPartition(iris$Species, p=0.7, list=F)"
   ]
  },
  {
   "cell_type": "code",
   "execution_count": 3,
   "id": "6294289a",
   "metadata": {},
   "outputs": [],
   "source": [
    "# 표준화\n",
    "iris2 <- as.data.frame(scale(iris[,-5]))\n",
    "iris2$Species <- iris$Species\n",
    "\n",
    "# 표준화 안하는 데이터(의사결정나무, RandomForest)\n",
    "data.tr <- iris[samp,]\n",
    "data.test <- iris[-samp,]\n",
    "x <- subset(data.test, select = -Species)\n",
    "y <- data.test$Species\n",
    "\n",
    "# 표준화 하는 데이터\n",
    "data.tr.norm <- iris2[samp,]\n",
    "data.test.norm <- iris2[-samp,]\n",
    "x.norm <- subset(data.test.norm, select = -Species)\n",
    "y.norm <- data.test.norm$Species\n",
    "\n",
    "# 인공 신경망\n",
    "f.nnet <- function(data.tr, data.test, x, y) {\n",
    "    model.nnet <- nnet(Species ~ ., data=data.tr, size = 3) \n",
    "    pred <- predict(model.nnet, x, type=\"class\")\n",
    "    return (mean(pred == y))\n",
    "}\n",
    "\n",
    "# 의사 결정 나무\n",
    "f.ctree <- function(data.tr, data.test, x, y) {\n",
    "    model.ctree <- ctree(Species ~ ., data=data.tr)\n",
    "    pred <- predict(model.ctree, x)\n",
    "    return (mean(pred == y))\n",
    "}\n",
    "\n",
    "# RandomForest\n",
    "f.randomForest <- function(data.tr, data.test, x, y) {\n",
    "    model.rf <- randomForest(Species ~ ., data=data.tr, ntree=100)\n",
    "    pred <- predict(model.rf, x)\n",
    "    return (mean(pred == y))\n",
    "}\n",
    "\n",
    "\n",
    "# SVM\n",
    "f.svm <- function(data.tr, data.test, x, y) {\n",
    "    model.svm <- svm(Species ~., data=data.tr)\n",
    "    pred <- predict(model.svm, x)\n",
    "    return (mean(pred == y))\n",
    "}\n",
    "\n",
    "# 다항 로지스틱 회귀분석\n",
    "f.multinom <- function(data.tr, data.test, x, y) {\n",
    "    model.multinom <- multinom(Species ~ ., data=data.tr)\n",
    "    pred <- predict(model.multinom, x)\n",
    "    return (mean(pred == y))\n",
    "}"
   ]
  },
  {
   "cell_type": "code",
   "execution_count": 4,
   "id": "b1e827f3",
   "metadata": {
    "scrolled": true
   },
   "outputs": [
    {
     "name": "stdout",
     "output_type": "stream",
     "text": [
      "# weights:  27\n",
      "initial  value 124.913043 \n",
      "iter  10 value 6.777899\n",
      "iter  20 value 0.018147\n",
      "final  value 0.000081 \n",
      "converged\n",
      "# weights:  18 (10 variable)\n",
      "initial  value 115.354290 \n",
      "iter  10 value 7.556637\n",
      "iter  20 value 0.042347\n",
      "iter  30 value 0.009210\n",
      "iter  40 value 0.006761\n",
      "iter  50 value 0.003904\n",
      "iter  60 value 0.003512\n",
      "iter  70 value 0.003095\n",
      "iter  80 value 0.002826\n",
      "iter  90 value 0.002781\n",
      "iter 100 value 0.002705\n",
      "final  value 0.002705 \n",
      "stopped after 100 iterations\n",
      "# weights:  27\n",
      "initial  value 128.751388 \n",
      "iter  10 value 25.241454\n",
      "iter  20 value 0.068786\n",
      "iter  30 value 0.000395\n",
      "final  value 0.000081 \n",
      "converged\n",
      "# weights:  18 (10 variable)\n",
      "initial  value 115.354290 \n",
      "iter  10 value 7.556637\n",
      "iter  20 value 0.042347\n",
      "iter  30 value 0.009210\n",
      "iter  40 value 0.006761\n",
      "iter  50 value 0.003904\n",
      "iter  60 value 0.003512\n",
      "iter  70 value 0.003095\n",
      "iter  80 value 0.002826\n",
      "iter  90 value 0.002781\n",
      "iter 100 value 0.002705\n",
      "final  value 0.002705 \n",
      "stopped after 100 iterations\n",
      "# weights:  27\n",
      "initial  value 107.899470 \n",
      "iter  10 value 24.407273\n",
      "iter  20 value 0.126025\n",
      "iter  30 value 0.000667\n",
      "final  value 0.000065 \n",
      "converged\n",
      "# weights:  18 (10 variable)\n",
      "initial  value 115.354290 \n",
      "iter  10 value 7.556637\n",
      "iter  20 value 0.042347\n",
      "iter  30 value 0.009210\n",
      "iter  40 value 0.006761\n",
      "iter  50 value 0.003904\n",
      "iter  60 value 0.003512\n",
      "iter  70 value 0.003095\n",
      "iter  80 value 0.002826\n",
      "iter  90 value 0.002781\n",
      "iter 100 value 0.002705\n",
      "final  value 0.002705 \n",
      "stopped after 100 iterations\n",
      "# weights:  27\n",
      "initial  value 119.370674 \n",
      "iter  10 value 11.022541\n",
      "iter  20 value 0.026923\n",
      "iter  30 value 0.000263\n",
      "final  value 0.000073 \n",
      "converged\n",
      "# weights:  18 (10 variable)\n",
      "initial  value 115.354290 \n",
      "iter  10 value 7.556637\n",
      "iter  20 value 0.042347\n",
      "iter  30 value 0.009210\n",
      "iter  40 value 0.006761\n",
      "iter  50 value 0.003904\n",
      "iter  60 value 0.003512\n",
      "iter  70 value 0.003095\n",
      "iter  80 value 0.002826\n",
      "iter  90 value 0.002781\n",
      "iter 100 value 0.002705\n",
      "final  value 0.002705 \n",
      "stopped after 100 iterations\n",
      "# weights:  27\n",
      "initial  value 122.430079 \n",
      "iter  10 value 1.102821\n",
      "iter  20 value 0.005619\n",
      "final  value 0.000069 \n",
      "converged\n",
      "# weights:  18 (10 variable)\n",
      "initial  value 115.354290 \n",
      "iter  10 value 7.556637\n",
      "iter  20 value 0.042347\n",
      "iter  30 value 0.009210\n",
      "iter  40 value 0.006761\n",
      "iter  50 value 0.003904\n",
      "iter  60 value 0.003512\n",
      "iter  70 value 0.003095\n",
      "iter  80 value 0.002826\n",
      "iter  90 value 0.002781\n",
      "iter 100 value 0.002705\n",
      "final  value 0.002705 \n",
      "stopped after 100 iterations\n"
     ]
    }
   ],
   "source": [
    "result <- rep(0,5)\n",
    "for (i in 1:5) {\n",
    "    result[1] <- result[1] + f.nnet(data.tr.norm, data.test.norm, x.norm, y.norm)\n",
    "    result[2] <- result[2] + f.ctree(data.tr, data.test, x, y)\n",
    "    result[3] <- result[3] + f.randomForest(data.tr, data.test, x, y)\n",
    "    result[4] <- result[4] + f.svm(data.tr.norm, data.test.norm, x.norm, y.norm)\n",
    "    result[5] <- result[5] + f.multinom(data.tr.norm, data.test.norm, x.norm, y.norm)\n",
    "}\n",
    "result <- result / 5"
   ]
  },
  {
   "cell_type": "code",
   "execution_count": 5,
   "id": "991dcf60",
   "metadata": {},
   "outputs": [],
   "source": [
    "result <- data.frame(예측력=result)\n",
    "rownames(result) <- c(\"인공신경망\", \"의사결정나무\", \"RandomForest\", \"SVM\", \"로지스틱회귀분석\")"
   ]
  },
  {
   "cell_type": "code",
   "execution_count": 6,
   "id": "9ee46230",
   "metadata": {},
   "outputs": [
    {
     "data": {
      "text/html": [
       "<table>\n",
       "<thead><tr><th></th><th scope=col>예측력</th></tr></thead>\n",
       "<tbody>\n",
       "\t<tr><th scope=row>인공신경망</th><td>0.9333333</td></tr>\n",
       "\t<tr><th scope=row>의사결정나무</th><td>0.8888889</td></tr>\n",
       "\t<tr><th scope=row>RandomForest</th><td>0.9288889</td></tr>\n",
       "\t<tr><th scope=row>SVM</th><td>0.9333333</td></tr>\n",
       "\t<tr><th scope=row>로지스틱회귀분석</th><td>0.9333333</td></tr>\n",
       "</tbody>\n",
       "</table>\n"
      ],
      "text/latex": [
       "\\begin{tabular}{r|l}\n",
       "  & 예측력\\\\\n",
       "\\hline\n",
       "\t인공신경망 & 0.9333333\\\\\n",
       "\t의사결정나무 & 0.8888889\\\\\n",
       "\tRandomForest & 0.9288889\\\\\n",
       "\tSVM & 0.9333333\\\\\n",
       "\t로지스틱회귀분석 & 0.9333333\\\\\n",
       "\\end{tabular}\n"
      ],
      "text/markdown": [
       "\n",
       "| <!--/--> | 예측력 |\n",
       "|---|---|\n",
       "| 인공신경망 | 0.9333333 |\n",
       "| 의사결정나무 | 0.8888889 |\n",
       "| RandomForest | 0.9288889 |\n",
       "| SVM | 0.9333333 |\n",
       "| 로지스틱회귀분석 | 0.9333333 |\n",
       "\n"
      ],
      "text/plain": [
       "                 예측력   \n",
       "인공신경망       0.9333333\n",
       "의사결정나무     0.8888889\n",
       "RandomForest     0.9288889\n",
       "SVM              0.9333333\n",
       "로지스틱회귀분석 0.9333333"
      ]
     },
     "metadata": {},
     "output_type": "display_data"
    }
   ],
   "source": [
    "result"
   ]
  },
  {
   "cell_type": "code",
   "execution_count": null,
   "id": "f00ecd4c",
   "metadata": {},
   "outputs": [],
   "source": []
  },
  {
   "cell_type": "code",
   "execution_count": null,
   "id": "dcdfab9f",
   "metadata": {},
   "outputs": [],
   "source": []
  },
  {
   "cell_type": "code",
   "execution_count": null,
   "id": "de6fd854",
   "metadata": {},
   "outputs": [],
   "source": []
  },
  {
   "cell_type": "code",
   "execution_count": null,
   "id": "da4de146",
   "metadata": {},
   "outputs": [],
   "source": []
  },
  {
   "cell_type": "code",
   "execution_count": null,
   "id": "14fb5f6e",
   "metadata": {},
   "outputs": [],
   "source": []
  },
  {
   "cell_type": "code",
   "execution_count": null,
   "id": "b0cf9571",
   "metadata": {},
   "outputs": [],
   "source": []
  },
  {
   "cell_type": "code",
   "execution_count": null,
   "id": "cf079f33",
   "metadata": {},
   "outputs": [],
   "source": []
  },
  {
   "cell_type": "code",
   "execution_count": null,
   "id": "c3f49e2a",
   "metadata": {},
   "outputs": [],
   "source": []
  },
  {
   "cell_type": "code",
   "execution_count": null,
   "id": "774d4300",
   "metadata": {},
   "outputs": [],
   "source": []
  }
 ],
 "metadata": {
  "kernelspec": {
   "display_name": "R",
   "language": "R",
   "name": "ir"
  },
  "language_info": {
   "codemirror_mode": "r",
   "file_extension": ".r",
   "mimetype": "text/x-r-source",
   "name": "R",
   "pygments_lexer": "r",
   "version": "3.6.1"
  }
 },
 "nbformat": 4,
 "nbformat_minor": 5
}
