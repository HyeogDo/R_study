{
 "cells": [
  {
   "cell_type": "code",
   "execution_count": 1,
   "id": "ff59eaa0",
   "metadata": {},
   "outputs": [],
   "source": [
    "no <- 1:4\n",
    "name <- c(\"Apple\", \"Banana\", \"Peach\", \"Berry\")\n",
    "price <- c(500,200,200,50)\n",
    "qty <- c(5,4,3,2)"
   ]
  },
  {
   "cell_type": "code",
   "execution_count": 2,
   "id": "dc1df37e",
   "metadata": {},
   "outputs": [
    {
     "data": {
      "text/html": [
       "<table>\n",
       "<thead><tr><th scope=col>번호</th><th scope=col>제품</th><th scope=col>금액</th><th scope=col>수량</th></tr></thead>\n",
       "<tbody>\n",
       "\t<tr><td>1     </td><td>Apple </td><td>500   </td><td>5     </td></tr>\n",
       "\t<tr><td>2     </td><td>Banana</td><td>200   </td><td>4     </td></tr>\n",
       "\t<tr><td>3     </td><td>Peach </td><td>200   </td><td>3     </td></tr>\n",
       "\t<tr><td>4     </td><td>Berry </td><td> 50   </td><td>2     </td></tr>\n",
       "</tbody>\n",
       "</table>\n"
      ],
      "text/latex": [
       "\\begin{tabular}{r|llll}\n",
       " 번호 & 제품 & 금액 & 수량\\\\\n",
       "\\hline\n",
       "\t 1      & Apple  & 500    & 5     \\\\\n",
       "\t 2      & Banana & 200    & 4     \\\\\n",
       "\t 3      & Peach  & 200    & 3     \\\\\n",
       "\t 4      & Berry  &  50    & 2     \\\\\n",
       "\\end{tabular}\n"
      ],
      "text/markdown": [
       "\n",
       "| 번호 | 제품 | 금액 | 수량 |\n",
       "|---|---|---|---|\n",
       "| 1      | Apple  | 500    | 5      |\n",
       "| 2      | Banana | 200    | 4      |\n",
       "| 3      | Peach  | 200    | 3      |\n",
       "| 4      | Berry  |  50    | 2      |\n",
       "\n"
      ],
      "text/plain": [
       "  번호 제품   금액 수량\n",
       "1 1    Apple  500  5   \n",
       "2 2    Banana 200  4   \n",
       "3 3    Peach  200  3   \n",
       "4 4    Berry   50  2   "
      ]
     },
     "metadata": {},
     "output_type": "display_data"
    }
   ],
   "source": [
    "# 벡터를 이용하여 데이터 프레임 만들기\n",
    "\n",
    "fruit <- data.frame(번호 = no, 제품 = name, 금액 = price, 수량 = qty)\n",
    "fruit"
   ]
  },
  {
   "cell_type": "code",
   "execution_count": 3,
   "id": "9169712e",
   "metadata": {},
   "outputs": [
    {
     "data": {
      "text/html": [
       "<ol class=list-inline>\n",
       "\t<li>'fruit'</li>\n",
       "\t<li>'name'</li>\n",
       "\t<li>'no'</li>\n",
       "\t<li>'price'</li>\n",
       "\t<li>'qty'</li>\n",
       "</ol>\n"
      ],
      "text/latex": [
       "\\begin{enumerate*}\n",
       "\\item 'fruit'\n",
       "\\item 'name'\n",
       "\\item 'no'\n",
       "\\item 'price'\n",
       "\\item 'qty'\n",
       "\\end{enumerate*}\n"
      ],
      "text/markdown": [
       "1. 'fruit'\n",
       "2. 'name'\n",
       "3. 'no'\n",
       "4. 'price'\n",
       "5. 'qty'\n",
       "\n",
       "\n"
      ],
      "text/plain": [
       "[1] \"fruit\" \"name\"  \"no\"    \"price\" \"qty\"  "
      ]
     },
     "metadata": {},
     "output_type": "display_data"
    }
   ],
   "source": [
    "# 현재 메모리에 있는 변수 보기\n",
    "\n",
    "ls()"
   ]
  },
  {
   "cell_type": "code",
   "execution_count": 4,
   "id": "16c8af94",
   "metadata": {},
   "outputs": [],
   "source": [
    "# 메모리 형태로 파일 보관\n",
    "\n",
    "save(no,fruit,name, file= \"../Data/testFruit.txt\")"
   ]
  },
  {
   "cell_type": "code",
   "execution_count": 5,
   "id": "4fa23e5d",
   "metadata": {},
   "outputs": [],
   "source": [
    "rm(no, fruit, name)"
   ]
  },
  {
   "cell_type": "code",
   "execution_count": 6,
   "id": "29bde4a4",
   "metadata": {},
   "outputs": [
    {
     "data": {
      "text/html": [
       "<ol class=list-inline>\n",
       "\t<li>'price'</li>\n",
       "\t<li>'qty'</li>\n",
       "</ol>\n"
      ],
      "text/latex": [
       "\\begin{enumerate*}\n",
       "\\item 'price'\n",
       "\\item 'qty'\n",
       "\\end{enumerate*}\n"
      ],
      "text/markdown": [
       "1. 'price'\n",
       "2. 'qty'\n",
       "\n",
       "\n"
      ],
      "text/plain": [
       "[1] \"price\" \"qty\"  "
      ]
     },
     "metadata": {},
     "output_type": "display_data"
    }
   ],
   "source": [
    "ls()"
   ]
  },
  {
   "cell_type": "code",
   "execution_count": 7,
   "id": "67625bbd",
   "metadata": {},
   "outputs": [],
   "source": [
    "# 메모리로 불러오기\n",
    "load(\"../Data//testFruit.txt\")"
   ]
  },
  {
   "cell_type": "code",
   "execution_count": 8,
   "id": "df0a6b31",
   "metadata": {},
   "outputs": [
    {
     "data": {
      "text/html": [
       "<table>\n",
       "<thead><tr><th scope=col>번호</th><th scope=col>제품</th><th scope=col>금액</th><th scope=col>수량</th></tr></thead>\n",
       "<tbody>\n",
       "\t<tr><td>1     </td><td>Apple </td><td>500   </td><td>5     </td></tr>\n",
       "\t<tr><td>2     </td><td>Banana</td><td>200   </td><td>4     </td></tr>\n",
       "\t<tr><td>3     </td><td>Peach </td><td>200   </td><td>3     </td></tr>\n",
       "\t<tr><td>4     </td><td>Berry </td><td> 50   </td><td>2     </td></tr>\n",
       "</tbody>\n",
       "</table>\n"
      ],
      "text/latex": [
       "\\begin{tabular}{r|llll}\n",
       " 번호 & 제품 & 금액 & 수량\\\\\n",
       "\\hline\n",
       "\t 1      & Apple  & 500    & 5     \\\\\n",
       "\t 2      & Banana & 200    & 4     \\\\\n",
       "\t 3      & Peach  & 200    & 3     \\\\\n",
       "\t 4      & Berry  &  50    & 2     \\\\\n",
       "\\end{tabular}\n"
      ],
      "text/markdown": [
       "\n",
       "| 번호 | 제품 | 금액 | 수량 |\n",
       "|---|---|---|---|\n",
       "| 1      | Apple  | 500    | 5      |\n",
       "| 2      | Banana | 200    | 4      |\n",
       "| 3      | Peach  | 200    | 3      |\n",
       "| 4      | Berry  |  50    | 2      |\n",
       "\n"
      ],
      "text/plain": [
       "  번호 제품   금액 수량\n",
       "1 1    Apple  500  5   \n",
       "2 2    Banana 200  4   \n",
       "3 3    Peach  200  3   \n",
       "4 4    Berry   50  2   "
      ]
     },
     "metadata": {},
     "output_type": "display_data"
    }
   ],
   "source": [
    "fruit"
   ]
  },
  {
   "cell_type": "code",
   "execution_count": 9,
   "id": "b548a2cf",
   "metadata": {},
   "outputs": [
    {
     "data": {
      "text/html": [
       "<ol class=list-inline>\n",
       "\t<li>'fruit'</li>\n",
       "\t<li>'name'</li>\n",
       "\t<li>'no'</li>\n",
       "\t<li>'price'</li>\n",
       "\t<li>'qty'</li>\n",
       "</ol>\n"
      ],
      "text/latex": [
       "\\begin{enumerate*}\n",
       "\\item 'fruit'\n",
       "\\item 'name'\n",
       "\\item 'no'\n",
       "\\item 'price'\n",
       "\\item 'qty'\n",
       "\\end{enumerate*}\n"
      ],
      "text/markdown": [
       "1. 'fruit'\n",
       "2. 'name'\n",
       "3. 'no'\n",
       "4. 'price'\n",
       "5. 'qty'\n",
       "\n",
       "\n"
      ],
      "text/plain": [
       "[1] \"fruit\" \"name\"  \"no\"    \"price\" \"qty\"  "
      ]
     },
     "metadata": {},
     "output_type": "display_data"
    }
   ],
   "source": [
    "ls()"
   ]
  },
  {
   "cell_type": "code",
   "execution_count": 10,
   "id": "6bdc0ec4",
   "metadata": {},
   "outputs": [],
   "source": [
    "# fruit를 csv로 저장하기\n",
    "\n",
    "write.csv(fruit, file=\"../Data/fruit.csv\")"
   ]
  },
  {
   "cell_type": "code",
   "execution_count": 11,
   "id": "16562646",
   "metadata": {},
   "outputs": [],
   "source": [
    "fruit2 <- read.csv(\"../Data/fruit.csv\")"
   ]
  },
  {
   "cell_type": "code",
   "execution_count": 12,
   "id": "ab2360a3",
   "metadata": {},
   "outputs": [],
   "source": [
    "write.csv(fruit2,\"../Data/fruit2.csv\")"
   ]
  },
  {
   "cell_type": "code",
   "execution_count": 13,
   "id": "13a864fc",
   "metadata": {},
   "outputs": [
    {
     "data": {
      "text/html": [
       "<table>\n",
       "<thead><tr><th scope=col>X.1</th><th scope=col>X</th><th scope=col>번호</th><th scope=col>제품</th><th scope=col>금액</th><th scope=col>수량</th></tr></thead>\n",
       "<tbody>\n",
       "\t<tr><td>1     </td><td>1     </td><td>1     </td><td>Apple </td><td>500   </td><td>5     </td></tr>\n",
       "\t<tr><td>2     </td><td>2     </td><td>2     </td><td>Banana</td><td>200   </td><td>4     </td></tr>\n",
       "\t<tr><td>3     </td><td>3     </td><td>3     </td><td>Peach </td><td>200   </td><td>3     </td></tr>\n",
       "\t<tr><td>4     </td><td>4     </td><td>4     </td><td>Berry </td><td> 50   </td><td>2     </td></tr>\n",
       "</tbody>\n",
       "</table>\n"
      ],
      "text/latex": [
       "\\begin{tabular}{r|llllll}\n",
       " X.1 & X & 번호 & 제품 & 금액 & 수량\\\\\n",
       "\\hline\n",
       "\t 1      & 1      & 1      & Apple  & 500    & 5     \\\\\n",
       "\t 2      & 2      & 2      & Banana & 200    & 4     \\\\\n",
       "\t 3      & 3      & 3      & Peach  & 200    & 3     \\\\\n",
       "\t 4      & 4      & 4      & Berry  &  50    & 2     \\\\\n",
       "\\end{tabular}\n"
      ],
      "text/markdown": [
       "\n",
       "| X.1 | X | 번호 | 제품 | 금액 | 수량 |\n",
       "|---|---|---|---|---|---|\n",
       "| 1      | 1      | 1      | Apple  | 500    | 5      |\n",
       "| 2      | 2      | 2      | Banana | 200    | 4      |\n",
       "| 3      | 3      | 3      | Peach  | 200    | 3      |\n",
       "| 4      | 4      | 4      | Berry  |  50    | 2      |\n",
       "\n"
      ],
      "text/plain": [
       "  X.1 X 번호 제품   금액 수량\n",
       "1 1   1 1    Apple  500  5   \n",
       "2 2   2 2    Banana 200  4   \n",
       "3 3   3 3    Peach  200  3   \n",
       "4 4   4 4    Berry   50  2   "
      ]
     },
     "metadata": {},
     "output_type": "display_data"
    }
   ],
   "source": [
    "read.csv(\"../Data/fruit2.csv\")"
   ]
  },
  {
   "cell_type": "markdown",
   "id": "813a0dee",
   "metadata": {},
   "source": [
    "---"
   ]
  },
  {
   "cell_type": "code",
   "execution_count": 14,
   "id": "2c450e45",
   "metadata": {},
   "outputs": [],
   "source": [
    "# 저장시 주의 사항 : row names가 필요치 않으면 저장하지 말아야 한다.\n",
    "#write.csv(fruit, file=\"../Data/fruit.csv\", row.names)"
   ]
  },
  {
   "cell_type": "code",
   "execution_count": 15,
   "id": "9c28af4d",
   "metadata": {
    "scrolled": true
   },
   "outputs": [
    {
     "data": {
      "text/html": [
       "<table>\n",
       "<thead><tr><th scope=col>X</th><th scope=col>번호</th><th scope=col>제품</th><th scope=col>금액</th><th scope=col>수량</th></tr></thead>\n",
       "<tbody>\n",
       "\t<tr><td>1     </td><td>1     </td><td>Apple </td><td>500   </td><td>5     </td></tr>\n",
       "\t<tr><td>2     </td><td>2     </td><td>Banana</td><td>200   </td><td>4     </td></tr>\n",
       "\t<tr><td>3     </td><td>3     </td><td>Peach </td><td>200   </td><td>3     </td></tr>\n",
       "\t<tr><td>4     </td><td>4     </td><td>Berry </td><td> 50   </td><td>2     </td></tr>\n",
       "</tbody>\n",
       "</table>\n"
      ],
      "text/latex": [
       "\\begin{tabular}{r|lllll}\n",
       " X & 번호 & 제품 & 금액 & 수량\\\\\n",
       "\\hline\n",
       "\t 1      & 1      & Apple  & 500    & 5     \\\\\n",
       "\t 2      & 2      & Banana & 200    & 4     \\\\\n",
       "\t 3      & 3      & Peach  & 200    & 3     \\\\\n",
       "\t 4      & 4      & Berry  &  50    & 2     \\\\\n",
       "\\end{tabular}\n"
      ],
      "text/markdown": [
       "\n",
       "| X | 번호 | 제품 | 금액 | 수량 |\n",
       "|---|---|---|---|---|\n",
       "| 1      | 1      | Apple  | 500    | 5      |\n",
       "| 2      | 2      | Banana | 200    | 4      |\n",
       "| 3      | 3      | Peach  | 200    | 3      |\n",
       "| 4      | 4      | Berry  |  50    | 2      |\n",
       "\n"
      ],
      "text/plain": [
       "  X 번호 제품   금액 수량\n",
       "1 1 1    Apple  500  5   \n",
       "2 2 2    Banana 200  4   \n",
       "3 3 3    Peach  200  3   \n",
       "4 4 4    Berry   50  2   "
      ]
     },
     "metadata": {},
     "output_type": "display_data"
    }
   ],
   "source": [
    "read.csv(\"../Data/fruit.csv\")"
   ]
  },
  {
   "cell_type": "markdown",
   "id": "6958c3b5",
   "metadata": {},
   "source": [
    "---\n",
    "# 세계 GDP 순위 데이터 정제 및 차트 만들기"
   ]
  },
  {
   "cell_type": "code",
   "execution_count": 16,
   "id": "d2d0c70e",
   "metadata": {},
   "outputs": [],
   "source": [
    "# Data Set 불러오기\n",
    "GDP_ranking <- read.csv(\"../Data//GDP.csv\")"
   ]
  },
  {
   "cell_type": "code",
   "execution_count": 17,
   "id": "d992c635",
   "metadata": {},
   "outputs": [
    {
     "data": {
      "text/html": [
       "<table>\n",
       "<thead><tr><th scope=col>X</th><th scope=col>Gross.domestic.product.2018</th><th scope=col>X.1</th><th scope=col>X.2</th><th scope=col>X.3</th><th scope=col>X.4</th></tr></thead>\n",
       "<tbody>\n",
       "\t<tr><td>             </td><td>             </td><td>NA           </td><td>             </td><td>             </td><td>             </td></tr>\n",
       "\t<tr><td>             </td><td>             </td><td>NA           </td><td>             </td><td>(millions of </td><td>             </td></tr>\n",
       "\t<tr><td>             </td><td>Ranking      </td><td>NA           </td><td>Economy      </td><td>US dollars)  </td><td>             </td></tr>\n",
       "\t<tr><td>             </td><td>             </td><td>NA           </td><td>             </td><td>             </td><td>             </td></tr>\n",
       "\t<tr><td>USA          </td><td>1            </td><td>NA           </td><td>United States</td><td> 20,494,100  </td><td>             </td></tr>\n",
       "\t<tr><td>CHN          </td><td>2            </td><td>NA           </td><td>China        </td><td> 13,608,152  </td><td>             </td></tr>\n",
       "</tbody>\n",
       "</table>\n"
      ],
      "text/latex": [
       "\\begin{tabular}{r|llllll}\n",
       " X & Gross.domestic.product.2018 & X.1 & X.2 & X.3 & X.4\\\\\n",
       "\\hline\n",
       "\t               &               & NA            &               &               &              \\\\\n",
       "\t               &               & NA            &               & (millions of  &              \\\\\n",
       "\t               & Ranking       & NA            & Economy       & US dollars)   &              \\\\\n",
       "\t               &               & NA            &               &               &              \\\\\n",
       "\t USA           & 1             & NA            & United States &  20,494,100   &              \\\\\n",
       "\t CHN           & 2             & NA            & China         &  13,608,152   &              \\\\\n",
       "\\end{tabular}\n"
      ],
      "text/markdown": [
       "\n",
       "| X | Gross.domestic.product.2018 | X.1 | X.2 | X.3 | X.4 |\n",
       "|---|---|---|---|---|---|\n",
       "|               |               | NA            |               |               |               |\n",
       "|               |               | NA            |               | (millions of  |               |\n",
       "|               | Ranking       | NA            | Economy       | US dollars)   |               |\n",
       "|               |               | NA            |               |               |               |\n",
       "| USA           | 1             | NA            | United States |  20,494,100   |               |\n",
       "| CHN           | 2             | NA            | China         |  13,608,152   |               |\n",
       "\n"
      ],
      "text/plain": [
       "  X   Gross.domestic.product.2018 X.1 X.2           X.3          X.4\n",
       "1                                 NA                                \n",
       "2                                 NA                (millions of    \n",
       "3     Ranking                     NA  Economy       US dollars)     \n",
       "4                                 NA                                \n",
       "5 USA 1                           NA  United States  20,494,100     \n",
       "6 CHN 2                           NA  China          13,608,152     "
      ]
     },
     "metadata": {},
     "output_type": "display_data"
    }
   ],
   "source": [
    "head(GDP_ranking)"
   ]
  },
  {
   "cell_type": "code",
   "execution_count": 18,
   "id": "cca0119d",
   "metadata": {},
   "outputs": [
    {
     "data": {
      "text/html": [
       "<table>\n",
       "<thead><tr><th></th><th scope=col>X</th><th scope=col>Gross.domestic.product.2018</th><th scope=col>X.1</th><th scope=col>X.2</th><th scope=col>X.3</th><th scope=col>X.4</th></tr></thead>\n",
       "<tbody>\n",
       "\t<tr><th scope=row>323</th><td>  </td><td>  </td><td>NA</td><td>  </td><td>  </td><td>  </td></tr>\n",
       "\t<tr><th scope=row>324</th><td>  </td><td>  </td><td>NA</td><td>  </td><td>  </td><td>  </td></tr>\n",
       "\t<tr><th scope=row>325</th><td>  </td><td>  </td><td>NA</td><td>  </td><td>  </td><td>  </td></tr>\n",
       "\t<tr><th scope=row>326</th><td>  </td><td>  </td><td>NA</td><td>  </td><td>  </td><td>  </td></tr>\n",
       "\t<tr><th scope=row>327</th><td>  </td><td>  </td><td>NA</td><td>  </td><td>  </td><td>  </td></tr>\n",
       "\t<tr><th scope=row>328</th><td>  </td><td>  </td><td>NA</td><td>  </td><td>  </td><td>  </td></tr>\n",
       "</tbody>\n",
       "</table>\n"
      ],
      "text/latex": [
       "\\begin{tabular}{r|llllll}\n",
       "  & X & Gross.domestic.product.2018 & X.1 & X.2 & X.3 & X.4\\\\\n",
       "\\hline\n",
       "\t323 &    &    & NA &    &    &   \\\\\n",
       "\t324 &    &    & NA &    &    &   \\\\\n",
       "\t325 &    &    & NA &    &    &   \\\\\n",
       "\t326 &    &    & NA &    &    &   \\\\\n",
       "\t327 &    &    & NA &    &    &   \\\\\n",
       "\t328 &    &    & NA &    &    &   \\\\\n",
       "\\end{tabular}\n"
      ],
      "text/markdown": [
       "\n",
       "| <!--/--> | X | Gross.domestic.product.2018 | X.1 | X.2 | X.3 | X.4 |\n",
       "|---|---|---|---|---|---|---|\n",
       "| 323 |    |    | NA |    |    |    |\n",
       "| 324 |    |    | NA |    |    |    |\n",
       "| 325 |    |    | NA |    |    |    |\n",
       "| 326 |    |    | NA |    |    |    |\n",
       "| 327 |    |    | NA |    |    |    |\n",
       "| 328 |    |    | NA |    |    |    |\n",
       "\n"
      ],
      "text/plain": [
       "    X Gross.domestic.product.2018 X.1 X.2 X.3 X.4\n",
       "323                               NA             \n",
       "324                               NA             \n",
       "325                               NA             \n",
       "326                               NA             \n",
       "327                               NA             \n",
       "328                               NA             "
      ]
     },
     "metadata": {},
     "output_type": "display_data"
    }
   ],
   "source": [
    "tail(GDP_ranking)"
   ]
  },
  {
   "cell_type": "code",
   "execution_count": 19,
   "id": "a9609668",
   "metadata": {},
   "outputs": [
    {
     "name": "stdout",
     "output_type": "stream",
     "text": [
      "'data.frame':\t328 obs. of  6 variables:\n",
      " $ X                          : Factor w/ 230 levels \"\",\"ABW\",\"AFG\",..: 1 1 1 1 216 38 103 52 72 68 ...\n",
      " $ Gross.domestic.product.2018: Factor w/ 212 levels \"\",\".. Not available.  \",..: 1 1 212 1 3 114 131 142 153 164 ...\n",
      " $ X.1                        : logi  NA NA NA NA NA NA ...\n",
      " $ X.2                        : Factor w/ 231 levels \"\",\"Afghanistan\",..: 1 1 60 1 219 43 104 78 218 73 ...\n",
      " $ X.3                        : Factor w/ 220 levels \"\",\" .. \",\" 1,022 \",..: 1 207 220 1 78 44 137 113 77 75 ...\n",
      " $ X.4                        : Factor w/ 8 levels \"\",\"a\",\"b\",\"c\",..: 1 1 1 1 1 1 1 1 1 1 ...\n"
     ]
    }
   ],
   "source": [
    "str(GDP_ranking)"
   ]
  },
  {
   "cell_type": "code",
   "execution_count": 20,
   "id": "85576f3e",
   "metadata": {},
   "outputs": [
    {
     "data": {
      "text/html": [
       "<table>\n",
       "<thead><tr><th></th><th scope=col>X</th><th scope=col>Gross.domestic.product.2018</th><th scope=col>X.2</th><th scope=col>X.3</th></tr></thead>\n",
       "<tbody>\n",
       "\t<tr><th scope=row>5</th><td>USA           </td><td>1             </td><td>United States </td><td> 20,494,100   </td></tr>\n",
       "\t<tr><th scope=row>6</th><td>CHN           </td><td>2             </td><td>China         </td><td> 13,608,152   </td></tr>\n",
       "\t<tr><th scope=row>7</th><td>JPN           </td><td>3             </td><td>Japan         </td><td> 4,970,916    </td></tr>\n",
       "\t<tr><th scope=row>8</th><td>DEU           </td><td>4             </td><td>Germany       </td><td> 3,996,759    </td></tr>\n",
       "\t<tr><th scope=row>9</th><td>GBR           </td><td>5             </td><td>United Kingdom</td><td> 2,825,208    </td></tr>\n",
       "\t<tr><th scope=row>10</th><td>FRA           </td><td>6             </td><td>France        </td><td> 2,777,535    </td></tr>\n",
       "</tbody>\n",
       "</table>\n"
      ],
      "text/latex": [
       "\\begin{tabular}{r|llll}\n",
       "  & X & Gross.domestic.product.2018 & X.2 & X.3\\\\\n",
       "\\hline\n",
       "\t5 & USA            & 1              & United States  &  20,494,100   \\\\\n",
       "\t6 & CHN            & 2              & China          &  13,608,152   \\\\\n",
       "\t7 & JPN            & 3              & Japan          &  4,970,916    \\\\\n",
       "\t8 & DEU            & 4              & Germany        &  3,996,759    \\\\\n",
       "\t9 & GBR            & 5              & United Kingdom &  2,825,208    \\\\\n",
       "\t10 & FRA            & 6              & France         &  2,777,535    \\\\\n",
       "\\end{tabular}\n"
      ],
      "text/markdown": [
       "\n",
       "| <!--/--> | X | Gross.domestic.product.2018 | X.2 | X.3 |\n",
       "|---|---|---|---|---|\n",
       "| 5 | USA            | 1              | United States  |  20,494,100    |\n",
       "| 6 | CHN            | 2              | China          |  13,608,152    |\n",
       "| 7 | JPN            | 3              | Japan          |  4,970,916     |\n",
       "| 8 | DEU            | 4              | Germany        |  3,996,759     |\n",
       "| 9 | GBR            | 5              | United Kingdom |  2,825,208     |\n",
       "| 10 | FRA            | 6              | France         |  2,777,535     |\n",
       "\n"
      ],
      "text/plain": [
       "   X   Gross.domestic.product.2018 X.2            X.3         \n",
       "5  USA 1                           United States   20,494,100 \n",
       "6  CHN 2                           China           13,608,152 \n",
       "7  JPN 3                           Japan           4,970,916  \n",
       "8  DEU 4                           Germany         3,996,759  \n",
       "9  GBR 5                           United Kingdom  2,825,208  \n",
       "10 FRA 6                           France          2,777,535  "
      ]
     },
     "metadata": {},
     "output_type": "display_data"
    }
   ],
   "source": [
    "# 1~4 줄 삭제, 3,6 컬럼 삭제\n",
    "\n",
    "GDP_ranking2 <- GDP_ranking[-c(1:4),-c(3,6)]\n",
    "head(GDP_ranking2)"
   ]
  },
  {
   "cell_type": "code",
   "execution_count": 21,
   "id": "b10e8ee4",
   "metadata": {},
   "outputs": [
    {
     "data": {
      "text/html": [
       "<table>\n",
       "<thead><tr><th></th><th scope=col>X</th><th scope=col>Gross.domestic.product.2018</th><th scope=col>X.2</th><th scope=col>X.3</th></tr></thead>\n",
       "<tbody>\n",
       "\t<tr><th scope=row>5</th><td>USA               </td><td>1                 </td><td>United States     </td><td> 20,494,100       </td></tr>\n",
       "\t<tr><th scope=row>6</th><td>CHN               </td><td>2                 </td><td>China             </td><td> 13,608,152       </td></tr>\n",
       "\t<tr><th scope=row>7</th><td>JPN               </td><td>3                 </td><td>Japan             </td><td> 4,970,916        </td></tr>\n",
       "\t<tr><th scope=row>8</th><td>DEU               </td><td>4                 </td><td>Germany           </td><td> 3,996,759        </td></tr>\n",
       "\t<tr><th scope=row>9</th><td>GBR               </td><td>5                 </td><td>United Kingdom    </td><td> 2,825,208        </td></tr>\n",
       "\t<tr><th scope=row>10</th><td>FRA               </td><td>6                 </td><td>France            </td><td> 2,777,535        </td></tr>\n",
       "\t<tr><th scope=row>11</th><td>IND               </td><td>7                 </td><td>India             </td><td> 2,726,323        </td></tr>\n",
       "\t<tr><th scope=row>12</th><td>ITA               </td><td>8                 </td><td>Italy             </td><td> 2,073,902        </td></tr>\n",
       "\t<tr><th scope=row>13</th><td>BRA               </td><td>9                 </td><td>Brazil            </td><td> 1,868,626        </td></tr>\n",
       "\t<tr><th scope=row>14</th><td>CAN               </td><td>10                </td><td>Canada            </td><td> 1,712,510        </td></tr>\n",
       "\t<tr><th scope=row>15</th><td>RUS               </td><td>11                </td><td>Russian Federation</td><td> 1,657,554        </td></tr>\n",
       "\t<tr><th scope=row>16</th><td>KOR               </td><td>12                </td><td>Korea, Rep.       </td><td> 1,619,424        </td></tr>\n",
       "\t<tr><th scope=row>17</th><td>AUS               </td><td>13                </td><td>Australia         </td><td> 1,432,195        </td></tr>\n",
       "\t<tr><th scope=row>18</th><td>ESP               </td><td>14                </td><td>Spain             </td><td> 1,426,189        </td></tr>\n",
       "\t<tr><th scope=row>19</th><td>MEX               </td><td>15                </td><td>Mexico            </td><td> 1,223,809        </td></tr>\n",
       "</tbody>\n",
       "</table>\n"
      ],
      "text/latex": [
       "\\begin{tabular}{r|llll}\n",
       "  & X & Gross.domestic.product.2018 & X.2 & X.3\\\\\n",
       "\\hline\n",
       "\t5 & USA                & 1                  & United States      &  20,494,100       \\\\\n",
       "\t6 & CHN                & 2                  & China              &  13,608,152       \\\\\n",
       "\t7 & JPN                & 3                  & Japan              &  4,970,916        \\\\\n",
       "\t8 & DEU                & 4                  & Germany            &  3,996,759        \\\\\n",
       "\t9 & GBR                & 5                  & United Kingdom     &  2,825,208        \\\\\n",
       "\t10 & FRA                & 6                  & France             &  2,777,535        \\\\\n",
       "\t11 & IND                & 7                  & India              &  2,726,323        \\\\\n",
       "\t12 & ITA                & 8                  & Italy              &  2,073,902        \\\\\n",
       "\t13 & BRA                & 9                  & Brazil             &  1,868,626        \\\\\n",
       "\t14 & CAN                & 10                 & Canada             &  1,712,510        \\\\\n",
       "\t15 & RUS                & 11                 & Russian Federation &  1,657,554        \\\\\n",
       "\t16 & KOR                & 12                 & Korea, Rep.        &  1,619,424        \\\\\n",
       "\t17 & AUS                & 13                 & Australia          &  1,432,195        \\\\\n",
       "\t18 & ESP                & 14                 & Spain              &  1,426,189        \\\\\n",
       "\t19 & MEX                & 15                 & Mexico             &  1,223,809        \\\\\n",
       "\\end{tabular}\n"
      ],
      "text/markdown": [
       "\n",
       "| <!--/--> | X | Gross.domestic.product.2018 | X.2 | X.3 |\n",
       "|---|---|---|---|---|\n",
       "| 5 | USA                | 1                  | United States      |  20,494,100        |\n",
       "| 6 | CHN                | 2                  | China              |  13,608,152        |\n",
       "| 7 | JPN                | 3                  | Japan              |  4,970,916         |\n",
       "| 8 | DEU                | 4                  | Germany            |  3,996,759         |\n",
       "| 9 | GBR                | 5                  | United Kingdom     |  2,825,208         |\n",
       "| 10 | FRA                | 6                  | France             |  2,777,535         |\n",
       "| 11 | IND                | 7                  | India              |  2,726,323         |\n",
       "| 12 | ITA                | 8                  | Italy              |  2,073,902         |\n",
       "| 13 | BRA                | 9                  | Brazil             |  1,868,626         |\n",
       "| 14 | CAN                | 10                 | Canada             |  1,712,510         |\n",
       "| 15 | RUS                | 11                 | Russian Federation |  1,657,554         |\n",
       "| 16 | KOR                | 12                 | Korea, Rep.        |  1,619,424         |\n",
       "| 17 | AUS                | 13                 | Australia          |  1,432,195         |\n",
       "| 18 | ESP                | 14                 | Spain              |  1,426,189         |\n",
       "| 19 | MEX                | 15                 | Mexico             |  1,223,809         |\n",
       "\n"
      ],
      "text/plain": [
       "   X   Gross.domestic.product.2018 X.2                X.3         \n",
       "5  USA 1                           United States       20,494,100 \n",
       "6  CHN 2                           China               13,608,152 \n",
       "7  JPN 3                           Japan               4,970,916  \n",
       "8  DEU 4                           Germany             3,996,759  \n",
       "9  GBR 5                           United Kingdom      2,825,208  \n",
       "10 FRA 6                           France              2,777,535  \n",
       "11 IND 7                           India               2,726,323  \n",
       "12 ITA 8                           Italy               2,073,902  \n",
       "13 BRA 9                           Brazil              1,868,626  \n",
       "14 CAN 10                          Canada              1,712,510  \n",
       "15 RUS 11                          Russian Federation  1,657,554  \n",
       "16 KOR 12                          Korea, Rep.         1,619,424  \n",
       "17 AUS 13                          Australia           1,432,195  \n",
       "18 ESP 14                          Spain               1,426,189  \n",
       "19 MEX 15                          Mexico              1,223,809  "
      ]
     },
     "metadata": {},
     "output_type": "display_data"
    }
   ],
   "source": [
    "# 상위 15개국만 선별한다\n",
    "\n",
    "GDP_ranking15 <- GDP_ranking2[1:15,]\n",
    "GDP_ranking15"
   ]
  },
  {
   "cell_type": "code",
   "execution_count": 22,
   "id": "3656d145",
   "metadata": {},
   "outputs": [
    {
     "data": {
      "text/html": [
       "<table>\n",
       "<thead><tr><th></th><th scope=col>Code</th><th scope=col>Ranking</th><th scope=col>Nation</th><th scope=col>GDP</th></tr></thead>\n",
       "<tbody>\n",
       "\t<tr><th scope=row>5</th><td>USA               </td><td>1                 </td><td>United States     </td><td> 20,494,100       </td></tr>\n",
       "\t<tr><th scope=row>6</th><td>CHN               </td><td>2                 </td><td>China             </td><td> 13,608,152       </td></tr>\n",
       "\t<tr><th scope=row>7</th><td>JPN               </td><td>3                 </td><td>Japan             </td><td> 4,970,916        </td></tr>\n",
       "\t<tr><th scope=row>8</th><td>DEU               </td><td>4                 </td><td>Germany           </td><td> 3,996,759        </td></tr>\n",
       "\t<tr><th scope=row>9</th><td>GBR               </td><td>5                 </td><td>United Kingdom    </td><td> 2,825,208        </td></tr>\n",
       "\t<tr><th scope=row>10</th><td>FRA               </td><td>6                 </td><td>France            </td><td> 2,777,535        </td></tr>\n",
       "\t<tr><th scope=row>11</th><td>IND               </td><td>7                 </td><td>India             </td><td> 2,726,323        </td></tr>\n",
       "\t<tr><th scope=row>12</th><td>ITA               </td><td>8                 </td><td>Italy             </td><td> 2,073,902        </td></tr>\n",
       "\t<tr><th scope=row>13</th><td>BRA               </td><td>9                 </td><td>Brazil            </td><td> 1,868,626        </td></tr>\n",
       "\t<tr><th scope=row>14</th><td>CAN               </td><td>10                </td><td>Canada            </td><td> 1,712,510        </td></tr>\n",
       "\t<tr><th scope=row>15</th><td>RUS               </td><td>11                </td><td>Russian Federation</td><td> 1,657,554        </td></tr>\n",
       "\t<tr><th scope=row>16</th><td>KOR               </td><td>12                </td><td>Korea, Rep.       </td><td> 1,619,424        </td></tr>\n",
       "\t<tr><th scope=row>17</th><td>AUS               </td><td>13                </td><td>Australia         </td><td> 1,432,195        </td></tr>\n",
       "\t<tr><th scope=row>18</th><td>ESP               </td><td>14                </td><td>Spain             </td><td> 1,426,189        </td></tr>\n",
       "\t<tr><th scope=row>19</th><td>MEX               </td><td>15                </td><td>Mexico            </td><td> 1,223,809        </td></tr>\n",
       "</tbody>\n",
       "</table>\n"
      ],
      "text/latex": [
       "\\begin{tabular}{r|llll}\n",
       "  & Code & Ranking & Nation & GDP\\\\\n",
       "\\hline\n",
       "\t5 & USA                & 1                  & United States      &  20,494,100       \\\\\n",
       "\t6 & CHN                & 2                  & China              &  13,608,152       \\\\\n",
       "\t7 & JPN                & 3                  & Japan              &  4,970,916        \\\\\n",
       "\t8 & DEU                & 4                  & Germany            &  3,996,759        \\\\\n",
       "\t9 & GBR                & 5                  & United Kingdom     &  2,825,208        \\\\\n",
       "\t10 & FRA                & 6                  & France             &  2,777,535        \\\\\n",
       "\t11 & IND                & 7                  & India              &  2,726,323        \\\\\n",
       "\t12 & ITA                & 8                  & Italy              &  2,073,902        \\\\\n",
       "\t13 & BRA                & 9                  & Brazil             &  1,868,626        \\\\\n",
       "\t14 & CAN                & 10                 & Canada             &  1,712,510        \\\\\n",
       "\t15 & RUS                & 11                 & Russian Federation &  1,657,554        \\\\\n",
       "\t16 & KOR                & 12                 & Korea, Rep.        &  1,619,424        \\\\\n",
       "\t17 & AUS                & 13                 & Australia          &  1,432,195        \\\\\n",
       "\t18 & ESP                & 14                 & Spain              &  1,426,189        \\\\\n",
       "\t19 & MEX                & 15                 & Mexico             &  1,223,809        \\\\\n",
       "\\end{tabular}\n"
      ],
      "text/markdown": [
       "\n",
       "| <!--/--> | Code | Ranking | Nation | GDP |\n",
       "|---|---|---|---|---|\n",
       "| 5 | USA                | 1                  | United States      |  20,494,100        |\n",
       "| 6 | CHN                | 2                  | China              |  13,608,152        |\n",
       "| 7 | JPN                | 3                  | Japan              |  4,970,916         |\n",
       "| 8 | DEU                | 4                  | Germany            |  3,996,759         |\n",
       "| 9 | GBR                | 5                  | United Kingdom     |  2,825,208         |\n",
       "| 10 | FRA                | 6                  | France             |  2,777,535         |\n",
       "| 11 | IND                | 7                  | India              |  2,726,323         |\n",
       "| 12 | ITA                | 8                  | Italy              |  2,073,902         |\n",
       "| 13 | BRA                | 9                  | Brazil             |  1,868,626         |\n",
       "| 14 | CAN                | 10                 | Canada             |  1,712,510         |\n",
       "| 15 | RUS                | 11                 | Russian Federation |  1,657,554         |\n",
       "| 16 | KOR                | 12                 | Korea, Rep.        |  1,619,424         |\n",
       "| 17 | AUS                | 13                 | Australia          |  1,432,195         |\n",
       "| 18 | ESP                | 14                 | Spain              |  1,426,189         |\n",
       "| 19 | MEX                | 15                 | Mexico             |  1,223,809         |\n",
       "\n"
      ],
      "text/plain": [
       "   Code Ranking Nation             GDP         \n",
       "5  USA  1       United States       20,494,100 \n",
       "6  CHN  2       China               13,608,152 \n",
       "7  JPN  3       Japan               4,970,916  \n",
       "8  DEU  4       Germany             3,996,759  \n",
       "9  GBR  5       United Kingdom      2,825,208  \n",
       "10 FRA  6       France              2,777,535  \n",
       "11 IND  7       India               2,726,323  \n",
       "12 ITA  8       Italy               2,073,902  \n",
       "13 BRA  9       Brazil              1,868,626  \n",
       "14 CAN  10      Canada              1,712,510  \n",
       "15 RUS  11      Russian Federation  1,657,554  \n",
       "16 KOR  12      Korea, Rep.         1,619,424  \n",
       "17 AUS  13      Australia           1,432,195  \n",
       "18 ESP  14      Spain               1,426,189  \n",
       "19 MEX  15      Mexico              1,223,809  "
      ]
     },
     "metadata": {},
     "output_type": "display_data"
    }
   ],
   "source": [
    "# 컬럼 이름 정의 : Code, Ranking, Nation, GDP\n",
    "\n",
    "colnames(GDP_ranking15) <- c(\"Code\", \"Ranking\", \"Nation\", \"GDP\")\n",
    "GDP_ranking15"
   ]
  },
  {
   "cell_type": "code",
   "execution_count": 23,
   "id": "67006c10",
   "metadata": {},
   "outputs": [
    {
     "data": {
      "text/html": [
       "<table>\n",
       "<thead><tr><th scope=col>Code</th><th scope=col>Ranking</th><th scope=col>Nation</th><th scope=col>GDP</th></tr></thead>\n",
       "<tbody>\n",
       "\t<tr><td>USA               </td><td>1                 </td><td>United States     </td><td> 20,494,100       </td></tr>\n",
       "\t<tr><td>CHN               </td><td>2                 </td><td>China             </td><td> 13,608,152       </td></tr>\n",
       "\t<tr><td>JPN               </td><td>3                 </td><td>Japan             </td><td> 4,970,916        </td></tr>\n",
       "\t<tr><td>DEU               </td><td>4                 </td><td>Germany           </td><td> 3,996,759        </td></tr>\n",
       "\t<tr><td>GBR               </td><td>5                 </td><td>United Kingdom    </td><td> 2,825,208        </td></tr>\n",
       "\t<tr><td>FRA               </td><td>6                 </td><td>France            </td><td> 2,777,535        </td></tr>\n",
       "\t<tr><td>IND               </td><td>7                 </td><td>India             </td><td> 2,726,323        </td></tr>\n",
       "\t<tr><td>ITA               </td><td>8                 </td><td>Italy             </td><td> 2,073,902        </td></tr>\n",
       "\t<tr><td>BRA               </td><td>9                 </td><td>Brazil            </td><td> 1,868,626        </td></tr>\n",
       "\t<tr><td>CAN               </td><td>10                </td><td>Canada            </td><td> 1,712,510        </td></tr>\n",
       "\t<tr><td>RUS               </td><td>11                </td><td>Russian Federation</td><td> 1,657,554        </td></tr>\n",
       "\t<tr><td>KOR               </td><td>12                </td><td>Korea, Rep.       </td><td> 1,619,424        </td></tr>\n",
       "\t<tr><td>AUS               </td><td>13                </td><td>Australia         </td><td> 1,432,195        </td></tr>\n",
       "\t<tr><td>ESP               </td><td>14                </td><td>Spain             </td><td> 1,426,189        </td></tr>\n",
       "\t<tr><td>MEX               </td><td>15                </td><td>Mexico            </td><td> 1,223,809        </td></tr>\n",
       "</tbody>\n",
       "</table>\n"
      ],
      "text/latex": [
       "\\begin{tabular}{r|llll}\n",
       " Code & Ranking & Nation & GDP\\\\\n",
       "\\hline\n",
       "\t USA                & 1                  & United States      &  20,494,100       \\\\\n",
       "\t CHN                & 2                  & China              &  13,608,152       \\\\\n",
       "\t JPN                & 3                  & Japan              &  4,970,916        \\\\\n",
       "\t DEU                & 4                  & Germany            &  3,996,759        \\\\\n",
       "\t GBR                & 5                  & United Kingdom     &  2,825,208        \\\\\n",
       "\t FRA                & 6                  & France             &  2,777,535        \\\\\n",
       "\t IND                & 7                  & India              &  2,726,323        \\\\\n",
       "\t ITA                & 8                  & Italy              &  2,073,902        \\\\\n",
       "\t BRA                & 9                  & Brazil             &  1,868,626        \\\\\n",
       "\t CAN                & 10                 & Canada             &  1,712,510        \\\\\n",
       "\t RUS                & 11                 & Russian Federation &  1,657,554        \\\\\n",
       "\t KOR                & 12                 & Korea, Rep.        &  1,619,424        \\\\\n",
       "\t AUS                & 13                 & Australia          &  1,432,195        \\\\\n",
       "\t ESP                & 14                 & Spain              &  1,426,189        \\\\\n",
       "\t MEX                & 15                 & Mexico             &  1,223,809        \\\\\n",
       "\\end{tabular}\n"
      ],
      "text/markdown": [
       "\n",
       "| Code | Ranking | Nation | GDP |\n",
       "|---|---|---|---|\n",
       "| USA                | 1                  | United States      |  20,494,100        |\n",
       "| CHN                | 2                  | China              |  13,608,152        |\n",
       "| JPN                | 3                  | Japan              |  4,970,916         |\n",
       "| DEU                | 4                  | Germany            |  3,996,759         |\n",
       "| GBR                | 5                  | United Kingdom     |  2,825,208         |\n",
       "| FRA                | 6                  | France             |  2,777,535         |\n",
       "| IND                | 7                  | India              |  2,726,323         |\n",
       "| ITA                | 8                  | Italy              |  2,073,902         |\n",
       "| BRA                | 9                  | Brazil             |  1,868,626         |\n",
       "| CAN                | 10                 | Canada             |  1,712,510         |\n",
       "| RUS                | 11                 | Russian Federation |  1,657,554         |\n",
       "| KOR                | 12                 | Korea, Rep.        |  1,619,424         |\n",
       "| AUS                | 13                 | Australia          |  1,432,195         |\n",
       "| ESP                | 14                 | Spain              |  1,426,189         |\n",
       "| MEX                | 15                 | Mexico             |  1,223,809         |\n",
       "\n"
      ],
      "text/plain": [
       "   Code Ranking Nation             GDP         \n",
       "1  USA  1       United States       20,494,100 \n",
       "2  CHN  2       China               13,608,152 \n",
       "3  JPN  3       Japan               4,970,916  \n",
       "4  DEU  4       Germany             3,996,759  \n",
       "5  GBR  5       United Kingdom      2,825,208  \n",
       "6  FRA  6       France              2,777,535  \n",
       "7  IND  7       India               2,726,323  \n",
       "8  ITA  8       Italy               2,073,902  \n",
       "9  BRA  9       Brazil              1,868,626  \n",
       "10 CAN  10      Canada              1,712,510  \n",
       "11 RUS  11      Russian Federation  1,657,554  \n",
       "12 KOR  12      Korea, Rep.         1,619,424  \n",
       "13 AUS  13      Australia           1,432,195  \n",
       "14 ESP  14      Spain               1,426,189  \n",
       "15 MEX  15      Mexico              1,223,809  "
      ]
     },
     "metadata": {},
     "output_type": "display_data"
    }
   ],
   "source": [
    "# rownames 새로 구성하기\n",
    "rownames(GDP_ranking15) <- c()\n",
    "GDP_ranking15"
   ]
  },
  {
   "cell_type": "code",
   "execution_count": 24,
   "id": "86c9f011",
   "metadata": {},
   "outputs": [
    {
     "name": "stdout",
     "output_type": "stream",
     "text": [
      "'data.frame':\t15 obs. of  4 variables:\n",
      " $ Code   : Factor w/ 230 levels \"\",\"ABW\",\"AFG\",..: 216 38 103 52 72 68 94 100 28 34 ...\n",
      " $ Ranking: Factor w/ 212 levels \"\",\".. Not available.  \",..: 3 114 131 142 153 164 175 186 197 4 ...\n",
      " $ Nation : Factor w/ 231 levels \"\",\"Afghanistan\",..: 219 43 104 78 218 73 95 102 28 37 ...\n",
      " $ GDP    : Factor w/ 220 levels \"\",\" .. \",\" 1,022 \",..: 78 44 137 113 77 75 74 67 20 19 ...\n"
     ]
    }
   ],
   "source": [
    "# 구조 확인하기\n",
    "\n",
    "str(GDP_ranking15)"
   ]
  },
  {
   "cell_type": "code",
   "execution_count": 25,
   "id": "1e3f5c16",
   "metadata": {},
   "outputs": [],
   "source": [
    "# Factor의 개수가 15개가 정상일텐데 이상하다. -> 재구성\n",
    "\n",
    "GDP_ranking15$Code <- factor(GDP_ranking15$Code)"
   ]
  },
  {
   "cell_type": "code",
   "execution_count": 26,
   "id": "87a4d753",
   "metadata": {},
   "outputs": [],
   "source": [
    "# for 문을 이용한 factor 조정\n",
    "\n",
    "for (i in 1:ncol(GDP_ranking15)) {\n",
    "    GDP_ranking15[,i] <- factor(GDP_ranking15[,i])\n",
    "}"
   ]
  },
  {
   "cell_type": "code",
   "execution_count": 27,
   "id": "feae79e0",
   "metadata": {},
   "outputs": [
    {
     "name": "stdout",
     "output_type": "stream",
     "text": [
      "'data.frame':\t15 obs. of  4 variables:\n",
      " $ Code   : Factor w/ 15 levels \"AUS\",\"BRA\",\"CAN\",..: 15 4 11 5 8 7 9 10 2 3 ...\n",
      " $ Ranking: Factor w/ 15 levels \"1\",\"10\",\"11\",..: 1 8 9 10 11 12 13 14 15 2 ...\n",
      " $ Nation : Factor w/ 15 levels \"Australia\",\"Brazil\",..: 15 4 9 6 14 5 7 8 2 3 ...\n",
      " $ GDP    : Factor w/ 15 levels \" 1,223,809 \",..: 13 8 15 14 12 11 10 9 7 6 ...\n"
     ]
    }
   ],
   "source": [
    "str(GDP_ranking15)"
   ]
  },
  {
   "cell_type": "code",
   "execution_count": 28,
   "id": "01e905df",
   "metadata": {},
   "outputs": [
    {
     "name": "stderr",
     "output_type": "stream",
     "text": [
      "\n",
      "Attaching package: ‘stringr’\n",
      "\n",
      "The following object is masked _by_ ‘.GlobalEnv’:\n",
      "\n",
      "    fruit\n",
      "\n"
     ]
    }
   ],
   "source": [
    "library(stringr)"
   ]
  },
  {
   "cell_type": "code",
   "execution_count": 29,
   "id": "458642f2",
   "metadata": {},
   "outputs": [
    {
     "data": {
      "text/html": [
       "<table>\n",
       "<thead><tr><th scope=col>Code</th><th scope=col>Ranking</th><th scope=col>Nation</th><th scope=col>GDP</th></tr></thead>\n",
       "<tbody>\n",
       "\t<tr><td>USA               </td><td>1                 </td><td>United States     </td><td>20494100          </td></tr>\n",
       "\t<tr><td>CHN               </td><td>2                 </td><td>China             </td><td>13608152          </td></tr>\n",
       "\t<tr><td>JPN               </td><td>3                 </td><td>Japan             </td><td> 4970916          </td></tr>\n",
       "\t<tr><td>DEU               </td><td>4                 </td><td>Germany           </td><td> 3996759          </td></tr>\n",
       "\t<tr><td>GBR               </td><td>5                 </td><td>United Kingdom    </td><td> 2825208          </td></tr>\n",
       "\t<tr><td>FRA               </td><td>6                 </td><td>France            </td><td> 2777535          </td></tr>\n",
       "\t<tr><td>IND               </td><td>7                 </td><td>India             </td><td> 2726323          </td></tr>\n",
       "\t<tr><td>ITA               </td><td>8                 </td><td>Italy             </td><td> 2073902          </td></tr>\n",
       "\t<tr><td>BRA               </td><td>9                 </td><td>Brazil            </td><td> 1868626          </td></tr>\n",
       "\t<tr><td>CAN               </td><td>10                </td><td>Canada            </td><td> 1712510          </td></tr>\n",
       "\t<tr><td>RUS               </td><td>11                </td><td>Russian Federation</td><td> 1657554          </td></tr>\n",
       "\t<tr><td>KOR               </td><td>12                </td><td>Korea, Rep.       </td><td> 1619424          </td></tr>\n",
       "\t<tr><td>AUS               </td><td>13                </td><td>Australia         </td><td> 1432195          </td></tr>\n",
       "\t<tr><td>ESP               </td><td>14                </td><td>Spain             </td><td> 1426189          </td></tr>\n",
       "\t<tr><td>MEX               </td><td>15                </td><td>Mexico            </td><td> 1223809          </td></tr>\n",
       "</tbody>\n",
       "</table>\n"
      ],
      "text/latex": [
       "\\begin{tabular}{r|llll}\n",
       " Code & Ranking & Nation & GDP\\\\\n",
       "\\hline\n",
       "\t USA                & 1                  & United States      & 20494100          \\\\\n",
       "\t CHN                & 2                  & China              & 13608152          \\\\\n",
       "\t JPN                & 3                  & Japan              &  4970916          \\\\\n",
       "\t DEU                & 4                  & Germany            &  3996759          \\\\\n",
       "\t GBR                & 5                  & United Kingdom     &  2825208          \\\\\n",
       "\t FRA                & 6                  & France             &  2777535          \\\\\n",
       "\t IND                & 7                  & India              &  2726323          \\\\\n",
       "\t ITA                & 8                  & Italy              &  2073902          \\\\\n",
       "\t BRA                & 9                  & Brazil             &  1868626          \\\\\n",
       "\t CAN                & 10                 & Canada             &  1712510          \\\\\n",
       "\t RUS                & 11                 & Russian Federation &  1657554          \\\\\n",
       "\t KOR                & 12                 & Korea, Rep.        &  1619424          \\\\\n",
       "\t AUS                & 13                 & Australia          &  1432195          \\\\\n",
       "\t ESP                & 14                 & Spain              &  1426189          \\\\\n",
       "\t MEX                & 15                 & Mexico             &  1223809          \\\\\n",
       "\\end{tabular}\n"
      ],
      "text/markdown": [
       "\n",
       "| Code | Ranking | Nation | GDP |\n",
       "|---|---|---|---|\n",
       "| USA                | 1                  | United States      | 20494100           |\n",
       "| CHN                | 2                  | China              | 13608152           |\n",
       "| JPN                | 3                  | Japan              |  4970916           |\n",
       "| DEU                | 4                  | Germany            |  3996759           |\n",
       "| GBR                | 5                  | United Kingdom     |  2825208           |\n",
       "| FRA                | 6                  | France             |  2777535           |\n",
       "| IND                | 7                  | India              |  2726323           |\n",
       "| ITA                | 8                  | Italy              |  2073902           |\n",
       "| BRA                | 9                  | Brazil             |  1868626           |\n",
       "| CAN                | 10                 | Canada             |  1712510           |\n",
       "| RUS                | 11                 | Russian Federation |  1657554           |\n",
       "| KOR                | 12                 | Korea, Rep.        |  1619424           |\n",
       "| AUS                | 13                 | Australia          |  1432195           |\n",
       "| ESP                | 14                 | Spain              |  1426189           |\n",
       "| MEX                | 15                 | Mexico             |  1223809           |\n",
       "\n"
      ],
      "text/plain": [
       "   Code Ranking Nation             GDP     \n",
       "1  USA  1       United States      20494100\n",
       "2  CHN  2       China              13608152\n",
       "3  JPN  3       Japan               4970916\n",
       "4  DEU  4       Germany             3996759\n",
       "5  GBR  5       United Kingdom      2825208\n",
       "6  FRA  6       France              2777535\n",
       "7  IND  7       India               2726323\n",
       "8  ITA  8       Italy               2073902\n",
       "9  BRA  9       Brazil              1868626\n",
       "10 CAN  10      Canada              1712510\n",
       "11 RUS  11      Russian Federation  1657554\n",
       "12 KOR  12      Korea, Rep.         1619424\n",
       "13 AUS  13      Australia           1432195\n",
       "14 ESP  14      Spain               1426189\n",
       "15 MEX  15      Mexico              1223809"
      ]
     },
     "metadata": {},
     "output_type": "display_data"
    }
   ],
   "source": [
    "GDP_ranking15$GDP <- as.numeric(str_remove_all(GDP_ranking15$GDP,\",\"))\n",
    "GDP_ranking15"
   ]
  },
  {
   "cell_type": "code",
   "execution_count": 30,
   "id": "6f9a664f",
   "metadata": {},
   "outputs": [
    {
     "name": "stdout",
     "output_type": "stream",
     "text": [
      "'data.frame':\t15 obs. of  4 variables:\n",
      " $ Code   : Factor w/ 15 levels \"AUS\",\"BRA\",\"CAN\",..: 15 4 11 5 8 7 9 10 2 3 ...\n",
      " $ Ranking: Factor w/ 15 levels \"1\",\"10\",\"11\",..: 1 8 9 10 11 12 13 14 15 2 ...\n",
      " $ Nation : Factor w/ 15 levels \"Australia\",\"Brazil\",..: 15 4 9 6 14 5 7 8 2 3 ...\n",
      " $ GDP    : num  20494100 13608152 4970916 3996759 2825208 ...\n"
     ]
    }
   ],
   "source": [
    "str(GDP_ranking15)"
   ]
  },
  {
   "cell_type": "code",
   "execution_count": 31,
   "id": "0db68101",
   "metadata": {},
   "outputs": [
    {
     "data": {
      "image/png": "[encoded data removed]",
      "text/plain": [
       "Plot with title “2018년 GDP 세계 15위 국가”"
      ]
     },
     "metadata": {},
     "output_type": "display_data"
    }
   ],
   "source": [
    "options(scipen = 100)\n",
    "options(warn = -1)\n",
    "par(family = \"AppleGothic\")\n",
    "barplot(GDP_ranking15$GDP/1000,# GDP 상위 15개국 Data \n",
    "        main = \"2018년 GDP 세계 15위 국가\",\n",
    "        xlab = \"국가(Nation)\",\n",
    "        ylab = \"단위(천달러)\",\n",
    "        names = GDP_ranking15$Code,\n",
    "        cex.names = 0.7,\n",
    "        col = ifelse(GDP_ranking15$GDP/1000 >= 3000, \"red\",\"blue\"),\n",
    "        ylim = c(0,25000)        \n",
    "       )"
   ]
  },
  {
   "cell_type": "markdown",
   "id": "caf0ee5a",
   "metadata": {},
   "source": [
    "---\n",
    "# 데이터 처리"
   ]
  },
  {
   "cell_type": "code",
   "execution_count": 32,
   "id": "d8f18682",
   "metadata": {},
   "outputs": [
    {
     "name": "stderr",
     "output_type": "stream",
     "text": [
      "\n",
      "Attaching package: ‘dplyr’\n",
      "\n",
      "The following objects are masked from ‘package:stats’:\n",
      "\n",
      "    filter, lag\n",
      "\n",
      "The following objects are masked from ‘package:base’:\n",
      "\n",
      "    intersect, setdiff, setequal, union\n",
      "\n"
     ]
    }
   ],
   "source": [
    "# 데이터 정렬\n",
    "\n",
    "library(dplyr)"
   ]
  },
  {
   "cell_type": "code",
   "execution_count": 33,
   "id": "eb308c87",
   "metadata": {},
   "outputs": [
    {
     "data": {
      "text/html": [
       "<table>\n",
       "<thead><tr><th scope=col>Sepal.Length</th><th scope=col>Sepal.Width</th><th scope=col>Petal.Length</th><th scope=col>Petal.Width</th><th scope=col>Species</th></tr></thead>\n",
       "<tbody>\n",
       "\t<tr><td>4.3   </td><td>3.0   </td><td>1.1   </td><td>0.1   </td><td>setosa</td></tr>\n",
       "\t<tr><td>4.4   </td><td>2.9   </td><td>1.4   </td><td>0.2   </td><td>setosa</td></tr>\n",
       "\t<tr><td>4.4   </td><td>3.0   </td><td>1.3   </td><td>0.2   </td><td>setosa</td></tr>\n",
       "\t<tr><td>4.4   </td><td>3.2   </td><td>1.3   </td><td>0.2   </td><td>setosa</td></tr>\n",
       "\t<tr><td>4.5   </td><td>2.3   </td><td>1.3   </td><td>0.3   </td><td>setosa</td></tr>\n",
       "\t<tr><td>4.6   </td><td>3.1   </td><td>1.5   </td><td>0.2   </td><td>setosa</td></tr>\n",
       "</tbody>\n",
       "</table>\n"
      ],
      "text/latex": [
       "\\begin{tabular}{r|lllll}\n",
       " Sepal.Length & Sepal.Width & Petal.Length & Petal.Width & Species\\\\\n",
       "\\hline\n",
       "\t 4.3    & 3.0    & 1.1    & 0.1    & setosa\\\\\n",
       "\t 4.4    & 2.9    & 1.4    & 0.2    & setosa\\\\\n",
       "\t 4.4    & 3.0    & 1.3    & 0.2    & setosa\\\\\n",
       "\t 4.4    & 3.2    & 1.3    & 0.2    & setosa\\\\\n",
       "\t 4.5    & 2.3    & 1.3    & 0.3    & setosa\\\\\n",
       "\t 4.6    & 3.1    & 1.5    & 0.2    & setosa\\\\\n",
       "\\end{tabular}\n"
      ],
      "text/markdown": [
       "\n",
       "| Sepal.Length | Sepal.Width | Petal.Length | Petal.Width | Species |\n",
       "|---|---|---|---|---|\n",
       "| 4.3    | 3.0    | 1.1    | 0.1    | setosa |\n",
       "| 4.4    | 2.9    | 1.4    | 0.2    | setosa |\n",
       "| 4.4    | 3.0    | 1.3    | 0.2    | setosa |\n",
       "| 4.4    | 3.2    | 1.3    | 0.2    | setosa |\n",
       "| 4.5    | 2.3    | 1.3    | 0.3    | setosa |\n",
       "| 4.6    | 3.1    | 1.5    | 0.2    | setosa |\n",
       "\n"
      ],
      "text/plain": [
       "  Sepal.Length Sepal.Width Petal.Length Petal.Width Species\n",
       "1 4.3          3.0         1.1          0.1         setosa \n",
       "2 4.4          2.9         1.4          0.2         setosa \n",
       "3 4.4          3.0         1.3          0.2         setosa \n",
       "4 4.4          3.2         1.3          0.2         setosa \n",
       "5 4.5          2.3         1.3          0.3         setosa \n",
       "6 4.6          3.1         1.5          0.2         setosa "
      ]
     },
     "metadata": {},
     "output_type": "display_data"
    }
   ],
   "source": [
    "# Sepal.Length 기준으로 오름차순 정렬하기\n",
    "\n",
    "head(arrange(iris, Sepal.Length))"
   ]
  },
  {
   "cell_type": "code",
   "execution_count": 34,
   "id": "aab545f6",
   "metadata": {},
   "outputs": [
    {
     "data": {
      "text/html": [
       "<table>\n",
       "<thead><tr><th scope=col>Sepal.Length</th><th scope=col>Sepal.Width</th><th scope=col>Petal.Length</th><th scope=col>Petal.Width</th><th scope=col>Species</th></tr></thead>\n",
       "<tbody>\n",
       "\t<tr><td>4.3   </td><td>3.0   </td><td>1.1   </td><td>0.1   </td><td>setosa</td></tr>\n",
       "\t<tr><td>4.4   </td><td>3.0   </td><td>1.3   </td><td>0.2   </td><td>setosa</td></tr>\n",
       "\t<tr><td>4.4   </td><td>3.2   </td><td>1.3   </td><td>0.2   </td><td>setosa</td></tr>\n",
       "\t<tr><td>4.4   </td><td>2.9   </td><td>1.4   </td><td>0.2   </td><td>setosa</td></tr>\n",
       "\t<tr><td>4.5   </td><td>2.3   </td><td>1.3   </td><td>0.3   </td><td>setosa</td></tr>\n",
       "\t<tr><td>4.6   </td><td>3.6   </td><td>1.0   </td><td>0.2   </td><td>setosa</td></tr>\n",
       "</tbody>\n",
       "</table>\n"
      ],
      "text/latex": [
       "\\begin{tabular}{r|lllll}\n",
       " Sepal.Length & Sepal.Width & Petal.Length & Petal.Width & Species\\\\\n",
       "\\hline\n",
       "\t 4.3    & 3.0    & 1.1    & 0.1    & setosa\\\\\n",
       "\t 4.4    & 3.0    & 1.3    & 0.2    & setosa\\\\\n",
       "\t 4.4    & 3.2    & 1.3    & 0.2    & setosa\\\\\n",
       "\t 4.4    & 2.9    & 1.4    & 0.2    & setosa\\\\\n",
       "\t 4.5    & 2.3    & 1.3    & 0.3    & setosa\\\\\n",
       "\t 4.6    & 3.6    & 1.0    & 0.2    & setosa\\\\\n",
       "\\end{tabular}\n"
      ],
      "text/markdown": [
       "\n",
       "| Sepal.Length | Sepal.Width | Petal.Length | Petal.Width | Species |\n",
       "|---|---|---|---|---|\n",
       "| 4.3    | 3.0    | 1.1    | 0.1    | setosa |\n",
       "| 4.4    | 3.0    | 1.3    | 0.2    | setosa |\n",
       "| 4.4    | 3.2    | 1.3    | 0.2    | setosa |\n",
       "| 4.4    | 2.9    | 1.4    | 0.2    | setosa |\n",
       "| 4.5    | 2.3    | 1.3    | 0.3    | setosa |\n",
       "| 4.6    | 3.6    | 1.0    | 0.2    | setosa |\n",
       "\n"
      ],
      "text/plain": [
       "  Sepal.Length Sepal.Width Petal.Length Petal.Width Species\n",
       "1 4.3          3.0         1.1          0.1         setosa \n",
       "2 4.4          3.0         1.3          0.2         setosa \n",
       "3 4.4          3.2         1.3          0.2         setosa \n",
       "4 4.4          2.9         1.4          0.2         setosa \n",
       "5 4.5          2.3         1.3          0.3         setosa \n",
       "6 4.6          3.6         1.0          0.2         setosa "
      ]
     },
     "metadata": {},
     "output_type": "display_data"
    }
   ],
   "source": [
    "# Sepal.Length 기준으로 정렬후 동일한 크기를 가진 데이터 발생시 Petal.Length 기준으로 오름차순으로 정렬\n",
    "\n",
    "head(arrange(iris,Sepal.Length, Petal.Length))"
   ]
  },
  {
   "cell_type": "code",
   "execution_count": 35,
   "id": "4a8f1987",
   "metadata": {},
   "outputs": [
    {
     "data": {
      "text/html": [
       "<table>\n",
       "<thead><tr><th scope=col>Sepal.Length</th><th scope=col>Sepal.Width</th><th scope=col>Petal.Length</th><th scope=col>Petal.Width</th><th scope=col>Species</th></tr></thead>\n",
       "<tbody>\n",
       "\t<tr><td>7.9      </td><td>3.8      </td><td>6.4      </td><td>2.0      </td><td>virginica</td></tr>\n",
       "\t<tr><td>7.7      </td><td>3.8      </td><td>6.7      </td><td>2.2      </td><td>virginica</td></tr>\n",
       "\t<tr><td>7.7      </td><td>2.6      </td><td>6.9      </td><td>2.3      </td><td>virginica</td></tr>\n",
       "\t<tr><td>7.7      </td><td>2.8      </td><td>6.7      </td><td>2.0      </td><td>virginica</td></tr>\n",
       "\t<tr><td>7.7      </td><td>3.0      </td><td>6.1      </td><td>2.3      </td><td>virginica</td></tr>\n",
       "\t<tr><td>7.6      </td><td>3.0      </td><td>6.6      </td><td>2.1      </td><td>virginica</td></tr>\n",
       "</tbody>\n",
       "</table>\n"
      ],
      "text/latex": [
       "\\begin{tabular}{r|lllll}\n",
       " Sepal.Length & Sepal.Width & Petal.Length & Petal.Width & Species\\\\\n",
       "\\hline\n",
       "\t 7.9       & 3.8       & 6.4       & 2.0       & virginica\\\\\n",
       "\t 7.7       & 3.8       & 6.7       & 2.2       & virginica\\\\\n",
       "\t 7.7       & 2.6       & 6.9       & 2.3       & virginica\\\\\n",
       "\t 7.7       & 2.8       & 6.7       & 2.0       & virginica\\\\\n",
       "\t 7.7       & 3.0       & 6.1       & 2.3       & virginica\\\\\n",
       "\t 7.6       & 3.0       & 6.6       & 2.1       & virginica\\\\\n",
       "\\end{tabular}\n"
      ],
      "text/markdown": [
       "\n",
       "| Sepal.Length | Sepal.Width | Petal.Length | Petal.Width | Species |\n",
       "|---|---|---|---|---|\n",
       "| 7.9       | 3.8       | 6.4       | 2.0       | virginica |\n",
       "| 7.7       | 3.8       | 6.7       | 2.2       | virginica |\n",
       "| 7.7       | 2.6       | 6.9       | 2.3       | virginica |\n",
       "| 7.7       | 2.8       | 6.7       | 2.0       | virginica |\n",
       "| 7.7       | 3.0       | 6.1       | 2.3       | virginica |\n",
       "| 7.6       | 3.0       | 6.6       | 2.1       | virginica |\n",
       "\n"
      ],
      "text/plain": [
       "  Sepal.Length Sepal.Width Petal.Length Petal.Width Species  \n",
       "1 7.9          3.8         6.4          2.0         virginica\n",
       "2 7.7          3.8         6.7          2.2         virginica\n",
       "3 7.7          2.6         6.9          2.3         virginica\n",
       "4 7.7          2.8         6.7          2.0         virginica\n",
       "5 7.7          3.0         6.1          2.3         virginica\n",
       "6 7.6          3.0         6.6          2.1         virginica"
      ]
     },
     "metadata": {},
     "output_type": "display_data"
    }
   ],
   "source": [
    "# Sepal.Length 기준으로 내림차순 정렬\n",
    "head(arrange(iris, desc(Sepal.Length)))"
   ]
  },
  {
   "cell_type": "code",
   "execution_count": 36,
   "id": "1a27c519",
   "metadata": {},
   "outputs": [
    {
     "data": {
      "text/html": [
       "<table>\n",
       "<thead><tr><th scope=col>Sepal.Length</th><th scope=col>Sepal.Width</th></tr></thead>\n",
       "<tbody>\n",
       "\t<tr><td>7.9</td><td>3.8</td></tr>\n",
       "\t<tr><td>7.7</td><td>3.8</td></tr>\n",
       "\t<tr><td>7.7</td><td>2.6</td></tr>\n",
       "\t<tr><td>7.7</td><td>2.8</td></tr>\n",
       "\t<tr><td>7.7</td><td>3.0</td></tr>\n",
       "\t<tr><td>7.6</td><td>3.0</td></tr>\n",
       "</tbody>\n",
       "</table>\n"
      ],
      "text/latex": [
       "\\begin{tabular}{r|ll}\n",
       " Sepal.Length & Sepal.Width\\\\\n",
       "\\hline\n",
       "\t 7.9 & 3.8\\\\\n",
       "\t 7.7 & 3.8\\\\\n",
       "\t 7.7 & 2.6\\\\\n",
       "\t 7.7 & 2.8\\\\\n",
       "\t 7.7 & 3.0\\\\\n",
       "\t 7.6 & 3.0\\\\\n",
       "\\end{tabular}\n"
      ],
      "text/markdown": [
       "\n",
       "| Sepal.Length | Sepal.Width |\n",
       "|---|---|\n",
       "| 7.9 | 3.8 |\n",
       "| 7.7 | 3.8 |\n",
       "| 7.7 | 2.6 |\n",
       "| 7.7 | 2.8 |\n",
       "| 7.7 | 3.0 |\n",
       "| 7.6 | 3.0 |\n",
       "\n"
      ],
      "text/plain": [
       "  Sepal.Length Sepal.Width\n",
       "1 7.9          3.8        \n",
       "2 7.7          3.8        \n",
       "3 7.7          2.6        \n",
       "4 7.7          2.8        \n",
       "5 7.7          3.0        \n",
       "6 7.6          3.0        "
      ]
     },
     "metadata": {},
     "output_type": "display_data"
    }
   ],
   "source": [
    "# Sepal.Length 기준으로 내림차순 정렬 후 Sepal.Length와 Sepal.Width 만 보기\n",
    "head(arrange(iris[,c(\"Sepal.Length\",\"Sepal.Width\")], desc(Sepal.Length)))"
   ]
  },
  {
   "cell_type": "markdown",
   "id": "395cfeb2",
   "metadata": {},
   "source": [
    "---\n",
    "# 샘플링(Sampling)"
   ]
  },
  {
   "cell_type": "code",
   "execution_count": 37,
   "id": "10a92924",
   "metadata": {},
   "outputs": [
    {
     "data": {
      "text/html": [
       "<ol class=list-inline>\n",
       "\t<li>28</li>\n",
       "\t<li>23</li>\n",
       "\t<li>31</li>\n",
       "\t<li>24</li>\n",
       "\t<li>37</li>\n",
       "\t<li>17</li>\n",
       "</ol>\n"
      ],
      "text/latex": [
       "\\begin{enumerate*}\n",
       "\\item 28\n",
       "\\item 23\n",
       "\\item 31\n",
       "\\item 24\n",
       "\\item 37\n",
       "\\item 17\n",
       "\\end{enumerate*}\n"
      ],
      "text/markdown": [
       "1. 28\n",
       "2. 23\n",
       "3. 31\n",
       "4. 24\n",
       "5. 37\n",
       "6. 17\n",
       "\n",
       "\n"
      ],
      "text/plain": [
       "[1] 28 23 31 24 37 17"
      ]
     },
     "metadata": {},
     "output_type": "display_data"
    }
   ],
   "source": [
    "# 랜덤 샘플링(중복값을 허용하지 않음)\n",
    "\n",
    "sample(1:45,6)"
   ]
  },
  {
   "cell_type": "code",
   "execution_count": 38,
   "id": "2b714678",
   "metadata": {},
   "outputs": [
    {
     "data": {
      "text/html": [
       "150"
      ],
      "text/latex": [
       "150"
      ],
      "text/markdown": [
       "150"
      ],
      "text/plain": [
       "[1] 150"
      ]
     },
     "metadata": {},
     "output_type": "display_data"
    },
    {
     "data": {
      "text/html": [
       "5"
      ],
      "text/latex": [
       "5"
      ],
      "text/markdown": [
       "5"
      ],
      "text/plain": [
       "[1] 5"
      ]
     },
     "metadata": {},
     "output_type": "display_data"
    }
   ],
   "source": [
    "nrow(iris)\n",
    "ncol(iris)"
   ]
  },
  {
   "cell_type": "code",
   "execution_count": 39,
   "id": "d292b90b",
   "metadata": {},
   "outputs": [],
   "source": [
    "samp <- sample(1:nrow(iris), nrow(iris)*0.7)"
   ]
  },
  {
   "cell_type": "code",
   "execution_count": 40,
   "id": "07cf8452",
   "metadata": {},
   "outputs": [
    {
     "data": {
      "text/html": [
       "<table>\n",
       "<thead><tr><th></th><th scope=col>Sepal.Length</th><th scope=col>Sepal.Width</th><th scope=col>Petal.Length</th><th scope=col>Petal.Width</th><th scope=col>Species</th></tr></thead>\n",
       "<tbody>\n",
       "\t<tr><th scope=row>118</th><td>7.7       </td><td>3.8       </td><td>6.7       </td><td>2.2       </td><td>virginica </td></tr>\n",
       "\t<tr><th scope=row>71</th><td>5.9       </td><td>3.2       </td><td>4.8       </td><td>1.8       </td><td>versicolor</td></tr>\n",
       "\t<tr><th scope=row>32</th><td>5.4       </td><td>3.4       </td><td>1.5       </td><td>0.4       </td><td>setosa    </td></tr>\n",
       "\t<tr><th scope=row>88</th><td>6.3       </td><td>2.3       </td><td>4.4       </td><td>1.3       </td><td>versicolor</td></tr>\n",
       "\t<tr><th scope=row>149</th><td>6.2       </td><td>3.4       </td><td>5.4       </td><td>2.3       </td><td>virginica </td></tr>\n",
       "\t<tr><th scope=row>145</th><td>6.7       </td><td>3.3       </td><td>5.7       </td><td>2.5       </td><td>virginica </td></tr>\n",
       "</tbody>\n",
       "</table>\n"
      ],
      "text/latex": [
       "\\begin{tabular}{r|lllll}\n",
       "  & Sepal.Length & Sepal.Width & Petal.Length & Petal.Width & Species\\\\\n",
       "\\hline\n",
       "\t118 & 7.7        & 3.8        & 6.7        & 2.2        & virginica \\\\\n",
       "\t71 & 5.9        & 3.2        & 4.8        & 1.8        & versicolor\\\\\n",
       "\t32 & 5.4        & 3.4        & 1.5        & 0.4        & setosa    \\\\\n",
       "\t88 & 6.3        & 2.3        & 4.4        & 1.3        & versicolor\\\\\n",
       "\t149 & 6.2        & 3.4        & 5.4        & 2.3        & virginica \\\\\n",
       "\t145 & 6.7        & 3.3        & 5.7        & 2.5        & virginica \\\\\n",
       "\\end{tabular}\n"
      ],
      "text/markdown": [
       "\n",
       "| <!--/--> | Sepal.Length | Sepal.Width | Petal.Length | Petal.Width | Species |\n",
       "|---|---|---|---|---|---|\n",
       "| 118 | 7.7        | 3.8        | 6.7        | 2.2        | virginica  |\n",
       "| 71 | 5.9        | 3.2        | 4.8        | 1.8        | versicolor |\n",
       "| 32 | 5.4        | 3.4        | 1.5        | 0.4        | setosa     |\n",
       "| 88 | 6.3        | 2.3        | 4.4        | 1.3        | versicolor |\n",
       "| 149 | 6.2        | 3.4        | 5.4        | 2.3        | virginica  |\n",
       "| 145 | 6.7        | 3.3        | 5.7        | 2.5        | virginica  |\n",
       "\n"
      ],
      "text/plain": [
       "    Sepal.Length Sepal.Width Petal.Length Petal.Width Species   \n",
       "118 7.7          3.8         6.7          2.2         virginica \n",
       "71  5.9          3.2         4.8          1.8         versicolor\n",
       "32  5.4          3.4         1.5          0.4         setosa    \n",
       "88  6.3          2.3         4.4          1.3         versicolor\n",
       "149 6.2          3.4         5.4          2.3         virginica \n",
       "145 6.7          3.3         5.7          2.5         virginica "
      ]
     },
     "metadata": {},
     "output_type": "display_data"
    }
   ],
   "source": [
    "irisSamp <- iris[samp,]\n",
    "head(irisSamp)"
   ]
  },
  {
   "cell_type": "code",
   "execution_count": 41,
   "id": "9634128d",
   "metadata": {},
   "outputs": [
    {
     "data": {
      "text/plain": [
       "  Sepal.Length    Sepal.Width     Petal.Length    Petal.Width   \n",
       " Min.   :4.400   Min.   :2.000   Min.   :1.000   Min.   :0.100  \n",
       " 1st Qu.:5.100   1st Qu.:2.800   1st Qu.:1.600   1st Qu.:0.300  \n",
       " Median :5.700   Median :3.000   Median :4.200   Median :1.300  \n",
       " Mean   :5.806   Mean   :3.067   Mean   :3.721   Mean   :1.181  \n",
       " 3rd Qu.:6.400   3rd Qu.:3.400   3rd Qu.:5.100   3rd Qu.:1.800  \n",
       " Max.   :7.900   Max.   :4.400   Max.   :6.700   Max.   :2.500  \n",
       "       Species  \n",
       " setosa    :36  \n",
       " versicolor:34  \n",
       " virginica :35  \n",
       "                \n",
       "                \n",
       "                "
      ]
     },
     "metadata": {},
     "output_type": "display_data"
    }
   ],
   "source": [
    "summary(irisSamp)"
   ]
  },
  {
   "cell_type": "code",
   "execution_count": 42,
   "id": "a0e816f9",
   "metadata": {},
   "outputs": [
    {
     "data": {
      "text/plain": [
       "  Sepal.Length    Sepal.Width     Petal.Length    Petal.Width   \n",
       " Min.   :4.300   Min.   :2.000   Min.   :1.000   Min.   :0.100  \n",
       " 1st Qu.:5.100   1st Qu.:2.800   1st Qu.:1.600   1st Qu.:0.300  \n",
       " Median :5.800   Median :3.000   Median :4.350   Median :1.300  \n",
       " Mean   :5.843   Mean   :3.057   Mean   :3.758   Mean   :1.199  \n",
       " 3rd Qu.:6.400   3rd Qu.:3.300   3rd Qu.:5.100   3rd Qu.:1.800  \n",
       " Max.   :7.900   Max.   :4.400   Max.   :6.900   Max.   :2.500  \n",
       "       Species  \n",
       " setosa    :50  \n",
       " versicolor:50  \n",
       " virginica :50  \n",
       "                \n",
       "                \n",
       "                "
      ]
     },
     "metadata": {},
     "output_type": "display_data"
    }
   ],
   "source": [
    "summary(iris)"
   ]
  },
  {
   "cell_type": "code",
   "execution_count": 43,
   "id": "626e2b71",
   "metadata": {},
   "outputs": [
    {
     "data": {
      "text/plain": [
       "\n",
       "    setosa versicolor  virginica \n",
       "        36         34         35 "
      ]
     },
     "metadata": {},
     "output_type": "display_data"
    }
   ],
   "source": [
    "table(irisSamp$Species)"
   ]
  },
  {
   "cell_type": "code",
   "execution_count": 44,
   "id": "12628a70",
   "metadata": {},
   "outputs": [],
   "source": [
    "# iris Sampling시 Species 별로 Sampling\n",
    "\n",
    "samp <- c(sample(1:50, 35), sample(51:100, 35), sample(101:150, 35))"
   ]
  },
  {
   "cell_type": "code",
   "execution_count": 45,
   "id": "11ed038f",
   "metadata": {},
   "outputs": [
    {
     "data": {
      "text/plain": [
       "\n",
       "    setosa versicolor  virginica \n",
       "        35         35         35 "
      ]
     },
     "metadata": {},
     "output_type": "display_data"
    }
   ],
   "source": [
    "irisSamp <- iris[samp,]\n",
    "table(irisSamp$Species)"
   ]
  },
  {
   "cell_type": "code",
   "execution_count": 46,
   "id": "53bb55ce",
   "metadata": {},
   "outputs": [],
   "source": [
    "# Training Data와 Test Data 분리하기\n",
    "\n",
    "iris.train <- iris[samp,]\n",
    "iris.test <- iris[-samp,]"
   ]
  },
  {
   "cell_type": "code",
   "execution_count": 47,
   "id": "1932b61e",
   "metadata": {},
   "outputs": [
    {
     "data": {
      "text/plain": [
       "  Sepal.Length    Sepal.Width     Petal.Length    Petal.Width   \n",
       " Min.   :4.300   Min.   :2.000   Min.   :1.000   Min.   :0.100  \n",
       " 1st Qu.:5.100   1st Qu.:2.800   1st Qu.:1.600   1st Qu.:0.300  \n",
       " Median :5.800   Median :3.000   Median :4.200   Median :1.300  \n",
       " Mean   :5.771   Mean   :3.034   Mean   :3.703   Mean   :1.176  \n",
       " 3rd Qu.:6.300   3rd Qu.:3.200   3rd Qu.:5.100   3rd Qu.:1.800  \n",
       " Max.   :7.700   Max.   :4.400   Max.   :6.700   Max.   :2.500  \n",
       "       Species  \n",
       " setosa    :35  \n",
       " versicolor:35  \n",
       " virginica :35  \n",
       "                \n",
       "                \n",
       "                "
      ]
     },
     "metadata": {},
     "output_type": "display_data"
    }
   ],
   "source": [
    "summary(iris.train)"
   ]
  },
  {
   "cell_type": "code",
   "execution_count": 48,
   "id": "9832e957",
   "metadata": {},
   "outputs": [
    {
     "data": {
      "text/plain": [
       "  Sepal.Length    Sepal.Width     Petal.Length    Petal.Width   \n",
       " Min.   :4.600   Min.   :2.200   Min.   :1.300   Min.   :0.100  \n",
       " 1st Qu.:5.200   1st Qu.:2.800   1st Qu.:1.500   1st Qu.:0.400  \n",
       " Median :6.000   Median :3.100   Median :4.500   Median :1.400  \n",
       " Mean   :6.011   Mean   :3.111   Mean   :3.887   Mean   :1.253  \n",
       " 3rd Qu.:6.700   3rd Qu.:3.400   3rd Qu.:5.400   3rd Qu.:2.000  \n",
       " Max.   :7.900   Max.   :4.100   Max.   :6.900   Max.   :2.500  \n",
       "       Species  \n",
       " setosa    :15  \n",
       " versicolor:15  \n",
       " virginica :15  \n",
       "                \n",
       "                \n",
       "                "
      ]
     },
     "metadata": {},
     "output_type": "display_data"
    }
   ],
   "source": [
    "summary(iris.test)"
   ]
  },
  {
   "cell_type": "markdown",
   "id": "457b5908",
   "metadata": {},
   "source": [
    "----\n",
    "# 부분 집합"
   ]
  },
  {
   "cell_type": "code",
   "execution_count": 49,
   "id": "0c130cef",
   "metadata": {},
   "outputs": [
    {
     "data": {
      "text/html": [
       "<table>\n",
       "<thead><tr><th></th><th scope=col>Sepal.Length</th><th scope=col>Sepal.Width</th><th scope=col>Petal.Length</th><th scope=col>Petal.Width</th><th scope=col>Species</th></tr></thead>\n",
       "<tbody>\n",
       "\t<tr><th scope=row>45</th><td>5.1   </td><td>3.8   </td><td>1.9   </td><td>0.4   </td><td>setosa</td></tr>\n",
       "\t<tr><th scope=row>46</th><td>4.8   </td><td>3.0   </td><td>1.4   </td><td>0.3   </td><td>setosa</td></tr>\n",
       "\t<tr><th scope=row>47</th><td>5.1   </td><td>3.8   </td><td>1.6   </td><td>0.2   </td><td>setosa</td></tr>\n",
       "\t<tr><th scope=row>48</th><td>4.6   </td><td>3.2   </td><td>1.4   </td><td>0.2   </td><td>setosa</td></tr>\n",
       "\t<tr><th scope=row>49</th><td>5.3   </td><td>3.7   </td><td>1.5   </td><td>0.2   </td><td>setosa</td></tr>\n",
       "\t<tr><th scope=row>50</th><td>5.0   </td><td>3.3   </td><td>1.4   </td><td>0.2   </td><td>setosa</td></tr>\n",
       "</tbody>\n",
       "</table>\n"
      ],
      "text/latex": [
       "\\begin{tabular}{r|lllll}\n",
       "  & Sepal.Length & Sepal.Width & Petal.Length & Petal.Width & Species\\\\\n",
       "\\hline\n",
       "\t45 & 5.1    & 3.8    & 1.9    & 0.4    & setosa\\\\\n",
       "\t46 & 4.8    & 3.0    & 1.4    & 0.3    & setosa\\\\\n",
       "\t47 & 5.1    & 3.8    & 1.6    & 0.2    & setosa\\\\\n",
       "\t48 & 4.6    & 3.2    & 1.4    & 0.2    & setosa\\\\\n",
       "\t49 & 5.3    & 3.7    & 1.5    & 0.2    & setosa\\\\\n",
       "\t50 & 5.0    & 3.3    & 1.4    & 0.2    & setosa\\\\\n",
       "\\end{tabular}\n"
      ],
      "text/markdown": [
       "\n",
       "| <!--/--> | Sepal.Length | Sepal.Width | Petal.Length | Petal.Width | Species |\n",
       "|---|---|---|---|---|---|\n",
       "| 45 | 5.1    | 3.8    | 1.9    | 0.4    | setosa |\n",
       "| 46 | 4.8    | 3.0    | 1.4    | 0.3    | setosa |\n",
       "| 47 | 5.1    | 3.8    | 1.6    | 0.2    | setosa |\n",
       "| 48 | 4.6    | 3.2    | 1.4    | 0.2    | setosa |\n",
       "| 49 | 5.3    | 3.7    | 1.5    | 0.2    | setosa |\n",
       "| 50 | 5.0    | 3.3    | 1.4    | 0.2    | setosa |\n",
       "\n"
      ],
      "text/plain": [
       "   Sepal.Length Sepal.Width Petal.Length Petal.Width Species\n",
       "45 5.1          3.8         1.9          0.4         setosa \n",
       "46 4.8          3.0         1.4          0.3         setosa \n",
       "47 5.1          3.8         1.6          0.2         setosa \n",
       "48 4.6          3.2         1.4          0.2         setosa \n",
       "49 5.3          3.7         1.5          0.2         setosa \n",
       "50 5.0          3.3         1.4          0.2         setosa "
      ]
     },
     "metadata": {},
     "output_type": "display_data"
    }
   ],
   "source": [
    "# iris에서 species가 setosa 인것만 추출하여 iris_setosa라는 데이터 프레임 만들기\n",
    "\n",
    "iris_setosa <- subset(iris, Species == \"setosa\")\n",
    "tail(iris_setosa)"
   ]
  },
  {
   "cell_type": "code",
   "execution_count": 50,
   "id": "78332809",
   "metadata": {},
   "outputs": [
    {
     "data": {
      "text/plain": [
       "  Sepal.Length    Sepal.Width     Petal.Length    Petal.Width   \n",
       " Min.   :4.300   Min.   :2.300   Min.   :1.000   Min.   :0.100  \n",
       " 1st Qu.:4.800   1st Qu.:3.200   1st Qu.:1.400   1st Qu.:0.200  \n",
       " Median :5.000   Median :3.400   Median :1.500   Median :0.200  \n",
       " Mean   :5.006   Mean   :3.428   Mean   :1.462   Mean   :0.246  \n",
       " 3rd Qu.:5.200   3rd Qu.:3.675   3rd Qu.:1.575   3rd Qu.:0.300  \n",
       " Max.   :5.800   Max.   :4.400   Max.   :1.900   Max.   :0.600  \n",
       "       Species  \n",
       " setosa    :50  \n",
       " versicolor: 0  \n",
       " virginica : 0  \n",
       "                \n",
       "                \n",
       "                "
      ]
     },
     "metadata": {},
     "output_type": "display_data"
    },
    {
     "name": "stdout",
     "output_type": "stream",
     "text": [
      "'data.frame':\t50 obs. of  5 variables:\n",
      " $ Sepal.Length: num  5.1 4.9 4.7 4.6 5 5.4 4.6 5 4.4 4.9 ...\n",
      " $ Sepal.Width : num  3.5 3 3.2 3.1 3.6 3.9 3.4 3.4 2.9 3.1 ...\n",
      " $ Petal.Length: num  1.4 1.4 1.3 1.5 1.4 1.7 1.4 1.5 1.4 1.5 ...\n",
      " $ Petal.Width : num  0.2 0.2 0.2 0.2 0.2 0.4 0.3 0.2 0.2 0.1 ...\n",
      " $ Species     : Factor w/ 1 level \"setosa\": 1 1 1 1 1 1 1 1 1 1 ...\n"
     ]
    }
   ],
   "source": [
    "summary(iris_setosa)\n",
    "iris_setosa$Species <- factor(iris_setosa$Species)\n",
    "str(iris_setosa)"
   ]
  },
  {
   "cell_type": "code",
   "execution_count": 51,
   "id": "69326d08",
   "metadata": {},
   "outputs": [
    {
     "data": {
      "text/html": [
       "<table>\n",
       "<thead><tr><th></th><th scope=col>Sepal.Length</th><th scope=col>Sepal.Width</th><th scope=col>Petal.Length</th><th scope=col>Petal.Width</th><th scope=col>Species</th></tr></thead>\n",
       "<tbody>\n",
       "\t<tr><th scope=row>51</th><td>7.0       </td><td>3.2       </td><td>4.7       </td><td>1.4       </td><td>versicolor</td></tr>\n",
       "\t<tr><th scope=row>52</th><td>6.4       </td><td>3.2       </td><td>4.5       </td><td>1.5       </td><td>versicolor</td></tr>\n",
       "\t<tr><th scope=row>53</th><td>6.9       </td><td>3.1       </td><td>4.9       </td><td>1.5       </td><td>versicolor</td></tr>\n",
       "\t<tr><th scope=row>54</th><td>5.5       </td><td>2.3       </td><td>4.0       </td><td>1.3       </td><td>versicolor</td></tr>\n",
       "\t<tr><th scope=row>55</th><td>6.5       </td><td>2.8       </td><td>4.6       </td><td>1.5       </td><td>versicolor</td></tr>\n",
       "\t<tr><th scope=row>56</th><td>5.7       </td><td>2.8       </td><td>4.5       </td><td>1.3       </td><td>versicolor</td></tr>\n",
       "</tbody>\n",
       "</table>\n"
      ],
      "text/latex": [
       "\\begin{tabular}{r|lllll}\n",
       "  & Sepal.Length & Sepal.Width & Petal.Length & Petal.Width & Species\\\\\n",
       "\\hline\n",
       "\t51 & 7.0        & 3.2        & 4.7        & 1.4        & versicolor\\\\\n",
       "\t52 & 6.4        & 3.2        & 4.5        & 1.5        & versicolor\\\\\n",
       "\t53 & 6.9        & 3.1        & 4.9        & 1.5        & versicolor\\\\\n",
       "\t54 & 5.5        & 2.3        & 4.0        & 1.3        & versicolor\\\\\n",
       "\t55 & 6.5        & 2.8        & 4.6        & 1.5        & versicolor\\\\\n",
       "\t56 & 5.7        & 2.8        & 4.5        & 1.3        & versicolor\\\\\n",
       "\\end{tabular}\n"
      ],
      "text/markdown": [
       "\n",
       "| <!--/--> | Sepal.Length | Sepal.Width | Petal.Length | Petal.Width | Species |\n",
       "|---|---|---|---|---|---|\n",
       "| 51 | 7.0        | 3.2        | 4.7        | 1.4        | versicolor |\n",
       "| 52 | 6.4        | 3.2        | 4.5        | 1.5        | versicolor |\n",
       "| 53 | 6.9        | 3.1        | 4.9        | 1.5        | versicolor |\n",
       "| 54 | 5.5        | 2.3        | 4.0        | 1.3        | versicolor |\n",
       "| 55 | 6.5        | 2.8        | 4.6        | 1.5        | versicolor |\n",
       "| 56 | 5.7        | 2.8        | 4.5        | 1.3        | versicolor |\n",
       "\n"
      ],
      "text/plain": [
       "   Sepal.Length Sepal.Width Petal.Length Petal.Width Species   \n",
       "51 7.0          3.2         4.7          1.4         versicolor\n",
       "52 6.4          3.2         4.5          1.5         versicolor\n",
       "53 6.9          3.1         4.9          1.5         versicolor\n",
       "54 5.5          2.3         4.0          1.3         versicolor\n",
       "55 6.5          2.8         4.6          1.5         versicolor\n",
       "56 5.7          2.8         4.5          1.3         versicolor"
      ]
     },
     "metadata": {},
     "output_type": "display_data"
    },
    {
     "data": {
      "text/html": [
       "<table>\n",
       "<thead><tr><th></th><th scope=col>Sepal.Length</th><th scope=col>Sepal.Width</th><th scope=col>Petal.Length</th><th scope=col>Petal.Width</th><th scope=col>Species</th></tr></thead>\n",
       "<tbody>\n",
       "\t<tr><th scope=row>95</th><td>5.6       </td><td>2.7       </td><td>4.2       </td><td>1.3       </td><td>versicolor</td></tr>\n",
       "\t<tr><th scope=row>96</th><td>5.7       </td><td>3.0       </td><td>4.2       </td><td>1.2       </td><td>versicolor</td></tr>\n",
       "\t<tr><th scope=row>97</th><td>5.7       </td><td>2.9       </td><td>4.2       </td><td>1.3       </td><td>versicolor</td></tr>\n",
       "\t<tr><th scope=row>98</th><td>6.2       </td><td>2.9       </td><td>4.3       </td><td>1.3       </td><td>versicolor</td></tr>\n",
       "\t<tr><th scope=row>99</th><td>5.1       </td><td>2.5       </td><td>3.0       </td><td>1.1       </td><td>versicolor</td></tr>\n",
       "\t<tr><th scope=row>100</th><td>5.7       </td><td>2.8       </td><td>4.1       </td><td>1.3       </td><td>versicolor</td></tr>\n",
       "</tbody>\n",
       "</table>\n"
      ],
      "text/latex": [
       "\\begin{tabular}{r|lllll}\n",
       "  & Sepal.Length & Sepal.Width & Petal.Length & Petal.Width & Species\\\\\n",
       "\\hline\n",
       "\t95 & 5.6        & 2.7        & 4.2        & 1.3        & versicolor\\\\\n",
       "\t96 & 5.7        & 3.0        & 4.2        & 1.2        & versicolor\\\\\n",
       "\t97 & 5.7        & 2.9        & 4.2        & 1.3        & versicolor\\\\\n",
       "\t98 & 6.2        & 2.9        & 4.3        & 1.3        & versicolor\\\\\n",
       "\t99 & 5.1        & 2.5        & 3.0        & 1.1        & versicolor\\\\\n",
       "\t100 & 5.7        & 2.8        & 4.1        & 1.3        & versicolor\\\\\n",
       "\\end{tabular}\n"
      ],
      "text/markdown": [
       "\n",
       "| <!--/--> | Sepal.Length | Sepal.Width | Petal.Length | Petal.Width | Species |\n",
       "|---|---|---|---|---|---|\n",
       "| 95 | 5.6        | 2.7        | 4.2        | 1.3        | versicolor |\n",
       "| 96 | 5.7        | 3.0        | 4.2        | 1.2        | versicolor |\n",
       "| 97 | 5.7        | 2.9        | 4.2        | 1.3        | versicolor |\n",
       "| 98 | 6.2        | 2.9        | 4.3        | 1.3        | versicolor |\n",
       "| 99 | 5.1        | 2.5        | 3.0        | 1.1        | versicolor |\n",
       "| 100 | 5.7        | 2.8        | 4.1        | 1.3        | versicolor |\n",
       "\n"
      ],
      "text/plain": [
       "    Sepal.Length Sepal.Width Petal.Length Petal.Width Species   \n",
       "95  5.6          2.7         4.2          1.3         versicolor\n",
       "96  5.7          3.0         4.2          1.2         versicolor\n",
       "97  5.7          2.9         4.2          1.3         versicolor\n",
       "98  6.2          2.9         4.3          1.3         versicolor\n",
       "99  5.1          2.5         3.0          1.1         versicolor\n",
       "100 5.7          2.8         4.1          1.3         versicolor"
      ]
     },
     "metadata": {},
     "output_type": "display_data"
    }
   ],
   "source": [
    "# iris에서 Species가 versicolor인것만 추출하여 iris_versicolor라는 데이터 프레임 만들기\n",
    "\n",
    "iris_versicolor <- subset(iris, Species == \"versicolor\")\n",
    "head(iris_versicolor)\n",
    "tail(iris_versicolor)"
   ]
  },
  {
   "cell_type": "code",
   "execution_count": 52,
   "id": "7ca14be6",
   "metadata": {},
   "outputs": [
    {
     "name": "stdout",
     "output_type": "stream",
     "text": [
      "'data.frame':\t50 obs. of  5 variables:\n",
      " $ Sepal.Length: num  7 6.4 6.9 5.5 6.5 5.7 6.3 4.9 6.6 5.2 ...\n",
      " $ Sepal.Width : num  3.2 3.2 3.1 2.3 2.8 2.8 3.3 2.4 2.9 2.7 ...\n",
      " $ Petal.Length: num  4.7 4.5 4.9 4 4.6 4.5 4.7 3.3 4.6 3.9 ...\n",
      " $ Petal.Width : num  1.4 1.5 1.5 1.3 1.5 1.3 1.6 1 1.3 1.4 ...\n",
      " $ Species     : Factor w/ 1 level \"versicolor\": 1 1 1 1 1 1 1 1 1 1 ...\n",
      "  Sepal.Length Sepal.Width Petal.Length Petal.Width    Species\n",
      "1          7.0         3.2          4.7         1.4 versicolor\n",
      "2          6.4         3.2          4.5         1.5 versicolor\n",
      "3          6.9         3.1          4.9         1.5 versicolor\n",
      "4          5.5         2.3          4.0         1.3 versicolor\n",
      "5          6.5         2.8          4.6         1.5 versicolor\n",
      "6          5.7         2.8          4.5         1.3 versicolor\n"
     ]
    }
   ],
   "source": [
    "iris_versicolor$Species <- factor(iris_versicolor$Species)\n",
    "rownames(iris_versicolor) <- c()\n",
    "str(iris_versicolor)\n",
    "print(head(iris_versicolor))"
   ]
  },
  {
   "cell_type": "code",
   "execution_count": 53,
   "id": "66f8cfb1",
   "metadata": {},
   "outputs": [
    {
     "data": {
      "text/plain": [
       "  Sepal.Length    Sepal.Width     Petal.Length   Petal.Width          Species  \n",
       " Min.   :4.900   Min.   :2.000   Min.   :3.00   Min.   :1.000   versicolor:50  \n",
       " 1st Qu.:5.600   1st Qu.:2.525   1st Qu.:4.00   1st Qu.:1.200                  \n",
       " Median :5.900   Median :2.800   Median :4.35   Median :1.300                  \n",
       " Mean   :5.936   Mean   :2.770   Mean   :4.26   Mean   :1.326                  \n",
       " 3rd Qu.:6.300   3rd Qu.:3.000   3rd Qu.:4.60   3rd Qu.:1.500                  \n",
       " Max.   :7.000   Max.   :3.400   Max.   :5.10   Max.   :1.800                  "
      ]
     },
     "metadata": {},
     "output_type": "display_data"
    }
   ],
   "source": [
    "summary(iris_versicolor)"
   ]
  },
  {
   "cell_type": "code",
   "execution_count": 54,
   "id": "25268afc",
   "metadata": {},
   "outputs": [
    {
     "data": {
      "text/html": [
       "22"
      ],
      "text/latex": [
       "22"
      ],
      "text/markdown": [
       "22"
      ],
      "text/plain": [
       "[1] 22"
      ]
     },
     "metadata": {},
     "output_type": "display_data"
    },
    {
     "data": {
      "text/html": [
       "22"
      ],
      "text/latex": [
       "22"
      ],
      "text/markdown": [
       "22"
      ],
      "text/plain": [
       "[1] 22"
      ]
     },
     "metadata": {},
     "output_type": "display_data"
    }
   ],
   "source": [
    "# iris에서 Species가 setosa이고 Sepal.Length가 5보다 큰 Sample의 개수는?\n",
    "\n",
    "sum(iris$Sepal.Length > 5 & iris$Species == \"setosa\")\n",
    "nrow(subset(iris, Species == \"setosa\" & Sepal.Length > 5))"
   ]
  },
  {
   "cell_type": "code",
   "execution_count": 55,
   "id": "f7ac97d0",
   "metadata": {
    "scrolled": true
   },
   "outputs": [
    {
     "data": {
      "text/html": [
       "<table>\n",
       "<thead><tr><th scope=col>Species</th><th scope=col>Sepal.Length</th></tr></thead>\n",
       "<tbody>\n",
       "\t<tr><td>setosa</td><td>5.1   </td></tr>\n",
       "\t<tr><td>setosa</td><td>4.9   </td></tr>\n",
       "\t<tr><td>setosa</td><td>4.7   </td></tr>\n",
       "\t<tr><td>setosa</td><td>4.6   </td></tr>\n",
       "\t<tr><td>setosa</td><td>5.0   </td></tr>\n",
       "\t<tr><td>setosa</td><td>5.4   </td></tr>\n",
       "\t<tr><td>setosa</td><td>4.6   </td></tr>\n",
       "\t<tr><td>setosa</td><td>5.0   </td></tr>\n",
       "\t<tr><td>setosa</td><td>4.4   </td></tr>\n",
       "\t<tr><td>setosa</td><td>4.9   </td></tr>\n",
       "\t<tr><td>setosa</td><td>5.4   </td></tr>\n",
       "\t<tr><td>setosa</td><td>4.8   </td></tr>\n",
       "\t<tr><td>setosa</td><td>4.8   </td></tr>\n",
       "\t<tr><td>setosa</td><td>4.3   </td></tr>\n",
       "\t<tr><td>setosa</td><td>5.8   </td></tr>\n",
       "\t<tr><td>setosa</td><td>5.7   </td></tr>\n",
       "\t<tr><td>setosa</td><td>5.4   </td></tr>\n",
       "\t<tr><td>setosa</td><td>5.1   </td></tr>\n",
       "\t<tr><td>setosa</td><td>5.7   </td></tr>\n",
       "\t<tr><td>setosa</td><td>5.1   </td></tr>\n",
       "\t<tr><td>setosa</td><td>5.4   </td></tr>\n",
       "\t<tr><td>setosa</td><td>5.1   </td></tr>\n",
       "\t<tr><td>setosa</td><td>4.6   </td></tr>\n",
       "\t<tr><td>setosa</td><td>5.1   </td></tr>\n",
       "\t<tr><td>setosa</td><td>4.8   </td></tr>\n",
       "\t<tr><td>setosa</td><td>5.0   </td></tr>\n",
       "\t<tr><td>setosa</td><td>5.0   </td></tr>\n",
       "\t<tr><td>setosa</td><td>5.2   </td></tr>\n",
       "\t<tr><td>setosa</td><td>5.2   </td></tr>\n",
       "\t<tr><td>setosa</td><td>4.7   </td></tr>\n",
       "\t<tr><td>...</td><td>...</td></tr>\n",
       "\t<tr><td>virginica</td><td>6.9      </td></tr>\n",
       "\t<tr><td>virginica</td><td>5.6      </td></tr>\n",
       "\t<tr><td>virginica</td><td>7.7      </td></tr>\n",
       "\t<tr><td>virginica</td><td>6.3      </td></tr>\n",
       "\t<tr><td>virginica</td><td>6.7      </td></tr>\n",
       "\t<tr><td>virginica</td><td>7.2      </td></tr>\n",
       "\t<tr><td>virginica</td><td>6.2      </td></tr>\n",
       "\t<tr><td>virginica</td><td>6.1      </td></tr>\n",
       "\t<tr><td>virginica</td><td>6.4      </td></tr>\n",
       "\t<tr><td>virginica</td><td>7.2      </td></tr>\n",
       "\t<tr><td>virginica</td><td>7.4      </td></tr>\n",
       "\t<tr><td>virginica</td><td>7.9      </td></tr>\n",
       "\t<tr><td>virginica</td><td>6.4      </td></tr>\n",
       "\t<tr><td>virginica</td><td>6.3      </td></tr>\n",
       "\t<tr><td>virginica</td><td>6.1      </td></tr>\n",
       "\t<tr><td>virginica</td><td>7.7      </td></tr>\n",
       "\t<tr><td>virginica</td><td>6.3      </td></tr>\n",
       "\t<tr><td>virginica</td><td>6.4      </td></tr>\n",
       "\t<tr><td>virginica</td><td>6.0      </td></tr>\n",
       "\t<tr><td>virginica</td><td>6.9      </td></tr>\n",
       "\t<tr><td>virginica</td><td>6.7      </td></tr>\n",
       "\t<tr><td>virginica</td><td>6.9      </td></tr>\n",
       "\t<tr><td>virginica</td><td>5.8      </td></tr>\n",
       "\t<tr><td>virginica</td><td>6.8      </td></tr>\n",
       "\t<tr><td>virginica</td><td>6.7      </td></tr>\n",
       "\t<tr><td>virginica</td><td>6.7      </td></tr>\n",
       "\t<tr><td>virginica</td><td>6.3      </td></tr>\n",
       "\t<tr><td>virginica</td><td>6.5      </td></tr>\n",
       "\t<tr><td>virginica</td><td>6.2      </td></tr>\n",
       "\t<tr><td>virginica</td><td>5.9      </td></tr>\n",
       "</tbody>\n",
       "</table>\n"
      ],
      "text/latex": [
       "\\begin{tabular}{r|ll}\n",
       " Species & Sepal.Length\\\\\n",
       "\\hline\n",
       "\t setosa & 5.1   \\\\\n",
       "\t setosa & 4.9   \\\\\n",
       "\t setosa & 4.7   \\\\\n",
       "\t setosa & 4.6   \\\\\n",
       "\t setosa & 5.0   \\\\\n",
       "\t setosa & 5.4   \\\\\n",
       "\t setosa & 4.6   \\\\\n",
       "\t setosa & 5.0   \\\\\n",
       "\t setosa & 4.4   \\\\\n",
       "\t setosa & 4.9   \\\\\n",
       "\t setosa & 5.4   \\\\\n",
       "\t setosa & 4.8   \\\\\n",
       "\t setosa & 4.8   \\\\\n",
       "\t setosa & 4.3   \\\\\n",
       "\t setosa & 5.8   \\\\\n",
       "\t setosa & 5.7   \\\\\n",
       "\t setosa & 5.4   \\\\\n",
       "\t setosa & 5.1   \\\\\n",
       "\t setosa & 5.7   \\\\\n",
       "\t setosa & 5.1   \\\\\n",
       "\t setosa & 5.4   \\\\\n",
       "\t setosa & 5.1   \\\\\n",
       "\t setosa & 4.6   \\\\\n",
       "\t setosa & 5.1   \\\\\n",
       "\t setosa & 4.8   \\\\\n",
       "\t setosa & 5.0   \\\\\n",
       "\t setosa & 5.0   \\\\\n",
       "\t setosa & 5.2   \\\\\n",
       "\t setosa & 5.2   \\\\\n",
       "\t setosa & 4.7   \\\\\n",
       "\t ... & ...\\\\\n",
       "\t virginica & 6.9      \\\\\n",
       "\t virginica & 5.6      \\\\\n",
       "\t virginica & 7.7      \\\\\n",
       "\t virginica & 6.3      \\\\\n",
       "\t virginica & 6.7      \\\\\n",
       "\t virginica & 7.2      \\\\\n",
       "\t virginica & 6.2      \\\\\n",
       "\t virginica & 6.1      \\\\\n",
       "\t virginica & 6.4      \\\\\n",
       "\t virginica & 7.2      \\\\\n",
       "\t virginica & 7.4      \\\\\n",
       "\t virginica & 7.9      \\\\\n",
       "\t virginica & 6.4      \\\\\n",
       "\t virginica & 6.3      \\\\\n",
       "\t virginica & 6.1      \\\\\n",
       "\t virginica & 7.7      \\\\\n",
       "\t virginica & 6.3      \\\\\n",
       "\t virginica & 6.4      \\\\\n",
       "\t virginica & 6.0      \\\\\n",
       "\t virginica & 6.9      \\\\\n",
       "\t virginica & 6.7      \\\\\n",
       "\t virginica & 6.9      \\\\\n",
       "\t virginica & 5.8      \\\\\n",
       "\t virginica & 6.8      \\\\\n",
       "\t virginica & 6.7      \\\\\n",
       "\t virginica & 6.7      \\\\\n",
       "\t virginica & 6.3      \\\\\n",
       "\t virginica & 6.5      \\\\\n",
       "\t virginica & 6.2      \\\\\n",
       "\t virginica & 5.9      \\\\\n",
       "\\end{tabular}\n"
      ],
      "text/markdown": [
       "\n",
       "| Species | Sepal.Length |\n",
       "|---|---|\n",
       "| setosa | 5.1    |\n",
       "| setosa | 4.9    |\n",
       "| setosa | 4.7    |\n",
       "| setosa | 4.6    |\n",
       "| setosa | 5.0    |\n",
       "| setosa | 5.4    |\n",
       "| setosa | 4.6    |\n",
       "| setosa | 5.0    |\n",
       "| setosa | 4.4    |\n",
       "| setosa | 4.9    |\n",
       "| setosa | 5.4    |\n",
       "| setosa | 4.8    |\n",
       "| setosa | 4.8    |\n",
       "| setosa | 4.3    |\n",
       "| setosa | 5.8    |\n",
       "| setosa | 5.7    |\n",
       "| setosa | 5.4    |\n",
       "| setosa | 5.1    |\n",
       "| setosa | 5.7    |\n",
       "| setosa | 5.1    |\n",
       "| setosa | 5.4    |\n",
       "| setosa | 5.1    |\n",
       "| setosa | 4.6    |\n",
       "| setosa | 5.1    |\n",
       "| setosa | 4.8    |\n",
       "| setosa | 5.0    |\n",
       "| setosa | 5.0    |\n",
       "| setosa | 5.2    |\n",
       "| setosa | 5.2    |\n",
       "| setosa | 4.7    |\n",
       "| ... | ... |\n",
       "| virginica | 6.9       |\n",
       "| virginica | 5.6       |\n",
       "| virginica | 7.7       |\n",
       "| virginica | 6.3       |\n",
       "| virginica | 6.7       |\n",
       "| virginica | 7.2       |\n",
       "| virginica | 6.2       |\n",
       "| virginica | 6.1       |\n",
       "| virginica | 6.4       |\n",
       "| virginica | 7.2       |\n",
       "| virginica | 7.4       |\n",
       "| virginica | 7.9       |\n",
       "| virginica | 6.4       |\n",
       "| virginica | 6.3       |\n",
       "| virginica | 6.1       |\n",
       "| virginica | 7.7       |\n",
       "| virginica | 6.3       |\n",
       "| virginica | 6.4       |\n",
       "| virginica | 6.0       |\n",
       "| virginica | 6.9       |\n",
       "| virginica | 6.7       |\n",
       "| virginica | 6.9       |\n",
       "| virginica | 5.8       |\n",
       "| virginica | 6.8       |\n",
       "| virginica | 6.7       |\n",
       "| virginica | 6.7       |\n",
       "| virginica | 6.3       |\n",
       "| virginica | 6.5       |\n",
       "| virginica | 6.2       |\n",
       "| virginica | 5.9       |\n",
       "\n"
      ],
      "text/plain": [
       "    Species   Sepal.Length\n",
       "1   setosa    5.1         \n",
       "2   setosa    4.9         \n",
       "3   setosa    4.7         \n",
       "4   setosa    4.6         \n",
       "5   setosa    5.0         \n",
       "6   setosa    5.4         \n",
       "7   setosa    4.6         \n",
       "8   setosa    5.0         \n",
       "9   setosa    4.4         \n",
       "10  setosa    4.9         \n",
       "11  setosa    5.4         \n",
       "12  setosa    4.8         \n",
       "13  setosa    4.8         \n",
       "14  setosa    4.3         \n",
       "15  setosa    5.8         \n",
       "16  setosa    5.7         \n",
       "17  setosa    5.4         \n",
       "18  setosa    5.1         \n",
       "19  setosa    5.7         \n",
       "20  setosa    5.1         \n",
       "21  setosa    5.4         \n",
       "22  setosa    5.1         \n",
       "23  setosa    4.6         \n",
       "24  setosa    5.1         \n",
       "25  setosa    4.8         \n",
       "26  setosa    5.0         \n",
       "27  setosa    5.0         \n",
       "28  setosa    5.2         \n",
       "29  setosa    5.2         \n",
       "30  setosa    4.7         \n",
       "... ...       ...         \n",
       "121 virginica 6.9         \n",
       "122 virginica 5.6         \n",
       "123 virginica 7.7         \n",
       "124 virginica 6.3         \n",
       "125 virginica 6.7         \n",
       "126 virginica 7.2         \n",
       "127 virginica 6.2         \n",
       "128 virginica 6.1         \n",
       "129 virginica 6.4         \n",
       "130 virginica 7.2         \n",
       "131 virginica 7.4         \n",
       "132 virginica 7.9         \n",
       "133 virginica 6.4         \n",
       "134 virginica 6.3         \n",
       "135 virginica 6.1         \n",
       "136 virginica 7.7         \n",
       "137 virginica 6.3         \n",
       "138 virginica 6.4         \n",
       "139 virginica 6.0         \n",
       "140 virginica 6.9         \n",
       "141 virginica 6.7         \n",
       "142 virginica 6.9         \n",
       "143 virginica 5.8         \n",
       "144 virginica 6.8         \n",
       "145 virginica 6.7         \n",
       "146 virginica 6.7         \n",
       "147 virginica 6.3         \n",
       "148 virginica 6.5         \n",
       "149 virginica 6.2         \n",
       "150 virginica 5.9         "
      ]
     },
     "metadata": {},
     "output_type": "display_data"
    }
   ],
   "source": [
    "# subset으로 컬럼 지우기\n",
    "subset(iris, select = c(Species, Sepal.Length))"
   ]
  },
  {
   "cell_type": "markdown",
   "id": "5ad41f79",
   "metadata": {},
   "source": [
    "---\n",
    "# 그룹연산 함수"
   ]
  },
  {
   "cell_type": "code",
   "execution_count": 56,
   "id": "66035bd9",
   "metadata": {},
   "outputs": [
    {
     "data": {
      "text/html": [
       "<table>\n",
       "<thead><tr><th scope=col>Species</th><th scope=col>Sepal.Width</th></tr></thead>\n",
       "<tbody>\n",
       "\t<tr><td>setosa    </td><td>3.428     </td></tr>\n",
       "\t<tr><td>versicolor</td><td>2.770     </td></tr>\n",
       "\t<tr><td>virginica </td><td>2.974     </td></tr>\n",
       "</tbody>\n",
       "</table>\n"
      ],
      "text/latex": [
       "\\begin{tabular}{r|ll}\n",
       " Species & Sepal.Width\\\\\n",
       "\\hline\n",
       "\t setosa     & 3.428     \\\\\n",
       "\t versicolor & 2.770     \\\\\n",
       "\t virginica  & 2.974     \\\\\n",
       "\\end{tabular}\n"
      ],
      "text/markdown": [
       "\n",
       "| Species | Sepal.Width |\n",
       "|---|---|\n",
       "| setosa     | 3.428      |\n",
       "| versicolor | 2.770      |\n",
       "| virginica  | 2.974      |\n",
       "\n"
      ],
      "text/plain": [
       "  Species    Sepal.Width\n",
       "1 setosa     3.428      \n",
       "2 versicolor 2.770      \n",
       "3 virginica  2.974      "
      ]
     },
     "metadata": {},
     "output_type": "display_data"
    }
   ],
   "source": [
    "# iris에서 Species 기준으로 Sepal.Width의 평균 구하기\n",
    "aggregate(Sepal.Width ~ Species, iris, mean)"
   ]
  },
  {
   "cell_type": "markdown",
   "id": "759884d2",
   "metadata": {},
   "source": [
    "# 서울시 교통사고 조사 데이터셋"
   ]
  },
  {
   "cell_type": "code",
   "execution_count": 57,
   "id": "8aa752c1",
   "metadata": {},
   "outputs": [
    {
     "name": "stdout",
     "output_type": "stream",
     "text": [
      "  년도 월 자치구명 발생건수 사망자수 부상자수\n",
      "1 2011  1   종로구      115        2      165\n",
      "2 2011  2   종로구       99        0      134\n",
      "3 2011  3   종로구      116        0      162\n",
      "4 2011  4   종로구      110        1      153\n",
      "5 2011  5   종로구      122        0      157\n",
      "6 2011  6   종로구      116        3      163\n"
     ]
    }
   ],
   "source": [
    "# 데이터셋을 불러와서 seoul이라는 변수에 넣기\n",
    "\n",
    "seoul <- read.csv(\"../Data/newSeoul2019.csv\")\n",
    "print(head(seoul))"
   ]
  },
  {
   "cell_type": "code",
   "execution_count": 58,
   "id": "4bb3975d",
   "metadata": {},
   "outputs": [
    {
     "data": {
      "text/html": [
       "<table>\n",
       "<thead><tr><th></th><th scope=col>년도</th><th scope=col>월</th><th scope=col>자치구명</th><th scope=col>발생건수</th><th scope=col>사망자수</th><th scope=col>부상자수</th></tr></thead>\n",
       "<tbody>\n",
       "\t<tr><th scope=row>2695</th><td>2019  </td><td> 7    </td><td>강동구</td><td>146   </td><td>2     </td><td>189   </td></tr>\n",
       "\t<tr><th scope=row>2696</th><td>2019  </td><td> 8    </td><td>강동구</td><td>127   </td><td>2     </td><td>175   </td></tr>\n",
       "\t<tr><th scope=row>2697</th><td>2019  </td><td> 9    </td><td>강동구</td><td> 98   </td><td>2     </td><td>137   </td></tr>\n",
       "\t<tr><th scope=row>2698</th><td>2019  </td><td>10    </td><td>강동구</td><td>108   </td><td>1     </td><td>144   </td></tr>\n",
       "\t<tr><th scope=row>2699</th><td>2019  </td><td>11    </td><td>강동구</td><td>146   </td><td>0     </td><td>199   </td></tr>\n",
       "\t<tr><th scope=row>2700</th><td>2019  </td><td>12    </td><td>강동구</td><td>108   </td><td>1     </td><td>131   </td></tr>\n",
       "</tbody>\n",
       "</table>\n"
      ],
      "text/latex": [
       "\\begin{tabular}{r|llllll}\n",
       "  & 년도 & 월 & 자치구명 & 발생건수 & 사망자수 & 부상자수\\\\\n",
       "\\hline\n",
       "\t2695 & 2019   &  7     & 강동구 & 146    & 2      & 189   \\\\\n",
       "\t2696 & 2019   &  8     & 강동구 & 127    & 2      & 175   \\\\\n",
       "\t2697 & 2019   &  9     & 강동구 &  98    & 2      & 137   \\\\\n",
       "\t2698 & 2019   & 10     & 강동구 & 108    & 1      & 144   \\\\\n",
       "\t2699 & 2019   & 11     & 강동구 & 146    & 0      & 199   \\\\\n",
       "\t2700 & 2019   & 12     & 강동구 & 108    & 1      & 131   \\\\\n",
       "\\end{tabular}\n"
      ],
      "text/markdown": [
       "\n",
       "| <!--/--> | 년도 | 월 | 자치구명 | 발생건수 | 사망자수 | 부상자수 |\n",
       "|---|---|---|---|---|---|---|\n",
       "| 2695 | 2019   |  7     | 강동구 | 146    | 2      | 189    |\n",
       "| 2696 | 2019   |  8     | 강동구 | 127    | 2      | 175    |\n",
       "| 2697 | 2019   |  9     | 강동구 |  98    | 2      | 137    |\n",
       "| 2698 | 2019   | 10     | 강동구 | 108    | 1      | 144    |\n",
       "| 2699 | 2019   | 11     | 강동구 | 146    | 0      | 199    |\n",
       "| 2700 | 2019   | 12     | 강동구 | 108    | 1      | 131    |\n",
       "\n"
      ],
      "text/plain": [
       "     년도 월 자치구명 발생건수 사망자수 부상자수\n",
       "2695 2019  7 강동구   146      2        189     \n",
       "2696 2019  8 강동구   127      2        175     \n",
       "2697 2019  9 강동구    98      2        137     \n",
       "2698 2019 10 강동구   108      1        144     \n",
       "2699 2019 11 강동구   146      0        199     \n",
       "2700 2019 12 강동구   108      1        131     "
      ]
     },
     "metadata": {},
     "output_type": "display_data"
    }
   ],
   "source": [
    "tail(seoul)"
   ]
  },
  {
   "cell_type": "code",
   "execution_count": 59,
   "id": "df6c4664",
   "metadata": {},
   "outputs": [
    {
     "name": "stdout",
     "output_type": "stream",
     "text": [
      "'data.frame':\t2700 obs. of  6 variables:\n",
      " $ 년도    : int  2011 2011 2011 2011 2011 2011 2011 2011 2011 2011 ...\n",
      " $ 월      : int  1 2 3 4 5 6 7 8 9 10 ...\n",
      " $ 자치구명: Factor w/ 25 levels \"강남구\",\"강동구\",..: 23 23 23 23 23 23 23 23 23 23 ...\n",
      " $ 발생건수: int  115 99 116 110 122 116 103 122 121 135 ...\n",
      " $ 사망자수: int  2 0 0 1 0 3 1 1 2 2 ...\n",
      " $ 부상자수: int  165 134 162 153 157 163 154 171 166 193 ...\n"
     ]
    }
   ],
   "source": [
    "str(seoul)"
   ]
  },
  {
   "cell_type": "code",
   "execution_count": 60,
   "id": "6dd2b585",
   "metadata": {},
   "outputs": [
    {
     "name": "stdout",
     "output_type": "stream",
     "text": [
      "년도 \t: 0 \n",
      "월 \t: 0 \n",
      "자치구명 \t: 0 \n",
      "발생건수 \t: 0 \n",
      "사망자수 \t: 0 \n",
      "부상자수 \t: 0 \n"
     ]
    }
   ],
   "source": [
    "# NA 확인\n",
    "for (i in 1:ncol(seoul)) {\n",
    "    cat(colnames(seoul)[i],\"\\t:\",sum(is.na(seoul[,i])), \"\\n\")\n",
    "}\n"
   ]
  },
  {
   "cell_type": "code",
   "execution_count": 61,
   "id": "28c5d2c4",
   "metadata": {},
   "outputs": [
    {
     "data": {
      "text/plain": [
       "      년도            월           자치구명       발생건수        사망자수     \n",
       " Min.   :2011   Min.   : 1.00   강남구 : 108   Min.   : 45.0   Min.   : 0.000  \n",
       " 1st Qu.:2013   1st Qu.: 3.75   강동구 : 108   1st Qu.:100.0   1st Qu.: 0.000  \n",
       " Median :2015   Median : 6.50   강북구 : 108   Median :122.0   Median : 1.000  \n",
       " Mean   :2015   Mean   : 6.50   강서구 : 108   Mean   :133.3   Mean   : 1.207  \n",
       " 3rd Qu.:2017   3rd Qu.: 9.25   관악구 : 108   3rd Qu.:149.0   3rd Qu.: 2.000  \n",
       " Max.   :2019   Max.   :12.00   광진구 : 108   Max.   :383.0   Max.   :10.000  \n",
       "                                (Other):2052                                   \n",
       "    부상자수    \n",
       " Min.   : 55.0  \n",
       " 1st Qu.:138.0  \n",
       " Median :168.0  \n",
       " Mean   :187.4  \n",
       " 3rd Qu.:208.0  \n",
       " Max.   :552.0  \n",
       "                "
      ]
     },
     "metadata": {},
     "output_type": "display_data"
    }
   ],
   "source": [
    "summary(seoul)"
   ]
  },
  {
   "cell_type": "markdown",
   "id": "10ee4dd5",
   "metadata": {},
   "source": [
    "---\n",
    "### 컬럼별 데이터 확인\n",
    "\n"
   ]
  },
  {
   "cell_type": "code",
   "execution_count": 62,
   "id": "df419f69",
   "metadata": {},
   "outputs": [
    {
     "data": {
      "text/plain": [
       "\n",
       "2011 2012 2013 2014 2015 2016 2017 2018 2019 \n",
       " 300  300  300  300  300  300  300  300  300 "
      ]
     },
     "metadata": {},
     "output_type": "display_data"
    }
   ],
   "source": [
    "# 연도\n",
    "table(seoul$년도)"
   ]
  },
  {
   "cell_type": "code",
   "execution_count": 63,
   "id": "bc9ee9e4",
   "metadata": {},
   "outputs": [
    {
     "data": {
      "text/plain": [
       "\n",
       "  1   2   3   4   5   6   7   8   9  10  11  12 \n",
       "225 225 225 225 225 225 225 225 225 225 225 225 "
      ]
     },
     "metadata": {},
     "output_type": "display_data"
    }
   ],
   "source": [
    "# 월\n",
    "table(seoul$월)"
   ]
  },
  {
   "cell_type": "code",
   "execution_count": 64,
   "id": "9be49304",
   "metadata": {},
   "outputs": [
    {
     "data": {
      "text/plain": [
       "\n",
       "  강남구   강동구   강북구   강서구   관악구   광진구   구로구   금천구 \n",
       "     108      108      108      108      108      108      108      108 \n",
       "  노원구   도봉구 동대문구   동작구   마포구 서대문구   서초구   성동구 \n",
       "     108      108      108      108      108      108      108      108 \n",
       "  성북구   송파구   양천구 영등포구   용산구   은평구   종로구     중구 \n",
       "     108      108      108      108      108      108      108      108 \n",
       "  중랑구 \n",
       "     108 "
      ]
     },
     "metadata": {},
     "output_type": "display_data"
    }
   ],
   "source": [
    "# 자치구별\n",
    "(table(seoul$자치구명))"
   ]
  },
  {
   "cell_type": "code",
   "execution_count": 65,
   "id": "bab505f3",
   "metadata": {},
   "outputs": [
    {
     "data": {
      "text/html": [
       "<table>\n",
       "<thead><tr><th scope=col>자치구명</th><th scope=col>발생건수</th></tr></thead>\n",
       "<tbody>\n",
       "\t<tr><td>강남구  </td><td>306.3611</td></tr>\n",
       "\t<tr><td>강동구  </td><td>118.5370</td></tr>\n",
       "\t<tr><td>강북구  </td><td>101.7870</td></tr>\n",
       "\t<tr><td>강서구  </td><td>145.4722</td></tr>\n",
       "\t<tr><td>관악구  </td><td>128.3889</td></tr>\n",
       "\t<tr><td>광진구  </td><td>103.0741</td></tr>\n",
       "</tbody>\n",
       "</table>\n"
      ],
      "text/latex": [
       "\\begin{tabular}{r|ll}\n",
       " 자치구명 & 발생건수\\\\\n",
       "\\hline\n",
       "\t 강남구   & 306.3611\\\\\n",
       "\t 강동구   & 118.5370\\\\\n",
       "\t 강북구   & 101.7870\\\\\n",
       "\t 강서구   & 145.4722\\\\\n",
       "\t 관악구   & 128.3889\\\\\n",
       "\t 광진구   & 103.0741\\\\\n",
       "\\end{tabular}\n"
      ],
      "text/markdown": [
       "\n",
       "| 자치구명 | 발생건수 |\n",
       "|---|---|\n",
       "| 강남구   | 306.3611 |\n",
       "| 강동구   | 118.5370 |\n",
       "| 강북구   | 101.7870 |\n",
       "| 강서구   | 145.4722 |\n",
       "| 관악구   | 128.3889 |\n",
       "| 광진구   | 103.0741 |\n",
       "\n"
      ],
      "text/plain": [
       "  자치구명 발생건수\n",
       "1 강남구   306.3611\n",
       "2 강동구   118.5370\n",
       "3 강북구   101.7870\n",
       "4 강서구   145.4722\n",
       "5 관악구   128.3889\n",
       "6 광진구   103.0741"
      ]
     },
     "metadata": {},
     "output_type": "display_data"
    }
   ],
   "source": [
    "# 자치구별 발생건수의 평균, 발생건수 기준으로 내림차순 정렬하기\n",
    "regionAcc.mean <- aggregate(발생건수 ~ 자치구명, seoul, mean)\n",
    "head(regionAcc.mean)"
   ]
  },
  {
   "cell_type": "markdown",
   "id": "4eb78c37",
   "metadata": {},
   "source": [
    "---\n",
    "# 4/29 수업 시작\n",
    "---"
   ]
  },
  {
   "cell_type": "markdown",
   "id": "18c21b4a",
   "metadata": {},
   "source": [
    "### 결측치(NA)를 제외하고서도 이상치(outlier)를 고려해야 한다!!\n"
   ]
  },
  {
   "cell_type": "code",
   "execution_count": 66,
   "id": "440a235d",
   "metadata": {},
   "outputs": [
    {
     "data": {
      "text/html": [
       "<table>\n",
       "<thead><tr><th scope=col>자치구명</th><th scope=col>발생건수</th></tr></thead>\n",
       "<tbody>\n",
       "\t<tr><td>강남구  </td><td>32.92968</td></tr>\n",
       "\t<tr><td>강동구  </td><td>15.24836</td></tr>\n",
       "\t<tr><td>강북구  </td><td>14.80784</td></tr>\n",
       "\t<tr><td>강서구  </td><td>19.66659</td></tr>\n",
       "\t<tr><td>관악구  </td><td>22.62611</td></tr>\n",
       "\t<tr><td>광진구  </td><td>21.85582</td></tr>\n",
       "</tbody>\n",
       "</table>\n"
      ],
      "text/latex": [
       "\\begin{tabular}{r|ll}\n",
       " 자치구명 & 발생건수\\\\\n",
       "\\hline\n",
       "\t 강남구   & 32.92968\\\\\n",
       "\t 강동구   & 15.24836\\\\\n",
       "\t 강북구   & 14.80784\\\\\n",
       "\t 강서구   & 19.66659\\\\\n",
       "\t 관악구   & 22.62611\\\\\n",
       "\t 광진구   & 21.85582\\\\\n",
       "\\end{tabular}\n"
      ],
      "text/markdown": [
       "\n",
       "| 자치구명 | 발생건수 |\n",
       "|---|---|\n",
       "| 강남구   | 32.92968 |\n",
       "| 강동구   | 15.24836 |\n",
       "| 강북구   | 14.80784 |\n",
       "| 강서구   | 19.66659 |\n",
       "| 관악구   | 22.62611 |\n",
       "| 광진구   | 21.85582 |\n",
       "\n"
      ],
      "text/plain": [
       "  자치구명 발생건수\n",
       "1 강남구   32.92968\n",
       "2 강동구   15.24836\n",
       "3 강북구   14.80784\n",
       "4 강서구   19.66659\n",
       "5 관악구   22.62611\n",
       "6 광진구   21.85582"
      ]
     },
     "metadata": {},
     "output_type": "display_data"
    }
   ],
   "source": [
    "# 자치구별 표준 편차 구하기\n",
    "regionAcc.sd <- aggregate(발생건수 ~ 자치구명, seoul, sd)\n",
    "head(regionAcc.sd)"
   ]
  },
  {
   "cell_type": "code",
   "execution_count": 67,
   "id": "c90b566e",
   "metadata": {},
   "outputs": [
    {
     "data": {
      "text/html": [
       "<table>\n",
       "<thead><tr><th scope=col>자치구명</th><th scope=col>발생건수</th></tr></thead>\n",
       "<tbody>\n",
       "\t<tr><td>강남구  </td><td>32.92968</td></tr>\n",
       "\t<tr><td>송파구  </td><td>30.14788</td></tr>\n",
       "\t<tr><td>서초구  </td><td>23.64357</td></tr>\n",
       "\t<tr><td>영등포구</td><td>22.91199</td></tr>\n",
       "\t<tr><td>동대문구</td><td>22.71453</td></tr>\n",
       "\t<tr><td>관악구  </td><td>22.62611</td></tr>\n",
       "</tbody>\n",
       "</table>\n"
      ],
      "text/latex": [
       "\\begin{tabular}{r|ll}\n",
       " 자치구명 & 발생건수\\\\\n",
       "\\hline\n",
       "\t 강남구   & 32.92968\\\\\n",
       "\t 송파구   & 30.14788\\\\\n",
       "\t 서초구   & 23.64357\\\\\n",
       "\t 영등포구 & 22.91199\\\\\n",
       "\t 동대문구 & 22.71453\\\\\n",
       "\t 관악구   & 22.62611\\\\\n",
       "\\end{tabular}\n"
      ],
      "text/markdown": [
       "\n",
       "| 자치구명 | 발생건수 |\n",
       "|---|---|\n",
       "| 강남구   | 32.92968 |\n",
       "| 송파구   | 30.14788 |\n",
       "| 서초구   | 23.64357 |\n",
       "| 영등포구 | 22.91199 |\n",
       "| 동대문구 | 22.71453 |\n",
       "| 관악구   | 22.62611 |\n",
       "\n"
      ],
      "text/plain": [
       "  자치구명 발생건수\n",
       "1 강남구   32.92968\n",
       "2 송파구   30.14788\n",
       "3 서초구   23.64357\n",
       "4 영등포구 22.91199\n",
       "5 동대문구 22.71453\n",
       "6 관악구   22.62611"
      ]
     },
     "metadata": {},
     "output_type": "display_data"
    }
   ],
   "source": [
    "# 정렬하기\n",
    "head(arrange(regionAcc.sd, desc(발생건수)))"
   ]
  },
  {
   "cell_type": "code",
   "execution_count": 68,
   "id": "41136263",
   "metadata": {
    "scrolled": true
   },
   "outputs": [
    {
     "data": {
      "text/html": [
       "<ol class=list-inline>\n",
       "\t<li>0.107486482513602</li>\n",
       "\t<li>0.128637979714391</li>\n",
       "\t<li>0.145478594491982</li>\n",
       "\t<li>0.135191404686044</li>\n",
       "\t<li>0.176231052614568</li>\n",
       "\t<li>0.212039899114969</li>\n",
       "\t<li>0.124749016022975</li>\n",
       "\t<li>0.17928452073239</li>\n",
       "\t<li>0.126995840433658</li>\n",
       "\t<li>0.157419730514435</li>\n",
       "\t<li>0.147834704654914</li>\n",
       "\t<li>0.142874348737122</li>\n",
       "\t<li>0.127987255262908</li>\n",
       "\t<li>0.13321233953876</li>\n",
       "\t<li>0.126787757202217</li>\n",
       "\t<li>0.149968744010714</li>\n",
       "\t<li>0.140177159138654</li>\n",
       "\t<li>0.134134103472243</li>\n",
       "\t<li>0.141131538089865</li>\n",
       "\t<li>0.11770976181152</li>\n",
       "\t<li>0.150124463527667</li>\n",
       "\t<li>0.184994008930331</li>\n",
       "\t<li>0.15866237808939</li>\n",
       "\t<li>0.158113260829509</li>\n",
       "\t<li>0.128571242262573</li>\n",
       "</ol>\n"
      ],
      "text/latex": [
       "\\begin{enumerate*}\n",
       "\\item 0.107486482513602\n",
       "\\item 0.128637979714391\n",
       "\\item 0.145478594491982\n",
       "\\item 0.135191404686044\n",
       "\\item 0.176231052614568\n",
       "\\item 0.212039899114969\n",
       "\\item 0.124749016022975\n",
       "\\item 0.17928452073239\n",
       "\\item 0.126995840433658\n",
       "\\item 0.157419730514435\n",
       "\\item 0.147834704654914\n",
       "\\item 0.142874348737122\n",
       "\\item 0.127987255262908\n",
       "\\item 0.13321233953876\n",
       "\\item 0.126787757202217\n",
       "\\item 0.149968744010714\n",
       "\\item 0.140177159138654\n",
       "\\item 0.134134103472243\n",
       "\\item 0.141131538089865\n",
       "\\item 0.11770976181152\n",
       "\\item 0.150124463527667\n",
       "\\item 0.184994008930331\n",
       "\\item 0.15866237808939\n",
       "\\item 0.158113260829509\n",
       "\\item 0.128571242262573\n",
       "\\end{enumerate*}\n"
      ],
      "text/markdown": [
       "1. 0.107486482513602\n",
       "2. 0.128637979714391\n",
       "3. 0.145478594491982\n",
       "4. 0.135191404686044\n",
       "5. 0.176231052614568\n",
       "6. 0.212039899114969\n",
       "7. 0.124749016022975\n",
       "8. 0.17928452073239\n",
       "9. 0.126995840433658\n",
       "10. 0.157419730514435\n",
       "11. 0.147834704654914\n",
       "12. 0.142874348737122\n",
       "13. 0.127987255262908\n",
       "14. 0.13321233953876\n",
       "15. 0.126787757202217\n",
       "16. 0.149968744010714\n",
       "17. 0.140177159138654\n",
       "18. 0.134134103472243\n",
       "19. 0.141131538089865\n",
       "20. 0.11770976181152\n",
       "21. 0.150124463527667\n",
       "22. 0.184994008930331\n",
       "23. 0.15866237808939\n",
       "24. 0.158113260829509\n",
       "25. 0.128571242262573\n",
       "\n",
       "\n"
      ],
      "text/plain": [
       " [1] 0.1074865 0.1286380 0.1454786 0.1351914 0.1762311 0.2120399 0.1247490\n",
       " [8] 0.1792845 0.1269958 0.1574197 0.1478347 0.1428743 0.1279873 0.1332123\n",
       "[15] 0.1267878 0.1499687 0.1401772 0.1341341 0.1411315 0.1177098 0.1501245\n",
       "[22] 0.1849940 0.1586624 0.1581133 0.1285712"
      ]
     },
     "metadata": {},
     "output_type": "display_data"
    }
   ],
   "source": [
    "# 자치구별 발생건수의 변동계수\n",
    "# 변동계수 = 표준편차 / 평균\n",
    "\n",
    "regionAcc.cv <- regionAcc.sd[,2] / regionAcc.mean[,2]\n",
    "regionAcc.cv"
   ]
  },
  {
   "cell_type": "code",
   "execution_count": 69,
   "id": "058a2e9d",
   "metadata": {},
   "outputs": [
    {
     "data": {
      "text/html": [
       "<table>\n",
       "<thead><tr><th scope=col>자치구명</th><th scope=col>변동계수</th></tr></thead>\n",
       "<tbody>\n",
       "\t<tr><td>강남구   </td><td>0.1074865</td></tr>\n",
       "\t<tr><td>강동구   </td><td>0.1286380</td></tr>\n",
       "\t<tr><td>강북구   </td><td>0.1454786</td></tr>\n",
       "\t<tr><td>강서구   </td><td>0.1351914</td></tr>\n",
       "\t<tr><td>관악구   </td><td>0.1762311</td></tr>\n",
       "\t<tr><td>광진구   </td><td>0.2120399</td></tr>\n",
       "</tbody>\n",
       "</table>\n"
      ],
      "text/latex": [
       "\\begin{tabular}{r|ll}\n",
       " 자치구명 & 변동계수\\\\\n",
       "\\hline\n",
       "\t 강남구    & 0.1074865\\\\\n",
       "\t 강동구    & 0.1286380\\\\\n",
       "\t 강북구    & 0.1454786\\\\\n",
       "\t 강서구    & 0.1351914\\\\\n",
       "\t 관악구    & 0.1762311\\\\\n",
       "\t 광진구    & 0.2120399\\\\\n",
       "\\end{tabular}\n"
      ],
      "text/markdown": [
       "\n",
       "| 자치구명 | 변동계수 |\n",
       "|---|---|\n",
       "| 강남구    | 0.1074865 |\n",
       "| 강동구    | 0.1286380 |\n",
       "| 강북구    | 0.1454786 |\n",
       "| 강서구    | 0.1351914 |\n",
       "| 관악구    | 0.1762311 |\n",
       "| 광진구    | 0.2120399 |\n",
       "\n"
      ],
      "text/plain": [
       "  자치구명 변동계수 \n",
       "1 강남구   0.1074865\n",
       "2 강동구   0.1286380\n",
       "3 강북구   0.1454786\n",
       "4 강서구   0.1351914\n",
       "5 관악구   0.1762311\n",
       "6 광진구   0.2120399"
      ]
     },
     "metadata": {},
     "output_type": "display_data"
    }
   ],
   "source": [
    "# 자치구명과 변동계수를 가진 DataFrame 만들기\n",
    "\n",
    "regionAcc <- data.frame(자치구명=regionAcc.mean[,1],\n",
    "                           변동계수=regionAcc.cv)\n",
    "head(regionAcc)"
   ]
  },
  {
   "cell_type": "code",
   "execution_count": 70,
   "id": "7e695caa",
   "metadata": {},
   "outputs": [
    {
     "data": {
      "text/html": [
       "<table>\n",
       "<thead><tr><th scope=col>자치구명</th><th scope=col>변동계수</th></tr></thead>\n",
       "<tbody>\n",
       "\t<tr><td>강남구   </td><td>0.1074865</td></tr>\n",
       "\t<tr><td>영등포구 </td><td>0.1177098</td></tr>\n",
       "\t<tr><td>구로구   </td><td>0.1247490</td></tr>\n",
       "\t<tr><td>서초구   </td><td>0.1267878</td></tr>\n",
       "\t<tr><td>노원구   </td><td>0.1269958</td></tr>\n",
       "\t<tr><td>마포구   </td><td>0.1279873</td></tr>\n",
       "\t<tr><td>중랑구   </td><td>0.1285712</td></tr>\n",
       "\t<tr><td>강동구   </td><td>0.1286380</td></tr>\n",
       "\t<tr><td>서대문구 </td><td>0.1332123</td></tr>\n",
       "\t<tr><td>송파구   </td><td>0.1341341</td></tr>\n",
       "\t<tr><td>강서구   </td><td>0.1351914</td></tr>\n",
       "\t<tr><td>성북구   </td><td>0.1401772</td></tr>\n",
       "\t<tr><td>양천구   </td><td>0.1411315</td></tr>\n",
       "\t<tr><td>동작구   </td><td>0.1428743</td></tr>\n",
       "\t<tr><td>강북구   </td><td>0.1454786</td></tr>\n",
       "\t<tr><td>동대문구 </td><td>0.1478347</td></tr>\n",
       "\t<tr><td>성동구   </td><td>0.1499687</td></tr>\n",
       "\t<tr><td>용산구   </td><td>0.1501245</td></tr>\n",
       "\t<tr><td>도봉구   </td><td>0.1574197</td></tr>\n",
       "\t<tr><td>중구     </td><td>0.1581133</td></tr>\n",
       "\t<tr><td>종로구   </td><td>0.1586624</td></tr>\n",
       "\t<tr><td>관악구   </td><td>0.1762311</td></tr>\n",
       "\t<tr><td>금천구   </td><td>0.1792845</td></tr>\n",
       "\t<tr><td>은평구   </td><td>0.1849940</td></tr>\n",
       "\t<tr><td>광진구   </td><td>0.2120399</td></tr>\n",
       "</tbody>\n",
       "</table>\n"
      ],
      "text/latex": [
       "\\begin{tabular}{r|ll}\n",
       " 자치구명 & 변동계수\\\\\n",
       "\\hline\n",
       "\t 강남구    & 0.1074865\\\\\n",
       "\t 영등포구  & 0.1177098\\\\\n",
       "\t 구로구    & 0.1247490\\\\\n",
       "\t 서초구    & 0.1267878\\\\\n",
       "\t 노원구    & 0.1269958\\\\\n",
       "\t 마포구    & 0.1279873\\\\\n",
       "\t 중랑구    & 0.1285712\\\\\n",
       "\t 강동구    & 0.1286380\\\\\n",
       "\t 서대문구  & 0.1332123\\\\\n",
       "\t 송파구    & 0.1341341\\\\\n",
       "\t 강서구    & 0.1351914\\\\\n",
       "\t 성북구    & 0.1401772\\\\\n",
       "\t 양천구    & 0.1411315\\\\\n",
       "\t 동작구    & 0.1428743\\\\\n",
       "\t 강북구    & 0.1454786\\\\\n",
       "\t 동대문구  & 0.1478347\\\\\n",
       "\t 성동구    & 0.1499687\\\\\n",
       "\t 용산구    & 0.1501245\\\\\n",
       "\t 도봉구    & 0.1574197\\\\\n",
       "\t 중구      & 0.1581133\\\\\n",
       "\t 종로구    & 0.1586624\\\\\n",
       "\t 관악구    & 0.1762311\\\\\n",
       "\t 금천구    & 0.1792845\\\\\n",
       "\t 은평구    & 0.1849940\\\\\n",
       "\t 광진구    & 0.2120399\\\\\n",
       "\\end{tabular}\n"
      ],
      "text/markdown": [
       "\n",
       "| 자치구명 | 변동계수 |\n",
       "|---|---|\n",
       "| 강남구    | 0.1074865 |\n",
       "| 영등포구  | 0.1177098 |\n",
       "| 구로구    | 0.1247490 |\n",
       "| 서초구    | 0.1267878 |\n",
       "| 노원구    | 0.1269958 |\n",
       "| 마포구    | 0.1279873 |\n",
       "| 중랑구    | 0.1285712 |\n",
       "| 강동구    | 0.1286380 |\n",
       "| 서대문구  | 0.1332123 |\n",
       "| 송파구    | 0.1341341 |\n",
       "| 강서구    | 0.1351914 |\n",
       "| 성북구    | 0.1401772 |\n",
       "| 양천구    | 0.1411315 |\n",
       "| 동작구    | 0.1428743 |\n",
       "| 강북구    | 0.1454786 |\n",
       "| 동대문구  | 0.1478347 |\n",
       "| 성동구    | 0.1499687 |\n",
       "| 용산구    | 0.1501245 |\n",
       "| 도봉구    | 0.1574197 |\n",
       "| 중구      | 0.1581133 |\n",
       "| 종로구    | 0.1586624 |\n",
       "| 관악구    | 0.1762311 |\n",
       "| 금천구    | 0.1792845 |\n",
       "| 은평구    | 0.1849940 |\n",
       "| 광진구    | 0.2120399 |\n",
       "\n"
      ],
      "text/plain": [
       "   자치구명 변동계수 \n",
       "1  강남구   0.1074865\n",
       "2  영등포구 0.1177098\n",
       "3  구로구   0.1247490\n",
       "4  서초구   0.1267878\n",
       "5  노원구   0.1269958\n",
       "6  마포구   0.1279873\n",
       "7  중랑구   0.1285712\n",
       "8  강동구   0.1286380\n",
       "9  서대문구 0.1332123\n",
       "10 송파구   0.1341341\n",
       "11 강서구   0.1351914\n",
       "12 성북구   0.1401772\n",
       "13 양천구   0.1411315\n",
       "14 동작구   0.1428743\n",
       "15 강북구   0.1454786\n",
       "16 동대문구 0.1478347\n",
       "17 성동구   0.1499687\n",
       "18 용산구   0.1501245\n",
       "19 도봉구   0.1574197\n",
       "20 중구     0.1581133\n",
       "21 종로구   0.1586624\n",
       "22 관악구   0.1762311\n",
       "23 금천구   0.1792845\n",
       "24 은평구   0.1849940\n",
       "25 광진구   0.2120399"
      ]
     },
     "metadata": {},
     "output_type": "display_data"
    }
   ],
   "source": [
    "# 정렬하기\n",
    "# 변동계수는 얼마나 빈번하게 사고가 나는 지를 보여준다\n",
    "# 작을수록 더 많이 일어난다는 의미 --> 횟수 = 1 / 변동계수 로 생각하면 잘 이해가 된다\n",
    "# 편차가 커지더라도 평균은 달라지지 않는다 ==> 편차가 커지면 그만큼 변동계수는 커진다\n",
    "arrange(regionAcc, 변동계수)"
   ]
  },
  {
   "cell_type": "code",
   "execution_count": 71,
   "id": "3026a563",
   "metadata": {
    "scrolled": false
   },
   "outputs": [
    {
     "data": {
      "text/html": [
       "<table>\n",
       "<thead><tr><th scope=col>자치구명</th><th scope=col>변동계수</th></tr></thead>\n",
       "<tbody>\n",
       "\t<tr><td>강남구   </td><td>0.1125485</td></tr>\n",
       "\t<tr><td>영등포구 </td><td>0.1258837</td></tr>\n",
       "\t<tr><td>노원구   </td><td>0.1283799</td></tr>\n",
       "\t<tr><td>송파구   </td><td>0.1297795</td></tr>\n",
       "\t<tr><td>서초구   </td><td>0.1352681</td></tr>\n",
       "\t<tr><td>강북구   </td><td>0.1356240</td></tr>\n",
       "\t<tr><td>중랑구   </td><td>0.1405188</td></tr>\n",
       "\t<tr><td>구로구   </td><td>0.1408256</td></tr>\n",
       "\t<tr><td>강동구   </td><td>0.1427554</td></tr>\n",
       "\t<tr><td>성북구   </td><td>0.1486599</td></tr>\n",
       "\t<tr><td>강서구   </td><td>0.1565859</td></tr>\n",
       "\t<tr><td>동작구   </td><td>0.1577050</td></tr>\n",
       "\t<tr><td>성동구   </td><td>0.1577153</td></tr>\n",
       "\t<tr><td>동대문구 </td><td>0.1593313</td></tr>\n",
       "\t<tr><td>양천구   </td><td>0.1599635</td></tr>\n",
       "\t<tr><td>중구     </td><td>0.1609844</td></tr>\n",
       "\t<tr><td>용산구   </td><td>0.1612301</td></tr>\n",
       "\t<tr><td>마포구   </td><td>0.1622381</td></tr>\n",
       "\t<tr><td>종로구   </td><td>0.1689405</td></tr>\n",
       "\t<tr><td>도봉구   </td><td>0.1777896</td></tr>\n",
       "\t<tr><td>서대문구 </td><td>0.1791661</td></tr>\n",
       "\t<tr><td>관악구   </td><td>0.1903978</td></tr>\n",
       "\t<tr><td>은평구   </td><td>0.2052181</td></tr>\n",
       "\t<tr><td>금천구   </td><td>0.2206970</td></tr>\n",
       "\t<tr><td>광진구   </td><td>0.2353976</td></tr>\n",
       "</tbody>\n",
       "</table>\n"
      ],
      "text/latex": [
       "\\begin{tabular}{r|ll}\n",
       " 자치구명 & 변동계수\\\\\n",
       "\\hline\n",
       "\t 강남구    & 0.1125485\\\\\n",
       "\t 영등포구  & 0.1258837\\\\\n",
       "\t 노원구    & 0.1283799\\\\\n",
       "\t 송파구    & 0.1297795\\\\\n",
       "\t 서초구    & 0.1352681\\\\\n",
       "\t 강북구    & 0.1356240\\\\\n",
       "\t 중랑구    & 0.1405188\\\\\n",
       "\t 구로구    & 0.1408256\\\\\n",
       "\t 강동구    & 0.1427554\\\\\n",
       "\t 성북구    & 0.1486599\\\\\n",
       "\t 강서구    & 0.1565859\\\\\n",
       "\t 동작구    & 0.1577050\\\\\n",
       "\t 성동구    & 0.1577153\\\\\n",
       "\t 동대문구  & 0.1593313\\\\\n",
       "\t 양천구    & 0.1599635\\\\\n",
       "\t 중구      & 0.1609844\\\\\n",
       "\t 용산구    & 0.1612301\\\\\n",
       "\t 마포구    & 0.1622381\\\\\n",
       "\t 종로구    & 0.1689405\\\\\n",
       "\t 도봉구    & 0.1777896\\\\\n",
       "\t 서대문구  & 0.1791661\\\\\n",
       "\t 관악구    & 0.1903978\\\\\n",
       "\t 은평구    & 0.2052181\\\\\n",
       "\t 금천구    & 0.2206970\\\\\n",
       "\t 광진구    & 0.2353976\\\\\n",
       "\\end{tabular}\n"
      ],
      "text/markdown": [
       "\n",
       "| 자치구명 | 변동계수 |\n",
       "|---|---|\n",
       "| 강남구    | 0.1125485 |\n",
       "| 영등포구  | 0.1258837 |\n",
       "| 노원구    | 0.1283799 |\n",
       "| 송파구    | 0.1297795 |\n",
       "| 서초구    | 0.1352681 |\n",
       "| 강북구    | 0.1356240 |\n",
       "| 중랑구    | 0.1405188 |\n",
       "| 구로구    | 0.1408256 |\n",
       "| 강동구    | 0.1427554 |\n",
       "| 성북구    | 0.1486599 |\n",
       "| 강서구    | 0.1565859 |\n",
       "| 동작구    | 0.1577050 |\n",
       "| 성동구    | 0.1577153 |\n",
       "| 동대문구  | 0.1593313 |\n",
       "| 양천구    | 0.1599635 |\n",
       "| 중구      | 0.1609844 |\n",
       "| 용산구    | 0.1612301 |\n",
       "| 마포구    | 0.1622381 |\n",
       "| 종로구    | 0.1689405 |\n",
       "| 도봉구    | 0.1777896 |\n",
       "| 서대문구  | 0.1791661 |\n",
       "| 관악구    | 0.1903978 |\n",
       "| 은평구    | 0.2052181 |\n",
       "| 금천구    | 0.2206970 |\n",
       "| 광진구    | 0.2353976 |\n",
       "\n"
      ],
      "text/plain": [
       "   자치구명 변동계수 \n",
       "1  강남구   0.1125485\n",
       "2  영등포구 0.1258837\n",
       "3  노원구   0.1283799\n",
       "4  송파구   0.1297795\n",
       "5  서초구   0.1352681\n",
       "6  강북구   0.1356240\n",
       "7  중랑구   0.1405188\n",
       "8  구로구   0.1408256\n",
       "9  강동구   0.1427554\n",
       "10 성북구   0.1486599\n",
       "11 강서구   0.1565859\n",
       "12 동작구   0.1577050\n",
       "13 성동구   0.1577153\n",
       "14 동대문구 0.1593313\n",
       "15 양천구   0.1599635\n",
       "16 중구     0.1609844\n",
       "17 용산구   0.1612301\n",
       "18 마포구   0.1622381\n",
       "19 종로구   0.1689405\n",
       "20 도봉구   0.1777896\n",
       "21 서대문구 0.1791661\n",
       "22 관악구   0.1903978\n",
       "23 은평구   0.2052181\n",
       "24 금천구   0.2206970\n",
       "25 광진구   0.2353976"
      ]
     },
     "metadata": {},
     "output_type": "display_data"
    }
   ],
   "source": [
    "# 서울시 교통사고 부상자수에 대한 변동계수 구하기\n",
    "\n",
    "regionInjure.mean <- aggregate(부상자수 ~ 자치구명, seoul, mean)\n",
    "regionInjure.sd <- aggregate(부상자수 ~ 자치구명, seoul, sd)\n",
    "regionInjure <- data.frame(자치구명 = regionInjure.mean[,1],\n",
    "                           변동계수 = regionInjure.sd[,2] / regionInjure.mean[,2])\n",
    "arrange(regionInjure,변동계수)\n"
   ]
  },
  {
   "cell_type": "code",
   "execution_count": 72,
   "id": "ebda3da8",
   "metadata": {
    "scrolled": false
   },
   "outputs": [
    {
     "data": {
      "text/html": [
       "<table>\n",
       "<thead><tr><th scope=col>자치구명</th><th scope=col>변동계수</th></tr></thead>\n",
       "<tbody>\n",
       "\t<tr><td>영등포구 </td><td>0.6293361</td></tr>\n",
       "\t<tr><td>강동구   </td><td>0.7663838</td></tr>\n",
       "\t<tr><td>강남구   </td><td>0.7864080</td></tr>\n",
       "\t<tr><td>송파구   </td><td>0.8062102</td></tr>\n",
       "\t<tr><td>서초구   </td><td>0.8277334</td></tr>\n",
       "\t<tr><td>노원구   </td><td>0.8443981</td></tr>\n",
       "\t<tr><td>은평구   </td><td>0.8527234</td></tr>\n",
       "\t<tr><td>강서구   </td><td>0.8635127</td></tr>\n",
       "\t<tr><td>관악구   </td><td>0.9202590</td></tr>\n",
       "\t<tr><td>종로구   </td><td>0.9332813</td></tr>\n",
       "\t<tr><td>동대문구 </td><td>0.9432929</td></tr>\n",
       "\t<tr><td>구로구   </td><td>0.9565578</td></tr>\n",
       "\t<tr><td>용산구   </td><td>0.9609775</td></tr>\n",
       "\t<tr><td>서대문구 </td><td>0.9634543</td></tr>\n",
       "\t<tr><td>강북구   </td><td>0.9826626</td></tr>\n",
       "\t<tr><td>성북구   </td><td>0.9886017</td></tr>\n",
       "\t<tr><td>광진구   </td><td>1.0026785</td></tr>\n",
       "\t<tr><td>성동구   </td><td>1.0422291</td></tr>\n",
       "\t<tr><td>양천구   </td><td>1.0473578</td></tr>\n",
       "\t<tr><td>마포구   </td><td>1.0556714</td></tr>\n",
       "\t<tr><td>동작구   </td><td>1.0596641</td></tr>\n",
       "\t<tr><td>중랑구   </td><td>1.1019842</td></tr>\n",
       "\t<tr><td>도봉구   </td><td>1.1260506</td></tr>\n",
       "\t<tr><td>금천구   </td><td>1.1968557</td></tr>\n",
       "\t<tr><td>중구     </td><td>1.3235261</td></tr>\n",
       "</tbody>\n",
       "</table>\n"
      ],
      "text/latex": [
       "\\begin{tabular}{r|ll}\n",
       " 자치구명 & 변동계수\\\\\n",
       "\\hline\n",
       "\t 영등포구  & 0.6293361\\\\\n",
       "\t 강동구    & 0.7663838\\\\\n",
       "\t 강남구    & 0.7864080\\\\\n",
       "\t 송파구    & 0.8062102\\\\\n",
       "\t 서초구    & 0.8277334\\\\\n",
       "\t 노원구    & 0.8443981\\\\\n",
       "\t 은평구    & 0.8527234\\\\\n",
       "\t 강서구    & 0.8635127\\\\\n",
       "\t 관악구    & 0.9202590\\\\\n",
       "\t 종로구    & 0.9332813\\\\\n",
       "\t 동대문구  & 0.9432929\\\\\n",
       "\t 구로구    & 0.9565578\\\\\n",
       "\t 용산구    & 0.9609775\\\\\n",
       "\t 서대문구  & 0.9634543\\\\\n",
       "\t 강북구    & 0.9826626\\\\\n",
       "\t 성북구    & 0.9886017\\\\\n",
       "\t 광진구    & 1.0026785\\\\\n",
       "\t 성동구    & 1.0422291\\\\\n",
       "\t 양천구    & 1.0473578\\\\\n",
       "\t 마포구    & 1.0556714\\\\\n",
       "\t 동작구    & 1.0596641\\\\\n",
       "\t 중랑구    & 1.1019842\\\\\n",
       "\t 도봉구    & 1.1260506\\\\\n",
       "\t 금천구    & 1.1968557\\\\\n",
       "\t 중구      & 1.3235261\\\\\n",
       "\\end{tabular}\n"
      ],
      "text/markdown": [
       "\n",
       "| 자치구명 | 변동계수 |\n",
       "|---|---|\n",
       "| 영등포구  | 0.6293361 |\n",
       "| 강동구    | 0.7663838 |\n",
       "| 강남구    | 0.7864080 |\n",
       "| 송파구    | 0.8062102 |\n",
       "| 서초구    | 0.8277334 |\n",
       "| 노원구    | 0.8443981 |\n",
       "| 은평구    | 0.8527234 |\n",
       "| 강서구    | 0.8635127 |\n",
       "| 관악구    | 0.9202590 |\n",
       "| 종로구    | 0.9332813 |\n",
       "| 동대문구  | 0.9432929 |\n",
       "| 구로구    | 0.9565578 |\n",
       "| 용산구    | 0.9609775 |\n",
       "| 서대문구  | 0.9634543 |\n",
       "| 강북구    | 0.9826626 |\n",
       "| 성북구    | 0.9886017 |\n",
       "| 광진구    | 1.0026785 |\n",
       "| 성동구    | 1.0422291 |\n",
       "| 양천구    | 1.0473578 |\n",
       "| 마포구    | 1.0556714 |\n",
       "| 동작구    | 1.0596641 |\n",
       "| 중랑구    | 1.1019842 |\n",
       "| 도봉구    | 1.1260506 |\n",
       "| 금천구    | 1.1968557 |\n",
       "| 중구      | 1.3235261 |\n",
       "\n"
      ],
      "text/plain": [
       "   자치구명 변동계수 \n",
       "1  영등포구 0.6293361\n",
       "2  강동구   0.7663838\n",
       "3  강남구   0.7864080\n",
       "4  송파구   0.8062102\n",
       "5  서초구   0.8277334\n",
       "6  노원구   0.8443981\n",
       "7  은평구   0.8527234\n",
       "8  강서구   0.8635127\n",
       "9  관악구   0.9202590\n",
       "10 종로구   0.9332813\n",
       "11 동대문구 0.9432929\n",
       "12 구로구   0.9565578\n",
       "13 용산구   0.9609775\n",
       "14 서대문구 0.9634543\n",
       "15 강북구   0.9826626\n",
       "16 성북구   0.9886017\n",
       "17 광진구   1.0026785\n",
       "18 성동구   1.0422291\n",
       "19 양천구   1.0473578\n",
       "20 마포구   1.0556714\n",
       "21 동작구   1.0596641\n",
       "22 중랑구   1.1019842\n",
       "23 도봉구   1.1260506\n",
       "24 금천구   1.1968557\n",
       "25 중구     1.3235261"
      ]
     },
     "metadata": {},
     "output_type": "display_data"
    }
   ],
   "source": [
    "# 서울시 교통사고 사망자수에 대한 변동계수 구하기\n",
    "\n",
    "regionDeath.mean <- aggregate(사망자수 ~ 자치구명, seoul, mean)\n",
    "regionDeath.sd <- aggregate(사망자수 ~ 자치구명, seoul, sd)\n",
    "regionDeath <- data.frame(자치구명 = regionDeath.mean[,1],\n",
    "                           변동계수 = regionDeath.sd[,2] / regionDeath.mean[,2])\n",
    "arrange(regionDeath,변동계수)\n"
   ]
  },
  {
   "cell_type": "code",
   "execution_count": 73,
   "id": "f976c40e",
   "metadata": {},
   "outputs": [
    {
     "data": {
      "text/html": [
       "0.98089324110604"
      ],
      "text/latex": [
       "0.98089324110604"
      ],
      "text/markdown": [
       "0.98089324110604"
      ],
      "text/plain": [
       "[1] 0.9808932"
      ]
     },
     "metadata": {},
     "output_type": "display_data"
    }
   ],
   "source": [
    "# 교통사고 발생건수와 부상자수의 관계 : 상관계수(correlationship)\n",
    "cor(seoul$발생건수, seoul$부상자수)"
   ]
  },
  {
   "cell_type": "markdown",
   "id": "ec319fab",
   "metadata": {},
   "source": [
    "0 ~ 0.3 : 상관 없음   \n",
    "0.3 ~ 0.5 : 약한 관계가 있다(약상관)   \n",
    "0.5 ~ 0.7 : 관계 있음   \n",
    "0.7 ~ : 강한 관계   \n"
   ]
  },
  {
   "cell_type": "code",
   "execution_count": 74,
   "id": "76e5ddb5",
   "metadata": {},
   "outputs": [
    {
     "data": {
      "image/png": "[encoded data removed]",
      "text/plain": [
       "plot without title"
      ]
     },
     "metadata": {},
     "output_type": "display_data"
    }
   ],
   "source": [
    "par(family = \"AppleGothic\")\n",
    "plot(seoul$발생건수, seoul$부상자수)"
   ]
  },
  {
   "cell_type": "code",
   "execution_count": 75,
   "id": "ebbabfd5",
   "metadata": {},
   "outputs": [
    {
     "data": {
      "text/html": [
       "0.238714776834864"
      ],
      "text/latex": [
       "0.238714776834864"
      ],
      "text/markdown": [
       "0.238714776834864"
      ],
      "text/plain": [
       "[1] 0.2387148"
      ]
     },
     "metadata": {},
     "output_type": "display_data"
    }
   ],
   "source": [
    "# 교통사고 발생건수와 사망자 수의 관계 : 상관계수\n",
    "\n",
    "cor(seoul$발생건수, seoul$사망자수)"
   ]
  },
  {
   "cell_type": "code",
   "execution_count": 76,
   "id": "5295ad50",
   "metadata": {},
   "outputs": [
    {
     "data": {
      "image/png": "[encoded data removed]",
      "text/plain": [
       "plot without title"
      ]
     },
     "metadata": {},
     "output_type": "display_data"
    }
   ],
   "source": [
    "par(family = \"AppleGothic\")\n",
    "plot(seoul$발생건수, seoul$사망자수)"
   ]
  },
  {
   "cell_type": "code",
   "execution_count": 77,
   "id": "196c28ce",
   "metadata": {},
   "outputs": [
    {
     "data": {
      "text/html": [
       "0.237301918677241"
      ],
      "text/latex": [
       "0.237301918677241"
      ],
      "text/markdown": [
       "0.237301918677241"
      ],
      "text/plain": [
       "[1] 0.2373019"
      ]
     },
     "metadata": {},
     "output_type": "display_data"
    }
   ],
   "source": [
    "# 교통사고 부상자수와 사망자수의 관계 : 상관계수\n",
    "\n",
    "cor(seoul$부상자수, seoul$사망자수)"
   ]
  },
  {
   "cell_type": "code",
   "execution_count": 78,
   "id": "19ecd4d6",
   "metadata": {},
   "outputs": [
    {
     "data": {
      "image/png": "[encoded data removed]",
      "text/plain": [
       "plot without title"
      ]
     },
     "metadata": {},
     "output_type": "display_data"
    }
   ],
   "source": [
    "par(family = \"AppleGothic\")\n",
    "plot(seoul$부상자수, seoul$사망자수)"
   ]
  },
  {
   "cell_type": "markdown",
   "id": "68bf46d9",
   "metadata": {},
   "source": [
    "1. 년도별 교통사고 발생, 부상, 사망자수에 대한 분석\n",
    "2. 각 월별 ..\n",
    "3. 계절별 ..\n",
    "4. 한강 기준으로 강북과 강남에 대한 분석\n"
   ]
  },
  {
   "cell_type": "markdown",
   "id": "293f1334",
   "metadata": {},
   "source": [
    "# 월별 교통사고 발생, 부상, 사망자수에 대한 분석 - 조별 프로젝트 내용(정리 x)"
   ]
  },
  {
   "cell_type": "code",
   "execution_count": 79,
   "id": "f512d675",
   "metadata": {
    "scrolled": true
   },
   "outputs": [
    {
     "data": {
      "text/html": [
       "<table>\n",
       "<thead><tr><th scope=col>월</th><th scope=col>발생건수</th><th scope=col>사망자수</th><th scope=col>부상자수</th></tr></thead>\n",
       "<tbody>\n",
       "\t<tr><td> 1       </td><td>0.4081757</td><td>0.9571266</td><td>0.4237852</td></tr>\n",
       "\t<tr><td> 2       </td><td>0.3948391</td><td>0.9430893</td><td>0.4253276</td></tr>\n",
       "\t<tr><td> 3       </td><td>0.3919054</td><td>1.0214779</td><td>0.4179837</td></tr>\n",
       "\t<tr><td> 4       </td><td>0.3736063</td><td>1.0085028</td><td>0.3973225</td></tr>\n",
       "\t<tr><td> 5       </td><td>0.3654984</td><td>1.0259439</td><td>0.3919423</td></tr>\n",
       "\t<tr><td> 6       </td><td>0.3774160</td><td>1.0098716</td><td>0.4069669</td></tr>\n",
       "\t<tr><td> 7       </td><td>0.4114985</td><td>1.0046826</td><td>0.4244069</td></tr>\n",
       "\t<tr><td> 8       </td><td>0.3882555</td><td>1.0066298</td><td>0.4079518</td></tr>\n",
       "\t<tr><td> 9       </td><td>0.3648206</td><td>1.0070186</td><td>0.3786651</td></tr>\n",
       "\t<tr><td>10       </td><td>0.3820376</td><td>0.8976763</td><td>0.3992874</td></tr>\n",
       "\t<tr><td>11       </td><td>0.4058521</td><td>0.9282888</td><td>0.4260003</td></tr>\n",
       "\t<tr><td>12       </td><td>0.4208205</td><td>0.8813445</td><td>0.4534146</td></tr>\n",
       "</tbody>\n",
       "</table>\n"
      ],
      "text/latex": [
       "\\begin{tabular}{r|llll}\n",
       " 월 & 발생건수 & 사망자수 & 부상자수\\\\\n",
       "\\hline\n",
       "\t  1        & 0.4081757 & 0.9571266 & 0.4237852\\\\\n",
       "\t  2        & 0.3948391 & 0.9430893 & 0.4253276\\\\\n",
       "\t  3        & 0.3919054 & 1.0214779 & 0.4179837\\\\\n",
       "\t  4        & 0.3736063 & 1.0085028 & 0.3973225\\\\\n",
       "\t  5        & 0.3654984 & 1.0259439 & 0.3919423\\\\\n",
       "\t  6        & 0.3774160 & 1.0098716 & 0.4069669\\\\\n",
       "\t  7        & 0.4114985 & 1.0046826 & 0.4244069\\\\\n",
       "\t  8        & 0.3882555 & 1.0066298 & 0.4079518\\\\\n",
       "\t  9        & 0.3648206 & 1.0070186 & 0.3786651\\\\\n",
       "\t 10        & 0.3820376 & 0.8976763 & 0.3992874\\\\\n",
       "\t 11        & 0.4058521 & 0.9282888 & 0.4260003\\\\\n",
       "\t 12        & 0.4208205 & 0.8813445 & 0.4534146\\\\\n",
       "\\end{tabular}\n"
      ],
      "text/markdown": [
       "\n",
       "| 월 | 발생건수 | 사망자수 | 부상자수 |\n",
       "|---|---|---|---|\n",
       "|  1        | 0.4081757 | 0.9571266 | 0.4237852 |\n",
       "|  2        | 0.3948391 | 0.9430893 | 0.4253276 |\n",
       "|  3        | 0.3919054 | 1.0214779 | 0.4179837 |\n",
       "|  4        | 0.3736063 | 1.0085028 | 0.3973225 |\n",
       "|  5        | 0.3654984 | 1.0259439 | 0.3919423 |\n",
       "|  6        | 0.3774160 | 1.0098716 | 0.4069669 |\n",
       "|  7        | 0.4114985 | 1.0046826 | 0.4244069 |\n",
       "|  8        | 0.3882555 | 1.0066298 | 0.4079518 |\n",
       "|  9        | 0.3648206 | 1.0070186 | 0.3786651 |\n",
       "| 10        | 0.3820376 | 0.8976763 | 0.3992874 |\n",
       "| 11        | 0.4058521 | 0.9282888 | 0.4260003 |\n",
       "| 12        | 0.4208205 | 0.8813445 | 0.4534146 |\n",
       "\n"
      ],
      "text/plain": [
       "   월 발생건수  사망자수  부상자수 \n",
       "1   1 0.4081757 0.9571266 0.4237852\n",
       "2   2 0.3948391 0.9430893 0.4253276\n",
       "3   3 0.3919054 1.0214779 0.4179837\n",
       "4   4 0.3736063 1.0085028 0.3973225\n",
       "5   5 0.3654984 1.0259439 0.3919423\n",
       "6   6 0.3774160 1.0098716 0.4069669\n",
       "7   7 0.4114985 1.0046826 0.4244069\n",
       "8   8 0.3882555 1.0066298 0.4079518\n",
       "9   9 0.3648206 1.0070186 0.3786651\n",
       "10 10 0.3820376 0.8976763 0.3992874\n",
       "11 11 0.4058521 0.9282888 0.4260003\n",
       "12 12 0.4208205 0.8813445 0.4534146"
      ]
     },
     "metadata": {},
     "output_type": "display_data"
    }
   ],
   "source": [
    "month.mean <- aggregate(cbind(발생건수, 사망자수, 부상자수) ~ 월, seoul, mean)\n",
    "month.sd <- aggregate(cbind(발생건수, 사망자수, 부상자수) ~ 월, seoul, sd)\n",
    "month <- data.frame(월=month.mean[,1], month.sd[,2:4] / month.mean[,2:4])\n",
    "month"
   ]
  },
  {
   "cell_type": "code",
   "execution_count": 80,
   "id": "a57eab27",
   "metadata": {},
   "outputs": [
    {
     "data": {
      "text/html": [
       "<table>\n",
       "<thead><tr><th scope=col>월</th><th scope=col>발생건수</th></tr></thead>\n",
       "<tbody>\n",
       "\t<tr><td>12       </td><td>0.4208205</td></tr>\n",
       "\t<tr><td> 7       </td><td>0.4114985</td></tr>\n",
       "\t<tr><td> 1       </td><td>0.4081757</td></tr>\n",
       "\t<tr><td>11       </td><td>0.4058521</td></tr>\n",
       "\t<tr><td> 2       </td><td>0.3948391</td></tr>\n",
       "\t<tr><td> 3       </td><td>0.3919054</td></tr>\n",
       "\t<tr><td> 8       </td><td>0.3882555</td></tr>\n",
       "\t<tr><td>10       </td><td>0.3820376</td></tr>\n",
       "\t<tr><td> 6       </td><td>0.3774160</td></tr>\n",
       "\t<tr><td> 4       </td><td>0.3736063</td></tr>\n",
       "\t<tr><td> 5       </td><td>0.3654984</td></tr>\n",
       "\t<tr><td> 9       </td><td>0.3648206</td></tr>\n",
       "</tbody>\n",
       "</table>\n"
      ],
      "text/latex": [
       "\\begin{tabular}{r|ll}\n",
       " 월 & 발생건수\\\\\n",
       "\\hline\n",
       "\t 12        & 0.4208205\\\\\n",
       "\t  7        & 0.4114985\\\\\n",
       "\t  1        & 0.4081757\\\\\n",
       "\t 11        & 0.4058521\\\\\n",
       "\t  2        & 0.3948391\\\\\n",
       "\t  3        & 0.3919054\\\\\n",
       "\t  8        & 0.3882555\\\\\n",
       "\t 10        & 0.3820376\\\\\n",
       "\t  6        & 0.3774160\\\\\n",
       "\t  4        & 0.3736063\\\\\n",
       "\t  5        & 0.3654984\\\\\n",
       "\t  9        & 0.3648206\\\\\n",
       "\\end{tabular}\n"
      ],
      "text/markdown": [
       "\n",
       "| 월 | 발생건수 |\n",
       "|---|---|\n",
       "| 12        | 0.4208205 |\n",
       "|  7        | 0.4114985 |\n",
       "|  1        | 0.4081757 |\n",
       "| 11        | 0.4058521 |\n",
       "|  2        | 0.3948391 |\n",
       "|  3        | 0.3919054 |\n",
       "|  8        | 0.3882555 |\n",
       "| 10        | 0.3820376 |\n",
       "|  6        | 0.3774160 |\n",
       "|  4        | 0.3736063 |\n",
       "|  5        | 0.3654984 |\n",
       "|  9        | 0.3648206 |\n",
       "\n"
      ],
      "text/plain": [
       "   월 발생건수 \n",
       "1  12 0.4208205\n",
       "2   7 0.4114985\n",
       "3   1 0.4081757\n",
       "4  11 0.4058521\n",
       "5   2 0.3948391\n",
       "6   3 0.3919054\n",
       "7   8 0.3882555\n",
       "8  10 0.3820376\n",
       "9   6 0.3774160\n",
       "10  4 0.3736063\n",
       "11  5 0.3654984\n",
       "12  9 0.3648206"
      ]
     },
     "metadata": {},
     "output_type": "display_data"
    },
    {
     "data": {
      "text/html": [
       "<table>\n",
       "<thead><tr><th scope=col>월</th><th scope=col>사망자수</th></tr></thead>\n",
       "<tbody>\n",
       "\t<tr><td>12       </td><td>0.8813445</td></tr>\n",
       "\t<tr><td>10       </td><td>0.8976763</td></tr>\n",
       "\t<tr><td>11       </td><td>0.9282888</td></tr>\n",
       "\t<tr><td> 2       </td><td>0.9430893</td></tr>\n",
       "\t<tr><td> 1       </td><td>0.9571266</td></tr>\n",
       "\t<tr><td> 7       </td><td>1.0046826</td></tr>\n",
       "\t<tr><td> 8       </td><td>1.0066298</td></tr>\n",
       "\t<tr><td> 9       </td><td>1.0070186</td></tr>\n",
       "\t<tr><td> 4       </td><td>1.0085028</td></tr>\n",
       "\t<tr><td> 6       </td><td>1.0098716</td></tr>\n",
       "\t<tr><td> 3       </td><td>1.0214779</td></tr>\n",
       "\t<tr><td> 5       </td><td>1.0259439</td></tr>\n",
       "</tbody>\n",
       "</table>\n"
      ],
      "text/latex": [
       "\\begin{tabular}{r|ll}\n",
       " 월 & 사망자수\\\\\n",
       "\\hline\n",
       "\t 12        & 0.8813445\\\\\n",
       "\t 10        & 0.8976763\\\\\n",
       "\t 11        & 0.9282888\\\\\n",
       "\t  2        & 0.9430893\\\\\n",
       "\t  1        & 0.9571266\\\\\n",
       "\t  7        & 1.0046826\\\\\n",
       "\t  8        & 1.0066298\\\\\n",
       "\t  9        & 1.0070186\\\\\n",
       "\t  4        & 1.0085028\\\\\n",
       "\t  6        & 1.0098716\\\\\n",
       "\t  3        & 1.0214779\\\\\n",
       "\t  5        & 1.0259439\\\\\n",
       "\\end{tabular}\n"
      ],
      "text/markdown": [
       "\n",
       "| 월 | 사망자수 |\n",
       "|---|---|\n",
       "| 12        | 0.8813445 |\n",
       "| 10        | 0.8976763 |\n",
       "| 11        | 0.9282888 |\n",
       "|  2        | 0.9430893 |\n",
       "|  1        | 0.9571266 |\n",
       "|  7        | 1.0046826 |\n",
       "|  8        | 1.0066298 |\n",
       "|  9        | 1.0070186 |\n",
       "|  4        | 1.0085028 |\n",
       "|  6        | 1.0098716 |\n",
       "|  3        | 1.0214779 |\n",
       "|  5        | 1.0259439 |\n",
       "\n"
      ],
      "text/plain": [
       "   월 사망자수 \n",
       "1  12 0.8813445\n",
       "2  10 0.8976763\n",
       "3  11 0.9282888\n",
       "4   2 0.9430893\n",
       "5   1 0.9571266\n",
       "6   7 1.0046826\n",
       "7   8 1.0066298\n",
       "8   9 1.0070186\n",
       "9   4 1.0085028\n",
       "10  6 1.0098716\n",
       "11  3 1.0214779\n",
       "12  5 1.0259439"
      ]
     },
     "metadata": {},
     "output_type": "display_data"
    },
    {
     "data": {
      "text/html": [
       "<table>\n",
       "<thead><tr><th scope=col>월</th><th scope=col>부상자수</th></tr></thead>\n",
       "<tbody>\n",
       "\t<tr><td> 9       </td><td>0.3786651</td></tr>\n",
       "\t<tr><td> 5       </td><td>0.3919423</td></tr>\n",
       "\t<tr><td> 4       </td><td>0.3973225</td></tr>\n",
       "\t<tr><td>10       </td><td>0.3992874</td></tr>\n",
       "\t<tr><td> 6       </td><td>0.4069669</td></tr>\n",
       "\t<tr><td> 8       </td><td>0.4079518</td></tr>\n",
       "\t<tr><td> 3       </td><td>0.4179837</td></tr>\n",
       "\t<tr><td> 1       </td><td>0.4237852</td></tr>\n",
       "\t<tr><td> 7       </td><td>0.4244069</td></tr>\n",
       "\t<tr><td> 2       </td><td>0.4253276</td></tr>\n",
       "\t<tr><td>11       </td><td>0.4260003</td></tr>\n",
       "\t<tr><td>12       </td><td>0.4534146</td></tr>\n",
       "</tbody>\n",
       "</table>\n"
      ],
      "text/latex": [
       "\\begin{tabular}{r|ll}\n",
       " 월 & 부상자수\\\\\n",
       "\\hline\n",
       "\t  9        & 0.3786651\\\\\n",
       "\t  5        & 0.3919423\\\\\n",
       "\t  4        & 0.3973225\\\\\n",
       "\t 10        & 0.3992874\\\\\n",
       "\t  6        & 0.4069669\\\\\n",
       "\t  8        & 0.4079518\\\\\n",
       "\t  3        & 0.4179837\\\\\n",
       "\t  1        & 0.4237852\\\\\n",
       "\t  7        & 0.4244069\\\\\n",
       "\t  2        & 0.4253276\\\\\n",
       "\t 11        & 0.4260003\\\\\n",
       "\t 12        & 0.4534146\\\\\n",
       "\\end{tabular}\n"
      ],
      "text/markdown": [
       "\n",
       "| 월 | 부상자수 |\n",
       "|---|---|\n",
       "|  9        | 0.3786651 |\n",
       "|  5        | 0.3919423 |\n",
       "|  4        | 0.3973225 |\n",
       "| 10        | 0.3992874 |\n",
       "|  6        | 0.4069669 |\n",
       "|  8        | 0.4079518 |\n",
       "|  3        | 0.4179837 |\n",
       "|  1        | 0.4237852 |\n",
       "|  7        | 0.4244069 |\n",
       "|  2        | 0.4253276 |\n",
       "| 11        | 0.4260003 |\n",
       "| 12        | 0.4534146 |\n",
       "\n"
      ],
      "text/plain": [
       "   월 부상자수 \n",
       "1   9 0.3786651\n",
       "2   5 0.3919423\n",
       "3   4 0.3973225\n",
       "4  10 0.3992874\n",
       "5   6 0.4069669\n",
       "6   8 0.4079518\n",
       "7   3 0.4179837\n",
       "8   1 0.4237852\n",
       "9   7 0.4244069\n",
       "10  2 0.4253276\n",
       "11 11 0.4260003\n",
       "12 12 0.4534146"
      ]
     },
     "metadata": {},
     "output_type": "display_data"
    }
   ],
   "source": [
    "x <- arrange(month, desc(month[,2]))[,c(1,2)]; x\n",
    "arrange(month, month[,3])[,c(1,3)]\n",
    "arrange(month, month[,4])[,c(1,4)]"
   ]
  },
  {
   "cell_type": "code",
   "execution_count": 81,
   "id": "71e4b14d",
   "metadata": {
    "scrolled": false
   },
   "outputs": [
    {
     "data": {
      "text/html": [
       "<strong>pdf:</strong> 2"
      ],
      "text/latex": [
       "\\textbf{pdf:} 2"
      ],
      "text/markdown": [
       "**pdf:** 2"
      ],
      "text/plain": [
       "pdf \n",
       "  2 "
      ]
     },
     "metadata": {},
     "output_type": "display_data"
    }
   ],
   "source": [
    "png(filename=\"monthlyOccurCV.png\")\n",
    "par(family = \"AppleGothic\")\n",
    "barplot(x[,2],\n",
    "        names=paste(x[,1],\"월\",sep = \"\"),\n",
    "        cex.name = 0.7,\n",
    "        ylim = c(min(x[,2]), max(x[,2])),\n",
    "        main = \"월별 발생 건수의 변동계수\",\n",
    "        ylab = \"변동계수\",\n",
    "        col = c(\"red\",rep(\"blue\",10),\"red\")\n",
    "       \n",
    "       )\n",
    "dev.off()"
   ]
  },
  {
   "cell_type": "code",
   "execution_count": 82,
   "id": "75915a58",
   "metadata": {},
   "outputs": [],
   "source": [
    "year.mean <- aggregate(발생건수 ~ 년도+월, seoul, mean)\n",
    "year.mean <- year.mean[grep(9, year.mean$월),]\n",
    "year.sd <- aggregate(발생건수 ~ 년도+월, seoul,  sd)\n",
    "year.sd <- year.sd[grep(9, year.sd$월),]\n",
    "rownames(year.mean) <- c()\n",
    "rownames(year.sd) <- c()\n",
    "year <- data.frame(년도=year.mean[,1], 변동계수=year.sd[,3] / year.mean[,3])"
   ]
  },
  {
   "cell_type": "code",
   "execution_count": 83,
   "id": "221ca5db",
   "metadata": {},
   "outputs": [
    {
     "data": {
      "text/html": [
       "<table>\n",
       "<thead><tr><th scope=col>년도</th><th scope=col>변동계수</th></tr></thead>\n",
       "<tbody>\n",
       "\t<tr><td>2011     </td><td>0.3393078</td></tr>\n",
       "\t<tr><td>2012     </td><td>0.3629474</td></tr>\n",
       "\t<tr><td>2013     </td><td>0.3373776</td></tr>\n",
       "\t<tr><td>2014     </td><td>0.3403494</td></tr>\n",
       "\t<tr><td>2015     </td><td>0.3236732</td></tr>\n",
       "\t<tr><td>2016     </td><td>0.4133222</td></tr>\n",
       "\t<tr><td>2017     </td><td>0.3944862</td></tr>\n",
       "\t<tr><td>2018     </td><td>0.3859235</td></tr>\n",
       "\t<tr><td>2019     </td><td>0.4168236</td></tr>\n",
       "</tbody>\n",
       "</table>\n"
      ],
      "text/latex": [
       "\\begin{tabular}{r|ll}\n",
       " 년도 & 변동계수\\\\\n",
       "\\hline\n",
       "\t 2011      & 0.3393078\\\\\n",
       "\t 2012      & 0.3629474\\\\\n",
       "\t 2013      & 0.3373776\\\\\n",
       "\t 2014      & 0.3403494\\\\\n",
       "\t 2015      & 0.3236732\\\\\n",
       "\t 2016      & 0.4133222\\\\\n",
       "\t 2017      & 0.3944862\\\\\n",
       "\t 2018      & 0.3859235\\\\\n",
       "\t 2019      & 0.4168236\\\\\n",
       "\\end{tabular}\n"
      ],
      "text/markdown": [
       "\n",
       "| 년도 | 변동계수 |\n",
       "|---|---|\n",
       "| 2011      | 0.3393078 |\n",
       "| 2012      | 0.3629474 |\n",
       "| 2013      | 0.3373776 |\n",
       "| 2014      | 0.3403494 |\n",
       "| 2015      | 0.3236732 |\n",
       "| 2016      | 0.4133222 |\n",
       "| 2017      | 0.3944862 |\n",
       "| 2018      | 0.3859235 |\n",
       "| 2019      | 0.4168236 |\n",
       "\n"
      ],
      "text/plain": [
       "  년도 변동계수 \n",
       "1 2011 0.3393078\n",
       "2 2012 0.3629474\n",
       "3 2013 0.3373776\n",
       "4 2014 0.3403494\n",
       "5 2015 0.3236732\n",
       "6 2016 0.4133222\n",
       "7 2017 0.3944862\n",
       "8 2018 0.3859235\n",
       "9 2019 0.4168236"
      ]
     },
     "metadata": {},
     "output_type": "display_data"
    }
   ],
   "source": [
    "year"
   ]
  },
  {
   "cell_type": "code",
   "execution_count": 84,
   "id": "f3be3c52",
   "metadata": {},
   "outputs": [
    {
     "data": {
      "text/html": [
       "<strong>pdf:</strong> 2"
      ],
      "text/latex": [
       "\\textbf{pdf:} 2"
      ],
      "text/markdown": [
       "**pdf:** 2"
      ],
      "text/plain": [
       "pdf \n",
       "  2 "
      ]
     },
     "metadata": {},
     "output_type": "display_data"
    }
   ],
   "source": [
    "png(filename=\"SepYearCV.png\")\n",
    "par(family = \"AppleGothic\")\n",
    "plot(year[,1], year[,2],\n",
    "     type=\"l\",\n",
    "     col=\"blue\",\n",
    "     xlab = \"년도\",\n",
    "     ylab = \"변동계수\",\n",
    "     main = \"9월의 발생 건수의 변동계수\"\n",
    "    )\n",
    "points(year[6,1], year[6,2],col=\"red\"\n",
    ")\n",
    "dev.off()"
   ]
  },
  {
   "cell_type": "code",
   "execution_count": 85,
   "id": "ea5b80f3",
   "metadata": {},
   "outputs": [],
   "source": [
    "month.max = max(max(month[,2:4]))\n",
    "month.min = min(min(month[,2:4]))"
   ]
  },
  {
   "cell_type": "code",
   "execution_count": 86,
   "id": "3617eaf4",
   "metadata": {},
   "outputs": [
    {
     "data": {
      "image/png": "[encoded data removed]",
      "text/plain": [
       "plot without title"
      ]
     },
     "metadata": {},
     "output_type": "display_data"
    }
   ],
   "source": [
    "par(family = \"AppleGothic\")\n",
    "plot(month[,1], month[,2],\n",
    "     type=\"l\",\n",
    "     ylim = c(month.min,month.max),\n",
    "     col=\"red\"\n",
    "    )\n",
    "lines(month[,1], month[,3], col = \"blue\"\n",
    "    )\n",
    "lines(month[,1], month[,4], col = \"green\"\n",
    "    )\n",
    "legend(\n",
    "    'topright', legend=c(\"발생건수\", \"사망자수\", \"부상자수\"), fill = c(\"red\", \"blue\", \"green\")\n",
    ")"
   ]
  },
  {
   "cell_type": "code",
   "execution_count": 87,
   "id": "eced7c7f",
   "metadata": {},
   "outputs": [
    {
     "data": {
      "text/html": [
       "-0.56926514797572"
      ],
      "text/latex": [
       "-0.56926514797572"
      ],
      "text/markdown": [
       "-0.56926514797572"
      ],
      "text/plain": [
       "[1] -0.5692651"
      ]
     },
     "metadata": {},
     "output_type": "display_data"
    },
    {
     "data": {
      "text/html": [
       "0.940703348171031"
      ],
      "text/latex": [
       "0.940703348171031"
      ],
      "text/markdown": [
       "0.940703348171031"
      ],
      "text/plain": [
       "[1] 0.9407033"
      ]
     },
     "metadata": {},
     "output_type": "display_data"
    }
   ],
   "source": [
    "cor(month$발생건수, month$사망자수)\n",
    "cor(month$발생건수, month$부상자수)"
   ]
  },
  {
   "cell_type": "code",
   "execution_count": 88,
   "id": "25b0805b",
   "metadata": {},
   "outputs": [
    {
     "data": {
      "text/html": [
       "<table>\n",
       "<thead><tr><th scope=col>월</th><th scope=col>발생건수</th><th scope=col>사망자수</th><th scope=col>부상자수</th></tr></thead>\n",
       "<tbody>\n",
       "\t<tr><td> 1      </td><td>120.3911</td><td>1.248889</td><td>174.5956</td></tr>\n",
       "\t<tr><td> 2      </td><td>108.2000</td><td>1.088889</td><td>154.6800</td></tr>\n",
       "\t<tr><td> 3      </td><td>129.4933</td><td>1.164444</td><td>181.0311</td></tr>\n",
       "\t<tr><td> 4      </td><td>134.4711</td><td>1.164444</td><td>189.0311</td></tr>\n",
       "\t<tr><td> 5      </td><td>142.1644</td><td>1.182222</td><td>197.6622</td></tr>\n",
       "\t<tr><td> 6      </td><td>135.8044</td><td>1.177778</td><td>189.7778</td></tr>\n",
       "\t<tr><td> 7      </td><td>138.5778</td><td>1.191111</td><td>193.8044</td></tr>\n",
       "\t<tr><td> 8      </td><td>135.0044</td><td>1.111111</td><td>190.1378</td></tr>\n",
       "\t<tr><td> 9      </td><td>136.1956</td><td>1.306667</td><td>189.6267</td></tr>\n",
       "\t<tr><td>10      </td><td>143.9644</td><td>1.284444</td><td>201.8044</td></tr>\n",
       "\t<tr><td>11      </td><td>141.6089</td><td>1.262222</td><td>196.2933</td></tr>\n",
       "\t<tr><td>12      </td><td>133.6489</td><td>1.297778</td><td>190.9067</td></tr>\n",
       "</tbody>\n",
       "</table>\n"
      ],
      "text/latex": [
       "\\begin{tabular}{r|llll}\n",
       " 월 & 발생건수 & 사망자수 & 부상자수\\\\\n",
       "\\hline\n",
       "\t  1       & 120.3911 & 1.248889 & 174.5956\\\\\n",
       "\t  2       & 108.2000 & 1.088889 & 154.6800\\\\\n",
       "\t  3       & 129.4933 & 1.164444 & 181.0311\\\\\n",
       "\t  4       & 134.4711 & 1.164444 & 189.0311\\\\\n",
       "\t  5       & 142.1644 & 1.182222 & 197.6622\\\\\n",
       "\t  6       & 135.8044 & 1.177778 & 189.7778\\\\\n",
       "\t  7       & 138.5778 & 1.191111 & 193.8044\\\\\n",
       "\t  8       & 135.0044 & 1.111111 & 190.1378\\\\\n",
       "\t  9       & 136.1956 & 1.306667 & 189.6267\\\\\n",
       "\t 10       & 143.9644 & 1.284444 & 201.8044\\\\\n",
       "\t 11       & 141.6089 & 1.262222 & 196.2933\\\\\n",
       "\t 12       & 133.6489 & 1.297778 & 190.9067\\\\\n",
       "\\end{tabular}\n"
      ],
      "text/markdown": [
       "\n",
       "| 월 | 발생건수 | 사망자수 | 부상자수 |\n",
       "|---|---|---|---|\n",
       "|  1       | 120.3911 | 1.248889 | 174.5956 |\n",
       "|  2       | 108.2000 | 1.088889 | 154.6800 |\n",
       "|  3       | 129.4933 | 1.164444 | 181.0311 |\n",
       "|  4       | 134.4711 | 1.164444 | 189.0311 |\n",
       "|  5       | 142.1644 | 1.182222 | 197.6622 |\n",
       "|  6       | 135.8044 | 1.177778 | 189.7778 |\n",
       "|  7       | 138.5778 | 1.191111 | 193.8044 |\n",
       "|  8       | 135.0044 | 1.111111 | 190.1378 |\n",
       "|  9       | 136.1956 | 1.306667 | 189.6267 |\n",
       "| 10       | 143.9644 | 1.284444 | 201.8044 |\n",
       "| 11       | 141.6089 | 1.262222 | 196.2933 |\n",
       "| 12       | 133.6489 | 1.297778 | 190.9067 |\n",
       "\n"
      ],
      "text/plain": [
       "   월 발생건수 사망자수 부상자수\n",
       "1   1 120.3911 1.248889 174.5956\n",
       "2   2 108.2000 1.088889 154.6800\n",
       "3   3 129.4933 1.164444 181.0311\n",
       "4   4 134.4711 1.164444 189.0311\n",
       "5   5 142.1644 1.182222 197.6622\n",
       "6   6 135.8044 1.177778 189.7778\n",
       "7   7 138.5778 1.191111 193.8044\n",
       "8   8 135.0044 1.111111 190.1378\n",
       "9   9 136.1956 1.306667 189.6267\n",
       "10 10 143.9644 1.284444 201.8044\n",
       "11 11 141.6089 1.262222 196.2933\n",
       "12 12 133.6489 1.297778 190.9067"
      ]
     },
     "metadata": {},
     "output_type": "display_data"
    }
   ],
   "source": [
    "month.mean"
   ]
  },
  {
   "cell_type": "code",
   "execution_count": 89,
   "id": "8188ad8c",
   "metadata": {},
   "outputs": [],
   "source": [
    "month.max = max(max(month.mean[,2:4]))\n",
    "month.min = min(min(month.mean[,2:4]))"
   ]
  },
  {
   "cell_type": "code",
   "execution_count": 90,
   "id": "f612a6ee",
   "metadata": {},
   "outputs": [
    {
     "data": {
      "image/png": "[encoded data removed]",
      "text/plain": [
       "plot without title"
      ]
     },
     "metadata": {},
     "output_type": "display_data"
    }
   ],
   "source": [
    "plot(month[,1], month.mean[,2],\n",
    "     type=\"l\",\n",
    "     ylim = c(month.min,month.max)\n",
    "    )\n",
    "lines(month[,1], month.mean[,3]\n",
    "    )\n",
    "lines(month[,1], month.mean[,4]\n",
    "    )"
   ]
  },
  {
   "cell_type": "code",
   "execution_count": 91,
   "id": "3175854a",
   "metadata": {},
   "outputs": [],
   "source": [
    "report <- read.csv(\"../Data/report.txt\", sep=\"\\t\")"
   ]
  },
  {
   "cell_type": "code",
   "execution_count": 92,
   "id": "b88fec43",
   "metadata": {},
   "outputs": [],
   "source": [
    "report <- report[2:length(report[,1]),c(1,3)]"
   ]
  },
  {
   "cell_type": "code",
   "execution_count": 93,
   "id": "f4921343",
   "metadata": {},
   "outputs": [],
   "source": [
    "library(stringr)"
   ]
  },
  {
   "cell_type": "code",
   "execution_count": 94,
   "id": "cec0e7e3",
   "metadata": {},
   "outputs": [
    {
     "name": "stdout",
     "output_type": "stream",
     "text": [
      "'data.frame':\t10 obs. of  2 variables:\n",
      " $ 기간: Factor w/ 10 levels \"2011\",\"2012\",..: 1 2 3 4 5 6 7 8 9 10\n",
      " $ 건수: num  1140876 903294 1264436 1867130 2426357 ...\n"
     ]
    }
   ],
   "source": [
    "rownames(report) <- c()\n",
    "report$기간 <- factor(report$기간)\n",
    "report$건수 <- as.numeric(str_remove_all(report$건수, \",\"))\n",
    "str(report)"
   ]
  },
  {
   "cell_type": "code",
   "execution_count": 95,
   "id": "a18d15b5",
   "metadata": {},
   "outputs": [
    {
     "data": {
      "text/html": [
       "<table>\n",
       "<thead><tr><th scope=col>기간</th><th scope=col>건수</th></tr></thead>\n",
       "<tbody>\n",
       "\t<tr><td>2011   </td><td>1140876</td></tr>\n",
       "\t<tr><td>2012   </td><td> 903294</td></tr>\n",
       "\t<tr><td>2013   </td><td>1264436</td></tr>\n",
       "\t<tr><td>2014   </td><td>1867130</td></tr>\n",
       "\t<tr><td>2015   </td><td>2426357</td></tr>\n",
       "\t<tr><td>2016   </td><td>2832342</td></tr>\n",
       "\t<tr><td>2017   </td><td>3562576</td></tr>\n",
       "\t<tr><td>2018   </td><td>2599624</td></tr>\n",
       "\t<tr><td>2019   </td><td>2492446</td></tr>\n",
       "\t<tr><td>2020   </td><td>2334843</td></tr>\n",
       "</tbody>\n",
       "</table>\n"
      ],
      "text/latex": [
       "\\begin{tabular}{r|ll}\n",
       " 기간 & 건수\\\\\n",
       "\\hline\n",
       "\t 2011    & 1140876\\\\\n",
       "\t 2012    &  903294\\\\\n",
       "\t 2013    & 1264436\\\\\n",
       "\t 2014    & 1867130\\\\\n",
       "\t 2015    & 2426357\\\\\n",
       "\t 2016    & 2832342\\\\\n",
       "\t 2017    & 3562576\\\\\n",
       "\t 2018    & 2599624\\\\\n",
       "\t 2019    & 2492446\\\\\n",
       "\t 2020    & 2334843\\\\\n",
       "\\end{tabular}\n"
      ],
      "text/markdown": [
       "\n",
       "| 기간 | 건수 |\n",
       "|---|---|\n",
       "| 2011    | 1140876 |\n",
       "| 2012    |  903294 |\n",
       "| 2013    | 1264436 |\n",
       "| 2014    | 1867130 |\n",
       "| 2015    | 2426357 |\n",
       "| 2016    | 2832342 |\n",
       "| 2017    | 3562576 |\n",
       "| 2018    | 2599624 |\n",
       "| 2019    | 2492446 |\n",
       "| 2020    | 2334843 |\n",
       "\n"
      ],
      "text/plain": [
       "   기간 건수   \n",
       "1  2011 1140876\n",
       "2  2012  903294\n",
       "3  2013 1264436\n",
       "4  2014 1867130\n",
       "5  2015 2426357\n",
       "6  2016 2832342\n",
       "7  2017 3562576\n",
       "8  2018 2599624\n",
       "9  2019 2492446\n",
       "10 2020 2334843"
      ]
     },
     "metadata": {},
     "output_type": "display_data"
    }
   ],
   "source": [
    "report"
   ]
  },
  {
   "cell_type": "code",
   "execution_count": 96,
   "id": "8c2d3eb0",
   "metadata": {},
   "outputs": [
    {
     "data": {
      "text/html": [
       "<strong>pdf:</strong> 2"
      ],
      "text/latex": [
       "\\textbf{pdf:} 2"
      ],
      "text/markdown": [
       "**pdf:** 2"
      ],
      "text/plain": [
       "pdf \n",
       "  2 "
      ]
     },
     "metadata": {},
     "output_type": "display_data"
    }
   ],
   "source": [
    "png(filename=\"ReportIllegal.png\")\n",
    "par(family = \"AppleGothic\")\n",
    "barplot(report[,2],\n",
    "        names=paste(report[,1],\"년\",sep = \"\"),\n",
    "        cex.name = 0.7,\n",
    "        main = \"서울시 자동차 단속현황\",\n",
    "        ylab = \"단속 적발 횟수\",\n",
    "        col = c(rep(\"blue\",6),\"red\",rep(\"blue\",3))\n",
    "    )\n",
    "dev.off()"
   ]
  },
  {
   "cell_type": "code",
   "execution_count": null,
   "id": "cde4691a",
   "metadata": {},
   "outputs": [],
   "source": []
  },
  {
   "cell_type": "code",
   "execution_count": null,
   "id": "f57a7180",
   "metadata": {},
   "outputs": [],
   "source": []
  },
  {
   "cell_type": "code",
   "execution_count": null,
   "id": "0812fdfb",
   "metadata": {},
   "outputs": [],
   "source": []
  },
  {
   "cell_type": "code",
   "execution_count": null,
   "id": "d7fe71d2",
   "metadata": {},
   "outputs": [],
   "source": []
  },
  {
   "cell_type": "code",
   "execution_count": null,
   "id": "97881bbd",
   "metadata": {},
   "outputs": [],
   "source": []
  }
 ],
 "metadata": {
  "kernelspec": {
   "display_name": "R",
   "language": "R",
   "name": "ir"
  },
  "language_info": {
   "codemirror_mode": "r",
   "file_extension": ".r",
   "mimetype": "text/x-r-source",
   "name": "R",
   "pygments_lexer": "r",
   "version": "3.6.1"
  }
 },
 "nbformat": 4,
 "nbformat_minor": 5
}
