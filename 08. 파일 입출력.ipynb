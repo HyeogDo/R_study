{
 "cells": [
  {
   "cell_type": "code",
   "execution_count": 1,
   "id": "ff59eaa0",
   "metadata": {},
   "outputs": [],
   "source": [
    "no <- 1:4\n",
    "name <- c(\"Apple\", \"Banana\", \"Peach\", \"Berry\")\n",
    "price <- c(500,200,200,50)\n",
    "qty <- c(5,4,3,2)"
   ]
  },
  {
   "cell_type": "code",
   "execution_count": 2,
   "id": "dc1df37e",
   "metadata": {},
   "outputs": [
    {
     "data": {
      "text/html": [
       "<table>\n",
       "<thead><tr><th scope=col>번호</th><th scope=col>제품</th><th scope=col>금액</th><th scope=col>수량</th></tr></thead>\n",
       "<tbody>\n",
       "\t<tr><td>1     </td><td>Apple </td><td>500   </td><td>5     </td></tr>\n",
       "\t<tr><td>2     </td><td>Banana</td><td>200   </td><td>4     </td></tr>\n",
       "\t<tr><td>3     </td><td>Peach </td><td>200   </td><td>3     </td></tr>\n",
       "\t<tr><td>4     </td><td>Berry </td><td> 50   </td><td>2     </td></tr>\n",
       "</tbody>\n",
       "</table>\n"
      ],
      "text/latex": [
       "\\begin{tabular}{r|llll}\n",
       " 번호 & 제품 & 금액 & 수량\\\\\n",
       "\\hline\n",
       "\t 1      & Apple  & 500    & 5     \\\\\n",
       "\t 2      & Banana & 200    & 4     \\\\\n",
       "\t 3      & Peach  & 200    & 3     \\\\\n",
       "\t 4      & Berry  &  50    & 2     \\\\\n",
       "\\end{tabular}\n"
      ],
      "text/markdown": [
       "\n",
       "| 번호 | 제품 | 금액 | 수량 |\n",
       "|---|---|---|---|\n",
       "| 1      | Apple  | 500    | 5      |\n",
       "| 2      | Banana | 200    | 4      |\n",
       "| 3      | Peach  | 200    | 3      |\n",
       "| 4      | Berry  |  50    | 2      |\n",
       "\n"
      ],
      "text/plain": [
       "  번호 제품   금액 수량\n",
       "1 1    Apple  500  5   \n",
       "2 2    Banana 200  4   \n",
       "3 3    Peach  200  3   \n",
       "4 4    Berry   50  2   "
      ]
     },
     "metadata": {},
     "output_type": "display_data"
    }
   ],
   "source": [
    "# 벡터를 이용하여 데이터 프레임 만들기\n",
    "\n",
    "fruit <- data.frame(번호 = no, 제품 = name, 금액 = price, 수량 = qty)\n",
    "fruit"
   ]
  },
  {
   "cell_type": "code",
   "execution_count": 3,
   "id": "9169712e",
   "metadata": {},
   "outputs": [
    {
     "data": {
      "text/html": [
       "<ol class=list-inline>\n",
       "\t<li>'fruit'</li>\n",
       "\t<li>'name'</li>\n",
       "\t<li>'no'</li>\n",
       "\t<li>'price'</li>\n",
       "\t<li>'qty'</li>\n",
       "</ol>\n"
      ],
      "text/latex": [
       "\\begin{enumerate*}\n",
       "\\item 'fruit'\n",
       "\\item 'name'\n",
       "\\item 'no'\n",
       "\\item 'price'\n",
       "\\item 'qty'\n",
       "\\end{enumerate*}\n"
      ],
      "text/markdown": [
       "1. 'fruit'\n",
       "2. 'name'\n",
       "3. 'no'\n",
       "4. 'price'\n",
       "5. 'qty'\n",
       "\n",
       "\n"
      ],
      "text/plain": [
       "[1] \"fruit\" \"name\"  \"no\"    \"price\" \"qty\"  "
      ]
     },
     "metadata": {},
     "output_type": "display_data"
    }
   ],
   "source": [
    "# 현재 메모리에 있는 변수 보기\n",
    "\n",
    "ls()"
   ]
  },
  {
   "cell_type": "code",
   "execution_count": 4,
   "id": "16c8af94",
   "metadata": {},
   "outputs": [],
   "source": [
    "# 메모리 형태로 파일 보관\n",
    "\n",
    "save(no,fruit,name, file= \"../Data/testFruit.txt\")"
   ]
  },
  {
   "cell_type": "code",
   "execution_count": 5,
   "id": "4fa23e5d",
   "metadata": {},
   "outputs": [],
   "source": [
    "rm(no, fruit, name)"
   ]
  },
  {
   "cell_type": "code",
   "execution_count": 6,
   "id": "29bde4a4",
   "metadata": {},
   "outputs": [
    {
     "data": {
      "text/html": [
       "<ol class=list-inline>\n",
       "\t<li>'price'</li>\n",
       "\t<li>'qty'</li>\n",
       "</ol>\n"
      ],
      "text/latex": [
       "\\begin{enumerate*}\n",
       "\\item 'price'\n",
       "\\item 'qty'\n",
       "\\end{enumerate*}\n"
      ],
      "text/markdown": [
       "1. 'price'\n",
       "2. 'qty'\n",
       "\n",
       "\n"
      ],
      "text/plain": [
       "[1] \"price\" \"qty\"  "
      ]
     },
     "metadata": {},
     "output_type": "display_data"
    }
   ],
   "source": [
    "ls()"
   ]
  },
  {
   "cell_type": "code",
   "execution_count": 7,
   "id": "67625bbd",
   "metadata": {},
   "outputs": [],
   "source": [
    "# 메모리로 불러오기\n",
    "load(\"../Data//testFruit.txt\")"
   ]
  },
  {
   "cell_type": "code",
   "execution_count": 8,
   "id": "df0a6b31",
   "metadata": {},
   "outputs": [
    {
     "data": {
      "text/html": [
       "<table>\n",
       "<thead><tr><th scope=col>번호</th><th scope=col>제품</th><th scope=col>금액</th><th scope=col>수량</th></tr></thead>\n",
       "<tbody>\n",
       "\t<tr><td>1     </td><td>Apple </td><td>500   </td><td>5     </td></tr>\n",
       "\t<tr><td>2     </td><td>Banana</td><td>200   </td><td>4     </td></tr>\n",
       "\t<tr><td>3     </td><td>Peach </td><td>200   </td><td>3     </td></tr>\n",
       "\t<tr><td>4     </td><td>Berry </td><td> 50   </td><td>2     </td></tr>\n",
       "</tbody>\n",
       "</table>\n"
      ],
      "text/latex": [
       "\\begin{tabular}{r|llll}\n",
       " 번호 & 제품 & 금액 & 수량\\\\\n",
       "\\hline\n",
       "\t 1      & Apple  & 500    & 5     \\\\\n",
       "\t 2      & Banana & 200    & 4     \\\\\n",
       "\t 3      & Peach  & 200    & 3     \\\\\n",
       "\t 4      & Berry  &  50    & 2     \\\\\n",
       "\\end{tabular}\n"
      ],
      "text/markdown": [
       "\n",
       "| 번호 | 제품 | 금액 | 수량 |\n",
       "|---|---|---|---|\n",
       "| 1      | Apple  | 500    | 5      |\n",
       "| 2      | Banana | 200    | 4      |\n",
       "| 3      | Peach  | 200    | 3      |\n",
       "| 4      | Berry  |  50    | 2      |\n",
       "\n"
      ],
      "text/plain": [
       "  번호 제품   금액 수량\n",
       "1 1    Apple  500  5   \n",
       "2 2    Banana 200  4   \n",
       "3 3    Peach  200  3   \n",
       "4 4    Berry   50  2   "
      ]
     },
     "metadata": {},
     "output_type": "display_data"
    }
   ],
   "source": [
    "fruit"
   ]
  },
  {
   "cell_type": "code",
   "execution_count": 9,
   "id": "b548a2cf",
   "metadata": {},
   "outputs": [
    {
     "data": {
      "text/html": [
       "<ol class=list-inline>\n",
       "\t<li>'fruit'</li>\n",
       "\t<li>'name'</li>\n",
       "\t<li>'no'</li>\n",
       "\t<li>'price'</li>\n",
       "\t<li>'qty'</li>\n",
       "</ol>\n"
      ],
      "text/latex": [
       "\\begin{enumerate*}\n",
       "\\item 'fruit'\n",
       "\\item 'name'\n",
       "\\item 'no'\n",
       "\\item 'price'\n",
       "\\item 'qty'\n",
       "\\end{enumerate*}\n"
      ],
      "text/markdown": [
       "1. 'fruit'\n",
       "2. 'name'\n",
       "3. 'no'\n",
       "4. 'price'\n",
       "5. 'qty'\n",
       "\n",
       "\n"
      ],
      "text/plain": [
       "[1] \"fruit\" \"name\"  \"no\"    \"price\" \"qty\"  "
      ]
     },
     "metadata": {},
     "output_type": "display_data"
    }
   ],
   "source": [
    "ls()"
   ]
  },
  {
   "cell_type": "code",
   "execution_count": 10,
   "id": "6bdc0ec4",
   "metadata": {},
   "outputs": [],
   "source": [
    "# fruit를 csv로 저장하기\n",
    "\n",
    "write.csv(fruit, file=\"../Data/fruit.csv\")"
   ]
  },
  {
   "cell_type": "code",
   "execution_count": 11,
   "id": "16562646",
   "metadata": {},
   "outputs": [],
   "source": [
    "fruit2 <- read.csv(\"../Data/fruit.csv\")"
   ]
  },
  {
   "cell_type": "code",
   "execution_count": 12,
   "id": "ab2360a3",
   "metadata": {},
   "outputs": [],
   "source": [
    "write.csv(fruit2,\"../Data/fruit2.csv\")"
   ]
  },
  {
   "cell_type": "code",
   "execution_count": 13,
   "id": "13a864fc",
   "metadata": {},
   "outputs": [
    {
     "data": {
      "text/html": [
       "<table>\n",
       "<thead><tr><th scope=col>X.1</th><th scope=col>X</th><th scope=col>번호</th><th scope=col>제품</th><th scope=col>금액</th><th scope=col>수량</th></tr></thead>\n",
       "<tbody>\n",
       "\t<tr><td>1     </td><td>1     </td><td>1     </td><td>Apple </td><td>500   </td><td>5     </td></tr>\n",
       "\t<tr><td>2     </td><td>2     </td><td>2     </td><td>Banana</td><td>200   </td><td>4     </td></tr>\n",
       "\t<tr><td>3     </td><td>3     </td><td>3     </td><td>Peach </td><td>200   </td><td>3     </td></tr>\n",
       "\t<tr><td>4     </td><td>4     </td><td>4     </td><td>Berry </td><td> 50   </td><td>2     </td></tr>\n",
       "</tbody>\n",
       "</table>\n"
      ],
      "text/latex": [
       "\\begin{tabular}{r|llllll}\n",
       " X.1 & X & 번호 & 제품 & 금액 & 수량\\\\\n",
       "\\hline\n",
       "\t 1      & 1      & 1      & Apple  & 500    & 5     \\\\\n",
       "\t 2      & 2      & 2      & Banana & 200    & 4     \\\\\n",
       "\t 3      & 3      & 3      & Peach  & 200    & 3     \\\\\n",
       "\t 4      & 4      & 4      & Berry  &  50    & 2     \\\\\n",
       "\\end{tabular}\n"
      ],
      "text/markdown": [
       "\n",
       "| X.1 | X | 번호 | 제품 | 금액 | 수량 |\n",
       "|---|---|---|---|---|---|\n",
       "| 1      | 1      | 1      | Apple  | 500    | 5      |\n",
       "| 2      | 2      | 2      | Banana | 200    | 4      |\n",
       "| 3      | 3      | 3      | Peach  | 200    | 3      |\n",
       "| 4      | 4      | 4      | Berry  |  50    | 2      |\n",
       "\n"
      ],
      "text/plain": [
       "  X.1 X 번호 제품   금액 수량\n",
       "1 1   1 1    Apple  500  5   \n",
       "2 2   2 2    Banana 200  4   \n",
       "3 3   3 3    Peach  200  3   \n",
       "4 4   4 4    Berry   50  2   "
      ]
     },
     "metadata": {},
     "output_type": "display_data"
    }
   ],
   "source": [
    "read.csv(\"../Data/fruit2.csv\")"
   ]
  },
  {
   "cell_type": "markdown",
   "id": "813a0dee",
   "metadata": {},
   "source": [
    "---"
   ]
  },
  {
   "cell_type": "code",
   "execution_count": 14,
   "id": "2c450e45",
   "metadata": {},
   "outputs": [],
   "source": [
    "# 저장시 주의 사항 : row names가 필요치 않으면 저장하지 말아야 한다.\n",
    "#write.csv(fruit, file=\"../Data/fruit.csv\", row.names)"
   ]
  },
  {
   "cell_type": "code",
   "execution_count": 15,
   "id": "9c28af4d",
   "metadata": {
    "scrolled": true
   },
   "outputs": [
    {
     "data": {
      "text/html": [
       "<table>\n",
       "<thead><tr><th scope=col>X</th><th scope=col>번호</th><th scope=col>제품</th><th scope=col>금액</th><th scope=col>수량</th></tr></thead>\n",
       "<tbody>\n",
       "\t<tr><td>1     </td><td>1     </td><td>Apple </td><td>500   </td><td>5     </td></tr>\n",
       "\t<tr><td>2     </td><td>2     </td><td>Banana</td><td>200   </td><td>4     </td></tr>\n",
       "\t<tr><td>3     </td><td>3     </td><td>Peach </td><td>200   </td><td>3     </td></tr>\n",
       "\t<tr><td>4     </td><td>4     </td><td>Berry </td><td> 50   </td><td>2     </td></tr>\n",
       "</tbody>\n",
       "</table>\n"
      ],
      "text/latex": [
       "\\begin{tabular}{r|lllll}\n",
       " X & 번호 & 제품 & 금액 & 수량\\\\\n",
       "\\hline\n",
       "\t 1      & 1      & Apple  & 500    & 5     \\\\\n",
       "\t 2      & 2      & Banana & 200    & 4     \\\\\n",
       "\t 3      & 3      & Peach  & 200    & 3     \\\\\n",
       "\t 4      & 4      & Berry  &  50    & 2     \\\\\n",
       "\\end{tabular}\n"
      ],
      "text/markdown": [
       "\n",
       "| X | 번호 | 제품 | 금액 | 수량 |\n",
       "|---|---|---|---|---|\n",
       "| 1      | 1      | Apple  | 500    | 5      |\n",
       "| 2      | 2      | Banana | 200    | 4      |\n",
       "| 3      | 3      | Peach  | 200    | 3      |\n",
       "| 4      | 4      | Berry  |  50    | 2      |\n",
       "\n"
      ],
      "text/plain": [
       "  X 번호 제품   금액 수량\n",
       "1 1 1    Apple  500  5   \n",
       "2 2 2    Banana 200  4   \n",
       "3 3 3    Peach  200  3   \n",
       "4 4 4    Berry   50  2   "
      ]
     },
     "metadata": {},
     "output_type": "display_data"
    }
   ],
   "source": [
    "read.csv(\"../Data/fruit.csv\")"
   ]
  },
  {
   "cell_type": "markdown",
   "id": "6958c3b5",
   "metadata": {},
   "source": [
    "---\n",
    "# 세계 GDP 순위 데이터 정제 및 차트 만들기"
   ]
  },
  {
   "cell_type": "code",
   "execution_count": 16,
   "id": "d2d0c70e",
   "metadata": {},
   "outputs": [],
   "source": [
    "# Data Set 불러오기\n",
    "GDP_ranking <- read.csv(\"../Data//GDP.csv\")"
   ]
  },
  {
   "cell_type": "code",
   "execution_count": 17,
   "id": "d992c635",
   "metadata": {},
   "outputs": [
    {
     "data": {
      "text/html": [
       "<table>\n",
       "<thead><tr><th scope=col>X</th><th scope=col>Gross.domestic.product.2018</th><th scope=col>X.1</th><th scope=col>X.2</th><th scope=col>X.3</th><th scope=col>X.4</th></tr></thead>\n",
       "<tbody>\n",
       "\t<tr><td>             </td><td>             </td><td>NA           </td><td>             </td><td>             </td><td>             </td></tr>\n",
       "\t<tr><td>             </td><td>             </td><td>NA           </td><td>             </td><td>(millions of </td><td>             </td></tr>\n",
       "\t<tr><td>             </td><td>Ranking      </td><td>NA           </td><td>Economy      </td><td>US dollars)  </td><td>             </td></tr>\n",
       "\t<tr><td>             </td><td>             </td><td>NA           </td><td>             </td><td>             </td><td>             </td></tr>\n",
       "\t<tr><td>USA          </td><td>1            </td><td>NA           </td><td>United States</td><td> 20,494,100  </td><td>             </td></tr>\n",
       "\t<tr><td>CHN          </td><td>2            </td><td>NA           </td><td>China        </td><td> 13,608,152  </td><td>             </td></tr>\n",
       "</tbody>\n",
       "</table>\n"
      ],
      "text/latex": [
       "\\begin{tabular}{r|llllll}\n",
       " X & Gross.domestic.product.2018 & X.1 & X.2 & X.3 & X.4\\\\\n",
       "\\hline\n",
       "\t               &               & NA            &               &               &              \\\\\n",
       "\t               &               & NA            &               & (millions of  &              \\\\\n",
       "\t               & Ranking       & NA            & Economy       & US dollars)   &              \\\\\n",
       "\t               &               & NA            &               &               &              \\\\\n",
       "\t USA           & 1             & NA            & United States &  20,494,100   &              \\\\\n",
       "\t CHN           & 2             & NA            & China         &  13,608,152   &              \\\\\n",
       "\\end{tabular}\n"
      ],
      "text/markdown": [
       "\n",
       "| X | Gross.domestic.product.2018 | X.1 | X.2 | X.3 | X.4 |\n",
       "|---|---|---|---|---|---|\n",
       "|               |               | NA            |               |               |               |\n",
       "|               |               | NA            |               | (millions of  |               |\n",
       "|               | Ranking       | NA            | Economy       | US dollars)   |               |\n",
       "|               |               | NA            |               |               |               |\n",
       "| USA           | 1             | NA            | United States |  20,494,100   |               |\n",
       "| CHN           | 2             | NA            | China         |  13,608,152   |               |\n",
       "\n"
      ],
      "text/plain": [
       "  X   Gross.domestic.product.2018 X.1 X.2           X.3          X.4\n",
       "1                                 NA                                \n",
       "2                                 NA                (millions of    \n",
       "3     Ranking                     NA  Economy       US dollars)     \n",
       "4                                 NA                                \n",
       "5 USA 1                           NA  United States  20,494,100     \n",
       "6 CHN 2                           NA  China          13,608,152     "
      ]
     },
     "metadata": {},
     "output_type": "display_data"
    }
   ],
   "source": [
    "head(GDP_ranking)"
   ]
  },
  {
   "cell_type": "code",
   "execution_count": 18,
   "id": "cca0119d",
   "metadata": {},
   "outputs": [
    {
     "data": {
      "text/html": [
       "<table>\n",
       "<thead><tr><th></th><th scope=col>X</th><th scope=col>Gross.domestic.product.2018</th><th scope=col>X.1</th><th scope=col>X.2</th><th scope=col>X.3</th><th scope=col>X.4</th></tr></thead>\n",
       "<tbody>\n",
       "\t<tr><th scope=row>323</th><td>  </td><td>  </td><td>NA</td><td>  </td><td>  </td><td>  </td></tr>\n",
       "\t<tr><th scope=row>324</th><td>  </td><td>  </td><td>NA</td><td>  </td><td>  </td><td>  </td></tr>\n",
       "\t<tr><th scope=row>325</th><td>  </td><td>  </td><td>NA</td><td>  </td><td>  </td><td>  </td></tr>\n",
       "\t<tr><th scope=row>326</th><td>  </td><td>  </td><td>NA</td><td>  </td><td>  </td><td>  </td></tr>\n",
       "\t<tr><th scope=row>327</th><td>  </td><td>  </td><td>NA</td><td>  </td><td>  </td><td>  </td></tr>\n",
       "\t<tr><th scope=row>328</th><td>  </td><td>  </td><td>NA</td><td>  </td><td>  </td><td>  </td></tr>\n",
       "</tbody>\n",
       "</table>\n"
      ],
      "text/latex": [
       "\\begin{tabular}{r|llllll}\n",
       "  & X & Gross.domestic.product.2018 & X.1 & X.2 & X.3 & X.4\\\\\n",
       "\\hline\n",
       "\t323 &    &    & NA &    &    &   \\\\\n",
       "\t324 &    &    & NA &    &    &   \\\\\n",
       "\t325 &    &    & NA &    &    &   \\\\\n",
       "\t326 &    &    & NA &    &    &   \\\\\n",
       "\t327 &    &    & NA &    &    &   \\\\\n",
       "\t328 &    &    & NA &    &    &   \\\\\n",
       "\\end{tabular}\n"
      ],
      "text/markdown": [
       "\n",
       "| <!--/--> | X | Gross.domestic.product.2018 | X.1 | X.2 | X.3 | X.4 |\n",
       "|---|---|---|---|---|---|---|\n",
       "| 323 |    |    | NA |    |    |    |\n",
       "| 324 |    |    | NA |    |    |    |\n",
       "| 325 |    |    | NA |    |    |    |\n",
       "| 326 |    |    | NA |    |    |    |\n",
       "| 327 |    |    | NA |    |    |    |\n",
       "| 328 |    |    | NA |    |    |    |\n",
       "\n"
      ],
      "text/plain": [
       "    X Gross.domestic.product.2018 X.1 X.2 X.3 X.4\n",
       "323                               NA             \n",
       "324                               NA             \n",
       "325                               NA             \n",
       "326                               NA             \n",
       "327                               NA             \n",
       "328                               NA             "
      ]
     },
     "metadata": {},
     "output_type": "display_data"
    }
   ],
   "source": [
    "tail(GDP_ranking)"
   ]
  },
  {
   "cell_type": "code",
   "execution_count": 19,
   "id": "a9609668",
   "metadata": {},
   "outputs": [
    {
     "name": "stdout",
     "output_type": "stream",
     "text": [
      "'data.frame':\t328 obs. of  6 variables:\n",
      " $ X                          : Factor w/ 230 levels \"\",\"ABW\",\"AFG\",..: 1 1 1 1 216 38 103 52 72 68 ...\n",
      " $ Gross.domestic.product.2018: Factor w/ 212 levels \"\",\".. Not available.  \",..: 1 1 212 1 3 114 131 142 153 164 ...\n",
      " $ X.1                        : logi  NA NA NA NA NA NA ...\n",
      " $ X.2                        : Factor w/ 231 levels \"\",\"Afghanistan\",..: 1 1 60 1 219 43 104 78 218 73 ...\n",
      " $ X.3                        : Factor w/ 220 levels \"\",\" .. \",\" 1,022 \",..: 1 207 220 1 78 44 137 113 77 75 ...\n",
      " $ X.4                        : Factor w/ 8 levels \"\",\"a\",\"b\",\"c\",..: 1 1 1 1 1 1 1 1 1 1 ...\n"
     ]
    }
   ],
   "source": [
    "str(GDP_ranking)"
   ]
  },
  {
   "cell_type": "code",
   "execution_count": 20,
   "id": "85576f3e",
   "metadata": {},
   "outputs": [
    {
     "data": {
      "text/html": [
       "<table>\n",
       "<thead><tr><th></th><th scope=col>X</th><th scope=col>Gross.domestic.product.2018</th><th scope=col>X.2</th><th scope=col>X.3</th></tr></thead>\n",
       "<tbody>\n",
       "\t<tr><th scope=row>5</th><td>USA           </td><td>1             </td><td>United States </td><td> 20,494,100   </td></tr>\n",
       "\t<tr><th scope=row>6</th><td>CHN           </td><td>2             </td><td>China         </td><td> 13,608,152   </td></tr>\n",
       "\t<tr><th scope=row>7</th><td>JPN           </td><td>3             </td><td>Japan         </td><td> 4,970,916    </td></tr>\n",
       "\t<tr><th scope=row>8</th><td>DEU           </td><td>4             </td><td>Germany       </td><td> 3,996,759    </td></tr>\n",
       "\t<tr><th scope=row>9</th><td>GBR           </td><td>5             </td><td>United Kingdom</td><td> 2,825,208    </td></tr>\n",
       "\t<tr><th scope=row>10</th><td>FRA           </td><td>6             </td><td>France        </td><td> 2,777,535    </td></tr>\n",
       "</tbody>\n",
       "</table>\n"
      ],
      "text/latex": [
       "\\begin{tabular}{r|llll}\n",
       "  & X & Gross.domestic.product.2018 & X.2 & X.3\\\\\n",
       "\\hline\n",
       "\t5 & USA            & 1              & United States  &  20,494,100   \\\\\n",
       "\t6 & CHN            & 2              & China          &  13,608,152   \\\\\n",
       "\t7 & JPN            & 3              & Japan          &  4,970,916    \\\\\n",
       "\t8 & DEU            & 4              & Germany        &  3,996,759    \\\\\n",
       "\t9 & GBR            & 5              & United Kingdom &  2,825,208    \\\\\n",
       "\t10 & FRA            & 6              & France         &  2,777,535    \\\\\n",
       "\\end{tabular}\n"
      ],
      "text/markdown": [
       "\n",
       "| <!--/--> | X | Gross.domestic.product.2018 | X.2 | X.3 |\n",
       "|---|---|---|---|---|\n",
       "| 5 | USA            | 1              | United States  |  20,494,100    |\n",
       "| 6 | CHN            | 2              | China          |  13,608,152    |\n",
       "| 7 | JPN            | 3              | Japan          |  4,970,916     |\n",
       "| 8 | DEU            | 4              | Germany        |  3,996,759     |\n",
       "| 9 | GBR            | 5              | United Kingdom |  2,825,208     |\n",
       "| 10 | FRA            | 6              | France         |  2,777,535     |\n",
       "\n"
      ],
      "text/plain": [
       "   X   Gross.domestic.product.2018 X.2            X.3         \n",
       "5  USA 1                           United States   20,494,100 \n",
       "6  CHN 2                           China           13,608,152 \n",
       "7  JPN 3                           Japan           4,970,916  \n",
       "8  DEU 4                           Germany         3,996,759  \n",
       "9  GBR 5                           United Kingdom  2,825,208  \n",
       "10 FRA 6                           France          2,777,535  "
      ]
     },
     "metadata": {},
     "output_type": "display_data"
    }
   ],
   "source": [
    "# 1~4 줄 삭제, 3,6 컬럼 삭제\n",
    "\n",
    "GDP_ranking2 <- GDP_ranking[-c(1:4),-c(3,6)]\n",
    "head(GDP_ranking2)"
   ]
  },
  {
   "cell_type": "code",
   "execution_count": 21,
   "id": "b10e8ee4",
   "metadata": {},
   "outputs": [
    {
     "data": {
      "text/html": [
       "<table>\n",
       "<thead><tr><th></th><th scope=col>X</th><th scope=col>Gross.domestic.product.2018</th><th scope=col>X.2</th><th scope=col>X.3</th></tr></thead>\n",
       "<tbody>\n",
       "\t<tr><th scope=row>5</th><td>USA               </td><td>1                 </td><td>United States     </td><td> 20,494,100       </td></tr>\n",
       "\t<tr><th scope=row>6</th><td>CHN               </td><td>2                 </td><td>China             </td><td> 13,608,152       </td></tr>\n",
       "\t<tr><th scope=row>7</th><td>JPN               </td><td>3                 </td><td>Japan             </td><td> 4,970,916        </td></tr>\n",
       "\t<tr><th scope=row>8</th><td>DEU               </td><td>4                 </td><td>Germany           </td><td> 3,996,759        </td></tr>\n",
       "\t<tr><th scope=row>9</th><td>GBR               </td><td>5                 </td><td>United Kingdom    </td><td> 2,825,208        </td></tr>\n",
       "\t<tr><th scope=row>10</th><td>FRA               </td><td>6                 </td><td>France            </td><td> 2,777,535        </td></tr>\n",
       "\t<tr><th scope=row>11</th><td>IND               </td><td>7                 </td><td>India             </td><td> 2,726,323        </td></tr>\n",
       "\t<tr><th scope=row>12</th><td>ITA               </td><td>8                 </td><td>Italy             </td><td> 2,073,902        </td></tr>\n",
       "\t<tr><th scope=row>13</th><td>BRA               </td><td>9                 </td><td>Brazil            </td><td> 1,868,626        </td></tr>\n",
       "\t<tr><th scope=row>14</th><td>CAN               </td><td>10                </td><td>Canada            </td><td> 1,712,510        </td></tr>\n",
       "\t<tr><th scope=row>15</th><td>RUS               </td><td>11                </td><td>Russian Federation</td><td> 1,657,554        </td></tr>\n",
       "\t<tr><th scope=row>16</th><td>KOR               </td><td>12                </td><td>Korea, Rep.       </td><td> 1,619,424        </td></tr>\n",
       "\t<tr><th scope=row>17</th><td>AUS               </td><td>13                </td><td>Australia         </td><td> 1,432,195        </td></tr>\n",
       "\t<tr><th scope=row>18</th><td>ESP               </td><td>14                </td><td>Spain             </td><td> 1,426,189        </td></tr>\n",
       "\t<tr><th scope=row>19</th><td>MEX               </td><td>15                </td><td>Mexico            </td><td> 1,223,809        </td></tr>\n",
       "</tbody>\n",
       "</table>\n"
      ],
      "text/latex": [
       "\\begin{tabular}{r|llll}\n",
       "  & X & Gross.domestic.product.2018 & X.2 & X.3\\\\\n",
       "\\hline\n",
       "\t5 & USA                & 1                  & United States      &  20,494,100       \\\\\n",
       "\t6 & CHN                & 2                  & China              &  13,608,152       \\\\\n",
       "\t7 & JPN                & 3                  & Japan              &  4,970,916        \\\\\n",
       "\t8 & DEU                & 4                  & Germany            &  3,996,759        \\\\\n",
       "\t9 & GBR                & 5                  & United Kingdom     &  2,825,208        \\\\\n",
       "\t10 & FRA                & 6                  & France             &  2,777,535        \\\\\n",
       "\t11 & IND                & 7                  & India              &  2,726,323        \\\\\n",
       "\t12 & ITA                & 8                  & Italy              &  2,073,902        \\\\\n",
       "\t13 & BRA                & 9                  & Brazil             &  1,868,626        \\\\\n",
       "\t14 & CAN                & 10                 & Canada             &  1,712,510        \\\\\n",
       "\t15 & RUS                & 11                 & Russian Federation &  1,657,554        \\\\\n",
       "\t16 & KOR                & 12                 & Korea, Rep.        &  1,619,424        \\\\\n",
       "\t17 & AUS                & 13                 & Australia          &  1,432,195        \\\\\n",
       "\t18 & ESP                & 14                 & Spain              &  1,426,189        \\\\\n",
       "\t19 & MEX                & 15                 & Mexico             &  1,223,809        \\\\\n",
       "\\end{tabular}\n"
      ],
      "text/markdown": [
       "\n",
       "| <!--/--> | X | Gross.domestic.product.2018 | X.2 | X.3 |\n",
       "|---|---|---|---|---|\n",
       "| 5 | USA                | 1                  | United States      |  20,494,100        |\n",
       "| 6 | CHN                | 2                  | China              |  13,608,152        |\n",
       "| 7 | JPN                | 3                  | Japan              |  4,970,916         |\n",
       "| 8 | DEU                | 4                  | Germany            |  3,996,759         |\n",
       "| 9 | GBR                | 5                  | United Kingdom     |  2,825,208         |\n",
       "| 10 | FRA                | 6                  | France             |  2,777,535         |\n",
       "| 11 | IND                | 7                  | India              |  2,726,323         |\n",
       "| 12 | ITA                | 8                  | Italy              |  2,073,902         |\n",
       "| 13 | BRA                | 9                  | Brazil             |  1,868,626         |\n",
       "| 14 | CAN                | 10                 | Canada             |  1,712,510         |\n",
       "| 15 | RUS                | 11                 | Russian Federation |  1,657,554         |\n",
       "| 16 | KOR                | 12                 | Korea, Rep.        |  1,619,424         |\n",
       "| 17 | AUS                | 13                 | Australia          |  1,432,195         |\n",
       "| 18 | ESP                | 14                 | Spain              |  1,426,189         |\n",
       "| 19 | MEX                | 15                 | Mexico             |  1,223,809         |\n",
       "\n"
      ],
      "text/plain": [
       "   X   Gross.domestic.product.2018 X.2                X.3         \n",
       "5  USA 1                           United States       20,494,100 \n",
       "6  CHN 2                           China               13,608,152 \n",
       "7  JPN 3                           Japan               4,970,916  \n",
       "8  DEU 4                           Germany             3,996,759  \n",
       "9  GBR 5                           United Kingdom      2,825,208  \n",
       "10 FRA 6                           France              2,777,535  \n",
       "11 IND 7                           India               2,726,323  \n",
       "12 ITA 8                           Italy               2,073,902  \n",
       "13 BRA 9                           Brazil              1,868,626  \n",
       "14 CAN 10                          Canada              1,712,510  \n",
       "15 RUS 11                          Russian Federation  1,657,554  \n",
       "16 KOR 12                          Korea, Rep.         1,619,424  \n",
       "17 AUS 13                          Australia           1,432,195  \n",
       "18 ESP 14                          Spain               1,426,189  \n",
       "19 MEX 15                          Mexico              1,223,809  "
      ]
     },
     "metadata": {},
     "output_type": "display_data"
    }
   ],
   "source": [
    "# 상위 15개국만 선별한다\n",
    "\n",
    "GDP_ranking15 <- GDP_ranking2[1:15,]\n",
    "GDP_ranking15"
   ]
  },
  {
   "cell_type": "code",
   "execution_count": 22,
   "id": "3656d145",
   "metadata": {},
   "outputs": [
    {
     "data": {
      "text/html": [
       "<table>\n",
       "<thead><tr><th></th><th scope=col>Code</th><th scope=col>Ranking</th><th scope=col>Nation</th><th scope=col>GDP</th></tr></thead>\n",
       "<tbody>\n",
       "\t<tr><th scope=row>5</th><td>USA               </td><td>1                 </td><td>United States     </td><td> 20,494,100       </td></tr>\n",
       "\t<tr><th scope=row>6</th><td>CHN               </td><td>2                 </td><td>China             </td><td> 13,608,152       </td></tr>\n",
       "\t<tr><th scope=row>7</th><td>JPN               </td><td>3                 </td><td>Japan             </td><td> 4,970,916        </td></tr>\n",
       "\t<tr><th scope=row>8</th><td>DEU               </td><td>4                 </td><td>Germany           </td><td> 3,996,759        </td></tr>\n",
       "\t<tr><th scope=row>9</th><td>GBR               </td><td>5                 </td><td>United Kingdom    </td><td> 2,825,208        </td></tr>\n",
       "\t<tr><th scope=row>10</th><td>FRA               </td><td>6                 </td><td>France            </td><td> 2,777,535        </td></tr>\n",
       "\t<tr><th scope=row>11</th><td>IND               </td><td>7                 </td><td>India             </td><td> 2,726,323        </td></tr>\n",
       "\t<tr><th scope=row>12</th><td>ITA               </td><td>8                 </td><td>Italy             </td><td> 2,073,902        </td></tr>\n",
       "\t<tr><th scope=row>13</th><td>BRA               </td><td>9                 </td><td>Brazil            </td><td> 1,868,626        </td></tr>\n",
       "\t<tr><th scope=row>14</th><td>CAN               </td><td>10                </td><td>Canada            </td><td> 1,712,510        </td></tr>\n",
       "\t<tr><th scope=row>15</th><td>RUS               </td><td>11                </td><td>Russian Federation</td><td> 1,657,554        </td></tr>\n",
       "\t<tr><th scope=row>16</th><td>KOR               </td><td>12                </td><td>Korea, Rep.       </td><td> 1,619,424        </td></tr>\n",
       "\t<tr><th scope=row>17</th><td>AUS               </td><td>13                </td><td>Australia         </td><td> 1,432,195        </td></tr>\n",
       "\t<tr><th scope=row>18</th><td>ESP               </td><td>14                </td><td>Spain             </td><td> 1,426,189        </td></tr>\n",
       "\t<tr><th scope=row>19</th><td>MEX               </td><td>15                </td><td>Mexico            </td><td> 1,223,809        </td></tr>\n",
       "</tbody>\n",
       "</table>\n"
      ],
      "text/latex": [
       "\\begin{tabular}{r|llll}\n",
       "  & Code & Ranking & Nation & GDP\\\\\n",
       "\\hline\n",
       "\t5 & USA                & 1                  & United States      &  20,494,100       \\\\\n",
       "\t6 & CHN                & 2                  & China              &  13,608,152       \\\\\n",
       "\t7 & JPN                & 3                  & Japan              &  4,970,916        \\\\\n",
       "\t8 & DEU                & 4                  & Germany            &  3,996,759        \\\\\n",
       "\t9 & GBR                & 5                  & United Kingdom     &  2,825,208        \\\\\n",
       "\t10 & FRA                & 6                  & France             &  2,777,535        \\\\\n",
       "\t11 & IND                & 7                  & India              &  2,726,323        \\\\\n",
       "\t12 & ITA                & 8                  & Italy              &  2,073,902        \\\\\n",
       "\t13 & BRA                & 9                  & Brazil             &  1,868,626        \\\\\n",
       "\t14 & CAN                & 10                 & Canada             &  1,712,510        \\\\\n",
       "\t15 & RUS                & 11                 & Russian Federation &  1,657,554        \\\\\n",
       "\t16 & KOR                & 12                 & Korea, Rep.        &  1,619,424        \\\\\n",
       "\t17 & AUS                & 13                 & Australia          &  1,432,195        \\\\\n",
       "\t18 & ESP                & 14                 & Spain              &  1,426,189        \\\\\n",
       "\t19 & MEX                & 15                 & Mexico             &  1,223,809        \\\\\n",
       "\\end{tabular}\n"
      ],
      "text/markdown": [
       "\n",
       "| <!--/--> | Code | Ranking | Nation | GDP |\n",
       "|---|---|---|---|---|\n",
       "| 5 | USA                | 1                  | United States      |  20,494,100        |\n",
       "| 6 | CHN                | 2                  | China              |  13,608,152        |\n",
       "| 7 | JPN                | 3                  | Japan              |  4,970,916         |\n",
       "| 8 | DEU                | 4                  | Germany            |  3,996,759         |\n",
       "| 9 | GBR                | 5                  | United Kingdom     |  2,825,208         |\n",
       "| 10 | FRA                | 6                  | France             |  2,777,535         |\n",
       "| 11 | IND                | 7                  | India              |  2,726,323         |\n",
       "| 12 | ITA                | 8                  | Italy              |  2,073,902         |\n",
       "| 13 | BRA                | 9                  | Brazil             |  1,868,626         |\n",
       "| 14 | CAN                | 10                 | Canada             |  1,712,510         |\n",
       "| 15 | RUS                | 11                 | Russian Federation |  1,657,554         |\n",
       "| 16 | KOR                | 12                 | Korea, Rep.        |  1,619,424         |\n",
       "| 17 | AUS                | 13                 | Australia          |  1,432,195         |\n",
       "| 18 | ESP                | 14                 | Spain              |  1,426,189         |\n",
       "| 19 | MEX                | 15                 | Mexico             |  1,223,809         |\n",
       "\n"
      ],
      "text/plain": [
       "   Code Ranking Nation             GDP         \n",
       "5  USA  1       United States       20,494,100 \n",
       "6  CHN  2       China               13,608,152 \n",
       "7  JPN  3       Japan               4,970,916  \n",
       "8  DEU  4       Germany             3,996,759  \n",
       "9  GBR  5       United Kingdom      2,825,208  \n",
       "10 FRA  6       France              2,777,535  \n",
       "11 IND  7       India               2,726,323  \n",
       "12 ITA  8       Italy               2,073,902  \n",
       "13 BRA  9       Brazil              1,868,626  \n",
       "14 CAN  10      Canada              1,712,510  \n",
       "15 RUS  11      Russian Federation  1,657,554  \n",
       "16 KOR  12      Korea, Rep.         1,619,424  \n",
       "17 AUS  13      Australia           1,432,195  \n",
       "18 ESP  14      Spain               1,426,189  \n",
       "19 MEX  15      Mexico              1,223,809  "
      ]
     },
     "metadata": {},
     "output_type": "display_data"
    }
   ],
   "source": [
    "# 컬럼 이름 정의 : Code, Ranking, Nation, GDP\n",
    "\n",
    "colnames(GDP_ranking15) <- c(\"Code\", \"Ranking\", \"Nation\", \"GDP\")\n",
    "GDP_ranking15"
   ]
  },
  {
   "cell_type": "code",
   "execution_count": 23,
   "id": "67006c10",
   "metadata": {},
   "outputs": [
    {
     "data": {
      "text/html": [
       "<table>\n",
       "<thead><tr><th scope=col>Code</th><th scope=col>Ranking</th><th scope=col>Nation</th><th scope=col>GDP</th></tr></thead>\n",
       "<tbody>\n",
       "\t<tr><td>USA               </td><td>1                 </td><td>United States     </td><td> 20,494,100       </td></tr>\n",
       "\t<tr><td>CHN               </td><td>2                 </td><td>China             </td><td> 13,608,152       </td></tr>\n",
       "\t<tr><td>JPN               </td><td>3                 </td><td>Japan             </td><td> 4,970,916        </td></tr>\n",
       "\t<tr><td>DEU               </td><td>4                 </td><td>Germany           </td><td> 3,996,759        </td></tr>\n",
       "\t<tr><td>GBR               </td><td>5                 </td><td>United Kingdom    </td><td> 2,825,208        </td></tr>\n",
       "\t<tr><td>FRA               </td><td>6                 </td><td>France            </td><td> 2,777,535        </td></tr>\n",
       "\t<tr><td>IND               </td><td>7                 </td><td>India             </td><td> 2,726,323        </td></tr>\n",
       "\t<tr><td>ITA               </td><td>8                 </td><td>Italy             </td><td> 2,073,902        </td></tr>\n",
       "\t<tr><td>BRA               </td><td>9                 </td><td>Brazil            </td><td> 1,868,626        </td></tr>\n",
       "\t<tr><td>CAN               </td><td>10                </td><td>Canada            </td><td> 1,712,510        </td></tr>\n",
       "\t<tr><td>RUS               </td><td>11                </td><td>Russian Federation</td><td> 1,657,554        </td></tr>\n",
       "\t<tr><td>KOR               </td><td>12                </td><td>Korea, Rep.       </td><td> 1,619,424        </td></tr>\n",
       "\t<tr><td>AUS               </td><td>13                </td><td>Australia         </td><td> 1,432,195        </td></tr>\n",
       "\t<tr><td>ESP               </td><td>14                </td><td>Spain             </td><td> 1,426,189        </td></tr>\n",
       "\t<tr><td>MEX               </td><td>15                </td><td>Mexico            </td><td> 1,223,809        </td></tr>\n",
       "</tbody>\n",
       "</table>\n"
      ],
      "text/latex": [
       "\\begin{tabular}{r|llll}\n",
       " Code & Ranking & Nation & GDP\\\\\n",
       "\\hline\n",
       "\t USA                & 1                  & United States      &  20,494,100       \\\\\n",
       "\t CHN                & 2                  & China              &  13,608,152       \\\\\n",
       "\t JPN                & 3                  & Japan              &  4,970,916        \\\\\n",
       "\t DEU                & 4                  & Germany            &  3,996,759        \\\\\n",
       "\t GBR                & 5                  & United Kingdom     &  2,825,208        \\\\\n",
       "\t FRA                & 6                  & France             &  2,777,535        \\\\\n",
       "\t IND                & 7                  & India              &  2,726,323        \\\\\n",
       "\t ITA                & 8                  & Italy              &  2,073,902        \\\\\n",
       "\t BRA                & 9                  & Brazil             &  1,868,626        \\\\\n",
       "\t CAN                & 10                 & Canada             &  1,712,510        \\\\\n",
       "\t RUS                & 11                 & Russian Federation &  1,657,554        \\\\\n",
       "\t KOR                & 12                 & Korea, Rep.        &  1,619,424        \\\\\n",
       "\t AUS                & 13                 & Australia          &  1,432,195        \\\\\n",
       "\t ESP                & 14                 & Spain              &  1,426,189        \\\\\n",
       "\t MEX                & 15                 & Mexico             &  1,223,809        \\\\\n",
       "\\end{tabular}\n"
      ],
      "text/markdown": [
       "\n",
       "| Code | Ranking | Nation | GDP |\n",
       "|---|---|---|---|\n",
       "| USA                | 1                  | United States      |  20,494,100        |\n",
       "| CHN                | 2                  | China              |  13,608,152        |\n",
       "| JPN                | 3                  | Japan              |  4,970,916         |\n",
       "| DEU                | 4                  | Germany            |  3,996,759         |\n",
       "| GBR                | 5                  | United Kingdom     |  2,825,208         |\n",
       "| FRA                | 6                  | France             |  2,777,535         |\n",
       "| IND                | 7                  | India              |  2,726,323         |\n",
       "| ITA                | 8                  | Italy              |  2,073,902         |\n",
       "| BRA                | 9                  | Brazil             |  1,868,626         |\n",
       "| CAN                | 10                 | Canada             |  1,712,510         |\n",
       "| RUS                | 11                 | Russian Federation |  1,657,554         |\n",
       "| KOR                | 12                 | Korea, Rep.        |  1,619,424         |\n",
       "| AUS                | 13                 | Australia          |  1,432,195         |\n",
       "| ESP                | 14                 | Spain              |  1,426,189         |\n",
       "| MEX                | 15                 | Mexico             |  1,223,809         |\n",
       "\n"
      ],
      "text/plain": [
       "   Code Ranking Nation             GDP         \n",
       "1  USA  1       United States       20,494,100 \n",
       "2  CHN  2       China               13,608,152 \n",
       "3  JPN  3       Japan               4,970,916  \n",
       "4  DEU  4       Germany             3,996,759  \n",
       "5  GBR  5       United Kingdom      2,825,208  \n",
       "6  FRA  6       France              2,777,535  \n",
       "7  IND  7       India               2,726,323  \n",
       "8  ITA  8       Italy               2,073,902  \n",
       "9  BRA  9       Brazil              1,868,626  \n",
       "10 CAN  10      Canada              1,712,510  \n",
       "11 RUS  11      Russian Federation  1,657,554  \n",
       "12 KOR  12      Korea, Rep.         1,619,424  \n",
       "13 AUS  13      Australia           1,432,195  \n",
       "14 ESP  14      Spain               1,426,189  \n",
       "15 MEX  15      Mexico              1,223,809  "
      ]
     },
     "metadata": {},
     "output_type": "display_data"
    }
   ],
   "source": [
    "# rownames 새로 구성하기\n",
    "rownames(GDP_ranking15) <- c()\n",
    "GDP_ranking15"
   ]
  },
  {
   "cell_type": "code",
   "execution_count": 24,
   "id": "86c9f011",
   "metadata": {},
   "outputs": [
    {
     "name": "stdout",
     "output_type": "stream",
     "text": [
      "'data.frame':\t15 obs. of  4 variables:\n",
      " $ Code   : Factor w/ 230 levels \"\",\"ABW\",\"AFG\",..: 216 38 103 52 72 68 94 100 28 34 ...\n",
      " $ Ranking: Factor w/ 212 levels \"\",\".. Not available.  \",..: 3 114 131 142 153 164 175 186 197 4 ...\n",
      " $ Nation : Factor w/ 231 levels \"\",\"Afghanistan\",..: 219 43 104 78 218 73 95 102 28 37 ...\n",
      " $ GDP    : Factor w/ 220 levels \"\",\" .. \",\" 1,022 \",..: 78 44 137 113 77 75 74 67 20 19 ...\n"
     ]
    }
   ],
   "source": [
    "# 구조 확인하기\n",
    "\n",
    "str(GDP_ranking15)"
   ]
  },
  {
   "cell_type": "code",
   "execution_count": 25,
   "id": "1e3f5c16",
   "metadata": {},
   "outputs": [],
   "source": [
    "# Factor의 개수가 15개가 정상일텐데 이상하다. -> 재구성\n",
    "\n",
    "GDP_ranking15$Code <- factor(GDP_ranking15$Code)"
   ]
  },
  {
   "cell_type": "code",
   "execution_count": 26,
   "id": "87a4d753",
   "metadata": {},
   "outputs": [],
   "source": [
    "# for 문을 이용한 factor 조정\n",
    "\n",
    "for (i in 1:ncol(GDP_ranking15)) {\n",
    "    GDP_ranking15[,i] <- factor(GDP_ranking15[,i])\n",
    "}"
   ]
  },
  {
   "cell_type": "code",
   "execution_count": 27,
   "id": "feae79e0",
   "metadata": {},
   "outputs": [
    {
     "name": "stdout",
     "output_type": "stream",
     "text": [
      "'data.frame':\t15 obs. of  4 variables:\n",
      " $ Code   : Factor w/ 15 levels \"AUS\",\"BRA\",\"CAN\",..: 15 4 11 5 8 7 9 10 2 3 ...\n",
      " $ Ranking: Factor w/ 15 levels \"1\",\"10\",\"11\",..: 1 8 9 10 11 12 13 14 15 2 ...\n",
      " $ Nation : Factor w/ 15 levels \"Australia\",\"Brazil\",..: 15 4 9 6 14 5 7 8 2 3 ...\n",
      " $ GDP    : Factor w/ 15 levels \" 1,223,809 \",..: 13 8 15 14 12 11 10 9 7 6 ...\n"
     ]
    }
   ],
   "source": [
    "str(GDP_ranking15)"
   ]
  },
  {
   "cell_type": "code",
   "execution_count": 28,
   "id": "01e905df",
   "metadata": {},
   "outputs": [
    {
     "name": "stderr",
     "output_type": "stream",
     "text": [
      "\n",
      "Attaching package: 'stringr'\n",
      "\n",
      "The following object is masked _by_ '.GlobalEnv':\n",
      "\n",
      "    fruit\n",
      "\n"
     ]
    }
   ],
   "source": [
    "library(stringr)"
   ]
  },
  {
   "cell_type": "code",
   "execution_count": 29,
   "id": "458642f2",
   "metadata": {},
   "outputs": [
    {
     "data": {
      "text/html": [
       "<table>\n",
       "<thead><tr><th scope=col>Code</th><th scope=col>Ranking</th><th scope=col>Nation</th><th scope=col>GDP</th></tr></thead>\n",
       "<tbody>\n",
       "\t<tr><td>USA               </td><td>1                 </td><td>United States     </td><td>20494100          </td></tr>\n",
       "\t<tr><td>CHN               </td><td>2                 </td><td>China             </td><td>13608152          </td></tr>\n",
       "\t<tr><td>JPN               </td><td>3                 </td><td>Japan             </td><td> 4970916          </td></tr>\n",
       "\t<tr><td>DEU               </td><td>4                 </td><td>Germany           </td><td> 3996759          </td></tr>\n",
       "\t<tr><td>GBR               </td><td>5                 </td><td>United Kingdom    </td><td> 2825208          </td></tr>\n",
       "\t<tr><td>FRA               </td><td>6                 </td><td>France            </td><td> 2777535          </td></tr>\n",
       "\t<tr><td>IND               </td><td>7                 </td><td>India             </td><td> 2726323          </td></tr>\n",
       "\t<tr><td>ITA               </td><td>8                 </td><td>Italy             </td><td> 2073902          </td></tr>\n",
       "\t<tr><td>BRA               </td><td>9                 </td><td>Brazil            </td><td> 1868626          </td></tr>\n",
       "\t<tr><td>CAN               </td><td>10                </td><td>Canada            </td><td> 1712510          </td></tr>\n",
       "\t<tr><td>RUS               </td><td>11                </td><td>Russian Federation</td><td> 1657554          </td></tr>\n",
       "\t<tr><td>KOR               </td><td>12                </td><td>Korea, Rep.       </td><td> 1619424          </td></tr>\n",
       "\t<tr><td>AUS               </td><td>13                </td><td>Australia         </td><td> 1432195          </td></tr>\n",
       "\t<tr><td>ESP               </td><td>14                </td><td>Spain             </td><td> 1426189          </td></tr>\n",
       "\t<tr><td>MEX               </td><td>15                </td><td>Mexico            </td><td> 1223809          </td></tr>\n",
       "</tbody>\n",
       "</table>\n"
      ],
      "text/latex": [
       "\\begin{tabular}{r|llll}\n",
       " Code & Ranking & Nation & GDP\\\\\n",
       "\\hline\n",
       "\t USA                & 1                  & United States      & 20494100          \\\\\n",
       "\t CHN                & 2                  & China              & 13608152          \\\\\n",
       "\t JPN                & 3                  & Japan              &  4970916          \\\\\n",
       "\t DEU                & 4                  & Germany            &  3996759          \\\\\n",
       "\t GBR                & 5                  & United Kingdom     &  2825208          \\\\\n",
       "\t FRA                & 6                  & France             &  2777535          \\\\\n",
       "\t IND                & 7                  & India              &  2726323          \\\\\n",
       "\t ITA                & 8                  & Italy              &  2073902          \\\\\n",
       "\t BRA                & 9                  & Brazil             &  1868626          \\\\\n",
       "\t CAN                & 10                 & Canada             &  1712510          \\\\\n",
       "\t RUS                & 11                 & Russian Federation &  1657554          \\\\\n",
       "\t KOR                & 12                 & Korea, Rep.        &  1619424          \\\\\n",
       "\t AUS                & 13                 & Australia          &  1432195          \\\\\n",
       "\t ESP                & 14                 & Spain              &  1426189          \\\\\n",
       "\t MEX                & 15                 & Mexico             &  1223809          \\\\\n",
       "\\end{tabular}\n"
      ],
      "text/markdown": [
       "\n",
       "| Code | Ranking | Nation | GDP |\n",
       "|---|---|---|---|\n",
       "| USA                | 1                  | United States      | 20494100           |\n",
       "| CHN                | 2                  | China              | 13608152           |\n",
       "| JPN                | 3                  | Japan              |  4970916           |\n",
       "| DEU                | 4                  | Germany            |  3996759           |\n",
       "| GBR                | 5                  | United Kingdom     |  2825208           |\n",
       "| FRA                | 6                  | France             |  2777535           |\n",
       "| IND                | 7                  | India              |  2726323           |\n",
       "| ITA                | 8                  | Italy              |  2073902           |\n",
       "| BRA                | 9                  | Brazil             |  1868626           |\n",
       "| CAN                | 10                 | Canada             |  1712510           |\n",
       "| RUS                | 11                 | Russian Federation |  1657554           |\n",
       "| KOR                | 12                 | Korea, Rep.        |  1619424           |\n",
       "| AUS                | 13                 | Australia          |  1432195           |\n",
       "| ESP                | 14                 | Spain              |  1426189           |\n",
       "| MEX                | 15                 | Mexico             |  1223809           |\n",
       "\n"
      ],
      "text/plain": [
       "   Code Ranking Nation             GDP     \n",
       "1  USA  1       United States      20494100\n",
       "2  CHN  2       China              13608152\n",
       "3  JPN  3       Japan               4970916\n",
       "4  DEU  4       Germany             3996759\n",
       "5  GBR  5       United Kingdom      2825208\n",
       "6  FRA  6       France              2777535\n",
       "7  IND  7       India               2726323\n",
       "8  ITA  8       Italy               2073902\n",
       "9  BRA  9       Brazil              1868626\n",
       "10 CAN  10      Canada              1712510\n",
       "11 RUS  11      Russian Federation  1657554\n",
       "12 KOR  12      Korea, Rep.         1619424\n",
       "13 AUS  13      Australia           1432195\n",
       "14 ESP  14      Spain               1426189\n",
       "15 MEX  15      Mexico              1223809"
      ]
     },
     "metadata": {},
     "output_type": "display_data"
    }
   ],
   "source": [
    "GDP_ranking15$GDP <- as.numeric(str_remove_all(GDP_ranking15$GDP,\",\"))\n",
    "GDP_ranking15"
   ]
  },
  {
   "cell_type": "code",
   "execution_count": 30,
   "id": "6f9a664f",
   "metadata": {},
   "outputs": [
    {
     "name": "stdout",
     "output_type": "stream",
     "text": [
      "'data.frame':\t15 obs. of  4 variables:\n",
      " $ Code   : Factor w/ 15 levels \"AUS\",\"BRA\",\"CAN\",..: 15 4 11 5 8 7 9 10 2 3 ...\n",
      " $ Ranking: Factor w/ 15 levels \"1\",\"10\",\"11\",..: 1 8 9 10 11 12 13 14 15 2 ...\n",
      " $ Nation : Factor w/ 15 levels \"Australia\",\"Brazil\",..: 15 4 9 6 14 5 7 8 2 3 ...\n",
      " $ GDP    : num  20494100 13608152 4970916 3996759 2825208 ...\n"
     ]
    }
   ],
   "source": [
    "str(GDP_ranking15)"
   ]
  },
  {
   "cell_type": "code",
   "execution_count": 31,
   "id": "0db68101",
   "metadata": {},
   "outputs": [
    {
     "data": {
      "image/png": "[encoded data removed]",
      "text/plain": [
       "Plot with title \"2018년 GDP 세계 15위 국가\""
      ]
     },
     "metadata": {},
     "output_type": "display_data"
    }
   ],
   "source": [
    "options(scipen = 100)\n",
    "options(warn = -1)\n",
    "par(family = \"AppleGothic\")\n",
    "barplot(GDP_ranking15$GDP/1000,# GDP 상위 15개국 Data \n",
    "        main = \"2018년 GDP 세계 15위 국가\",\n",
    "        xlab = \"국가(Nation)\",\n",
    "        ylab = \"단위(천달러)\",\n",
    "        names = GDP_ranking15$Code,\n",
    "        cex.names = 0.7,\n",
    "        col = ifelse(GDP_ranking15$GDP/1000 >= 3000, \"red\",\"blue\"),\n",
    "        ylim = c(0,25000)        \n",
    "       )"
   ]
  },
  {
   "cell_type": "markdown",
   "id": "caf0ee5a",
   "metadata": {},
   "source": [
    "---\n",
    "# 데이터 처리"
   ]
  },
  {
   "cell_type": "code",
   "execution_count": 32,
   "id": "d8f18682",
   "metadata": {},
   "outputs": [
    {
     "name": "stderr",
     "output_type": "stream",
     "text": [
      "\n",
      "Attaching package: 'dplyr'\n",
      "\n",
      "The following objects are masked from 'package:stats':\n",
      "\n",
      "    filter, lag\n",
      "\n",
      "The following objects are masked from 'package:base':\n",
      "\n",
      "    intersect, setdiff, setequal, union\n",
      "\n"
     ]
    }
   ],
   "source": [
    "# 데이터 정렬\n",
    "\n",
    "library(dplyr)"
   ]
  },
  {
   "cell_type": "code",
   "execution_count": 33,
   "id": "eb308c87",
   "metadata": {},
   "outputs": [
    {
     "data": {
      "text/html": [
       "<table>\n",
       "<thead><tr><th scope=col>Sepal.Length</th><th scope=col>Sepal.Width</th><th scope=col>Petal.Length</th><th scope=col>Petal.Width</th><th scope=col>Species</th></tr></thead>\n",
       "<tbody>\n",
       "\t<tr><td>4.3   </td><td>3.0   </td><td>1.1   </td><td>0.1   </td><td>setosa</td></tr>\n",
       "\t<tr><td>4.4   </td><td>2.9   </td><td>1.4   </td><td>0.2   </td><td>setosa</td></tr>\n",
       "\t<tr><td>4.4   </td><td>3.0   </td><td>1.3   </td><td>0.2   </td><td>setosa</td></tr>\n",
       "\t<tr><td>4.4   </td><td>3.2   </td><td>1.3   </td><td>0.2   </td><td>setosa</td></tr>\n",
       "\t<tr><td>4.5   </td><td>2.3   </td><td>1.3   </td><td>0.3   </td><td>setosa</td></tr>\n",
       "\t<tr><td>4.6   </td><td>3.1   </td><td>1.5   </td><td>0.2   </td><td>setosa</td></tr>\n",
       "</tbody>\n",
       "</table>\n"
      ],
      "text/latex": [
       "\\begin{tabular}{r|lllll}\n",
       " Sepal.Length & Sepal.Width & Petal.Length & Petal.Width & Species\\\\\n",
       "\\hline\n",
       "\t 4.3    & 3.0    & 1.1    & 0.1    & setosa\\\\\n",
       "\t 4.4    & 2.9    & 1.4    & 0.2    & setosa\\\\\n",
       "\t 4.4    & 3.0    & 1.3    & 0.2    & setosa\\\\\n",
       "\t 4.4    & 3.2    & 1.3    & 0.2    & setosa\\\\\n",
       "\t 4.5    & 2.3    & 1.3    & 0.3    & setosa\\\\\n",
       "\t 4.6    & 3.1    & 1.5    & 0.2    & setosa\\\\\n",
       "\\end{tabular}\n"
      ],
      "text/markdown": [
       "\n",
       "| Sepal.Length | Sepal.Width | Petal.Length | Petal.Width | Species |\n",
       "|---|---|---|---|---|\n",
       "| 4.3    | 3.0    | 1.1    | 0.1    | setosa |\n",
       "| 4.4    | 2.9    | 1.4    | 0.2    | setosa |\n",
       "| 4.4    | 3.0    | 1.3    | 0.2    | setosa |\n",
       "| 4.4    | 3.2    | 1.3    | 0.2    | setosa |\n",
       "| 4.5    | 2.3    | 1.3    | 0.3    | setosa |\n",
       "| 4.6    | 3.1    | 1.5    | 0.2    | setosa |\n",
       "\n"
      ],
      "text/plain": [
       "  Sepal.Length Sepal.Width Petal.Length Petal.Width Species\n",
       "1 4.3          3.0         1.1          0.1         setosa \n",
       "2 4.4          2.9         1.4          0.2         setosa \n",
       "3 4.4          3.0         1.3          0.2         setosa \n",
       "4 4.4          3.2         1.3          0.2         setosa \n",
       "5 4.5          2.3         1.3          0.3         setosa \n",
       "6 4.6          3.1         1.5          0.2         setosa "
      ]
     },
     "metadata": {},
     "output_type": "display_data"
    }
   ],
   "source": [
    "# Sepal.Length 기준으로 오름차순 정렬하기\n",
    "\n",
    "head(arrange(iris, Sepal.Length))"
   ]
  },
  {
   "cell_type": "code",
   "execution_count": 34,
   "id": "aab545f6",
   "metadata": {},
   "outputs": [
    {
     "data": {
      "text/html": [
       "<table>\n",
       "<thead><tr><th scope=col>Sepal.Length</th><th scope=col>Sepal.Width</th><th scope=col>Petal.Length</th><th scope=col>Petal.Width</th><th scope=col>Species</th></tr></thead>\n",
       "<tbody>\n",
       "\t<tr><td>4.3   </td><td>3.0   </td><td>1.1   </td><td>0.1   </td><td>setosa</td></tr>\n",
       "\t<tr><td>4.4   </td><td>3.0   </td><td>1.3   </td><td>0.2   </td><td>setosa</td></tr>\n",
       "\t<tr><td>4.4   </td><td>3.2   </td><td>1.3   </td><td>0.2   </td><td>setosa</td></tr>\n",
       "\t<tr><td>4.4   </td><td>2.9   </td><td>1.4   </td><td>0.2   </td><td>setosa</td></tr>\n",
       "\t<tr><td>4.5   </td><td>2.3   </td><td>1.3   </td><td>0.3   </td><td>setosa</td></tr>\n",
       "\t<tr><td>4.6   </td><td>3.6   </td><td>1.0   </td><td>0.2   </td><td>setosa</td></tr>\n",
       "</tbody>\n",
       "</table>\n"
      ],
      "text/latex": [
       "\\begin{tabular}{r|lllll}\n",
       " Sepal.Length & Sepal.Width & Petal.Length & Petal.Width & Species\\\\\n",
       "\\hline\n",
       "\t 4.3    & 3.0    & 1.1    & 0.1    & setosa\\\\\n",
       "\t 4.4    & 3.0    & 1.3    & 0.2    & setosa\\\\\n",
       "\t 4.4    & 3.2    & 1.3    & 0.2    & setosa\\\\\n",
       "\t 4.4    & 2.9    & 1.4    & 0.2    & setosa\\\\\n",
       "\t 4.5    & 2.3    & 1.3    & 0.3    & setosa\\\\\n",
       "\t 4.6    & 3.6    & 1.0    & 0.2    & setosa\\\\\n",
       "\\end{tabular}\n"
      ],
      "text/markdown": [
       "\n",
       "| Sepal.Length | Sepal.Width | Petal.Length | Petal.Width | Species |\n",
       "|---|---|---|---|---|\n",
       "| 4.3    | 3.0    | 1.1    | 0.1    | setosa |\n",
       "| 4.4    | 3.0    | 1.3    | 0.2    | setosa |\n",
       "| 4.4    | 3.2    | 1.3    | 0.2    | setosa |\n",
       "| 4.4    | 2.9    | 1.4    | 0.2    | setosa |\n",
       "| 4.5    | 2.3    | 1.3    | 0.3    | setosa |\n",
       "| 4.6    | 3.6    | 1.0    | 0.2    | setosa |\n",
       "\n"
      ],
      "text/plain": [
       "  Sepal.Length Sepal.Width Petal.Length Petal.Width Species\n",
       "1 4.3          3.0         1.1          0.1         setosa \n",
       "2 4.4          3.0         1.3          0.2         setosa \n",
       "3 4.4          3.2         1.3          0.2         setosa \n",
       "4 4.4          2.9         1.4          0.2         setosa \n",
       "5 4.5          2.3         1.3          0.3         setosa \n",
       "6 4.6          3.6         1.0          0.2         setosa "
      ]
     },
     "metadata": {},
     "output_type": "display_data"
    }
   ],
   "source": [
    "# Sepal.Length 기준으로 정렬후 동일한 크기를 가진 데이터 발생시 Petal.Length 기준으로 오름차순으로 정렬\n",
    "\n",
    "head(arrange(iris,Sepal.Length, Petal.Length))"
   ]
  },
  {
   "cell_type": "code",
   "execution_count": 35,
   "id": "4a8f1987",
   "metadata": {},
   "outputs": [
    {
     "data": {
      "text/html": [
       "<table>\n",
       "<thead><tr><th scope=col>Sepal.Length</th><th scope=col>Sepal.Width</th><th scope=col>Petal.Length</th><th scope=col>Petal.Width</th><th scope=col>Species</th></tr></thead>\n",
       "<tbody>\n",
       "\t<tr><td>7.9      </td><td>3.8      </td><td>6.4      </td><td>2.0      </td><td>virginica</td></tr>\n",
       "\t<tr><td>7.7      </td><td>3.8      </td><td>6.7      </td><td>2.2      </td><td>virginica</td></tr>\n",
       "\t<tr><td>7.7      </td><td>2.6      </td><td>6.9      </td><td>2.3      </td><td>virginica</td></tr>\n",
       "\t<tr><td>7.7      </td><td>2.8      </td><td>6.7      </td><td>2.0      </td><td>virginica</td></tr>\n",
       "\t<tr><td>7.7      </td><td>3.0      </td><td>6.1      </td><td>2.3      </td><td>virginica</td></tr>\n",
       "\t<tr><td>7.6      </td><td>3.0      </td><td>6.6      </td><td>2.1      </td><td>virginica</td></tr>\n",
       "</tbody>\n",
       "</table>\n"
      ],
      "text/latex": [
       "\\begin{tabular}{r|lllll}\n",
       " Sepal.Length & Sepal.Width & Petal.Length & Petal.Width & Species\\\\\n",
       "\\hline\n",
       "\t 7.9       & 3.8       & 6.4       & 2.0       & virginica\\\\\n",
       "\t 7.7       & 3.8       & 6.7       & 2.2       & virginica\\\\\n",
       "\t 7.7       & 2.6       & 6.9       & 2.3       & virginica\\\\\n",
       "\t 7.7       & 2.8       & 6.7       & 2.0       & virginica\\\\\n",
       "\t 7.7       & 3.0       & 6.1       & 2.3       & virginica\\\\\n",
       "\t 7.6       & 3.0       & 6.6       & 2.1       & virginica\\\\\n",
       "\\end{tabular}\n"
      ],
      "text/markdown": [
       "\n",
       "| Sepal.Length | Sepal.Width | Petal.Length | Petal.Width | Species |\n",
       "|---|---|---|---|---|\n",
       "| 7.9       | 3.8       | 6.4       | 2.0       | virginica |\n",
       "| 7.7       | 3.8       | 6.7       | 2.2       | virginica |\n",
       "| 7.7       | 2.6       | 6.9       | 2.3       | virginica |\n",
       "| 7.7       | 2.8       | 6.7       | 2.0       | virginica |\n",
       "| 7.7       | 3.0       | 6.1       | 2.3       | virginica |\n",
       "| 7.6       | 3.0       | 6.6       | 2.1       | virginica |\n",
       "\n"
      ],
      "text/plain": [
       "  Sepal.Length Sepal.Width Petal.Length Petal.Width Species  \n",
       "1 7.9          3.8         6.4          2.0         virginica\n",
       "2 7.7          3.8         6.7          2.2         virginica\n",
       "3 7.7          2.6         6.9          2.3         virginica\n",
       "4 7.7          2.8         6.7          2.0         virginica\n",
       "5 7.7          3.0         6.1          2.3         virginica\n",
       "6 7.6          3.0         6.6          2.1         virginica"
      ]
     },
     "metadata": {},
     "output_type": "display_data"
    }
   ],
   "source": [
    "# Sepal.Length 기준으로 내림차순 정렬\n",
    "head(arrange(iris, desc(Sepal.Length)))"
   ]
  },
  {
   "cell_type": "code",
   "execution_count": 36,
   "id": "1a27c519",
   "metadata": {},
   "outputs": [
    {
     "data": {
      "text/html": [
       "<table>\n",
       "<thead><tr><th scope=col>Sepal.Length</th><th scope=col>Sepal.Width</th></tr></thead>\n",
       "<tbody>\n",
       "\t<tr><td>7.9</td><td>3.8</td></tr>\n",
       "\t<tr><td>7.7</td><td>3.8</td></tr>\n",
       "\t<tr><td>7.7</td><td>2.6</td></tr>\n",
       "\t<tr><td>7.7</td><td>2.8</td></tr>\n",
       "\t<tr><td>7.7</td><td>3.0</td></tr>\n",
       "\t<tr><td>7.6</td><td>3.0</td></tr>\n",
       "</tbody>\n",
       "</table>\n"
      ],
      "text/latex": [
       "\\begin{tabular}{r|ll}\n",
       " Sepal.Length & Sepal.Width\\\\\n",
       "\\hline\n",
       "\t 7.9 & 3.8\\\\\n",
       "\t 7.7 & 3.8\\\\\n",
       "\t 7.7 & 2.6\\\\\n",
       "\t 7.7 & 2.8\\\\\n",
       "\t 7.7 & 3.0\\\\\n",
       "\t 7.6 & 3.0\\\\\n",
       "\\end{tabular}\n"
      ],
      "text/markdown": [
       "\n",
       "| Sepal.Length | Sepal.Width |\n",
       "|---|---|\n",
       "| 7.9 | 3.8 |\n",
       "| 7.7 | 3.8 |\n",
       "| 7.7 | 2.6 |\n",
       "| 7.7 | 2.8 |\n",
       "| 7.7 | 3.0 |\n",
       "| 7.6 | 3.0 |\n",
       "\n"
      ],
      "text/plain": [
       "  Sepal.Length Sepal.Width\n",
       "1 7.9          3.8        \n",
       "2 7.7          3.8        \n",
       "3 7.7          2.6        \n",
       "4 7.7          2.8        \n",
       "5 7.7          3.0        \n",
       "6 7.6          3.0        "
      ]
     },
     "metadata": {},
     "output_type": "display_data"
    }
   ],
   "source": [
    "# Sepal.Length 기준으로 내림차순 정렬 후 Sepal.Length와 Sepal.Width 만 보기\n",
    "head(arrange(iris[,c(\"Sepal.Length\",\"Sepal.Width\")], desc(Sepal.Length)))"
   ]
  },
  {
   "cell_type": "markdown",
   "id": "395cfeb2",
   "metadata": {},
   "source": [
    "---\n",
    "# 샘플링(Sampling)"
   ]
  },
  {
   "cell_type": "code",
   "execution_count": 37,
   "id": "10a92924",
   "metadata": {},
   "outputs": [
    {
     "data": {
      "text/html": [
       "<ol class=list-inline>\n",
       "\t<li>36</li>\n",
       "\t<li>35</li>\n",
       "\t<li>4</li>\n",
       "\t<li>25</li>\n",
       "\t<li>28</li>\n",
       "\t<li>13</li>\n",
       "</ol>\n"
      ],
      "text/latex": [
       "\\begin{enumerate*}\n",
       "\\item 36\n",
       "\\item 35\n",
       "\\item 4\n",
       "\\item 25\n",
       "\\item 28\n",
       "\\item 13\n",
       "\\end{enumerate*}\n"
      ],
      "text/markdown": [
       "1. 36\n",
       "2. 35\n",
       "3. 4\n",
       "4. 25\n",
       "5. 28\n",
       "6. 13\n",
       "\n",
       "\n"
      ],
      "text/plain": [
       "[1] 36 35  4 25 28 13"
      ]
     },
     "metadata": {},
     "output_type": "display_data"
    }
   ],
   "source": [
    "# 랜덤 샘플링(중복값을 허용하지 않음)\n",
    "\n",
    "sample(1:45,6)"
   ]
  },
  {
   "cell_type": "code",
   "execution_count": 38,
   "id": "2b714678",
   "metadata": {},
   "outputs": [
    {
     "data": {
      "text/html": [
       "150"
      ],
      "text/latex": [
       "150"
      ],
      "text/markdown": [
       "150"
      ],
      "text/plain": [
       "[1] 150"
      ]
     },
     "metadata": {},
     "output_type": "display_data"
    },
    {
     "data": {
      "text/html": [
       "5"
      ],
      "text/latex": [
       "5"
      ],
      "text/markdown": [
       "5"
      ],
      "text/plain": [
       "[1] 5"
      ]
     },
     "metadata": {},
     "output_type": "display_data"
    }
   ],
   "source": [
    "nrow(iris)\n",
    "ncol(iris)"
   ]
  },
  {
   "cell_type": "code",
   "execution_count": 39,
   "id": "d292b90b",
   "metadata": {},
   "outputs": [],
   "source": [
    "samp <- sample(1:nrow(iris), nrow(iris)*0.7)"
   ]
  },
  {
   "cell_type": "code",
   "execution_count": 40,
   "id": "07cf8452",
   "metadata": {},
   "outputs": [
    {
     "data": {
      "text/html": [
       "<table>\n",
       "<thead><tr><th></th><th scope=col>Sepal.Length</th><th scope=col>Sepal.Width</th><th scope=col>Petal.Length</th><th scope=col>Petal.Width</th><th scope=col>Species</th></tr></thead>\n",
       "<tbody>\n",
       "\t<tr><th scope=row>3</th><td>4.7      </td><td>3.2      </td><td>1.3      </td><td>0.2      </td><td>setosa   </td></tr>\n",
       "\t<tr><th scope=row>119</th><td>7.7      </td><td>2.6      </td><td>6.9      </td><td>2.3      </td><td>virginica</td></tr>\n",
       "\t<tr><th scope=row>25</th><td>4.8      </td><td>3.4      </td><td>1.9      </td><td>0.2      </td><td>setosa   </td></tr>\n",
       "\t<tr><th scope=row>109</th><td>6.7      </td><td>2.5      </td><td>5.8      </td><td>1.8      </td><td>virginica</td></tr>\n",
       "\t<tr><th scope=row>117</th><td>6.5      </td><td>3.0      </td><td>5.5      </td><td>1.8      </td><td>virginica</td></tr>\n",
       "\t<tr><th scope=row>138</th><td>6.4      </td><td>3.1      </td><td>5.5      </td><td>1.8      </td><td>virginica</td></tr>\n",
       "</tbody>\n",
       "</table>\n"
      ],
      "text/latex": [
       "\\begin{tabular}{r|lllll}\n",
       "  & Sepal.Length & Sepal.Width & Petal.Length & Petal.Width & Species\\\\\n",
       "\\hline\n",
       "\t3 & 4.7       & 3.2       & 1.3       & 0.2       & setosa   \\\\\n",
       "\t119 & 7.7       & 2.6       & 6.9       & 2.3       & virginica\\\\\n",
       "\t25 & 4.8       & 3.4       & 1.9       & 0.2       & setosa   \\\\\n",
       "\t109 & 6.7       & 2.5       & 5.8       & 1.8       & virginica\\\\\n",
       "\t117 & 6.5       & 3.0       & 5.5       & 1.8       & virginica\\\\\n",
       "\t138 & 6.4       & 3.1       & 5.5       & 1.8       & virginica\\\\\n",
       "\\end{tabular}\n"
      ],
      "text/markdown": [
       "\n",
       "| <!--/--> | Sepal.Length | Sepal.Width | Petal.Length | Petal.Width | Species |\n",
       "|---|---|---|---|---|---|\n",
       "| 3 | 4.7       | 3.2       | 1.3       | 0.2       | setosa    |\n",
       "| 119 | 7.7       | 2.6       | 6.9       | 2.3       | virginica |\n",
       "| 25 | 4.8       | 3.4       | 1.9       | 0.2       | setosa    |\n",
       "| 109 | 6.7       | 2.5       | 5.8       | 1.8       | virginica |\n",
       "| 117 | 6.5       | 3.0       | 5.5       | 1.8       | virginica |\n",
       "| 138 | 6.4       | 3.1       | 5.5       | 1.8       | virginica |\n",
       "\n"
      ],
      "text/plain": [
       "    Sepal.Length Sepal.Width Petal.Length Petal.Width Species  \n",
       "3   4.7          3.2         1.3          0.2         setosa   \n",
       "119 7.7          2.6         6.9          2.3         virginica\n",
       "25  4.8          3.4         1.9          0.2         setosa   \n",
       "109 6.7          2.5         5.8          1.8         virginica\n",
       "117 6.5          3.0         5.5          1.8         virginica\n",
       "138 6.4          3.1         5.5          1.8         virginica"
      ]
     },
     "metadata": {},
     "output_type": "display_data"
    }
   ],
   "source": [
    "irisSamp <- iris[samp,]\n",
    "head(irisSamp)"
   ]
  },
  {
   "cell_type": "code",
   "execution_count": 41,
   "id": "9634128d",
   "metadata": {},
   "outputs": [
    {
     "data": {
      "text/plain": [
       "  Sepal.Length    Sepal.Width    Petal.Length    Petal.Width          Species  \n",
       " Min.   :4.400   Min.   :2.00   Min.   :1.200   Min.   :0.100   setosa    :32  \n",
       " 1st Qu.:5.100   1st Qu.:2.80   1st Qu.:1.600   1st Qu.:0.300   versicolor:32  \n",
       " Median :5.800   Median :3.00   Median :4.500   Median :1.400   virginica :41  \n",
       " Mean   :5.877   Mean   :3.02   Mean   :3.897   Mean   :1.253                  \n",
       " 3rd Qu.:6.400   3rd Qu.:3.20   3rd Qu.:5.100   3rd Qu.:1.800                  \n",
       " Max.   :7.900   Max.   :4.10   Max.   :6.900   Max.   :2.500                  "
      ]
     },
     "metadata": {},
     "output_type": "display_data"
    }
   ],
   "source": [
    "summary(irisSamp)"
   ]
  },
  {
   "cell_type": "code",
   "execution_count": 42,
   "id": "a0e816f9",
   "metadata": {},
   "outputs": [
    {
     "data": {
      "text/plain": [
       "  Sepal.Length    Sepal.Width     Petal.Length    Petal.Width   \n",
       " Min.   :4.300   Min.   :2.000   Min.   :1.000   Min.   :0.100  \n",
       " 1st Qu.:5.100   1st Qu.:2.800   1st Qu.:1.600   1st Qu.:0.300  \n",
       " Median :5.800   Median :3.000   Median :4.350   Median :1.300  \n",
       " Mean   :5.843   Mean   :3.057   Mean   :3.758   Mean   :1.199  \n",
       " 3rd Qu.:6.400   3rd Qu.:3.300   3rd Qu.:5.100   3rd Qu.:1.800  \n",
       " Max.   :7.900   Max.   :4.400   Max.   :6.900   Max.   :2.500  \n",
       "       Species  \n",
       " setosa    :50  \n",
       " versicolor:50  \n",
       " virginica :50  \n",
       "                \n",
       "                \n",
       "                "
      ]
     },
     "metadata": {},
     "output_type": "display_data"
    }
   ],
   "source": [
    "summary(iris)"
   ]
  },
  {
   "cell_type": "code",
   "execution_count": 43,
   "id": "626e2b71",
   "metadata": {},
   "outputs": [
    {
     "data": {
      "text/plain": [
       "\n",
       "    setosa versicolor  virginica \n",
       "        32         32         41 "
      ]
     },
     "metadata": {},
     "output_type": "display_data"
    }
   ],
   "source": [
    "table(irisSamp$Species)"
   ]
  },
  {
   "cell_type": "code",
   "execution_count": 44,
   "id": "12628a70",
   "metadata": {},
   "outputs": [],
   "source": [
    "# iris Sampling시 Species 별로 Sampling\n",
    "\n",
    "samp <- c(sample(1:50, 35), sample(51:100, 35), sample(101:150, 35))"
   ]
  },
  {
   "cell_type": "code",
   "execution_count": 45,
   "id": "11ed038f",
   "metadata": {},
   "outputs": [
    {
     "data": {
      "text/plain": [
       "\n",
       "    setosa versicolor  virginica \n",
       "        35         35         35 "
      ]
     },
     "metadata": {},
     "output_type": "display_data"
    }
   ],
   "source": [
    "irisSamp <- iris[samp,]\n",
    "table(irisSamp$Species)"
   ]
  },
  {
   "cell_type": "code",
   "execution_count": 46,
   "id": "53bb55ce",
   "metadata": {},
   "outputs": [],
   "source": [
    "# Training Data와 Test Data 분리하기\n",
    "\n",
    "iris.train <- iris[samp,]\n",
    "iris.test <- iris[-samp,]"
   ]
  },
  {
   "cell_type": "code",
   "execution_count": 47,
   "id": "1932b61e",
   "metadata": {},
   "outputs": [
    {
     "data": {
      "text/plain": [
       "  Sepal.Length   Sepal.Width     Petal.Length   Petal.Width          Species  \n",
       " Min.   :4.30   Min.   :2.000   Min.   :1.10   Min.   :0.100   setosa    :35  \n",
       " 1st Qu.:5.10   1st Qu.:2.800   1st Qu.:1.50   1st Qu.:0.300   versicolor:35  \n",
       " Median :5.80   Median :3.000   Median :4.40   Median :1.300   virginica :35  \n",
       " Mean   :5.84   Mean   :3.034   Mean   :3.76   Mean   :1.189                  \n",
       " 3rd Qu.:6.40   3rd Qu.:3.300   3rd Qu.:5.10   3rd Qu.:1.800                  \n",
       " Max.   :7.70   Max.   :4.400   Max.   :6.90   Max.   :2.500                  "
      ]
     },
     "metadata": {},
     "output_type": "display_data"
    }
   ],
   "source": [
    "summary(iris.train)"
   ]
  },
  {
   "cell_type": "code",
   "execution_count": 48,
   "id": "9832e957",
   "metadata": {},
   "outputs": [
    {
     "data": {
      "text/plain": [
       "  Sepal.Length    Sepal.Width     Petal.Length    Petal.Width   \n",
       " Min.   :4.600   Min.   :2.200   Min.   :1.000   Min.   :0.100  \n",
       " 1st Qu.:5.100   1st Qu.:2.800   1st Qu.:1.600   1st Qu.:0.400  \n",
       " Median :5.700   Median :3.100   Median :4.200   Median :1.300  \n",
       " Mean   :5.851   Mean   :3.111   Mean   :3.753   Mean   :1.224  \n",
       " 3rd Qu.:6.400   3rd Qu.:3.400   3rd Qu.:5.100   3rd Qu.:1.900  \n",
       " Max.   :7.900   Max.   :4.100   Max.   :6.700   Max.   :2.400  \n",
       "       Species  \n",
       " setosa    :15  \n",
       " versicolor:15  \n",
       " virginica :15  \n",
       "                \n",
       "                \n",
       "                "
      ]
     },
     "metadata": {},
     "output_type": "display_data"
    }
   ],
   "source": [
    "summary(iris.test)"
   ]
  },
  {
   "cell_type": "markdown",
   "id": "457b5908",
   "metadata": {},
   "source": [
    "----\n",
    "# 부분 집합"
   ]
  },
  {
   "cell_type": "code",
   "execution_count": 49,
   "id": "0c130cef",
   "metadata": {},
   "outputs": [
    {
     "data": {
      "text/html": [
       "<table>\n",
       "<thead><tr><th></th><th scope=col>Sepal.Length</th><th scope=col>Sepal.Width</th><th scope=col>Petal.Length</th><th scope=col>Petal.Width</th><th scope=col>Species</th></tr></thead>\n",
       "<tbody>\n",
       "\t<tr><th scope=row>45</th><td>5.1   </td><td>3.8   </td><td>1.9   </td><td>0.4   </td><td>setosa</td></tr>\n",
       "\t<tr><th scope=row>46</th><td>4.8   </td><td>3.0   </td><td>1.4   </td><td>0.3   </td><td>setosa</td></tr>\n",
       "\t<tr><th scope=row>47</th><td>5.1   </td><td>3.8   </td><td>1.6   </td><td>0.2   </td><td>setosa</td></tr>\n",
       "\t<tr><th scope=row>48</th><td>4.6   </td><td>3.2   </td><td>1.4   </td><td>0.2   </td><td>setosa</td></tr>\n",
       "\t<tr><th scope=row>49</th><td>5.3   </td><td>3.7   </td><td>1.5   </td><td>0.2   </td><td>setosa</td></tr>\n",
       "\t<tr><th scope=row>50</th><td>5.0   </td><td>3.3   </td><td>1.4   </td><td>0.2   </td><td>setosa</td></tr>\n",
       "</tbody>\n",
       "</table>\n"
      ],
      "text/latex": [
       "\\begin{tabular}{r|lllll}\n",
       "  & Sepal.Length & Sepal.Width & Petal.Length & Petal.Width & Species\\\\\n",
       "\\hline\n",
       "\t45 & 5.1    & 3.8    & 1.9    & 0.4    & setosa\\\\\n",
       "\t46 & 4.8    & 3.0    & 1.4    & 0.3    & setosa\\\\\n",
       "\t47 & 5.1    & 3.8    & 1.6    & 0.2    & setosa\\\\\n",
       "\t48 & 4.6    & 3.2    & 1.4    & 0.2    & setosa\\\\\n",
       "\t49 & 5.3    & 3.7    & 1.5    & 0.2    & setosa\\\\\n",
       "\t50 & 5.0    & 3.3    & 1.4    & 0.2    & setosa\\\\\n",
       "\\end{tabular}\n"
      ],
      "text/markdown": [
       "\n",
       "| <!--/--> | Sepal.Length | Sepal.Width | Petal.Length | Petal.Width | Species |\n",
       "|---|---|---|---|---|---|\n",
       "| 45 | 5.1    | 3.8    | 1.9    | 0.4    | setosa |\n",
       "| 46 | 4.8    | 3.0    | 1.4    | 0.3    | setosa |\n",
       "| 47 | 5.1    | 3.8    | 1.6    | 0.2    | setosa |\n",
       "| 48 | 4.6    | 3.2    | 1.4    | 0.2    | setosa |\n",
       "| 49 | 5.3    | 3.7    | 1.5    | 0.2    | setosa |\n",
       "| 50 | 5.0    | 3.3    | 1.4    | 0.2    | setosa |\n",
       "\n"
      ],
      "text/plain": [
       "   Sepal.Length Sepal.Width Petal.Length Petal.Width Species\n",
       "45 5.1          3.8         1.9          0.4         setosa \n",
       "46 4.8          3.0         1.4          0.3         setosa \n",
       "47 5.1          3.8         1.6          0.2         setosa \n",
       "48 4.6          3.2         1.4          0.2         setosa \n",
       "49 5.3          3.7         1.5          0.2         setosa \n",
       "50 5.0          3.3         1.4          0.2         setosa "
      ]
     },
     "metadata": {},
     "output_type": "display_data"
    }
   ],
   "source": [
    "# iris에서 species가 setosa 인것만 추출하여 iris_setosa라는 데이터 프레임 만들기\n",
    "\n",
    "iris_setosa <- subset(iris, Species == \"setosa\")\n",
    "tail(iris_setosa)"
   ]
  },
  {
   "cell_type": "code",
   "execution_count": 50,
   "id": "78332809",
   "metadata": {},
   "outputs": [
    {
     "data": {
      "text/plain": [
       "  Sepal.Length    Sepal.Width     Petal.Length    Petal.Width   \n",
       " Min.   :4.300   Min.   :2.300   Min.   :1.000   Min.   :0.100  \n",
       " 1st Qu.:4.800   1st Qu.:3.200   1st Qu.:1.400   1st Qu.:0.200  \n",
       " Median :5.000   Median :3.400   Median :1.500   Median :0.200  \n",
       " Mean   :5.006   Mean   :3.428   Mean   :1.462   Mean   :0.246  \n",
       " 3rd Qu.:5.200   3rd Qu.:3.675   3rd Qu.:1.575   3rd Qu.:0.300  \n",
       " Max.   :5.800   Max.   :4.400   Max.   :1.900   Max.   :0.600  \n",
       "       Species  \n",
       " setosa    :50  \n",
       " versicolor: 0  \n",
       " virginica : 0  \n",
       "                \n",
       "                \n",
       "                "
      ]
     },
     "metadata": {},
     "output_type": "display_data"
    },
    {
     "name": "stdout",
     "output_type": "stream",
     "text": [
      "'data.frame':\t50 obs. of  5 variables:\n",
      " $ Sepal.Length: num  5.1 4.9 4.7 4.6 5 5.4 4.6 5 4.4 4.9 ...\n",
      " $ Sepal.Width : num  3.5 3 3.2 3.1 3.6 3.9 3.4 3.4 2.9 3.1 ...\n",
      " $ Petal.Length: num  1.4 1.4 1.3 1.5 1.4 1.7 1.4 1.5 1.4 1.5 ...\n",
      " $ Petal.Width : num  0.2 0.2 0.2 0.2 0.2 0.4 0.3 0.2 0.2 0.1 ...\n",
      " $ Species     : Factor w/ 1 level \"setosa\": 1 1 1 1 1 1 1 1 1 1 ...\n"
     ]
    }
   ],
   "source": [
    "summary(iris_setosa)\n",
    "iris_setosa$Species <- factor(iris_setosa$Species)\n",
    "str(iris_setosa)"
   ]
  },
  {
   "cell_type": "code",
   "execution_count": 51,
   "id": "69326d08",
   "metadata": {},
   "outputs": [
    {
     "data": {
      "text/html": [
       "<table>\n",
       "<thead><tr><th></th><th scope=col>Sepal.Length</th><th scope=col>Sepal.Width</th><th scope=col>Petal.Length</th><th scope=col>Petal.Width</th><th scope=col>Species</th></tr></thead>\n",
       "<tbody>\n",
       "\t<tr><th scope=row>51</th><td>7.0       </td><td>3.2       </td><td>4.7       </td><td>1.4       </td><td>versicolor</td></tr>\n",
       "\t<tr><th scope=row>52</th><td>6.4       </td><td>3.2       </td><td>4.5       </td><td>1.5       </td><td>versicolor</td></tr>\n",
       "\t<tr><th scope=row>53</th><td>6.9       </td><td>3.1       </td><td>4.9       </td><td>1.5       </td><td>versicolor</td></tr>\n",
       "\t<tr><th scope=row>54</th><td>5.5       </td><td>2.3       </td><td>4.0       </td><td>1.3       </td><td>versicolor</td></tr>\n",
       "\t<tr><th scope=row>55</th><td>6.5       </td><td>2.8       </td><td>4.6       </td><td>1.5       </td><td>versicolor</td></tr>\n",
       "\t<tr><th scope=row>56</th><td>5.7       </td><td>2.8       </td><td>4.5       </td><td>1.3       </td><td>versicolor</td></tr>\n",
       "</tbody>\n",
       "</table>\n"
      ],
      "text/latex": [
       "\\begin{tabular}{r|lllll}\n",
       "  & Sepal.Length & Sepal.Width & Petal.Length & Petal.Width & Species\\\\\n",
       "\\hline\n",
       "\t51 & 7.0        & 3.2        & 4.7        & 1.4        & versicolor\\\\\n",
       "\t52 & 6.4        & 3.2        & 4.5        & 1.5        & versicolor\\\\\n",
       "\t53 & 6.9        & 3.1        & 4.9        & 1.5        & versicolor\\\\\n",
       "\t54 & 5.5        & 2.3        & 4.0        & 1.3        & versicolor\\\\\n",
       "\t55 & 6.5        & 2.8        & 4.6        & 1.5        & versicolor\\\\\n",
       "\t56 & 5.7        & 2.8        & 4.5        & 1.3        & versicolor\\\\\n",
       "\\end{tabular}\n"
      ],
      "text/markdown": [
       "\n",
       "| <!--/--> | Sepal.Length | Sepal.Width | Petal.Length | Petal.Width | Species |\n",
       "|---|---|---|---|---|---|\n",
       "| 51 | 7.0        | 3.2        | 4.7        | 1.4        | versicolor |\n",
       "| 52 | 6.4        | 3.2        | 4.5        | 1.5        | versicolor |\n",
       "| 53 | 6.9        | 3.1        | 4.9        | 1.5        | versicolor |\n",
       "| 54 | 5.5        | 2.3        | 4.0        | 1.3        | versicolor |\n",
       "| 55 | 6.5        | 2.8        | 4.6        | 1.5        | versicolor |\n",
       "| 56 | 5.7        | 2.8        | 4.5        | 1.3        | versicolor |\n",
       "\n"
      ],
      "text/plain": [
       "   Sepal.Length Sepal.Width Petal.Length Petal.Width Species   \n",
       "51 7.0          3.2         4.7          1.4         versicolor\n",
       "52 6.4          3.2         4.5          1.5         versicolor\n",
       "53 6.9          3.1         4.9          1.5         versicolor\n",
       "54 5.5          2.3         4.0          1.3         versicolor\n",
       "55 6.5          2.8         4.6          1.5         versicolor\n",
       "56 5.7          2.8         4.5          1.3         versicolor"
      ]
     },
     "metadata": {},
     "output_type": "display_data"
    },
    {
     "data": {
      "text/html": [
       "<table>\n",
       "<thead><tr><th></th><th scope=col>Sepal.Length</th><th scope=col>Sepal.Width</th><th scope=col>Petal.Length</th><th scope=col>Petal.Width</th><th scope=col>Species</th></tr></thead>\n",
       "<tbody>\n",
       "\t<tr><th scope=row>95</th><td>5.6       </td><td>2.7       </td><td>4.2       </td><td>1.3       </td><td>versicolor</td></tr>\n",
       "\t<tr><th scope=row>96</th><td>5.7       </td><td>3.0       </td><td>4.2       </td><td>1.2       </td><td>versicolor</td></tr>\n",
       "\t<tr><th scope=row>97</th><td>5.7       </td><td>2.9       </td><td>4.2       </td><td>1.3       </td><td>versicolor</td></tr>\n",
       "\t<tr><th scope=row>98</th><td>6.2       </td><td>2.9       </td><td>4.3       </td><td>1.3       </td><td>versicolor</td></tr>\n",
       "\t<tr><th scope=row>99</th><td>5.1       </td><td>2.5       </td><td>3.0       </td><td>1.1       </td><td>versicolor</td></tr>\n",
       "\t<tr><th scope=row>100</th><td>5.7       </td><td>2.8       </td><td>4.1       </td><td>1.3       </td><td>versicolor</td></tr>\n",
       "</tbody>\n",
       "</table>\n"
      ],
      "text/latex": [
       "\\begin{tabular}{r|lllll}\n",
       "  & Sepal.Length & Sepal.Width & Petal.Length & Petal.Width & Species\\\\\n",
       "\\hline\n",
       "\t95 & 5.6        & 2.7        & 4.2        & 1.3        & versicolor\\\\\n",
       "\t96 & 5.7        & 3.0        & 4.2        & 1.2        & versicolor\\\\\n",
       "\t97 & 5.7        & 2.9        & 4.2        & 1.3        & versicolor\\\\\n",
       "\t98 & 6.2        & 2.9        & 4.3        & 1.3        & versicolor\\\\\n",
       "\t99 & 5.1        & 2.5        & 3.0        & 1.1        & versicolor\\\\\n",
       "\t100 & 5.7        & 2.8        & 4.1        & 1.3        & versicolor\\\\\n",
       "\\end{tabular}\n"
      ],
      "text/markdown": [
       "\n",
       "| <!--/--> | Sepal.Length | Sepal.Width | Petal.Length | Petal.Width | Species |\n",
       "|---|---|---|---|---|---|\n",
       "| 95 | 5.6        | 2.7        | 4.2        | 1.3        | versicolor |\n",
       "| 96 | 5.7        | 3.0        | 4.2        | 1.2        | versicolor |\n",
       "| 97 | 5.7        | 2.9        | 4.2        | 1.3        | versicolor |\n",
       "| 98 | 6.2        | 2.9        | 4.3        | 1.3        | versicolor |\n",
       "| 99 | 5.1        | 2.5        | 3.0        | 1.1        | versicolor |\n",
       "| 100 | 5.7        | 2.8        | 4.1        | 1.3        | versicolor |\n",
       "\n"
      ],
      "text/plain": [
       "    Sepal.Length Sepal.Width Petal.Length Petal.Width Species   \n",
       "95  5.6          2.7         4.2          1.3         versicolor\n",
       "96  5.7          3.0         4.2          1.2         versicolor\n",
       "97  5.7          2.9         4.2          1.3         versicolor\n",
       "98  6.2          2.9         4.3          1.3         versicolor\n",
       "99  5.1          2.5         3.0          1.1         versicolor\n",
       "100 5.7          2.8         4.1          1.3         versicolor"
      ]
     },
     "metadata": {},
     "output_type": "display_data"
    }
   ],
   "source": [
    "# iris에서 Species가 versicolor인것만 추출하여 iris_versicolor라는 데이터 프레임 만들기\n",
    "\n",
    "iris_versicolor <- subset(iris, Species == \"versicolor\")\n",
    "head(iris_versicolor)\n",
    "tail(iris_versicolor)"
   ]
  },
  {
   "cell_type": "code",
   "execution_count": 52,
   "id": "7ca14be6",
   "metadata": {},
   "outputs": [
    {
     "name": "stdout",
     "output_type": "stream",
     "text": [
      "'data.frame':\t50 obs. of  5 variables:\n",
      " $ Sepal.Length: num  7 6.4 6.9 5.5 6.5 5.7 6.3 4.9 6.6 5.2 ...\n",
      " $ Sepal.Width : num  3.2 3.2 3.1 2.3 2.8 2.8 3.3 2.4 2.9 2.7 ...\n",
      " $ Petal.Length: num  4.7 4.5 4.9 4 4.6 4.5 4.7 3.3 4.6 3.9 ...\n",
      " $ Petal.Width : num  1.4 1.5 1.5 1.3 1.5 1.3 1.6 1 1.3 1.4 ...\n",
      " $ Species     : Factor w/ 1 level \"versicolor\": 1 1 1 1 1 1 1 1 1 1 ...\n",
      "  Sepal.Length Sepal.Width Petal.Length Petal.Width    Species\n",
      "1          7.0         3.2          4.7         1.4 versicolor\n",
      "2          6.4         3.2          4.5         1.5 versicolor\n",
      "3          6.9         3.1          4.9         1.5 versicolor\n",
      "4          5.5         2.3          4.0         1.3 versicolor\n",
      "5          6.5         2.8          4.6         1.5 versicolor\n",
      "6          5.7         2.8          4.5         1.3 versicolor\n"
     ]
    }
   ],
   "source": [
    "iris_versicolor$Species <- factor(iris_versicolor$Species)\n",
    "rownames(iris_versicolor) <- c()\n",
    "str(iris_versicolor)\n",
    "print(head(iris_versicolor))"
   ]
  },
  {
   "cell_type": "code",
   "execution_count": 53,
   "id": "66f8cfb1",
   "metadata": {},
   "outputs": [
    {
     "data": {
      "text/plain": [
       "  Sepal.Length    Sepal.Width     Petal.Length   Petal.Width          Species  \n",
       " Min.   :4.900   Min.   :2.000   Min.   :3.00   Min.   :1.000   versicolor:50  \n",
       " 1st Qu.:5.600   1st Qu.:2.525   1st Qu.:4.00   1st Qu.:1.200                  \n",
       " Median :5.900   Median :2.800   Median :4.35   Median :1.300                  \n",
       " Mean   :5.936   Mean   :2.770   Mean   :4.26   Mean   :1.326                  \n",
       " 3rd Qu.:6.300   3rd Qu.:3.000   3rd Qu.:4.60   3rd Qu.:1.500                  \n",
       " Max.   :7.000   Max.   :3.400   Max.   :5.10   Max.   :1.800                  "
      ]
     },
     "metadata": {},
     "output_type": "display_data"
    }
   ],
   "source": [
    "summary(iris_versicolor)"
   ]
  },
  {
   "cell_type": "code",
   "execution_count": 54,
   "id": "25268afc",
   "metadata": {},
   "outputs": [
    {
     "data": {
      "text/html": [
       "22"
      ],
      "text/latex": [
       "22"
      ],
      "text/markdown": [
       "22"
      ],
      "text/plain": [
       "[1] 22"
      ]
     },
     "metadata": {},
     "output_type": "display_data"
    },
    {
     "data": {
      "text/html": [
       "22"
      ],
      "text/latex": [
       "22"
      ],
      "text/markdown": [
       "22"
      ],
      "text/plain": [
       "[1] 22"
      ]
     },
     "metadata": {},
     "output_type": "display_data"
    }
   ],
   "source": [
    "# iris에서 Species가 setosa이고 Sepal.Length가 5보다 큰 Sample의 개수는?\n",
    "\n",
    "sum(iris$Sepal.Length > 5 & iris$Species == \"setosa\")\n",
    "nrow(subset(iris, Species == \"setosa\" & Sepal.Length > 5))"
   ]
  },
  {
   "cell_type": "code",
   "execution_count": 55,
   "id": "f7ac97d0",
   "metadata": {
    "scrolled": true
   },
   "outputs": [
    {
     "data": {
      "text/html": [
       "<table>\n",
       "<thead><tr><th scope=col>Species</th><th scope=col>Sepal.Length</th></tr></thead>\n",
       "<tbody>\n",
       "\t<tr><td>setosa</td><td>5.1   </td></tr>\n",
       "\t<tr><td>setosa</td><td>4.9   </td></tr>\n",
       "\t<tr><td>setosa</td><td>4.7   </td></tr>\n",
       "\t<tr><td>setosa</td><td>4.6   </td></tr>\n",
       "\t<tr><td>setosa</td><td>5.0   </td></tr>\n",
       "\t<tr><td>setosa</td><td>5.4   </td></tr>\n",
       "\t<tr><td>setosa</td><td>4.6   </td></tr>\n",
       "\t<tr><td>setosa</td><td>5.0   </td></tr>\n",
       "\t<tr><td>setosa</td><td>4.4   </td></tr>\n",
       "\t<tr><td>setosa</td><td>4.9   </td></tr>\n",
       "\t<tr><td>setosa</td><td>5.4   </td></tr>\n",
       "\t<tr><td>setosa</td><td>4.8   </td></tr>\n",
       "\t<tr><td>setosa</td><td>4.8   </td></tr>\n",
       "\t<tr><td>setosa</td><td>4.3   </td></tr>\n",
       "\t<tr><td>setosa</td><td>5.8   </td></tr>\n",
       "\t<tr><td>setosa</td><td>5.7   </td></tr>\n",
       "\t<tr><td>setosa</td><td>5.4   </td></tr>\n",
       "\t<tr><td>setosa</td><td>5.1   </td></tr>\n",
       "\t<tr><td>setosa</td><td>5.7   </td></tr>\n",
       "\t<tr><td>setosa</td><td>5.1   </td></tr>\n",
       "\t<tr><td>setosa</td><td>5.4   </td></tr>\n",
       "\t<tr><td>setosa</td><td>5.1   </td></tr>\n",
       "\t<tr><td>setosa</td><td>4.6   </td></tr>\n",
       "\t<tr><td>setosa</td><td>5.1   </td></tr>\n",
       "\t<tr><td>setosa</td><td>4.8   </td></tr>\n",
       "\t<tr><td>setosa</td><td>5.0   </td></tr>\n",
       "\t<tr><td>setosa</td><td>5.0   </td></tr>\n",
       "\t<tr><td>setosa</td><td>5.2   </td></tr>\n",
       "\t<tr><td>setosa</td><td>5.2   </td></tr>\n",
       "\t<tr><td>setosa</td><td>4.7   </td></tr>\n",
       "\t<tr><td>...</td><td>...</td></tr>\n",
       "\t<tr><td>virginica</td><td>6.9      </td></tr>\n",
       "\t<tr><td>virginica</td><td>5.6      </td></tr>\n",
       "\t<tr><td>virginica</td><td>7.7      </td></tr>\n",
       "\t<tr><td>virginica</td><td>6.3      </td></tr>\n",
       "\t<tr><td>virginica</td><td>6.7      </td></tr>\n",
       "\t<tr><td>virginica</td><td>7.2      </td></tr>\n",
       "\t<tr><td>virginica</td><td>6.2      </td></tr>\n",
       "\t<tr><td>virginica</td><td>6.1      </td></tr>\n",
       "\t<tr><td>virginica</td><td>6.4      </td></tr>\n",
       "\t<tr><td>virginica</td><td>7.2      </td></tr>\n",
       "\t<tr><td>virginica</td><td>7.4      </td></tr>\n",
       "\t<tr><td>virginica</td><td>7.9      </td></tr>\n",
       "\t<tr><td>virginica</td><td>6.4      </td></tr>\n",
       "\t<tr><td>virginica</td><td>6.3      </td></tr>\n",
       "\t<tr><td>virginica</td><td>6.1      </td></tr>\n",
       "\t<tr><td>virginica</td><td>7.7      </td></tr>\n",
       "\t<tr><td>virginica</td><td>6.3      </td></tr>\n",
       "\t<tr><td>virginica</td><td>6.4      </td></tr>\n",
       "\t<tr><td>virginica</td><td>6.0      </td></tr>\n",
       "\t<tr><td>virginica</td><td>6.9      </td></tr>\n",
       "\t<tr><td>virginica</td><td>6.7      </td></tr>\n",
       "\t<tr><td>virginica</td><td>6.9      </td></tr>\n",
       "\t<tr><td>virginica</td><td>5.8      </td></tr>\n",
       "\t<tr><td>virginica</td><td>6.8      </td></tr>\n",
       "\t<tr><td>virginica</td><td>6.7      </td></tr>\n",
       "\t<tr><td>virginica</td><td>6.7      </td></tr>\n",
       "\t<tr><td>virginica</td><td>6.3      </td></tr>\n",
       "\t<tr><td>virginica</td><td>6.5      </td></tr>\n",
       "\t<tr><td>virginica</td><td>6.2      </td></tr>\n",
       "\t<tr><td>virginica</td><td>5.9      </td></tr>\n",
       "</tbody>\n",
       "</table>\n"
      ],
      "text/latex": [
       "\\begin{tabular}{r|ll}\n",
       " Species & Sepal.Length\\\\\n",
       "\\hline\n",
       "\t setosa & 5.1   \\\\\n",
       "\t setosa & 4.9   \\\\\n",
       "\t setosa & 4.7   \\\\\n",
       "\t setosa & 4.6   \\\\\n",
       "\t setosa & 5.0   \\\\\n",
       "\t setosa & 5.4   \\\\\n",
       "\t setosa & 4.6   \\\\\n",
       "\t setosa & 5.0   \\\\\n",
       "\t setosa & 4.4   \\\\\n",
       "\t setosa & 4.9   \\\\\n",
       "\t setosa & 5.4   \\\\\n",
       "\t setosa & 4.8   \\\\\n",
       "\t setosa & 4.8   \\\\\n",
       "\t setosa & 4.3   \\\\\n",
       "\t setosa & 5.8   \\\\\n",
       "\t setosa & 5.7   \\\\\n",
       "\t setosa & 5.4   \\\\\n",
       "\t setosa & 5.1   \\\\\n",
       "\t setosa & 5.7   \\\\\n",
       "\t setosa & 5.1   \\\\\n",
       "\t setosa & 5.4   \\\\\n",
       "\t setosa & 5.1   \\\\\n",
       "\t setosa & 4.6   \\\\\n",
       "\t setosa & 5.1   \\\\\n",
       "\t setosa & 4.8   \\\\\n",
       "\t setosa & 5.0   \\\\\n",
       "\t setosa & 5.0   \\\\\n",
       "\t setosa & 5.2   \\\\\n",
       "\t setosa & 5.2   \\\\\n",
       "\t setosa & 4.7   \\\\\n",
       "\t ... & ...\\\\\n",
       "\t virginica & 6.9      \\\\\n",
       "\t virginica & 5.6      \\\\\n",
       "\t virginica & 7.7      \\\\\n",
       "\t virginica & 6.3      \\\\\n",
       "\t virginica & 6.7      \\\\\n",
       "\t virginica & 7.2      \\\\\n",
       "\t virginica & 6.2      \\\\\n",
       "\t virginica & 6.1      \\\\\n",
       "\t virginica & 6.4      \\\\\n",
       "\t virginica & 7.2      \\\\\n",
       "\t virginica & 7.4      \\\\\n",
       "\t virginica & 7.9      \\\\\n",
       "\t virginica & 6.4      \\\\\n",
       "\t virginica & 6.3      \\\\\n",
       "\t virginica & 6.1      \\\\\n",
       "\t virginica & 7.7      \\\\\n",
       "\t virginica & 6.3      \\\\\n",
       "\t virginica & 6.4      \\\\\n",
       "\t virginica & 6.0      \\\\\n",
       "\t virginica & 6.9      \\\\\n",
       "\t virginica & 6.7      \\\\\n",
       "\t virginica & 6.9      \\\\\n",
       "\t virginica & 5.8      \\\\\n",
       "\t virginica & 6.8      \\\\\n",
       "\t virginica & 6.7      \\\\\n",
       "\t virginica & 6.7      \\\\\n",
       "\t virginica & 6.3      \\\\\n",
       "\t virginica & 6.5      \\\\\n",
       "\t virginica & 6.2      \\\\\n",
       "\t virginica & 5.9      \\\\\n",
       "\\end{tabular}\n"
      ],
      "text/markdown": [
       "\n",
       "| Species | Sepal.Length |\n",
       "|---|---|\n",
       "| setosa | 5.1    |\n",
       "| setosa | 4.9    |\n",
       "| setosa | 4.7    |\n",
       "| setosa | 4.6    |\n",
       "| setosa | 5.0    |\n",
       "| setosa | 5.4    |\n",
       "| setosa | 4.6    |\n",
       "| setosa | 5.0    |\n",
       "| setosa | 4.4    |\n",
       "| setosa | 4.9    |\n",
       "| setosa | 5.4    |\n",
       "| setosa | 4.8    |\n",
       "| setosa | 4.8    |\n",
       "| setosa | 4.3    |\n",
       "| setosa | 5.8    |\n",
       "| setosa | 5.7    |\n",
       "| setosa | 5.4    |\n",
       "| setosa | 5.1    |\n",
       "| setosa | 5.7    |\n",
       "| setosa | 5.1    |\n",
       "| setosa | 5.4    |\n",
       "| setosa | 5.1    |\n",
       "| setosa | 4.6    |\n",
       "| setosa | 5.1    |\n",
       "| setosa | 4.8    |\n",
       "| setosa | 5.0    |\n",
       "| setosa | 5.0    |\n",
       "| setosa | 5.2    |\n",
       "| setosa | 5.2    |\n",
       "| setosa | 4.7    |\n",
       "| ... | ... |\n",
       "| virginica | 6.9       |\n",
       "| virginica | 5.6       |\n",
       "| virginica | 7.7       |\n",
       "| virginica | 6.3       |\n",
       "| virginica | 6.7       |\n",
       "| virginica | 7.2       |\n",
       "| virginica | 6.2       |\n",
       "| virginica | 6.1       |\n",
       "| virginica | 6.4       |\n",
       "| virginica | 7.2       |\n",
       "| virginica | 7.4       |\n",
       "| virginica | 7.9       |\n",
       "| virginica | 6.4       |\n",
       "| virginica | 6.3       |\n",
       "| virginica | 6.1       |\n",
       "| virginica | 7.7       |\n",
       "| virginica | 6.3       |\n",
       "| virginica | 6.4       |\n",
       "| virginica | 6.0       |\n",
       "| virginica | 6.9       |\n",
       "| virginica | 6.7       |\n",
       "| virginica | 6.9       |\n",
       "| virginica | 5.8       |\n",
       "| virginica | 6.8       |\n",
       "| virginica | 6.7       |\n",
       "| virginica | 6.7       |\n",
       "| virginica | 6.3       |\n",
       "| virginica | 6.5       |\n",
       "| virginica | 6.2       |\n",
       "| virginica | 5.9       |\n",
       "\n"
      ],
      "text/plain": [
       "    Species   Sepal.Length\n",
       "1   setosa    5.1         \n",
       "2   setosa    4.9         \n",
       "3   setosa    4.7         \n",
       "4   setosa    4.6         \n",
       "5   setosa    5.0         \n",
       "6   setosa    5.4         \n",
       "7   setosa    4.6         \n",
       "8   setosa    5.0         \n",
       "9   setosa    4.4         \n",
       "10  setosa    4.9         \n",
       "11  setosa    5.4         \n",
       "12  setosa    4.8         \n",
       "13  setosa    4.8         \n",
       "14  setosa    4.3         \n",
       "15  setosa    5.8         \n",
       "16  setosa    5.7         \n",
       "17  setosa    5.4         \n",
       "18  setosa    5.1         \n",
       "19  setosa    5.7         \n",
       "20  setosa    5.1         \n",
       "21  setosa    5.4         \n",
       "22  setosa    5.1         \n",
       "23  setosa    4.6         \n",
       "24  setosa    5.1         \n",
       "25  setosa    4.8         \n",
       "26  setosa    5.0         \n",
       "27  setosa    5.0         \n",
       "28  setosa    5.2         \n",
       "29  setosa    5.2         \n",
       "30  setosa    4.7         \n",
       "... ...       ...         \n",
       "121 virginica 6.9         \n",
       "122 virginica 5.6         \n",
       "123 virginica 7.7         \n",
       "124 virginica 6.3         \n",
       "125 virginica 6.7         \n",
       "126 virginica 7.2         \n",
       "127 virginica 6.2         \n",
       "128 virginica 6.1         \n",
       "129 virginica 6.4         \n",
       "130 virginica 7.2         \n",
       "131 virginica 7.4         \n",
       "132 virginica 7.9         \n",
       "133 virginica 6.4         \n",
       "134 virginica 6.3         \n",
       "135 virginica 6.1         \n",
       "136 virginica 7.7         \n",
       "137 virginica 6.3         \n",
       "138 virginica 6.4         \n",
       "139 virginica 6.0         \n",
       "140 virginica 6.9         \n",
       "141 virginica 6.7         \n",
       "142 virginica 6.9         \n",
       "143 virginica 5.8         \n",
       "144 virginica 6.8         \n",
       "145 virginica 6.7         \n",
       "146 virginica 6.7         \n",
       "147 virginica 6.3         \n",
       "148 virginica 6.5         \n",
       "149 virginica 6.2         \n",
       "150 virginica 5.9         "
      ]
     },
     "metadata": {},
     "output_type": "display_data"
    }
   ],
   "source": [
    "# subset으로 컬럼 지우기\n",
    "subset(iris, select = c(Species, Sepal.Length))"
   ]
  },
  {
   "cell_type": "markdown",
   "id": "5ad41f79",
   "metadata": {},
   "source": [
    "---\n",
    "# 그룹연산 함수"
   ]
  },
  {
   "cell_type": "code",
   "execution_count": 56,
   "id": "66035bd9",
   "metadata": {},
   "outputs": [
    {
     "data": {
      "text/html": [
       "<table>\n",
       "<thead><tr><th scope=col>Species</th><th scope=col>Sepal.Width</th></tr></thead>\n",
       "<tbody>\n",
       "\t<tr><td>setosa    </td><td>3.428     </td></tr>\n",
       "\t<tr><td>versicolor</td><td>2.770     </td></tr>\n",
       "\t<tr><td>virginica </td><td>2.974     </td></tr>\n",
       "</tbody>\n",
       "</table>\n"
      ],
      "text/latex": [
       "\\begin{tabular}{r|ll}\n",
       " Species & Sepal.Width\\\\\n",
       "\\hline\n",
       "\t setosa     & 3.428     \\\\\n",
       "\t versicolor & 2.770     \\\\\n",
       "\t virginica  & 2.974     \\\\\n",
       "\\end{tabular}\n"
      ],
      "text/markdown": [
       "\n",
       "| Species | Sepal.Width |\n",
       "|---|---|\n",
       "| setosa     | 3.428      |\n",
       "| versicolor | 2.770      |\n",
       "| virginica  | 2.974      |\n",
       "\n"
      ],
      "text/plain": [
       "  Species    Sepal.Width\n",
       "1 setosa     3.428      \n",
       "2 versicolor 2.770      \n",
       "3 virginica  2.974      "
      ]
     },
     "metadata": {},
     "output_type": "display_data"
    }
   ],
   "source": [
    "# iris에서 Species 기준으로 Sepal.Width의 평균 구하기\n",
    "aggregate(Sepal.Width ~ Species, iris, mean)"
   ]
  },
  {
   "cell_type": "markdown",
   "id": "759884d2",
   "metadata": {},
   "source": [
    "# 서울시 교통사고 조사 데이터셋"
   ]
  },
  {
   "cell_type": "code",
   "execution_count": 57,
   "id": "8aa752c1",
   "metadata": {},
   "outputs": [
    {
     "name": "stdout",
     "output_type": "stream",
     "text": [
      "  년도 월 자치구명 발생건수 사망자수 부상자수\n",
      "1 2011  1   종로구      115        2      165\n",
      "2 2011  2   종로구       99        0      134\n",
      "3 2011  3   종로구      116        0      162\n",
      "4 2011  4   종로구      110        1      153\n",
      "5 2011  5   종로구      122        0      157\n",
      "6 2011  6   종로구      116        3      163\n"
     ]
    }
   ],
   "source": [
    "# 데이터셋을 불러와서 seoul이라는 변수에 넣기\n",
    "\n",
    "seoul <- read.csv(\"../Data/newSeoul2019.csv\", fileEncoding = \"utf-8\")\n",
    "print(head(seoul))"
   ]
  },
  {
   "cell_type": "code",
   "execution_count": 58,
   "id": "4bb3975d",
   "metadata": {},
   "outputs": [
    {
     "data": {
      "text/html": [
       "<table>\n",
       "<thead><tr><th></th><th scope=col>년도</th><th scope=col>월</th><th scope=col>자치구명</th><th scope=col>발생건수</th><th scope=col>사망자수</th><th scope=col>부상자수</th></tr></thead>\n",
       "<tbody>\n",
       "\t<tr><th scope=row>2695</th><td>2019  </td><td> 7    </td><td>강동구</td><td>146   </td><td>2     </td><td>189   </td></tr>\n",
       "\t<tr><th scope=row>2696</th><td>2019  </td><td> 8    </td><td>강동구</td><td>127   </td><td>2     </td><td>175   </td></tr>\n",
       "\t<tr><th scope=row>2697</th><td>2019  </td><td> 9    </td><td>강동구</td><td> 98   </td><td>2     </td><td>137   </td></tr>\n",
       "\t<tr><th scope=row>2698</th><td>2019  </td><td>10    </td><td>강동구</td><td>108   </td><td>1     </td><td>144   </td></tr>\n",
       "\t<tr><th scope=row>2699</th><td>2019  </td><td>11    </td><td>강동구</td><td>146   </td><td>0     </td><td>199   </td></tr>\n",
       "\t<tr><th scope=row>2700</th><td>2019  </td><td>12    </td><td>강동구</td><td>108   </td><td>1     </td><td>131   </td></tr>\n",
       "</tbody>\n",
       "</table>\n"
      ],
      "text/latex": [
       "\\begin{tabular}{r|llllll}\n",
       "  & 년도 & 월 & 자치구명 & 발생건수 & 사망자수 & 부상자수\\\\\n",
       "\\hline\n",
       "\t2695 & 2019   &  7     & 강동구 & 146    & 2      & 189   \\\\\n",
       "\t2696 & 2019   &  8     & 강동구 & 127    & 2      & 175   \\\\\n",
       "\t2697 & 2019   &  9     & 강동구 &  98    & 2      & 137   \\\\\n",
       "\t2698 & 2019   & 10     & 강동구 & 108    & 1      & 144   \\\\\n",
       "\t2699 & 2019   & 11     & 강동구 & 146    & 0      & 199   \\\\\n",
       "\t2700 & 2019   & 12     & 강동구 & 108    & 1      & 131   \\\\\n",
       "\\end{tabular}\n"
      ],
      "text/markdown": [
       "\n",
       "| <!--/--> | 년도 | 월 | 자치구명 | 발생건수 | 사망자수 | 부상자수 |\n",
       "|---|---|---|---|---|---|---|\n",
       "| 2695 | 2019   |  7     | 강동구 | 146    | 2      | 189    |\n",
       "| 2696 | 2019   |  8     | 강동구 | 127    | 2      | 175    |\n",
       "| 2697 | 2019   |  9     | 강동구 |  98    | 2      | 137    |\n",
       "| 2698 | 2019   | 10     | 강동구 | 108    | 1      | 144    |\n",
       "| 2699 | 2019   | 11     | 강동구 | 146    | 0      | 199    |\n",
       "| 2700 | 2019   | 12     | 강동구 | 108    | 1      | 131    |\n",
       "\n"
      ],
      "text/plain": [
       "     년도 월 자치구명 발생건수 사망자수 부상자수\n",
       "2695 2019  7 강동구   146      2        189     \n",
       "2696 2019  8 강동구   127      2        175     \n",
       "2697 2019  9 강동구    98      2        137     \n",
       "2698 2019 10 강동구   108      1        144     \n",
       "2699 2019 11 강동구   146      0        199     \n",
       "2700 2019 12 강동구   108      1        131     "
      ]
     },
     "metadata": {},
     "output_type": "display_data"
    }
   ],
   "source": [
    "tail(seoul)"
   ]
  },
  {
   "cell_type": "code",
   "execution_count": 59,
   "id": "df6c4664",
   "metadata": {},
   "outputs": [
    {
     "name": "stdout",
     "output_type": "stream",
     "text": [
      "'data.frame':\t2700 obs. of  6 variables:\n",
      " $ 년도    : int  2011 2011 2011 2011 2011 2011 2011 2011 2011 2011 ...\n",
      " $ 월      : int  1 2 3 4 5 6 7 8 9 10 ...\n",
      " $ 자치구명: Factor w/ 25 levels \"강남구\",\"강동구\",..: 23 23 23 23 23 23 23 23 23 23 ...\n",
      " $ 발생건수: int  115 99 116 110 122 116 103 122 121 135 ...\n",
      " $ 사망자수: int  2 0 0 1 0 3 1 1 2 2 ...\n",
      " $ 부상자수: int  165 134 162 153 157 163 154 171 166 193 ...\n"
     ]
    }
   ],
   "source": [
    "str(seoul)"
   ]
  },
  {
   "cell_type": "code",
   "execution_count": 60,
   "id": "6dd2b585",
   "metadata": {},
   "outputs": [
    {
     "name": "stdout",
     "output_type": "stream",
     "text": [
      "년도 \t: 0 \n",
      "월 \t: 0 \n",
      "자치구명 \t: 0 \n",
      "발생건수 \t: 0 \n",
      "사망자수 \t: 0 \n",
      "부상자수 \t: 0 \n"
     ]
    }
   ],
   "source": [
    "# NA 확인\n",
    "for (i in 1:ncol(seoul)) {\n",
    "    cat(colnames(seoul)[i],\"\\t:\",sum(is.na(seoul[,i])), \"\\n\")\n",
    "}\n"
   ]
  },
  {
   "cell_type": "code",
   "execution_count": 61,
   "id": "28c5d2c4",
   "metadata": {},
   "outputs": [
    {
     "data": {
      "text/plain": [
       "      년도            월           자치구명       발생건수        사망자수     \n",
       " Min.   :2011   Min.   : 1.00   강남구 : 108   Min.   : 45.0   Min.   : 0.000  \n",
       " 1st Qu.:2013   1st Qu.: 3.75   강동구 : 108   1st Qu.:100.0   1st Qu.: 0.000  \n",
       " Median :2015   Median : 6.50   강북구 : 108   Median :122.0   Median : 1.000  \n",
       " Mean   :2015   Mean   : 6.50   강서구 : 108   Mean   :133.3   Mean   : 1.207  \n",
       " 3rd Qu.:2017   3rd Qu.: 9.25   관악구 : 108   3rd Qu.:149.0   3rd Qu.: 2.000  \n",
       " Max.   :2019   Max.   :12.00   광진구 : 108   Max.   :383.0   Max.   :10.000  \n",
       "                                (Other):2052                                   \n",
       "    부상자수    \n",
       " Min.   : 55.0  \n",
       " 1st Qu.:138.0  \n",
       " Median :168.0  \n",
       " Mean   :187.4  \n",
       " 3rd Qu.:208.0  \n",
       " Max.   :552.0  \n",
       "                "
      ]
     },
     "metadata": {},
     "output_type": "display_data"
    }
   ],
   "source": [
    "summary(seoul)"
   ]
  },
  {
   "cell_type": "markdown",
   "id": "10ee4dd5",
   "metadata": {},
   "source": [
    "---\n",
    "### 컬럼별 데이터 확인\n",
    "\n"
   ]
  },
  {
   "cell_type": "code",
   "execution_count": 62,
   "id": "df419f69",
   "metadata": {},
   "outputs": [
    {
     "data": {
      "text/plain": [
       "\n",
       "2011 2012 2013 2014 2015 2016 2017 2018 2019 \n",
       " 300  300  300  300  300  300  300  300  300 "
      ]
     },
     "metadata": {},
     "output_type": "display_data"
    }
   ],
   "source": [
    "# 연도\n",
    "table(seoul$년도)"
   ]
  },
  {
   "cell_type": "code",
   "execution_count": 63,
   "id": "bc9ee9e4",
   "metadata": {},
   "outputs": [
    {
     "data": {
      "text/plain": [
       "\n",
       "  1   2   3   4   5   6   7   8   9  10  11  12 \n",
       "225 225 225 225 225 225 225 225 225 225 225 225 "
      ]
     },
     "metadata": {},
     "output_type": "display_data"
    }
   ],
   "source": [
    "# 월\n",
    "table(seoul$월)"
   ]
  },
  {
   "cell_type": "code",
   "execution_count": 64,
   "id": "9be49304",
   "metadata": {},
   "outputs": [
    {
     "data": {
      "text/plain": [
       "\n",
       "  강남구   강동구   강북구   강서구   관악구   광진구   구로구   금천구 \n",
       "     108      108      108      108      108      108      108      108 \n",
       "  노원구   도봉구 동대문구   동작구   마포구 서대문구   서초구   성동구 \n",
       "     108      108      108      108      108      108      108      108 \n",
       "  성북구   송파구   양천구 영등포구   용산구   은평구   종로구     중구 \n",
       "     108      108      108      108      108      108      108      108 \n",
       "  중랑구 \n",
       "     108 "
      ]
     },
     "metadata": {},
     "output_type": "display_data"
    }
   ],
   "source": [
    "# 자치구별\n",
    "(table(seoul$자치구명))"
   ]
  },
  {
   "cell_type": "code",
   "execution_count": 65,
   "id": "bab505f3",
   "metadata": {},
   "outputs": [
    {
     "data": {
      "text/html": [
       "<table>\n",
       "<thead><tr><th scope=col>자치구명</th><th scope=col>발생건수</th></tr></thead>\n",
       "<tbody>\n",
       "\t<tr><td>강남구  </td><td>306.3611</td></tr>\n",
       "\t<tr><td>송파구  </td><td>224.7593</td></tr>\n",
       "\t<tr><td>영등포구</td><td>194.6481</td></tr>\n",
       "\t<tr><td>서초구  </td><td>186.4815</td></tr>\n",
       "\t<tr><td>동대문구</td><td>153.6481</td></tr>\n",
       "\t<tr><td>강서구  </td><td>145.4722</td></tr>\n",
       "</tbody>\n",
       "</table>\n"
      ],
      "text/latex": [
       "\\begin{tabular}{r|ll}\n",
       " 자치구명 & 발생건수\\\\\n",
       "\\hline\n",
       "\t 강남구   & 306.3611\\\\\n",
       "\t 송파구   & 224.7593\\\\\n",
       "\t 영등포구 & 194.6481\\\\\n",
       "\t 서초구   & 186.4815\\\\\n",
       "\t 동대문구 & 153.6481\\\\\n",
       "\t 강서구   & 145.4722\\\\\n",
       "\\end{tabular}\n"
      ],
      "text/markdown": [
       "\n",
       "| 자치구명 | 발생건수 |\n",
       "|---|---|\n",
       "| 강남구   | 306.3611 |\n",
       "| 송파구   | 224.7593 |\n",
       "| 영등포구 | 194.6481 |\n",
       "| 서초구   | 186.4815 |\n",
       "| 동대문구 | 153.6481 |\n",
       "| 강서구   | 145.4722 |\n",
       "\n"
      ],
      "text/plain": [
       "  자치구명 발생건수\n",
       "1 강남구   306.3611\n",
       "2 송파구   224.7593\n",
       "3 영등포구 194.6481\n",
       "4 서초구   186.4815\n",
       "5 동대문구 153.6481\n",
       "6 강서구   145.4722"
      ]
     },
     "metadata": {},
     "output_type": "display_data"
    }
   ],
   "source": [
    "# 자치구별 발생건수의 평균, 발생건수 기준으로 내림차순 정렬하기\n",
    "regionAcc.mean <- arrange(aggregate(발생건수 ~ 자치구명, seoul, mean), desc(발생건수))\n",
    "head(regionAcc.mean)"
   ]
  },
  {
   "cell_type": "code",
   "execution_count": 66,
   "id": "c6991a60",
   "metadata": {
    "scrolled": false
   },
   "outputs": [
    {
     "data": {
      "text/html": [
       "<table>\n",
       "<thead><tr><th scope=col>자치구명</th><th scope=col>발생건수</th></tr></thead>\n",
       "<tbody>\n",
       "\t<tr><td>강남구  </td><td>32.92968</td></tr>\n",
       "\t<tr><td>송파구  </td><td>30.14788</td></tr>\n",
       "\t<tr><td>서초구  </td><td>23.64357</td></tr>\n",
       "\t<tr><td>영등포구</td><td>22.91199</td></tr>\n",
       "\t<tr><td>동대문구</td><td>22.71453</td></tr>\n",
       "\t<tr><td>관악구  </td><td>22.62611</td></tr>\n",
       "</tbody>\n",
       "</table>\n"
      ],
      "text/latex": [
       "\\begin{tabular}{r|ll}\n",
       " 자치구명 & 발생건수\\\\\n",
       "\\hline\n",
       "\t 강남구   & 32.92968\\\\\n",
       "\t 송파구   & 30.14788\\\\\n",
       "\t 서초구   & 23.64357\\\\\n",
       "\t 영등포구 & 22.91199\\\\\n",
       "\t 동대문구 & 22.71453\\\\\n",
       "\t 관악구   & 22.62611\\\\\n",
       "\\end{tabular}\n"
      ],
      "text/markdown": [
       "\n",
       "| 자치구명 | 발생건수 |\n",
       "|---|---|\n",
       "| 강남구   | 32.92968 |\n",
       "| 송파구   | 30.14788 |\n",
       "| 서초구   | 23.64357 |\n",
       "| 영등포구 | 22.91199 |\n",
       "| 동대문구 | 22.71453 |\n",
       "| 관악구   | 22.62611 |\n",
       "\n"
      ],
      "text/plain": [
       "  자치구명 발생건수\n",
       "1 강남구   32.92968\n",
       "2 송파구   30.14788\n",
       "3 서초구   23.64357\n",
       "4 영등포구 22.91199\n",
       "5 동대문구 22.71453\n",
       "6 관악구   22.62611"
      ]
     },
     "metadata": {},
     "output_type": "display_data"
    }
   ],
   "source": [
    "head(arrange(aggregate(발생건수 ~ 자치구명, seoul, sd), desc(발생건수)))"
   ]
  },
  {
   "cell_type": "code",
   "execution_count": 67,
   "id": "20eff69c",
   "metadata": {},
   "outputs": [
    {
     "ename": "ERROR",
     "evalue": "Error in eval(expr, envir, enclos): 객체 'getGoo'를 찾을 수 없습니다\n",
     "output_type": "error",
     "traceback": [
      "Error in eval(expr, envir, enclos): 객체 'getGoo'를 찾을 수 없습니다\nTraceback:\n"
     ]
    }
   ],
   "source": [
    "getGoo"
   ]
  },
  {
   "cell_type": "code",
   "execution_count": 68,
   "id": "3b0a0ba9",
   "metadata": {},
   "outputs": [
    {
     "name": "stdout",
     "output_type": "stream",
     "text": [
      "  년도 월 자치구명 발생건수 사망자수 부상자수\n",
      "1 2011  1   강남구      229        4      331\n",
      "2 2011  2   강남구      204        2      297\n",
      "3 2011  3   강남구      260        1      374\n",
      "4 2011  4   강남구      292        2      436\n",
      "5 2011  5   강남구      281        4      398\n",
      "6 2011  6   강남구      289        6      431\n",
      "'data.frame':\t108 obs. of  6 variables:\n",
      " $ 년도    : int  2011 2011 2011 2011 2011 2011 2011 2011 2011 2011 ...\n",
      " $ 월      : int  1 2 3 4 5 6 7 8 9 10 ...\n",
      " $ 자치구명: Factor w/ 1 level \"강남구\": 1 1 1 1 1 1 1 1 1 1 ...\n",
      " $ 발생건수: int  229 204 260 292 281 289 350 294 299 353 ...\n",
      " $ 사망자수: int  4 2 1 2 4 6 2 4 1 3 ...\n",
      " $ 부상자수: int  331 297 374 436 398 431 494 449 417 544 ...\n"
     ]
    }
   ],
   "source": [
    "seoul_gangnam <- seoul[grep(\"강남구\",seoul$자치구명),]\n",
    "rownames(seoul_gangnam) <- c()\n",
    "print(head(seoul_gangnam))\n",
    "seoul_gangnam$자치구명 <- factor(seoul_gangnam$자치구명)\n",
    "str(seoul_gangnam)"
   ]
  },
  {
   "cell_type": "code",
   "execution_count": 69,
   "id": "5b54cfa5",
   "metadata": {},
   "outputs": [
    {
     "name": "stdout",
     "output_type": "stream",
     "text": [
      "  년도 월 자치구명 발생건수 사망자수 부상자수\n",
      "1 2011  1   송파구      167        2      252\n",
      "2 2011  2   송파구      154        3      226\n",
      "3 2011  3   송파구      198        3      306\n",
      "4 2011  4   송파구      213        2      284\n",
      "5 2011  5   송파구      206        2      281\n",
      "6 2011  6   송파구      224        3      325\n",
      "'data.frame':\t108 obs. of  6 variables:\n",
      " $ 년도    : int  2011 2011 2011 2011 2011 2011 2011 2011 2011 2011 ...\n",
      " $ 월      : int  1 2 3 4 5 6 7 8 9 10 ...\n",
      " $ 자치구명: Factor w/ 1 level \"송파구\": 1 1 1 1 1 1 1 1 1 1 ...\n",
      " $ 발생건수: int  167 154 198 213 206 224 224 219 198 244 ...\n",
      " $ 사망자수: int  2 3 3 2 2 3 6 3 4 1 ...\n",
      " $ 부상자수: int  252 226 306 284 281 325 324 301 270 314 ...\n"
     ]
    }
   ],
   "source": [
    "seoul_songpa <- seoul[grep(\"송파구\",seoul$자치구명),]\n",
    "rownames(seoul_songpa) <- c()\n",
    "print(head(seoul_songpa))\n",
    "seoul_songpa$자치구명 <- factor(seoul_songpa$자치구명)\n",
    "str(seoul_songpa)"
   ]
  },
  {
   "cell_type": "code",
   "execution_count": 70,
   "id": "d6289376",
   "metadata": {},
   "outputs": [
    {
     "name": "stdout",
     "output_type": "stream",
     "text": [
      "  년도 월 자치구명 발생건수 사망자수 부상자수\n",
      "1 2011  1   서초구      153        1      216\n",
      "2 2011  2   서초구      126        2      182\n",
      "3 2011  3   서초구      142        0      202\n",
      "4 2011  4   서초구      167        3      246\n",
      "5 2011  5   서초구      195        0      330\n",
      "6 2011  6   서초구      185        0      288\n",
      "'data.frame':\t108 obs. of  6 variables:\n",
      " $ 년도    : int  2011 2011 2011 2011 2011 2011 2011 2011 2011 2011 ...\n",
      " $ 월      : int  1 2 3 4 5 6 7 8 9 10 ...\n",
      " $ 자치구명: Factor w/ 1 level \"서초구\": 1 1 1 1 1 1 1 1 1 1 ...\n",
      " $ 발생건수: int  153 126 142 167 195 185 173 202 157 178 ...\n",
      " $ 사망자수: int  1 2 0 3 0 0 2 2 2 0 ...\n",
      " $ 부상자수: int  216 182 202 246 330 288 286 352 270 272 ...\n"
     ]
    }
   ],
   "source": [
    "seoul_seocho <- seoul[grep(\"서초구\",seoul$자치구명),]\n",
    "rownames(seoul_seocho) <- c()\n",
    "print(head(seoul_seocho))\n",
    "seoul_seocho$자치구명 <- factor(seoul_seocho$자치구명)\n",
    "str(seoul_seocho)"
   ]
  },
  {
   "cell_type": "code",
   "execution_count": 71,
   "id": "03e27603",
   "metadata": {},
   "outputs": [
    {
     "data": {
      "text/html": [
       "<ol class=list-inline>\n",
       "\t<li><time datetime=\"2011-01-01\">2011-01-01</time></li>\n",
       "\t<li><time datetime=\"2011-02-01\">2011-02-01</time></li>\n",
       "\t<li><time datetime=\"2011-03-01\">2011-03-01</time></li>\n",
       "\t<li><time datetime=\"2011-04-01\">2011-04-01</time></li>\n",
       "\t<li><time datetime=\"2011-05-01\">2011-05-01</time></li>\n",
       "\t<li><time datetime=\"2011-06-01\">2011-06-01</time></li>\n",
       "\t<li><time datetime=\"2011-07-01\">2011-07-01</time></li>\n",
       "\t<li><time datetime=\"2011-08-01\">2011-08-01</time></li>\n",
       "\t<li><time datetime=\"2011-09-01\">2011-09-01</time></li>\n",
       "\t<li><time datetime=\"2011-10-01\">2011-10-01</time></li>\n",
       "\t<li><time datetime=\"2011-11-01\">2011-11-01</time></li>\n",
       "\t<li><time datetime=\"2011-12-01\">2011-12-01</time></li>\n",
       "\t<li><time datetime=\"2012-01-01\">2012-01-01</time></li>\n",
       "\t<li><time datetime=\"2012-02-01\">2012-02-01</time></li>\n",
       "\t<li><time datetime=\"2012-03-01\">2012-03-01</time></li>\n",
       "\t<li><time datetime=\"2012-04-01\">2012-04-01</time></li>\n",
       "\t<li><time datetime=\"2012-05-01\">2012-05-01</time></li>\n",
       "\t<li><time datetime=\"2012-06-01\">2012-06-01</time></li>\n",
       "\t<li><time datetime=\"2012-07-01\">2012-07-01</time></li>\n",
       "\t<li><time datetime=\"2012-08-01\">2012-08-01</time></li>\n",
       "\t<li><time datetime=\"2012-09-01\">2012-09-01</time></li>\n",
       "\t<li><time datetime=\"2012-10-01\">2012-10-01</time></li>\n",
       "\t<li><time datetime=\"2012-11-01\">2012-11-01</time></li>\n",
       "\t<li><time datetime=\"2012-12-01\">2012-12-01</time></li>\n",
       "\t<li><time datetime=\"2013-01-01\">2013-01-01</time></li>\n",
       "\t<li><time datetime=\"2013-02-01\">2013-02-01</time></li>\n",
       "\t<li><time datetime=\"2013-03-01\">2013-03-01</time></li>\n",
       "\t<li><time datetime=\"2013-04-01\">2013-04-01</time></li>\n",
       "\t<li><time datetime=\"2013-05-01\">2013-05-01</time></li>\n",
       "\t<li><time datetime=\"2013-06-01\">2013-06-01</time></li>\n",
       "\t<li><time datetime=\"2013-07-01\">2013-07-01</time></li>\n",
       "\t<li><time datetime=\"2013-08-01\">2013-08-01</time></li>\n",
       "\t<li><time datetime=\"2013-09-01\">2013-09-01</time></li>\n",
       "\t<li><time datetime=\"2013-10-01\">2013-10-01</time></li>\n",
       "\t<li><time datetime=\"2013-11-01\">2013-11-01</time></li>\n",
       "\t<li><time datetime=\"2013-12-01\">2013-12-01</time></li>\n",
       "\t<li><time datetime=\"2014-01-01\">2014-01-01</time></li>\n",
       "\t<li><time datetime=\"2014-02-01\">2014-02-01</time></li>\n",
       "\t<li><time datetime=\"2014-03-01\">2014-03-01</time></li>\n",
       "\t<li><time datetime=\"2014-04-01\">2014-04-01</time></li>\n",
       "\t<li><time datetime=\"2014-05-01\">2014-05-01</time></li>\n",
       "\t<li><time datetime=\"2014-06-01\">2014-06-01</time></li>\n",
       "\t<li><time datetime=\"2014-07-01\">2014-07-01</time></li>\n",
       "\t<li><time datetime=\"2014-08-01\">2014-08-01</time></li>\n",
       "\t<li><time datetime=\"2014-09-01\">2014-09-01</time></li>\n",
       "\t<li><time datetime=\"2014-10-01\">2014-10-01</time></li>\n",
       "\t<li><time datetime=\"2014-11-01\">2014-11-01</time></li>\n",
       "\t<li><time datetime=\"2014-12-01\">2014-12-01</time></li>\n",
       "\t<li><time datetime=\"2015-01-01\">2015-01-01</time></li>\n",
       "\t<li><time datetime=\"2015-02-01\">2015-02-01</time></li>\n",
       "\t<li><time datetime=\"2015-03-01\">2015-03-01</time></li>\n",
       "\t<li><time datetime=\"2015-04-01\">2015-04-01</time></li>\n",
       "\t<li><time datetime=\"2015-05-01\">2015-05-01</time></li>\n",
       "\t<li><time datetime=\"2015-06-01\">2015-06-01</time></li>\n",
       "\t<li><time datetime=\"2015-07-01\">2015-07-01</time></li>\n",
       "\t<li><time datetime=\"2015-08-01\">2015-08-01</time></li>\n",
       "\t<li><time datetime=\"2015-09-01\">2015-09-01</time></li>\n",
       "\t<li><time datetime=\"2015-10-01\">2015-10-01</time></li>\n",
       "\t<li><time datetime=\"2015-11-01\">2015-11-01</time></li>\n",
       "\t<li><time datetime=\"2015-12-01\">2015-12-01</time></li>\n",
       "\t<li><time datetime=\"2016-01-01\">2016-01-01</time></li>\n",
       "\t<li><time datetime=\"2016-02-01\">2016-02-01</time></li>\n",
       "\t<li><time datetime=\"2016-03-01\">2016-03-01</time></li>\n",
       "\t<li><time datetime=\"2016-04-01\">2016-04-01</time></li>\n",
       "\t<li><time datetime=\"2016-05-01\">2016-05-01</time></li>\n",
       "\t<li><time datetime=\"2016-06-01\">2016-06-01</time></li>\n",
       "\t<li><time datetime=\"2016-07-01\">2016-07-01</time></li>\n",
       "\t<li><time datetime=\"2016-08-01\">2016-08-01</time></li>\n",
       "\t<li><time datetime=\"2016-09-01\">2016-09-01</time></li>\n",
       "\t<li><time datetime=\"2016-10-01\">2016-10-01</time></li>\n",
       "\t<li><time datetime=\"2016-11-01\">2016-11-01</time></li>\n",
       "\t<li><time datetime=\"2016-12-01\">2016-12-01</time></li>\n",
       "\t<li><time datetime=\"2017-01-01\">2017-01-01</time></li>\n",
       "\t<li><time datetime=\"2017-02-01\">2017-02-01</time></li>\n",
       "\t<li><time datetime=\"2017-03-01\">2017-03-01</time></li>\n",
       "\t<li><time datetime=\"2017-04-01\">2017-04-01</time></li>\n",
       "\t<li><time datetime=\"2017-05-01\">2017-05-01</time></li>\n",
       "\t<li><time datetime=\"2017-06-01\">2017-06-01</time></li>\n",
       "\t<li><time datetime=\"2017-07-01\">2017-07-01</time></li>\n",
       "\t<li><time datetime=\"2017-08-01\">2017-08-01</time></li>\n",
       "\t<li><time datetime=\"2017-09-01\">2017-09-01</time></li>\n",
       "\t<li><time datetime=\"2017-10-01\">2017-10-01</time></li>\n",
       "\t<li><time datetime=\"2017-11-01\">2017-11-01</time></li>\n",
       "\t<li><time datetime=\"2017-12-01\">2017-12-01</time></li>\n",
       "\t<li><time datetime=\"2018-01-01\">2018-01-01</time></li>\n",
       "\t<li><time datetime=\"2018-02-01\">2018-02-01</time></li>\n",
       "\t<li><time datetime=\"2018-03-01\">2018-03-01</time></li>\n",
       "\t<li><time datetime=\"2018-04-01\">2018-04-01</time></li>\n",
       "\t<li><time datetime=\"2018-05-01\">2018-05-01</time></li>\n",
       "\t<li><time datetime=\"2018-06-01\">2018-06-01</time></li>\n",
       "\t<li><time datetime=\"2018-07-01\">2018-07-01</time></li>\n",
       "\t<li><time datetime=\"2018-08-01\">2018-08-01</time></li>\n",
       "\t<li><time datetime=\"2018-09-01\">2018-09-01</time></li>\n",
       "\t<li><time datetime=\"2018-10-01\">2018-10-01</time></li>\n",
       "\t<li><time datetime=\"2018-11-01\">2018-11-01</time></li>\n",
       "\t<li><time datetime=\"2018-12-01\">2018-12-01</time></li>\n",
       "\t<li><time datetime=\"2019-01-01\">2019-01-01</time></li>\n",
       "\t<li><time datetime=\"2019-02-01\">2019-02-01</time></li>\n",
       "\t<li><time datetime=\"2019-03-01\">2019-03-01</time></li>\n",
       "\t<li><time datetime=\"2019-04-01\">2019-04-01</time></li>\n",
       "\t<li><time datetime=\"2019-05-01\">2019-05-01</time></li>\n",
       "\t<li><time datetime=\"2019-06-01\">2019-06-01</time></li>\n",
       "\t<li><time datetime=\"2019-07-01\">2019-07-01</time></li>\n",
       "\t<li><time datetime=\"2019-08-01\">2019-08-01</time></li>\n",
       "\t<li><time datetime=\"2019-09-01\">2019-09-01</time></li>\n",
       "\t<li><time datetime=\"2019-10-01\">2019-10-01</time></li>\n",
       "\t<li><time datetime=\"2019-11-01\">2019-11-01</time></li>\n",
       "\t<li><time datetime=\"2019-12-01\">2019-12-01</time></li>\n",
       "</ol>\n"
      ],
      "text/latex": [
       "\\begin{enumerate*}\n",
       "\\item 2011-01-01\n",
       "\\item 2011-02-01\n",
       "\\item 2011-03-01\n",
       "\\item 2011-04-01\n",
       "\\item 2011-05-01\n",
       "\\item 2011-06-01\n",
       "\\item 2011-07-01\n",
       "\\item 2011-08-01\n",
       "\\item 2011-09-01\n",
       "\\item 2011-10-01\n",
       "\\item 2011-11-01\n",
       "\\item 2011-12-01\n",
       "\\item 2012-01-01\n",
       "\\item 2012-02-01\n",
       "\\item 2012-03-01\n",
       "\\item 2012-04-01\n",
       "\\item 2012-05-01\n",
       "\\item 2012-06-01\n",
       "\\item 2012-07-01\n",
       "\\item 2012-08-01\n",
       "\\item 2012-09-01\n",
       "\\item 2012-10-01\n",
       "\\item 2012-11-01\n",
       "\\item 2012-12-01\n",
       "\\item 2013-01-01\n",
       "\\item 2013-02-01\n",
       "\\item 2013-03-01\n",
       "\\item 2013-04-01\n",
       "\\item 2013-05-01\n",
       "\\item 2013-06-01\n",
       "\\item 2013-07-01\n",
       "\\item 2013-08-01\n",
       "\\item 2013-09-01\n",
       "\\item 2013-10-01\n",
       "\\item 2013-11-01\n",
       "\\item 2013-12-01\n",
       "\\item 2014-01-01\n",
       "\\item 2014-02-01\n",
       "\\item 2014-03-01\n",
       "\\item 2014-04-01\n",
       "\\item 2014-05-01\n",
       "\\item 2014-06-01\n",
       "\\item 2014-07-01\n",
       "\\item 2014-08-01\n",
       "\\item 2014-09-01\n",
       "\\item 2014-10-01\n",
       "\\item 2014-11-01\n",
       "\\item 2014-12-01\n",
       "\\item 2015-01-01\n",
       "\\item 2015-02-01\n",
       "\\item 2015-03-01\n",
       "\\item 2015-04-01\n",
       "\\item 2015-05-01\n",
       "\\item 2015-06-01\n",
       "\\item 2015-07-01\n",
       "\\item 2015-08-01\n",
       "\\item 2015-09-01\n",
       "\\item 2015-10-01\n",
       "\\item 2015-11-01\n",
       "\\item 2015-12-01\n",
       "\\item 2016-01-01\n",
       "\\item 2016-02-01\n",
       "\\item 2016-03-01\n",
       "\\item 2016-04-01\n",
       "\\item 2016-05-01\n",
       "\\item 2016-06-01\n",
       "\\item 2016-07-01\n",
       "\\item 2016-08-01\n",
       "\\item 2016-09-01\n",
       "\\item 2016-10-01\n",
       "\\item 2016-11-01\n",
       "\\item 2016-12-01\n",
       "\\item 2017-01-01\n",
       "\\item 2017-02-01\n",
       "\\item 2017-03-01\n",
       "\\item 2017-04-01\n",
       "\\item 2017-05-01\n",
       "\\item 2017-06-01\n",
       "\\item 2017-07-01\n",
       "\\item 2017-08-01\n",
       "\\item 2017-09-01\n",
       "\\item 2017-10-01\n",
       "\\item 2017-11-01\n",
       "\\item 2017-12-01\n",
       "\\item 2018-01-01\n",
       "\\item 2018-02-01\n",
       "\\item 2018-03-01\n",
       "\\item 2018-04-01\n",
       "\\item 2018-05-01\n",
       "\\item 2018-06-01\n",
       "\\item 2018-07-01\n",
       "\\item 2018-08-01\n",
       "\\item 2018-09-01\n",
       "\\item 2018-10-01\n",
       "\\item 2018-11-01\n",
       "\\item 2018-12-01\n",
       "\\item 2019-01-01\n",
       "\\item 2019-02-01\n",
       "\\item 2019-03-01\n",
       "\\item 2019-04-01\n",
       "\\item 2019-05-01\n",
       "\\item 2019-06-01\n",
       "\\item 2019-07-01\n",
       "\\item 2019-08-01\n",
       "\\item 2019-09-01\n",
       "\\item 2019-10-01\n",
       "\\item 2019-11-01\n",
       "\\item 2019-12-01\n",
       "\\end{enumerate*}\n"
      ],
      "text/markdown": [
       "1. 2011-01-01\n",
       "2. 2011-02-01\n",
       "3. 2011-03-01\n",
       "4. 2011-04-01\n",
       "5. 2011-05-01\n",
       "6. 2011-06-01\n",
       "7. 2011-07-01\n",
       "8. 2011-08-01\n",
       "9. 2011-09-01\n",
       "10. 2011-10-01\n",
       "11. 2011-11-01\n",
       "12. 2011-12-01\n",
       "13. 2012-01-01\n",
       "14. 2012-02-01\n",
       "15. 2012-03-01\n",
       "16. 2012-04-01\n",
       "17. 2012-05-01\n",
       "18. 2012-06-01\n",
       "19. 2012-07-01\n",
       "20. 2012-08-01\n",
       "21. 2012-09-01\n",
       "22. 2012-10-01\n",
       "23. 2012-11-01\n",
       "24. 2012-12-01\n",
       "25. 2013-01-01\n",
       "26. 2013-02-01\n",
       "27. 2013-03-01\n",
       "28. 2013-04-01\n",
       "29. 2013-05-01\n",
       "30. 2013-06-01\n",
       "31. 2013-07-01\n",
       "32. 2013-08-01\n",
       "33. 2013-09-01\n",
       "34. 2013-10-01\n",
       "35. 2013-11-01\n",
       "36. 2013-12-01\n",
       "37. 2014-01-01\n",
       "38. 2014-02-01\n",
       "39. 2014-03-01\n",
       "40. 2014-04-01\n",
       "41. 2014-05-01\n",
       "42. 2014-06-01\n",
       "43. 2014-07-01\n",
       "44. 2014-08-01\n",
       "45. 2014-09-01\n",
       "46. 2014-10-01\n",
       "47. 2014-11-01\n",
       "48. 2014-12-01\n",
       "49. 2015-01-01\n",
       "50. 2015-02-01\n",
       "51. 2015-03-01\n",
       "52. 2015-04-01\n",
       "53. 2015-05-01\n",
       "54. 2015-06-01\n",
       "55. 2015-07-01\n",
       "56. 2015-08-01\n",
       "57. 2015-09-01\n",
       "58. 2015-10-01\n",
       "59. 2015-11-01\n",
       "60. 2015-12-01\n",
       "61. 2016-01-01\n",
       "62. 2016-02-01\n",
       "63. 2016-03-01\n",
       "64. 2016-04-01\n",
       "65. 2016-05-01\n",
       "66. 2016-06-01\n",
       "67. 2016-07-01\n",
       "68. 2016-08-01\n",
       "69. 2016-09-01\n",
       "70. 2016-10-01\n",
       "71. 2016-11-01\n",
       "72. 2016-12-01\n",
       "73. 2017-01-01\n",
       "74. 2017-02-01\n",
       "75. 2017-03-01\n",
       "76. 2017-04-01\n",
       "77. 2017-05-01\n",
       "78. 2017-06-01\n",
       "79. 2017-07-01\n",
       "80. 2017-08-01\n",
       "81. 2017-09-01\n",
       "82. 2017-10-01\n",
       "83. 2017-11-01\n",
       "84. 2017-12-01\n",
       "85. 2018-01-01\n",
       "86. 2018-02-01\n",
       "87. 2018-03-01\n",
       "88. 2018-04-01\n",
       "89. 2018-05-01\n",
       "90. 2018-06-01\n",
       "91. 2018-07-01\n",
       "92. 2018-08-01\n",
       "93. 2018-09-01\n",
       "94. 2018-10-01\n",
       "95. 2018-11-01\n",
       "96. 2018-12-01\n",
       "97. 2019-01-01\n",
       "98. 2019-02-01\n",
       "99. 2019-03-01\n",
       "100. 2019-04-01\n",
       "101. 2019-05-01\n",
       "102. 2019-06-01\n",
       "103. 2019-07-01\n",
       "104. 2019-08-01\n",
       "105. 2019-09-01\n",
       "106. 2019-10-01\n",
       "107. 2019-11-01\n",
       "108. 2019-12-01\n",
       "\n",
       "\n"
      ],
      "text/plain": [
       "  [1] \"2011-01-01\" \"2011-02-01\" \"2011-03-01\" \"2011-04-01\" \"2011-05-01\"\n",
       "  [6] \"2011-06-01\" \"2011-07-01\" \"2011-08-01\" \"2011-09-01\" \"2011-10-01\"\n",
       " [11] \"2011-11-01\" \"2011-12-01\" \"2012-01-01\" \"2012-02-01\" \"2012-03-01\"\n",
       " [16] \"2012-04-01\" \"2012-05-01\" \"2012-06-01\" \"2012-07-01\" \"2012-08-01\"\n",
       " [21] \"2012-09-01\" \"2012-10-01\" \"2012-11-01\" \"2012-12-01\" \"2013-01-01\"\n",
       " [26] \"2013-02-01\" \"2013-03-01\" \"2013-04-01\" \"2013-05-01\" \"2013-06-01\"\n",
       " [31] \"2013-07-01\" \"2013-08-01\" \"2013-09-01\" \"2013-10-01\" \"2013-11-01\"\n",
       " [36] \"2013-12-01\" \"2014-01-01\" \"2014-02-01\" \"2014-03-01\" \"2014-04-01\"\n",
       " [41] \"2014-05-01\" \"2014-06-01\" \"2014-07-01\" \"2014-08-01\" \"2014-09-01\"\n",
       " [46] \"2014-10-01\" \"2014-11-01\" \"2014-12-01\" \"2015-01-01\" \"2015-02-01\"\n",
       " [51] \"2015-03-01\" \"2015-04-01\" \"2015-05-01\" \"2015-06-01\" \"2015-07-01\"\n",
       " [56] \"2015-08-01\" \"2015-09-01\" \"2015-10-01\" \"2015-11-01\" \"2015-12-01\"\n",
       " [61] \"2016-01-01\" \"2016-02-01\" \"2016-03-01\" \"2016-04-01\" \"2016-05-01\"\n",
       " [66] \"2016-06-01\" \"2016-07-01\" \"2016-08-01\" \"2016-09-01\" \"2016-10-01\"\n",
       " [71] \"2016-11-01\" \"2016-12-01\" \"2017-01-01\" \"2017-02-01\" \"2017-03-01\"\n",
       " [76] \"2017-04-01\" \"2017-05-01\" \"2017-06-01\" \"2017-07-01\" \"2017-08-01\"\n",
       " [81] \"2017-09-01\" \"2017-10-01\" \"2017-11-01\" \"2017-12-01\" \"2018-01-01\"\n",
       " [86] \"2018-02-01\" \"2018-03-01\" \"2018-04-01\" \"2018-05-01\" \"2018-06-01\"\n",
       " [91] \"2018-07-01\" \"2018-08-01\" \"2018-09-01\" \"2018-10-01\" \"2018-11-01\"\n",
       " [96] \"2018-12-01\" \"2019-01-01\" \"2019-02-01\" \"2019-03-01\" \"2019-04-01\"\n",
       "[101] \"2019-05-01\" \"2019-06-01\" \"2019-07-01\" \"2019-08-01\" \"2019-09-01\"\n",
       "[106] \"2019-10-01\" \"2019-11-01\" \"2019-12-01\""
      ]
     },
     "metadata": {},
     "output_type": "display_data"
    }
   ],
   "source": [
    "date <- as.Date(paste(seoul_gangnam$년도,seoul_gangnam$월, 1,sep = \"-\"))\n",
    "date"
   ]
  },
  {
   "cell_type": "code",
   "execution_count": 72,
   "id": "20222af2",
   "metadata": {},
   "outputs": [],
   "source": [
    "min_occur <- min(min(seoul_gangnam$발생건수),min(seoul_songpa$발생건수),min(seoul_seocho$발생건수))\n",
    "max_occur <- max(max(seoul_gangnam$발생건수),max(seoul_songpa$발생건수),max(seoul_seocho$발생건수))"
   ]
  },
  {
   "cell_type": "code",
   "execution_count": 73,
   "id": "440a235d",
   "metadata": {
    "scrolled": false
   },
   "outputs": [
    {
     "data": {
      "image/png": "[encoded data removed]",
      "text/plain": [
       "plot without title"
      ]
     },
     "metadata": {},
     "output_type": "display_data"
    }
   ],
   "source": [
    "plot(date, seoul_gangnam$발생건수,\n",
    "    type = \"l\" , col=\"blue\", ylim=c(min_occur,max_occur)\n",
    "    )\n",
    "lines(date, seoul_songpa$발생건수, col=\"red\"\n",
    "    )\n",
    "lines(date, seoul_seocho$발생건수, col=\"green\"\n",
    "    )\n",
    "legend(as.Date(\"2017-01-01\"), 390, legend=c(\"강남구\", \"송파구\", \"서초구\"), \n",
    "       fill = c(\"blue\",\"red\", \"green\")\n",
    ")"
   ]
  },
  {
   "cell_type": "code",
   "execution_count": null,
   "id": "41136263",
   "metadata": {},
   "outputs": [],
   "source": [
    "boxplot(seoul_gangnam$발생건수 ~ seoul_gangnam$년도) "
   ]
  },
  {
   "cell_type": "code",
   "execution_count": null,
   "id": "6186fe47",
   "metadata": {},
   "outputs": [],
   "source": [
    "boxplot(seoul_seocho$발생건수 ~ seoul_seocho$년도) "
   ]
  },
  {
   "cell_type": "code",
   "execution_count": null,
   "id": "d68d35a8",
   "metadata": {},
   "outputs": [],
   "source": []
  },
  {
   "cell_type": "code",
   "execution_count": null,
   "id": "aa114698",
   "metadata": {},
   "outputs": [],
   "source": []
  },
  {
   "cell_type": "code",
   "execution_count": null,
   "id": "03163cfe",
   "metadata": {},
   "outputs": [],
   "source": []
  },
  {
   "cell_type": "code",
   "execution_count": null,
   "id": "46ff3658",
   "metadata": {},
   "outputs": [],
   "source": []
  },
  {
   "cell_type": "code",
   "execution_count": null,
   "id": "f6d7ef39",
   "metadata": {},
   "outputs": [],
   "source": []
  },
  {
   "cell_type": "code",
   "execution_count": null,
   "id": "058a2e9d",
   "metadata": {},
   "outputs": [],
   "source": []
  },
  {
   "cell_type": "code",
   "execution_count": null,
   "id": "7e695caa",
   "metadata": {},
   "outputs": [],
   "source": []
  },
  {
   "cell_type": "code",
   "execution_count": null,
   "id": "3026a563",
   "metadata": {},
   "outputs": [],
   "source": []
  },
  {
   "cell_type": "code",
   "execution_count": null,
   "id": "ebda3da8",
   "metadata": {},
   "outputs": [],
   "source": []
  },
  {
   "cell_type": "code",
   "execution_count": null,
   "id": "f976c40e",
   "metadata": {},
   "outputs": [],
   "source": []
  },
  {
   "cell_type": "code",
   "execution_count": null,
   "id": "d7fe71d2",
   "metadata": {},
   "outputs": [],
   "source": []
  },
  {
   "cell_type": "code",
   "execution_count": null,
   "id": "97881bbd",
   "metadata": {},
   "outputs": [],
   "source": []
  }
 ],
 "metadata": {
  "kernelspec": {
   "display_name": "R",
   "language": "R",
   "name": "ir"
  },
  "language_info": {
   "codemirror_mode": "r",
   "file_extension": ".r",
   "mimetype": "text/x-r-source",
   "name": "R",
   "pygments_lexer": "r",
   "version": "3.6.1"
  }
 },
 "nbformat": 4,
 "nbformat_minor": 5
}
