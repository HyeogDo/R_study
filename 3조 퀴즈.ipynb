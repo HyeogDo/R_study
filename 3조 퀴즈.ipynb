{
 "cells": [
  {
   "cell_type": "code",
   "execution_count": 1,
   "id": "0a2225c6",
   "metadata": {},
   "outputs": [
    {
     "data": {
      "text/html": [
       "<table>\n",
       "<thead><tr><th scope=col>광역시도</th><th scope=col>시군구</th><th scope=col>선거인수</th><th scope=col>투표수</th><th scope=col>이재명</th><th scope=col>윤석열</th><th scope=col>심상정</th></tr></thead>\n",
       "<tbody>\n",
       "\t<tr><td>서울특별시</td><td>종로구    </td><td>129968    </td><td>100629    </td><td> 46130    </td><td> 49172    </td><td>3115      </td></tr>\n",
       "\t<tr><td>서울특별시</td><td>중구      </td><td>111448    </td><td> 84998    </td><td> 38244    </td><td> 42906    </td><td>2310      </td></tr>\n",
       "\t<tr><td>서울특별시</td><td>용산구    </td><td>199077    </td><td>152068    </td><td> 60063    </td><td> 85047    </td><td>4374      </td></tr>\n",
       "\t<tr><td>서울특별시</td><td>성동구    </td><td>252087    </td><td>197240    </td><td> 84411    </td><td>103880    </td><td>5365      </td></tr>\n",
       "\t<tr><td>서울특별시</td><td>광진구    </td><td>303582    </td><td>235471    </td><td>109922    </td><td>113733    </td><td>7072      </td></tr>\n",
       "\t<tr><td>서울특별시</td><td>동대문구  </td><td>300928    </td><td>232106    </td><td>108171    </td><td>112890    </td><td>6416      </td></tr>\n",
       "</tbody>\n",
       "</table>\n"
      ],
      "text/latex": [
       "\\begin{tabular}{r|lllllll}\n",
       " 광역시도 & 시군구 & 선거인수 & 투표수 & 이재명 & 윤석열 & 심상정\\\\\n",
       "\\hline\n",
       "\t 서울특별시 & 종로구     & 129968     & 100629     &  46130     &  49172     & 3115      \\\\\n",
       "\t 서울특별시 & 중구       & 111448     &  84998     &  38244     &  42906     & 2310      \\\\\n",
       "\t 서울특별시 & 용산구     & 199077     & 152068     &  60063     &  85047     & 4374      \\\\\n",
       "\t 서울특별시 & 성동구     & 252087     & 197240     &  84411     & 103880     & 5365      \\\\\n",
       "\t 서울특별시 & 광진구     & 303582     & 235471     & 109922     & 113733     & 7072      \\\\\n",
       "\t 서울특별시 & 동대문구   & 300928     & 232106     & 108171     & 112890     & 6416      \\\\\n",
       "\\end{tabular}\n"
      ],
      "text/markdown": [
       "\n",
       "| 광역시도 | 시군구 | 선거인수 | 투표수 | 이재명 | 윤석열 | 심상정 |\n",
       "|---|---|---|---|---|---|---|\n",
       "| 서울특별시 | 종로구     | 129968     | 100629     |  46130     |  49172     | 3115       |\n",
       "| 서울특별시 | 중구       | 111448     |  84998     |  38244     |  42906     | 2310       |\n",
       "| 서울특별시 | 용산구     | 199077     | 152068     |  60063     |  85047     | 4374       |\n",
       "| 서울특별시 | 성동구     | 252087     | 197240     |  84411     | 103880     | 5365       |\n",
       "| 서울특별시 | 광진구     | 303582     | 235471     | 109922     | 113733     | 7072       |\n",
       "| 서울특별시 | 동대문구   | 300928     | 232106     | 108171     | 112890     | 6416       |\n",
       "\n"
      ],
      "text/plain": [
       "  광역시도   시군구   선거인수 투표수 이재명 윤석열 심상정\n",
       "1 서울특별시 종로구   129968   100629  46130  49172 3115  \n",
       "2 서울특별시 중구     111448    84998  38244  42906 2310  \n",
       "3 서울특별시 용산구   199077   152068  60063  85047 4374  \n",
       "4 서울특별시 성동구   252087   197240  84411 103880 5365  \n",
       "5 서울특별시 광진구   303582   235471 109922 113733 7072  \n",
       "6 서울특별시 동대문구 300928   232106 108171 112890 6416  "
      ]
     },
     "metadata": {},
     "output_type": "display_data"
    },
    {
     "name": "stderr",
     "output_type": "stream",
     "text": [
      "\n",
      "Attaching package: ‘dplyr’\n",
      "\n",
      "The following objects are masked from ‘package:stats’:\n",
      "\n",
      "    filter, lag\n",
      "\n",
      "The following objects are masked from ‘package:base’:\n",
      "\n",
      "    intersect, setdiff, setequal, union\n",
      "\n"
     ]
    }
   ],
   "source": [
    "election <- read.csv(\"../Data/election_2022.csv\", stringsAsFactors = F)\n",
    "head(election)\n",
    "library(dplyr)\n",
    "library(plotrix)\n",
    "library(stringr)\n",
    "options(scipen = 100)\n",
    "par(family = \"AppleGothic\")\n",
    "options(warn = -1)"
   ]
  },
  {
   "cell_type": "code",
   "execution_count": 12,
   "id": "e24a9ff0",
   "metadata": {},
   "outputs": [],
   "source": [
    "a <- aggregate(cbind(투표수,이재명, 윤석열, 심상정)~광역시도,election,sum)"
   ]
  },
  {
   "cell_type": "code",
   "execution_count": 17,
   "id": "113e5e8e",
   "metadata": {},
   "outputs": [],
   "source": [
    "강원권 <- c(\"강원도\")\n",
    "수도권 <- c(\"경기도\",\"서울특별시\",\"인천광역시\")\n",
    "영남권 <- c(\"경상북도\",\"경상남도\",\"부산광역시\",\"대구광역시\",\"울산광역시\")\n",
    "호남권 <- c(\"광주광역시\",\"대전광역시\",\"전라남도\",\"전라북도\")\n",
    "충청권 <- c(\"세종특별자치시\",\"충청남도\",\"충청북도\")"
   ]
  },
  {
   "cell_type": "code",
   "execution_count": 24,
   "id": "e3348589",
   "metadata": {},
   "outputs": [],
   "source": [
    "a <- election[is.element(election[,1],영남권),]\n",
    "영남권 <- c(sum(a$이재명) / sum(a$투표수) * 100,\n",
    "sum(a$윤석열) / sum(a$투표수) * 100,\n",
    "sum(a$심상정) / sum(a$투표수) * 100)"
   ]
  },
  {
   "cell_type": "code",
   "execution_count": 25,
   "id": "f823b5d7",
   "metadata": {},
   "outputs": [],
   "source": [
    "a <- election[is.element(election[,1],강원권),]\n",
    "강원권 <- c(sum(a$이재명) / sum(a$투표수) * 100,\n",
    "sum(a$윤석열) / sum(a$투표수) * 100,\n",
    "sum(a$심상정) / sum(a$투표수) * 100)"
   ]
  },
  {
   "cell_type": "code",
   "execution_count": 26,
   "id": "96f2e67a",
   "metadata": {},
   "outputs": [],
   "source": [
    "a <- election[is.element(election[,1],수도권),]\n",
    "수도권 <- c(sum(a$이재명) / sum(a$투표수) * 100,\n",
    "sum(a$윤석열) / sum(a$투표수) * 100,\n",
    "sum(a$심상정) / sum(a$투표수) * 100)"
   ]
  },
  {
   "cell_type": "code",
   "execution_count": 27,
   "id": "47315b82",
   "metadata": {},
   "outputs": [],
   "source": [
    "a <- election[is.element(election[,1],호남권),]\n",
    "호남권 <- c(sum(a$이재명) / sum(a$투표수) * 100,\n",
    "sum(a$윤석열) / sum(a$투표수) * 100,\n",
    "sum(a$심상정) / sum(a$투표수) * 100)"
   ]
  },
  {
   "cell_type": "code",
   "execution_count": 28,
   "id": "096a07b7",
   "metadata": {},
   "outputs": [],
   "source": [
    "a <- election[is.element(election[,1],충청권),]\n",
    "충청권 <- c(sum(a$이재명) / sum(a$투표수) * 100,\n",
    "sum(a$윤석열) / sum(a$투표수) * 100,\n",
    "sum(a$심상정) / sum(a$투표수) * 100)"
   ]
  },
  {
   "cell_type": "code",
   "execution_count": 32,
   "id": "d9bbb449",
   "metadata": {},
   "outputs": [],
   "source": [
    "result <- cbind(호남권,영남권,수도권,강원권,충청권)\n",
    "rownames(result) <- c(\"이재명\",\"윤석열\",\"심상정\")"
   ]
  },
  {
   "cell_type": "code",
   "execution_count": 36,
   "id": "f9be1d03",
   "metadata": {},
   "outputs": [],
   "source": [
    "result <- t(result)"
   ]
  },
  {
   "cell_type": "code",
   "execution_count": 46,
   "id": "00117a1f",
   "metadata": {},
   "outputs": [
    {
     "data": {
      "text/html": [
       "<ol class=list-inline>\n",
       "\t<li>'호남권'</li>\n",
       "\t<li>'영남권'</li>\n",
       "\t<li>'수도권'</li>\n",
       "\t<li>'강원권'</li>\n",
       "\t<li>'충청권'</li>\n",
       "</ol>\n"
      ],
      "text/latex": [
       "\\begin{enumerate*}\n",
       "\\item '호남권'\n",
       "\\item '영남권'\n",
       "\\item '수도권'\n",
       "\\item '강원권'\n",
       "\\item '충청권'\n",
       "\\end{enumerate*}\n"
      ],
      "text/markdown": [
       "1. '호남권'\n",
       "2. '영남권'\n",
       "3. '수도권'\n",
       "4. '강원권'\n",
       "5. '충청권'\n",
       "\n",
       "\n"
      ],
      "text/plain": [
       "[1] \"호남권\" \"영남권\" \"수도권\" \"강원권\" \"충청권\""
      ]
     },
     "metadata": {},
     "output_type": "display_data"
    }
   ],
   "source": [
    "rownames(result)"
   ]
  },
  {
   "cell_type": "code",
   "execution_count": 53,
   "id": "82d4b789",
   "metadata": {},
   "outputs": [
    {
     "data": {
      "image/png": "[encoded data removed]",
      "text/plain": [
       "plot without title"
      ]
     },
     "metadata": {},
     "output_type": "display_data"
    }
   ],
   "source": [
    "par(family = \"AppleGothic\")\n",
    "plot(result[,1],\n",
    "    type = \"o\",\n",
    "     ylim = c(0,100),\n",
    "     ann = F\n",
    "    )\n",
    "lines(result[,2],type=\"o\")\n",
    "lines(result[,3],type=\"o\")\n"
   ]
  },
  {
   "cell_type": "code",
   "execution_count": null,
   "id": "66f6ca9b",
   "metadata": {},
   "outputs": [],
   "source": []
  }
 ],
 "metadata": {
  "kernelspec": {
   "display_name": "R",
   "language": "R",
   "name": "ir"
  },
  "language_info": {
   "codemirror_mode": "r",
   "file_extension": ".r",
   "mimetype": "text/x-r-source",
   "name": "R",
   "pygments_lexer": "r",
   "version": "3.6.1"
  }
 },
 "nbformat": 4,
 "nbformat_minor": 5
}
