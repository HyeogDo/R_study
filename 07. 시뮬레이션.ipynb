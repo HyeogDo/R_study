{
 "cells": [
  {
   "cell_type": "markdown",
   "id": "9dfe25f0",
   "metadata": {},
   "source": [
    "# 몬테카를로 시뮬레이션"
   ]
  },
  {
   "cell_type": "markdown",
   "id": "f6f35ccf",
   "metadata": {},
   "source": [
    "### 동전의 앞면과 뒷면 시뮬레이션"
   ]
  },
  {
   "cell_type": "code",
   "execution_count": 1,
   "id": "90608613",
   "metadata": {},
   "outputs": [
    {
     "name": "stdout",
     "output_type": "stream",
     "text": [
      "[1] 1\n"
     ]
    }
   ],
   "source": [
    "x <- runif(1)\n",
    "if ( x <= 1/2 ) {\n",
    "    result = 0 # 앞면\n",
    "} else {\n",
    "    result = 1 # 뒷면\n",
    "}\n",
    "\n",
    "print(result)"
   ]
  },
  {
   "cell_type": "code",
   "execution_count": 2,
   "id": "27526acd",
   "metadata": {},
   "outputs": [],
   "source": [
    "coin <- function(n) {\n",
    "    count1 = 0 # 앞면\n",
    "    count2 = 0 # 뒷면\n",
    "    \n",
    "    for (i in 1:n) {\n",
    "        if ( runif(1) <= 1/2 ) {\n",
    "            count1 = count1 + 1\n",
    "        } else {\n",
    "            count2 = count2 + 1\n",
    "        }\n",
    "    }\n",
    "    cat(\"앞면 : \", 100*count1/(count1 + count2), \"\\n\")\n",
    "    cat(\"뒷면 : \", 100*count2/(count1 + count2), \"\\n\")\n",
    "    cat(\"------------------\\n\")\n",
    "}"
   ]
  },
  {
   "cell_type": "code",
   "execution_count": 3,
   "id": "703f3372",
   "metadata": {},
   "outputs": [
    {
     "name": "stdout",
     "output_type": "stream",
     "text": [
      "앞면 :  90 \n",
      "뒷면 :  10 \n",
      "------------------\n",
      "앞면 :  47 \n",
      "뒷면 :  53 \n",
      "------------------\n",
      "앞면 :  51.3 \n",
      "뒷면 :  48.7 \n",
      "------------------\n",
      "앞면 :  50.59 \n",
      "뒷면 :  49.41 \n",
      "------------------\n",
      "앞면 :  50.09 \n",
      "뒷면 :  49.91 \n",
      "------------------\n",
      "앞면 :  50.0159 \n",
      "뒷면 :  49.9841 \n",
      "------------------\n"
     ]
    }
   ],
   "source": [
    "coin(10)\n",
    "coin(100)\n",
    "coin(1000)\n",
    "coin(10000)\n",
    "coin(100000)\n",
    "coin(1000000)"
   ]
  },
  {
   "cell_type": "markdown",
   "id": "f3d1df29",
   "metadata": {},
   "source": [
    "### 가위 바위 보 시뮬레이션"
   ]
  },
  {
   "cell_type": "code",
   "execution_count": 4,
   "id": "bc629927",
   "metadata": {},
   "outputs": [],
   "source": [
    "rock <- function(n) {\n",
    "    countScissor = 0 # 가위\n",
    "    countRock = 0 # 바위\n",
    "    countPaper = 0 # 보\n",
    "    for (i in 1:n) {\n",
    "        x <- trunc(runif(1) * 3) + 1\n",
    "        if(x == 1) countScissor = countScissor + 1\n",
    "        if(x == 2) countRock = countRock + 1\n",
    "        if(x == 3) countPaper = countPaper + 1\n",
    "    }\n",
    "    cat(\"가위 :\\t\", 100*countScissor/(countScissor + countRock + countPaper), \"\\n\")\n",
    "    cat(\"바위 :\\t\", 100*countRock/(countScissor + countRock + countPaper), \"\\n\")\n",
    "    cat(\"보 :\\t\", 100*countPaper/(countScissor + countRock + countPaper), \"\\n\")\n",
    "    cat(\"------------------\\n\")\n",
    "}"
   ]
  },
  {
   "cell_type": "code",
   "execution_count": 5,
   "id": "f926a38a",
   "metadata": {
    "scrolled": true
   },
   "outputs": [
    {
     "name": "stdout",
     "output_type": "stream",
     "text": [
      "가위 :\t 30 \n",
      "바위 :\t 50 \n",
      "보 :\t 20 \n",
      "------------------\n",
      "가위 :\t 32 \n",
      "바위 :\t 29 \n",
      "보 :\t 39 \n",
      "------------------\n",
      "가위 :\t 36.9 \n",
      "바위 :\t 29.5 \n",
      "보 :\t 33.6 \n",
      "------------------\n",
      "가위 :\t 34.22 \n",
      "바위 :\t 33.06 \n",
      "보 :\t 32.72 \n",
      "------------------\n",
      "가위 :\t 33.351 \n",
      "바위 :\t 33.417 \n",
      "보 :\t 33.232 \n",
      "------------------\n",
      "가위 :\t 33.3939 \n",
      "바위 :\t 33.2305 \n",
      "보 :\t 33.3756 \n",
      "------------------\n"
     ]
    }
   ],
   "source": [
    "rock(10)\n",
    "rock(100)\n",
    "rock(1000)\n",
    "rock(10000)\n",
    "rock(100000)\n",
    "rock(1000000)"
   ]
  },
  {
   "cell_type": "markdown",
   "id": "6148b50b",
   "metadata": {},
   "source": [
    "### 주사위 시뮬레이션"
   ]
  },
  {
   "cell_type": "code",
   "execution_count": 23,
   "id": "eff644da",
   "metadata": {},
   "outputs": [],
   "source": [
    "dice <- function(n) {\n",
    "    count <- rep(0,6)\n",
    "    for (i in 1:n) {\n",
    "        x <- trunc(runif(1,1,7))\n",
    "        count[x] = count[x] + 1\n",
    "    }\n",
    "    cat(\"Throw :\", n,\"\\n\")\n",
    "    for (i in 1:length(count)) {\n",
    "        cat(\"NO\",i,\"=>\",count[i],\"\\n\")\n",
    "    }\n",
    "    \n",
    "    cat(\"----------------\\n\")\n",
    "}"
   ]
  },
  {
   "cell_type": "code",
   "execution_count": 19,
   "id": "a2b5f4c6",
   "metadata": {},
   "outputs": [],
   "source": [
    "options(scipen=100)"
   ]
  },
  {
   "cell_type": "code",
   "execution_count": 24,
   "id": "8386e20d",
   "metadata": {
    "scrolled": true
   },
   "outputs": [
    {
     "name": "stdout",
     "output_type": "stream",
     "text": [
      "Throw : 10 \n",
      "NO 1 => 0 \n",
      "NO 2 => 1 \n",
      "NO 3 => 2 \n",
      "NO 4 => 5 \n",
      "NO 5 => 1 \n",
      "NO 6 => 1 \n",
      "----------------\n",
      "Throw : 100 \n",
      "NO 1 => 13 \n",
      "NO 2 => 16 \n",
      "NO 3 => 13 \n",
      "NO 4 => 16 \n",
      "NO 5 => 20 \n",
      "NO 6 => 22 \n",
      "----------------\n",
      "Throw : 1000 \n",
      "NO 1 => 194 \n",
      "NO 2 => 160 \n",
      "NO 3 => 167 \n",
      "NO 4 => 167 \n",
      "NO 5 => 152 \n",
      "NO 6 => 160 \n",
      "----------------\n",
      "Throw : 10000 \n",
      "NO 1 => 1688 \n",
      "NO 2 => 1768 \n",
      "NO 3 => 1575 \n",
      "NO 4 => 1677 \n",
      "NO 5 => 1632 \n",
      "NO 6 => 1660 \n",
      "----------------\n",
      "Throw : 100000 \n",
      "NO 1 => 16703 \n",
      "NO 2 => 16510 \n",
      "NO 3 => 16807 \n",
      "NO 4 => 16720 \n",
      "NO 5 => 16670 \n",
      "NO 6 => 16590 \n",
      "----------------\n",
      "Throw : 1000000 \n",
      "NO 1 => 167258 \n",
      "NO 2 => 167003 \n",
      "NO 3 => 167019 \n",
      "NO 4 => 165876 \n",
      "NO 5 => 166672 \n",
      "NO 6 => 166172 \n",
      "----------------\n"
     ]
    }
   ],
   "source": [
    "dice(10)\n",
    "dice(100)\n",
    "dice(1000)\n",
    "dice(10000)\n",
    "dice(100000)\n",
    "dice(1000000)"
   ]
  },
  {
   "cell_type": "code",
   "execution_count": null,
   "id": "c2a5302d",
   "metadata": {},
   "outputs": [],
   "source": []
  },
  {
   "cell_type": "code",
   "execution_count": null,
   "id": "1ff0ebf9",
   "metadata": {},
   "outputs": [],
   "source": []
  },
  {
   "cell_type": "code",
   "execution_count": null,
   "id": "460513f1",
   "metadata": {},
   "outputs": [],
   "source": []
  },
  {
   "cell_type": "code",
   "execution_count": null,
   "id": "77041a40",
   "metadata": {},
   "outputs": [],
   "source": []
  },
  {
   "cell_type": "code",
   "execution_count": null,
   "id": "4f917c5a",
   "metadata": {},
   "outputs": [],
   "source": []
  },
  {
   "cell_type": "code",
   "execution_count": null,
   "id": "30f8cf10",
   "metadata": {},
   "outputs": [],
   "source": []
  },
  {
   "cell_type": "code",
   "execution_count": null,
   "id": "9446ff64",
   "metadata": {},
   "outputs": [],
   "source": []
  },
  {
   "cell_type": "code",
   "execution_count": null,
   "id": "fb50a3ec",
   "metadata": {},
   "outputs": [],
   "source": []
  },
  {
   "cell_type": "code",
   "execution_count": null,
   "id": "43f9a3cf",
   "metadata": {},
   "outputs": [],
   "source": []
  },
  {
   "cell_type": "code",
   "execution_count": null,
   "id": "e99e7c89",
   "metadata": {},
   "outputs": [],
   "source": []
  },
  {
   "cell_type": "code",
   "execution_count": null,
   "id": "7f5148e0",
   "metadata": {},
   "outputs": [],
   "source": []
  },
  {
   "cell_type": "code",
   "execution_count": null,
   "id": "f49558d0",
   "metadata": {},
   "outputs": [],
   "source": []
  },
  {
   "cell_type": "code",
   "execution_count": null,
   "id": "2e8ad067",
   "metadata": {},
   "outputs": [],
   "source": []
  }
 ],
 "metadata": {
  "kernelspec": {
   "display_name": "R",
   "language": "R",
   "name": "ir"
  },
  "language_info": {
   "codemirror_mode": "r",
   "file_extension": ".r",
   "mimetype": "text/x-r-source",
   "name": "R",
   "pygments_lexer": "r",
   "version": "3.6.1"
  }
 },
 "nbformat": 4,
 "nbformat_minor": 5
}
