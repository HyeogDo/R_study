{
 "cells": [
  {
   "cell_type": "code",
   "execution_count": 1,
   "id": "ff4df0f2",
   "metadata": {},
   "outputs": [
    {
     "data": {
      "text/html": [
       "<table>\n",
       "<thead><tr><th scope=col>V1</th><th scope=col>V2</th><th scope=col>V3</th><th scope=col>V4</th><th scope=col>V5</th><th scope=col>V6</th><th scope=col>V7</th><th scope=col>V8</th><th scope=col>V9</th><th scope=col>V10</th><th scope=col>...</th><th scope=col>V776</th><th scope=col>V777</th><th scope=col>V778</th><th scope=col>V779</th><th scope=col>V780</th><th scope=col>V781</th><th scope=col>V782</th><th scope=col>V783</th><th scope=col>V784</th><th scope=col>V785</th></tr></thead>\n",
       "<tbody>\n",
       "\t<tr><td>5  </td><td>0  </td><td>0  </td><td>0  </td><td>0  </td><td>0  </td><td>0  </td><td>0  </td><td>0  </td><td>0  </td><td>...</td><td>0  </td><td>0  </td><td>0  </td><td>0  </td><td>0  </td><td>0  </td><td>0  </td><td>0  </td><td>0  </td><td>0  </td></tr>\n",
       "\t<tr><td>0  </td><td>0  </td><td>0  </td><td>0  </td><td>0  </td><td>0  </td><td>0  </td><td>0  </td><td>0  </td><td>0  </td><td>...</td><td>0  </td><td>0  </td><td>0  </td><td>0  </td><td>0  </td><td>0  </td><td>0  </td><td>0  </td><td>0  </td><td>0  </td></tr>\n",
       "\t<tr><td>4  </td><td>0  </td><td>0  </td><td>0  </td><td>0  </td><td>0  </td><td>0  </td><td>0  </td><td>0  </td><td>0  </td><td>...</td><td>0  </td><td>0  </td><td>0  </td><td>0  </td><td>0  </td><td>0  </td><td>0  </td><td>0  </td><td>0  </td><td>0  </td></tr>\n",
       "\t<tr><td>1  </td><td>0  </td><td>0  </td><td>0  </td><td>0  </td><td>0  </td><td>0  </td><td>0  </td><td>0  </td><td>0  </td><td>...</td><td>0  </td><td>0  </td><td>0  </td><td>0  </td><td>0  </td><td>0  </td><td>0  </td><td>0  </td><td>0  </td><td>0  </td></tr>\n",
       "\t<tr><td>9  </td><td>0  </td><td>0  </td><td>0  </td><td>0  </td><td>0  </td><td>0  </td><td>0  </td><td>0  </td><td>0  </td><td>...</td><td>0  </td><td>0  </td><td>0  </td><td>0  </td><td>0  </td><td>0  </td><td>0  </td><td>0  </td><td>0  </td><td>0  </td></tr>\n",
       "\t<tr><td>2  </td><td>0  </td><td>0  </td><td>0  </td><td>0  </td><td>0  </td><td>0  </td><td>0  </td><td>0  </td><td>0  </td><td>...</td><td>0  </td><td>0  </td><td>0  </td><td>0  </td><td>0  </td><td>0  </td><td>0  </td><td>0  </td><td>0  </td><td>0  </td></tr>\n",
       "</tbody>\n",
       "</table>\n"
      ],
      "text/latex": [
       "\\begin{tabular}{r|lllllllllllllllllllllllllllllllllllllllllllllllllllllllllllllllllllllllllllllllllllllllllllllllllllllllllllllllllllllllllllllllllllllllllllllllllllllllllllllllllllllllllllllllllllllllllllllllllllllllllllllllllllllllllllllllllllllllllllllllllllllllllllllllllllllllllllllllllllllllllllllllllllllllllllllllllllllllllllllllllllllllllllllllllllllllllllllllllllllllllllllllllllllllllllllllllllllllllllllllllllllllllllllllllllllllllllllllllllllllllllllllllllllllllllllllllllllllllllllllllllllllllllllllllllllllllllllllllllllllllllllllllllllllllllllllllllllllllllllllllllllllllllllllllllllllllllllllllllllllllllllllllllllllllllllllllllllllllllllllllllllllllllllllllllllllllllllllllllllllllllllllllllllllllllllllllllllllllllllllllllllllllllllllllllllllllllllllllllllllllllllllllllllllllllllllll}\n",
       " V1 & V2 & V3 & V4 & V5 & V6 & V7 & V8 & V9 & V10 & ... & V776 & V777 & V778 & V779 & V780 & V781 & V782 & V783 & V784 & V785\\\\\n",
       "\\hline\n",
       "\t 5   & 0   & 0   & 0   & 0   & 0   & 0   & 0   & 0   & 0   & ... & 0   & 0   & 0   & 0   & 0   & 0   & 0   & 0   & 0   & 0  \\\\\n",
       "\t 0   & 0   & 0   & 0   & 0   & 0   & 0   & 0   & 0   & 0   & ... & 0   & 0   & 0   & 0   & 0   & 0   & 0   & 0   & 0   & 0  \\\\\n",
       "\t 4   & 0   & 0   & 0   & 0   & 0   & 0   & 0   & 0   & 0   & ... & 0   & 0   & 0   & 0   & 0   & 0   & 0   & 0   & 0   & 0  \\\\\n",
       "\t 1   & 0   & 0   & 0   & 0   & 0   & 0   & 0   & 0   & 0   & ... & 0   & 0   & 0   & 0   & 0   & 0   & 0   & 0   & 0   & 0  \\\\\n",
       "\t 9   & 0   & 0   & 0   & 0   & 0   & 0   & 0   & 0   & 0   & ... & 0   & 0   & 0   & 0   & 0   & 0   & 0   & 0   & 0   & 0  \\\\\n",
       "\t 2   & 0   & 0   & 0   & 0   & 0   & 0   & 0   & 0   & 0   & ... & 0   & 0   & 0   & 0   & 0   & 0   & 0   & 0   & 0   & 0  \\\\\n",
       "\\end{tabular}\n"
      ],
      "text/markdown": [
       "\n",
       "| V1 | V2 | V3 | V4 | V5 | V6 | V7 | V8 | V9 | V10 | ... | V776 | V777 | V778 | V779 | V780 | V781 | V782 | V783 | V784 | V785 |\n",
       "|---|---|---|---|---|---|---|---|---|---|---|---|---|---|---|---|---|---|---|---|---|\n",
       "| 5   | 0   | 0   | 0   | 0   | 0   | 0   | 0   | 0   | 0   | ... | 0   | 0   | 0   | 0   | 0   | 0   | 0   | 0   | 0   | 0   |\n",
       "| 0   | 0   | 0   | 0   | 0   | 0   | 0   | 0   | 0   | 0   | ... | 0   | 0   | 0   | 0   | 0   | 0   | 0   | 0   | 0   | 0   |\n",
       "| 4   | 0   | 0   | 0   | 0   | 0   | 0   | 0   | 0   | 0   | ... | 0   | 0   | 0   | 0   | 0   | 0   | 0   | 0   | 0   | 0   |\n",
       "| 1   | 0   | 0   | 0   | 0   | 0   | 0   | 0   | 0   | 0   | ... | 0   | 0   | 0   | 0   | 0   | 0   | 0   | 0   | 0   | 0   |\n",
       "| 9   | 0   | 0   | 0   | 0   | 0   | 0   | 0   | 0   | 0   | ... | 0   | 0   | 0   | 0   | 0   | 0   | 0   | 0   | 0   | 0   |\n",
       "| 2   | 0   | 0   | 0   | 0   | 0   | 0   | 0   | 0   | 0   | ... | 0   | 0   | 0   | 0   | 0   | 0   | 0   | 0   | 0   | 0   |\n",
       "\n"
      ],
      "text/plain": [
       "  V1 V2 V3 V4 V5 V6 V7 V8 V9 V10 ... V776 V777 V778 V779 V780 V781 V782 V783\n",
       "1 5  0  0  0  0  0  0  0  0  0   ... 0    0    0    0    0    0    0    0   \n",
       "2 0  0  0  0  0  0  0  0  0  0   ... 0    0    0    0    0    0    0    0   \n",
       "3 4  0  0  0  0  0  0  0  0  0   ... 0    0    0    0    0    0    0    0   \n",
       "4 1  0  0  0  0  0  0  0  0  0   ... 0    0    0    0    0    0    0    0   \n",
       "5 9  0  0  0  0  0  0  0  0  0   ... 0    0    0    0    0    0    0    0   \n",
       "6 2  0  0  0  0  0  0  0  0  0   ... 0    0    0    0    0    0    0    0   \n",
       "  V784 V785\n",
       "1 0    0   \n",
       "2 0    0   \n",
       "3 0    0   \n",
       "4 0    0   \n",
       "5 0    0   \n",
       "6 0    0   "
      ]
     },
     "metadata": {},
     "output_type": "display_data"
    }
   ],
   "source": [
    "# 손글씨 인식\n",
    "mnist <- read.csv(\"../Data/train_1k.csv\", header=F)\n",
    "head(mnist)"
   ]
  },
  {
   "cell_type": "code",
   "execution_count": 3,
   "id": "13542405",
   "metadata": {},
   "outputs": [
    {
     "data": {
      "text/html": [
       "<table>\n",
       "<thead><tr><th></th><th scope=col>V1</th><th scope=col>V2</th><th scope=col>V3</th><th scope=col>V4</th><th scope=col>V5</th><th scope=col>V6</th><th scope=col>V7</th><th scope=col>V8</th><th scope=col>V9</th><th scope=col>V10</th><th scope=col>...</th><th scope=col>V776</th><th scope=col>V777</th><th scope=col>V778</th><th scope=col>V779</th><th scope=col>V780</th><th scope=col>V781</th><th scope=col>V782</th><th scope=col>V783</th><th scope=col>V784</th><th scope=col>V785</th></tr></thead>\n",
       "<tbody>\n",
       "\t<tr><th scope=row>996</th><td>7  </td><td>0  </td><td>0  </td><td>0  </td><td>0  </td><td>0  </td><td>0  </td><td>0  </td><td>0  </td><td>0  </td><td>...</td><td>0  </td><td>0  </td><td>0  </td><td>0  </td><td>0  </td><td>0  </td><td>0  </td><td>0  </td><td>0  </td><td>0  </td></tr>\n",
       "\t<tr><th scope=row>997</th><td>6  </td><td>0  </td><td>0  </td><td>0  </td><td>0  </td><td>0  </td><td>0  </td><td>0  </td><td>0  </td><td>0  </td><td>...</td><td>0  </td><td>0  </td><td>0  </td><td>0  </td><td>0  </td><td>0  </td><td>0  </td><td>0  </td><td>0  </td><td>0  </td></tr>\n",
       "\t<tr><th scope=row>998</th><td>0  </td><td>0  </td><td>0  </td><td>0  </td><td>0  </td><td>0  </td><td>0  </td><td>0  </td><td>0  </td><td>0  </td><td>...</td><td>0  </td><td>0  </td><td>0  </td><td>0  </td><td>0  </td><td>0  </td><td>0  </td><td>0  </td><td>0  </td><td>0  </td></tr>\n",
       "\t<tr><th scope=row>999</th><td>3  </td><td>0  </td><td>0  </td><td>0  </td><td>0  </td><td>0  </td><td>0  </td><td>0  </td><td>0  </td><td>0  </td><td>...</td><td>0  </td><td>0  </td><td>0  </td><td>0  </td><td>0  </td><td>0  </td><td>0  </td><td>0  </td><td>0  </td><td>0  </td></tr>\n",
       "\t<tr><th scope=row>1000</th><td>6  </td><td>0  </td><td>0  </td><td>0  </td><td>0  </td><td>0  </td><td>0  </td><td>0  </td><td>0  </td><td>0  </td><td>...</td><td>0  </td><td>0  </td><td>0  </td><td>0  </td><td>0  </td><td>0  </td><td>0  </td><td>0  </td><td>0  </td><td>0  </td></tr>\n",
       "\t<tr><th scope=row>1001</th><td>0  </td><td>0  </td><td>0  </td><td>0  </td><td>0  </td><td>0  </td><td>0  </td><td>0  </td><td>0  </td><td>0  </td><td>...</td><td>0  </td><td>0  </td><td>0  </td><td>0  </td><td>0  </td><td>0  </td><td>0  </td><td>0  </td><td>0  </td><td>0  </td></tr>\n",
       "</tbody>\n",
       "</table>\n"
      ],
      "text/latex": [
       "\\begin{tabular}{r|lllllllllllllllllllllllllllllllllllllllllllllllllllllllllllllllllllllllllllllllllllllllllllllllllllllllllllllllllllllllllllllllllllllllllllllllllllllllllllllllllllllllllllllllllllllllllllllllllllllllllllllllllllllllllllllllllllllllllllllllllllllllllllllllllllllllllllllllllllllllllllllllllllllllllllllllllllllllllllllllllllllllllllllllllllllllllllllllllllllllllllllllllllllllllllllllllllllllllllllllllllllllllllllllllllllllllllllllllllllllllllllllllllllllllllllllllllllllllllllllllllllllllllllllllllllllllllllllllllllllllllllllllllllllllllllllllllllllllllllllllllllllllllllllllllllllllllllllllllllllllllllllllllllllllllllllllllllllllllllllllllllllllllllllllllllllllllllllllllllllllllllllllllllllllllllllllllllllllllllllllllllllllllllllllllllllllllllllllllllllllllllllllllllllllllllllll}\n",
       "  & V1 & V2 & V3 & V4 & V5 & V6 & V7 & V8 & V9 & V10 & ... & V776 & V777 & V778 & V779 & V780 & V781 & V782 & V783 & V784 & V785\\\\\n",
       "\\hline\n",
       "\t996 & 7   & 0   & 0   & 0   & 0   & 0   & 0   & 0   & 0   & 0   & ... & 0   & 0   & 0   & 0   & 0   & 0   & 0   & 0   & 0   & 0  \\\\\n",
       "\t997 & 6   & 0   & 0   & 0   & 0   & 0   & 0   & 0   & 0   & 0   & ... & 0   & 0   & 0   & 0   & 0   & 0   & 0   & 0   & 0   & 0  \\\\\n",
       "\t998 & 0   & 0   & 0   & 0   & 0   & 0   & 0   & 0   & 0   & 0   & ... & 0   & 0   & 0   & 0   & 0   & 0   & 0   & 0   & 0   & 0  \\\\\n",
       "\t999 & 3   & 0   & 0   & 0   & 0   & 0   & 0   & 0   & 0   & 0   & ... & 0   & 0   & 0   & 0   & 0   & 0   & 0   & 0   & 0   & 0  \\\\\n",
       "\t1000 & 6   & 0   & 0   & 0   & 0   & 0   & 0   & 0   & 0   & 0   & ... & 0   & 0   & 0   & 0   & 0   & 0   & 0   & 0   & 0   & 0  \\\\\n",
       "\t1001 & 0   & 0   & 0   & 0   & 0   & 0   & 0   & 0   & 0   & 0   & ... & 0   & 0   & 0   & 0   & 0   & 0   & 0   & 0   & 0   & 0  \\\\\n",
       "\\end{tabular}\n"
      ],
      "text/markdown": [
       "\n",
       "| <!--/--> | V1 | V2 | V3 | V4 | V5 | V6 | V7 | V8 | V9 | V10 | ... | V776 | V777 | V778 | V779 | V780 | V781 | V782 | V783 | V784 | V785 |\n",
       "|---|---|---|---|---|---|---|---|---|---|---|---|---|---|---|---|---|---|---|---|---|---|\n",
       "| 996 | 7   | 0   | 0   | 0   | 0   | 0   | 0   | 0   | 0   | 0   | ... | 0   | 0   | 0   | 0   | 0   | 0   | 0   | 0   | 0   | 0   |\n",
       "| 997 | 6   | 0   | 0   | 0   | 0   | 0   | 0   | 0   | 0   | 0   | ... | 0   | 0   | 0   | 0   | 0   | 0   | 0   | 0   | 0   | 0   |\n",
       "| 998 | 0   | 0   | 0   | 0   | 0   | 0   | 0   | 0   | 0   | 0   | ... | 0   | 0   | 0   | 0   | 0   | 0   | 0   | 0   | 0   | 0   |\n",
       "| 999 | 3   | 0   | 0   | 0   | 0   | 0   | 0   | 0   | 0   | 0   | ... | 0   | 0   | 0   | 0   | 0   | 0   | 0   | 0   | 0   | 0   |\n",
       "| 1000 | 6   | 0   | 0   | 0   | 0   | 0   | 0   | 0   | 0   | 0   | ... | 0   | 0   | 0   | 0   | 0   | 0   | 0   | 0   | 0   | 0   |\n",
       "| 1001 | 0   | 0   | 0   | 0   | 0   | 0   | 0   | 0   | 0   | 0   | ... | 0   | 0   | 0   | 0   | 0   | 0   | 0   | 0   | 0   | 0   |\n",
       "\n"
      ],
      "text/plain": [
       "     V1 V2 V3 V4 V5 V6 V7 V8 V9 V10 ... V776 V777 V778 V779 V780 V781 V782 V783\n",
       "996  7  0  0  0  0  0  0  0  0  0   ... 0    0    0    0    0    0    0    0   \n",
       "997  6  0  0  0  0  0  0  0  0  0   ... 0    0    0    0    0    0    0    0   \n",
       "998  0  0  0  0  0  0  0  0  0  0   ... 0    0    0    0    0    0    0    0   \n",
       "999  3  0  0  0  0  0  0  0  0  0   ... 0    0    0    0    0    0    0    0   \n",
       "1000 6  0  0  0  0  0  0  0  0  0   ... 0    0    0    0    0    0    0    0   \n",
       "1001 0  0  0  0  0  0  0  0  0  0   ... 0    0    0    0    0    0    0    0   \n",
       "     V784 V785\n",
       "996  0    0   \n",
       "997  0    0   \n",
       "998  0    0   \n",
       "999  0    0   \n",
       "1000 0    0   \n",
       "1001 0    0   "
      ]
     },
     "metadata": {},
     "output_type": "display_data"
    }
   ],
   "source": [
    "tail(mnist)"
   ]
  },
  {
   "cell_type": "code",
   "execution_count": 2,
   "id": "c1c8cd22",
   "metadata": {},
   "outputs": [
    {
     "name": "stdout",
     "output_type": "stream",
     "text": [
      "'data.frame':\t1001 obs. of  785 variables:\n",
      " $ V1  : int  5 0 4 1 9 2 1 3 1 4 ...\n",
      " $ V2  : int  0 0 0 0 0 0 0 0 0 0 ...\n",
      " $ V3  : int  0 0 0 0 0 0 0 0 0 0 ...\n",
      " $ V4  : int  0 0 0 0 0 0 0 0 0 0 ...\n",
      " $ V5  : int  0 0 0 0 0 0 0 0 0 0 ...\n",
      " $ V6  : int  0 0 0 0 0 0 0 0 0 0 ...\n",
      " $ V7  : int  0 0 0 0 0 0 0 0 0 0 ...\n",
      " $ V8  : int  0 0 0 0 0 0 0 0 0 0 ...\n",
      " $ V9  : int  0 0 0 0 0 0 0 0 0 0 ...\n",
      " $ V10 : int  0 0 0 0 0 0 0 0 0 0 ...\n",
      " $ V11 : int  0 0 0 0 0 0 0 0 0 0 ...\n",
      " $ V12 : int  0 0 0 0 0 0 0 0 0 0 ...\n",
      " $ V13 : int  0 0 0 0 0 0 0 0 0 0 ...\n",
      " $ V14 : int  0 0 0 0 0 0 0 0 0 0 ...\n",
      " $ V15 : int  0 0 0 0 0 0 0 0 0 0 ...\n",
      " $ V16 : int  0 0 0 0 0 0 0 0 0 0 ...\n",
      " $ V17 : int  0 0 0 0 0 0 0 0 0 0 ...\n",
      " $ V18 : int  0 0 0 0 0 0 0 0 0 0 ...\n",
      " $ V19 : int  0 0 0 0 0 0 0 0 0 0 ...\n",
      " $ V20 : int  0 0 0 0 0 0 0 0 0 0 ...\n",
      " $ V21 : int  0 0 0 0 0 0 0 0 0 0 ...\n",
      " $ V22 : int  0 0 0 0 0 0 0 0 0 0 ...\n",
      " $ V23 : int  0 0 0 0 0 0 0 0 0 0 ...\n",
      " $ V24 : int  0 0 0 0 0 0 0 0 0 0 ...\n",
      " $ V25 : int  0 0 0 0 0 0 0 0 0 0 ...\n",
      " $ V26 : int  0 0 0 0 0 0 0 0 0 0 ...\n",
      " $ V27 : int  0 0 0 0 0 0 0 0 0 0 ...\n",
      " $ V28 : int  0 0 0 0 0 0 0 0 0 0 ...\n",
      " $ V29 : int  0 0 0 0 0 0 0 0 0 0 ...\n",
      " $ V30 : int  0 0 0 0 0 0 0 0 0 0 ...\n",
      " $ V31 : int  0 0 0 0 0 0 0 0 0 0 ...\n",
      " $ V32 : int  0 0 0 0 0 0 0 0 0 0 ...\n",
      " $ V33 : int  0 0 0 0 0 0 0 0 0 0 ...\n",
      " $ V34 : int  0 0 0 0 0 0 0 0 0 0 ...\n",
      " $ V35 : int  0 0 0 0 0 0 0 0 0 0 ...\n",
      " $ V36 : int  0 0 0 0 0 0 0 0 0 0 ...\n",
      " $ V37 : int  0 0 0 0 0 0 0 0 0 0 ...\n",
      " $ V38 : int  0 0 0 0 0 0 0 0 0 0 ...\n",
      " $ V39 : int  0 0 0 0 0 0 0 0 0 0 ...\n",
      " $ V40 : int  0 0 0 0 0 0 0 0 0 0 ...\n",
      " $ V41 : int  0 0 0 0 0 0 0 0 0 0 ...\n",
      " $ V42 : int  0 0 0 0 0 0 0 0 0 0 ...\n",
      " $ V43 : int  0 0 0 0 0 0 0 0 0 0 ...\n",
      " $ V44 : int  0 0 0 0 0 0 0 0 0 0 ...\n",
      " $ V45 : int  0 0 0 0 0 0 0 0 0 0 ...\n",
      " $ V46 : int  0 0 0 0 0 0 0 0 0 0 ...\n",
      " $ V47 : int  0 0 0 0 0 0 0 0 0 0 ...\n",
      " $ V48 : int  0 0 0 0 0 0 0 0 0 0 ...\n",
      " $ V49 : int  0 0 0 0 0 0 0 0 0 0 ...\n",
      " $ V50 : int  0 0 0 0 0 0 0 0 0 0 ...\n",
      " $ V51 : int  0 0 0 0 0 0 0 0 0 0 ...\n",
      " $ V52 : int  0 0 0 0 0 0 0 0 0 0 ...\n",
      " $ V53 : int  0 0 0 0 0 0 0 0 0 0 ...\n",
      " $ V54 : int  0 0 0 0 0 0 0 0 0 0 ...\n",
      " $ V55 : int  0 0 0 0 0 0 0 0 0 0 ...\n",
      " $ V56 : int  0 0 0 0 0 0 0 0 0 0 ...\n",
      " $ V57 : int  0 0 0 0 0 0 0 0 0 0 ...\n",
      " $ V58 : int  0 0 0 0 0 0 0 0 0 0 ...\n",
      " $ V59 : int  0 0 0 0 0 0 0 0 0 0 ...\n",
      " $ V60 : int  0 0 0 0 0 0 0 0 0 0 ...\n",
      " $ V61 : int  0 0 0 0 0 0 0 0 0 0 ...\n",
      " $ V62 : int  0 0 0 0 0 0 0 0 0 0 ...\n",
      " $ V63 : int  0 0 0 0 0 0 0 0 0 0 ...\n",
      " $ V64 : int  0 0 0 0 0 0 0 0 0 0 ...\n",
      " $ V65 : int  0 0 0 0 0 0 0 0 0 0 ...\n",
      " $ V66 : int  0 0 0 0 0 0 0 0 0 0 ...\n",
      " $ V67 : int  0 0 0 0 0 0 0 0 0 0 ...\n",
      " $ V68 : int  0 0 0 0 0 0 0 0 0 0 ...\n",
      " $ V69 : int  0 0 0 0 0 0 0 0 0 0 ...\n",
      " $ V70 : int  0 0 0 0 0 0 0 0 0 0 ...\n",
      " $ V71 : int  0 0 0 0 0 0 0 0 0 0 ...\n",
      " $ V72 : int  0 0 0 0 0 0 0 0 0 0 ...\n",
      " $ V73 : int  0 0 0 0 0 0 0 0 0 0 ...\n",
      " $ V74 : int  0 0 0 0 0 0 0 0 0 0 ...\n",
      " $ V75 : int  0 0 0 0 0 0 0 0 0 0 ...\n",
      " $ V76 : int  0 0 0 0 0 0 0 0 0 0 ...\n",
      " $ V77 : int  0 0 0 0 0 0 0 0 0 0 ...\n",
      " $ V78 : int  0 0 0 0 0 0 0 0 0 0 ...\n",
      " $ V79 : int  0 0 0 0 0 0 0 0 0 0 ...\n",
      " $ V80 : int  0 0 0 0 0 0 0 0 0 0 ...\n",
      " $ V81 : int  0 0 0 0 0 0 0 0 0 0 ...\n",
      " $ V82 : int  0 0 0 0 0 0 0 0 0 0 ...\n",
      " $ V83 : int  0 0 0 0 0 0 0 0 0 0 ...\n",
      " $ V84 : int  0 0 0 0 0 0 0 0 0 0 ...\n",
      " $ V85 : int  0 0 0 0 0 0 0 0 0 0 ...\n",
      " $ V86 : int  0 0 0 0 0 0 0 0 0 0 ...\n",
      " $ V87 : int  0 0 0 0 0 0 0 0 0 0 ...\n",
      " $ V88 : int  0 0 0 0 0 0 0 0 0 0 ...\n",
      " $ V89 : int  0 0 0 0 0 0 0 0 0 0 ...\n",
      " $ V90 : int  0 0 0 0 0 0 0 0 0 0 ...\n",
      " $ V91 : int  0 0 0 0 0 0 0 0 0 0 ...\n",
      " $ V92 : int  0 0 0 0 0 0 0 0 0 0 ...\n",
      " $ V93 : int  0 0 0 0 0 0 0 0 0 0 ...\n",
      " $ V94 : int  0 0 0 0 0 0 0 0 0 0 ...\n",
      " $ V95 : int  0 0 0 0 0 0 0 0 0 0 ...\n",
      " $ V96 : int  0 0 0 0 0 0 0 0 0 0 ...\n",
      " $ V97 : int  0 0 0 0 0 0 0 0 0 0 ...\n",
      " $ V98 : int  0 0 0 0 0 0 0 0 0 0 ...\n",
      " $ V99 : int  0 0 0 0 0 0 0 0 0 0 ...\n",
      "  [list output truncated]\n"
     ]
    }
   ],
   "source": [
    "str(mnist)"
   ]
  },
  {
   "cell_type": "code",
   "execution_count": 4,
   "id": "e241a286",
   "metadata": {},
   "outputs": [
    {
     "name": "stdout",
     "output_type": "stream",
     "text": [
      "'data.frame':\t1001 obs. of  51 variables:\n",
      " $ V100: int  0 0 0 0 0 0 0 0 0 0 ...\n",
      " $ V101: int  0 0 0 0 0 0 0 0 0 0 ...\n",
      " $ V102: int  0 0 0 0 0 0 0 0 0 0 ...\n",
      " $ V103: int  0 0 0 0 0 0 0 0 0 0 ...\n",
      " $ V104: int  0 0 0 0 0 0 0 0 0 0 ...\n",
      " $ V105: int  0 0 0 0 0 0 0 0 0 0 ...\n",
      " $ V106: int  0 0 0 0 0 0 0 0 0 0 ...\n",
      " $ V107: int  0 0 0 0 0 0 0 0 0 0 ...\n",
      " $ V108: int  0 0 0 0 0 0 0 0 0 0 ...\n",
      " $ V109: int  0 0 0 0 0 0 0 0 0 0 ...\n",
      " $ V110: int  0 0 0 0 0 0 0 0 0 0 ...\n",
      " $ V111: int  0 0 0 0 0 0 0 0 0 0 ...\n",
      " $ V112: int  0 0 0 0 0 0 0 0 0 0 ...\n",
      " $ V113: int  0 0 0 0 0 0 0 0 0 0 ...\n",
      " $ V114: int  0 0 0 0 0 0 0 0 0 0 ...\n",
      " $ V115: int  0 0 0 0 0 0 0 0 0 0 ...\n",
      " $ V116: int  0 0 0 0 0 0 0 0 0 0 ...\n",
      " $ V117: int  0 0 0 0 0 0 0 0 0 0 ...\n",
      " $ V118: int  0 0 0 0 0 0 0 0 0 0 ...\n",
      " $ V119: int  0 0 0 0 0 0 0 0 0 0 ...\n",
      " $ V120: int  0 0 0 0 0 0 0 0 0 0 ...\n",
      " $ V121: int  0 0 0 0 0 0 0 0 0 0 ...\n",
      " $ V122: int  0 0 0 0 0 0 0 0 0 0 ...\n",
      " $ V123: int  0 0 0 0 0 0 0 0 0 0 ...\n",
      " $ V124: int  0 0 0 0 0 0 0 0 0 0 ...\n",
      " $ V125: int  0 0 0 0 0 0 0 0 0 0 ...\n",
      " $ V126: int  0 0 0 0 0 0 145 0 0 0 ...\n",
      " $ V127: int  0 0 0 0 0 0 255 0 0 0 ...\n",
      " $ V128: int  0 0 0 0 0 0 211 0 0 0 ...\n",
      " $ V129: int  0 51 0 0 0 0 31 0 0 0 ...\n",
      " $ V130: int  0 159 0 0 0 0 0 0 0 0 ...\n",
      " $ V131: int  0 253 0 0 0 0 0 0 0 0 ...\n",
      " $ V132: int  0 159 0 0 0 0 0 0 0 0 ...\n",
      " $ V133: int  0 50 0 0 0 0 0 0 0 0 ...\n",
      " $ V134: int  0 0 0 0 0 0 0 0 0 0 ...\n",
      " $ V135: int  0 0 0 0 0 0 0 0 0 0 ...\n",
      " $ V136: int  0 0 0 0 0 0 0 0 0 189 ...\n",
      " $ V137: int  0 0 0 0 0 0 0 0 0 190 ...\n",
      " $ V138: int  0 0 0 0 0 0 0 0 0 0 ...\n",
      " $ V139: int  0 0 0 0 0 0 0 0 0 0 ...\n",
      " $ V140: int  0 0 0 0 0 0 0 0 0 0 ...\n",
      " $ V141: int  0 0 0 0 0 0 0 0 0 0 ...\n",
      " $ V142: int  0 0 0 0 0 0 0 0 0 0 ...\n",
      " $ V143: int  0 0 0 0 0 0 0 0 0 0 ...\n",
      " $ V144: int  0 0 0 0 0 0 0 0 0 0 ...\n",
      " $ V145: int  0 0 0 0 0 0 0 0 0 0 ...\n",
      " $ V146: int  0 0 0 0 0 0 0 0 0 0 ...\n",
      " $ V147: int  0 0 0 0 0 0 0 0 0 0 ...\n",
      " $ V148: int  0 0 0 0 0 0 0 0 0 0 ...\n",
      " $ V149: int  0 0 0 0 0 0 0 0 0 0 ...\n",
      " $ V150: int  0 0 0 0 0 0 0 0 0 0 ...\n"
     ]
    }
   ],
   "source": [
    "str(mnist[,100:150])"
   ]
  },
  {
   "cell_type": "code",
   "execution_count": 6,
   "id": "40411e88",
   "metadata": {},
   "outputs": [],
   "source": [
    "# 지도학습 : 문제, 답을 알려주고 공부시키는거"
   ]
  },
  {
   "cell_type": "code",
   "execution_count": 7,
   "id": "57aa1ca7",
   "metadata": {},
   "outputs": [
    {
     "data": {
      "text/html": [
       "28"
      ],
      "text/latex": [
       "28"
      ],
      "text/markdown": [
       "28"
      ],
      "text/plain": [
       "[1] 28"
      ]
     },
     "metadata": {},
     "output_type": "display_data"
    }
   ],
   "source": [
    "sqrt(784)"
   ]
  },
  {
   "cell_type": "code",
   "execution_count": 10,
   "id": "81fa2ffa",
   "metadata": {},
   "outputs": [
    {
     "name": "stdout",
     "output_type": "stream",
     "text": [
      "                            \n",
      "                            \n",
      "                            \n",
      "                            \n",
      "                            \n",
      "                            \n",
      "                            \n",
      "            *********       \n",
      "           **********       \n",
      "         ************       \n",
      "         *****  *****       \n",
      "        *****   ****        \n",
      "       *****  *****         \n",
      "      ****   ******         \n",
      "      ************          \n",
      "      ***********           \n",
      "       **********           \n",
      "             ****           \n",
      "             ****           \n",
      "              ***           \n",
      "             ****           \n",
      "             ****           \n",
      "             ****           \n",
      "              ***           \n",
      "              ****          \n",
      "              *****         \n",
      "               ****         \n",
      "                            \n"
     ]
    }
   ],
   "source": [
    "# Data 내용 확인하기\n",
    "num1 <- seq(2, 785, 28) # 한줄 시작하는 숫자\n",
    "num2 <- seq(29, 785, 28) # 한줄 끝나는 숫자\n",
    "cnt <- 0 # 카운트 값\n",
    "for (j in 1:28) {\n",
    "    n1 <- as.numeric(num1[j])\n",
    "    n2 <- as.numeric(num2[j])\n",
    "    \n",
    "    for (i in seq(n1,n2,1)) {\n",
    "        if (mnist[5,i] != 0) {\n",
    "            cat(\"*\")\n",
    "        } else {\n",
    "            cat(\" \")\n",
    "        }\n",
    "        cnt = cnt + 1\n",
    "        if (cnt > 27) {\n",
    "            cat(\"\\n\")\n",
    "            cnt = 0\n",
    "        }\n",
    "    }\n",
    "}"
   ]
  },
  {
   "cell_type": "code",
   "execution_count": 18,
   "id": "b7a7955c",
   "metadata": {},
   "outputs": [
    {
     "name": "stderr",
     "output_type": "stream",
     "text": [
      "Loading required package: lattice\n",
      "Loading required package: ggplot2\n",
      "Registered S3 methods overwritten by 'ggplot2':\n",
      "  method         from \n",
      "  [.quosures     rlang\n",
      "  c.quosures     rlang\n",
      "  print.quosures rlang\n",
      "randomForest 4.6-14\n",
      "Type rfNews() to see new features/changes/bug fixes.\n",
      "\n",
      "Attaching package: ‘randomForest’\n",
      "\n",
      "The following object is masked from ‘package:ggplot2’:\n",
      "\n",
      "    margin\n",
      "\n",
      "The following object is masked from ‘package:dplyr’:\n",
      "\n",
      "    combine\n",
      "\n"
     ]
    }
   ],
   "source": [
    "# 숫자 순서대로 정렬하기\n",
    "library(dplyr)\n",
    "library(caret)\n",
    "library(randomForest)"
   ]
  },
  {
   "cell_type": "code",
   "execution_count": 15,
   "id": "c8df2e91",
   "metadata": {},
   "outputs": [],
   "source": [
    "mnist <- arrange(mnist, V1)"
   ]
  },
  {
   "cell_type": "code",
   "execution_count": 16,
   "id": "263b16ad",
   "metadata": {},
   "outputs": [
    {
     "data": {
      "text/plain": [
       "\n",
       "  0   1   2   3   4   5   6   7   8   9 \n",
       " 98 116  99  93 105  92  94 117  87 100 "
      ]
     },
     "metadata": {},
     "output_type": "display_data"
    }
   ],
   "source": [
    "# 0~9 가 몇개씩 있는지 확인\n",
    "table(mnist$V1)"
   ]
  },
  {
   "cell_type": "code",
   "execution_count": 20,
   "id": "cf8a4603",
   "metadata": {},
   "outputs": [],
   "source": [
    "# V1을 factor로 변경\n",
    "mnist$V1 <- as.factor(mnist$V1)"
   ]
  },
  {
   "cell_type": "code",
   "execution_count": 21,
   "id": "8504b50e",
   "metadata": {},
   "outputs": [],
   "source": [
    "# Sampling 하기\n",
    "set.seed(1234)\n",
    "samp <- createDataPartition(mnist$V1, p=0.7, list = F)"
   ]
  },
  {
   "cell_type": "code",
   "execution_count": 30,
   "id": "5063a6bd",
   "metadata": {},
   "outputs": [],
   "source": [
    "# 학습용 데이터 만들기\n",
    "data.tr <- mnist[samp,]\n",
    "# 테스트용 데이터 만들기\n",
    "data.test <- mnist[-samp,]\n",
    "x <- subset(data.test, select = -V1)\n",
    "y <- data.test$V1"
   ]
  },
  {
   "cell_type": "code",
   "execution_count": 31,
   "id": "2fe9fe5b",
   "metadata": {},
   "outputs": [],
   "source": [
    "# 학습시키기\n",
    "model.rf <- randomForest(V1 ~ ., data.tr, ntree = 100)"
   ]
  },
  {
   "cell_type": "code",
   "execution_count": 32,
   "id": "fc865b5b",
   "metadata": {},
   "outputs": [],
   "source": [
    "pred <- predict(model.rf , x)"
   ]
  },
  {
   "cell_type": "code",
   "execution_count": 33,
   "id": "4ae8c453",
   "metadata": {},
   "outputs": [
    {
     "data": {
      "text/html": [
       "0.885135135135135"
      ],
      "text/latex": [
       "0.885135135135135"
      ],
      "text/markdown": [
       "0.885135135135135"
      ],
      "text/plain": [
       "[1] 0.8851351"
      ]
     },
     "metadata": {},
     "output_type": "display_data"
    }
   ],
   "source": [
    "mean(pred == y)"
   ]
  },
  {
   "cell_type": "code",
   "execution_count": 34,
   "id": "5255811e",
   "metadata": {},
   "outputs": [
    {
     "data": {
      "text/plain": [
       "    y\n",
       "pred  0  1  2  3  4  5  6  7  8  9\n",
       "   0 28  0  1  2  0  0  2  0  0  0\n",
       "   1  0 33  2  0  0  0  0  0  0  0\n",
       "   2  0  0 19  0  0  0  0  1  1  0\n",
       "   3  0  0  0 24  0  0  0  0  0  0\n",
       "   4  0  0  0  0 29  2  0  2  0  4\n",
       "   5  0  1  0  0  1 24  0  0  2  0\n",
       "   6  1  0  0  0  0  1 25  0  0  0\n",
       "   7  0  0  6  1  1  0  1 32  0  1\n",
       "   8  0  0  1  0  0  0  0  0 23  0\n",
       "   9  0  0  0  0  0  0  0  0  0 25"
      ]
     },
     "metadata": {},
     "output_type": "display_data"
    }
   ],
   "source": [
    "table(pred, y)"
   ]
  },
  {
   "cell_type": "markdown",
   "id": "8f15ccb0",
   "metadata": {},
   "source": [
    "## 데이터 개수 10배인 것으로 해보기!"
   ]
  },
  {
   "cell_type": "code",
   "execution_count": 43,
   "id": "595e2e8b",
   "metadata": {},
   "outputs": [
    {
     "data": {
      "text/html": [
       "<table>\n",
       "<thead><tr><th scope=col>V1</th><th scope=col>V2</th><th scope=col>V3</th><th scope=col>V4</th><th scope=col>V5</th><th scope=col>V6</th><th scope=col>V7</th><th scope=col>V8</th><th scope=col>V9</th><th scope=col>V10</th><th scope=col>...</th><th scope=col>V776</th><th scope=col>V777</th><th scope=col>V778</th><th scope=col>V779</th><th scope=col>V780</th><th scope=col>V781</th><th scope=col>V782</th><th scope=col>V783</th><th scope=col>V784</th><th scope=col>V785</th></tr></thead>\n",
       "<tbody>\n",
       "\t<tr><td>5  </td><td>0  </td><td>0  </td><td>0  </td><td>0  </td><td>0  </td><td>0  </td><td>0  </td><td>0  </td><td>0  </td><td>...</td><td>0  </td><td>0  </td><td>0  </td><td>0  </td><td>0  </td><td>0  </td><td>0  </td><td>0  </td><td>0  </td><td>0  </td></tr>\n",
       "\t<tr><td>0  </td><td>0  </td><td>0  </td><td>0  </td><td>0  </td><td>0  </td><td>0  </td><td>0  </td><td>0  </td><td>0  </td><td>...</td><td>0  </td><td>0  </td><td>0  </td><td>0  </td><td>0  </td><td>0  </td><td>0  </td><td>0  </td><td>0  </td><td>0  </td></tr>\n",
       "\t<tr><td>4  </td><td>0  </td><td>0  </td><td>0  </td><td>0  </td><td>0  </td><td>0  </td><td>0  </td><td>0  </td><td>0  </td><td>...</td><td>0  </td><td>0  </td><td>0  </td><td>0  </td><td>0  </td><td>0  </td><td>0  </td><td>0  </td><td>0  </td><td>0  </td></tr>\n",
       "\t<tr><td>1  </td><td>0  </td><td>0  </td><td>0  </td><td>0  </td><td>0  </td><td>0  </td><td>0  </td><td>0  </td><td>0  </td><td>...</td><td>0  </td><td>0  </td><td>0  </td><td>0  </td><td>0  </td><td>0  </td><td>0  </td><td>0  </td><td>0  </td><td>0  </td></tr>\n",
       "\t<tr><td>9  </td><td>0  </td><td>0  </td><td>0  </td><td>0  </td><td>0  </td><td>0  </td><td>0  </td><td>0  </td><td>0  </td><td>...</td><td>0  </td><td>0  </td><td>0  </td><td>0  </td><td>0  </td><td>0  </td><td>0  </td><td>0  </td><td>0  </td><td>0  </td></tr>\n",
       "\t<tr><td>2  </td><td>0  </td><td>0  </td><td>0  </td><td>0  </td><td>0  </td><td>0  </td><td>0  </td><td>0  </td><td>0  </td><td>...</td><td>0  </td><td>0  </td><td>0  </td><td>0  </td><td>0  </td><td>0  </td><td>0  </td><td>0  </td><td>0  </td><td>0  </td></tr>\n",
       "</tbody>\n",
       "</table>\n"
      ],
      "text/latex": [
       "\\begin{tabular}{r|lllllllllllllllllllllllllllllllllllllllllllllllllllllllllllllllllllllllllllllllllllllllllllllllllllllllllllllllllllllllllllllllllllllllllllllllllllllllllllllllllllllllllllllllllllllllllllllllllllllllllllllllllllllllllllllllllllllllllllllllllllllllllllllllllllllllllllllllllllllllllllllllllllllllllllllllllllllllllllllllllllllllllllllllllllllllllllllllllllllllllllllllllllllllllllllllllllllllllllllllllllllllllllllllllllllllllllllllllllllllllllllllllllllllllllllllllllllllllllllllllllllllllllllllllllllllllllllllllllllllllllllllllllllllllllllllllllllllllllllllllllllllllllllllllllllllllllllllllllllllllllllllllllllllllllllllllllllllllllllllllllllllllllllllllllllllllllllllllllllllllllllllllllllllllllllllllllllllllllllllllllllllllllllllllllllllllllllllllllllllllllllllllllllllllllllllll}\n",
       " V1 & V2 & V3 & V4 & V5 & V6 & V7 & V8 & V9 & V10 & ... & V776 & V777 & V778 & V779 & V780 & V781 & V782 & V783 & V784 & V785\\\\\n",
       "\\hline\n",
       "\t 5   & 0   & 0   & 0   & 0   & 0   & 0   & 0   & 0   & 0   & ... & 0   & 0   & 0   & 0   & 0   & 0   & 0   & 0   & 0   & 0  \\\\\n",
       "\t 0   & 0   & 0   & 0   & 0   & 0   & 0   & 0   & 0   & 0   & ... & 0   & 0   & 0   & 0   & 0   & 0   & 0   & 0   & 0   & 0  \\\\\n",
       "\t 4   & 0   & 0   & 0   & 0   & 0   & 0   & 0   & 0   & 0   & ... & 0   & 0   & 0   & 0   & 0   & 0   & 0   & 0   & 0   & 0  \\\\\n",
       "\t 1   & 0   & 0   & 0   & 0   & 0   & 0   & 0   & 0   & 0   & ... & 0   & 0   & 0   & 0   & 0   & 0   & 0   & 0   & 0   & 0  \\\\\n",
       "\t 9   & 0   & 0   & 0   & 0   & 0   & 0   & 0   & 0   & 0   & ... & 0   & 0   & 0   & 0   & 0   & 0   & 0   & 0   & 0   & 0  \\\\\n",
       "\t 2   & 0   & 0   & 0   & 0   & 0   & 0   & 0   & 0   & 0   & ... & 0   & 0   & 0   & 0   & 0   & 0   & 0   & 0   & 0   & 0  \\\\\n",
       "\\end{tabular}\n"
      ],
      "text/markdown": [
       "\n",
       "| V1 | V2 | V3 | V4 | V5 | V6 | V7 | V8 | V9 | V10 | ... | V776 | V777 | V778 | V779 | V780 | V781 | V782 | V783 | V784 | V785 |\n",
       "|---|---|---|---|---|---|---|---|---|---|---|---|---|---|---|---|---|---|---|---|---|\n",
       "| 5   | 0   | 0   | 0   | 0   | 0   | 0   | 0   | 0   | 0   | ... | 0   | 0   | 0   | 0   | 0   | 0   | 0   | 0   | 0   | 0   |\n",
       "| 0   | 0   | 0   | 0   | 0   | 0   | 0   | 0   | 0   | 0   | ... | 0   | 0   | 0   | 0   | 0   | 0   | 0   | 0   | 0   | 0   |\n",
       "| 4   | 0   | 0   | 0   | 0   | 0   | 0   | 0   | 0   | 0   | ... | 0   | 0   | 0   | 0   | 0   | 0   | 0   | 0   | 0   | 0   |\n",
       "| 1   | 0   | 0   | 0   | 0   | 0   | 0   | 0   | 0   | 0   | ... | 0   | 0   | 0   | 0   | 0   | 0   | 0   | 0   | 0   | 0   |\n",
       "| 9   | 0   | 0   | 0   | 0   | 0   | 0   | 0   | 0   | 0   | ... | 0   | 0   | 0   | 0   | 0   | 0   | 0   | 0   | 0   | 0   |\n",
       "| 2   | 0   | 0   | 0   | 0   | 0   | 0   | 0   | 0   | 0   | ... | 0   | 0   | 0   | 0   | 0   | 0   | 0   | 0   | 0   | 0   |\n",
       "\n"
      ],
      "text/plain": [
       "  V1 V2 V3 V4 V5 V6 V7 V8 V9 V10 ... V776 V777 V778 V779 V780 V781 V782 V783\n",
       "1 5  0  0  0  0  0  0  0  0  0   ... 0    0    0    0    0    0    0    0   \n",
       "2 0  0  0  0  0  0  0  0  0  0   ... 0    0    0    0    0    0    0    0   \n",
       "3 4  0  0  0  0  0  0  0  0  0   ... 0    0    0    0    0    0    0    0   \n",
       "4 1  0  0  0  0  0  0  0  0  0   ... 0    0    0    0    0    0    0    0   \n",
       "5 9  0  0  0  0  0  0  0  0  0   ... 0    0    0    0    0    0    0    0   \n",
       "6 2  0  0  0  0  0  0  0  0  0   ... 0    0    0    0    0    0    0    0   \n",
       "  V784 V785\n",
       "1 0    0   \n",
       "2 0    0   \n",
       "3 0    0   \n",
       "4 0    0   \n",
       "5 0    0   \n",
       "6 0    0   "
      ]
     },
     "metadata": {},
     "output_type": "display_data"
    }
   ],
   "source": [
    "mnist2 <- read.csv(\"../Data/train_10k.csv\", header=F)\n",
    "head(mnist2)"
   ]
  },
  {
   "cell_type": "code",
   "execution_count": 29,
   "id": "76dce84b",
   "metadata": {
    "collapsed": true
   },
   "outputs": [
    {
     "name": "stdout",
     "output_type": "stream",
     "text": [
      "'data.frame':\t10000 obs. of  785 variables:\n",
      " $ V1  : int  5 0 4 1 9 2 1 3 1 4 ...\n",
      " $ V2  : int  0 0 0 0 0 0 0 0 0 0 ...\n",
      " $ V3  : int  0 0 0 0 0 0 0 0 0 0 ...\n",
      " $ V4  : int  0 0 0 0 0 0 0 0 0 0 ...\n",
      " $ V5  : int  0 0 0 0 0 0 0 0 0 0 ...\n",
      " $ V6  : int  0 0 0 0 0 0 0 0 0 0 ...\n",
      " $ V7  : int  0 0 0 0 0 0 0 0 0 0 ...\n",
      " $ V8  : int  0 0 0 0 0 0 0 0 0 0 ...\n",
      " $ V9  : int  0 0 0 0 0 0 0 0 0 0 ...\n",
      " $ V10 : int  0 0 0 0 0 0 0 0 0 0 ...\n",
      " $ V11 : int  0 0 0 0 0 0 0 0 0 0 ...\n",
      " $ V12 : int  0 0 0 0 0 0 0 0 0 0 ...\n",
      " $ V13 : int  0 0 0 0 0 0 0 0 0 0 ...\n",
      " $ V14 : int  0 0 0 0 0 0 0 0 0 0 ...\n",
      " $ V15 : int  0 0 0 0 0 0 0 0 0 0 ...\n",
      " $ V16 : int  0 0 0 0 0 0 0 0 0 0 ...\n",
      " $ V17 : int  0 0 0 0 0 0 0 0 0 0 ...\n",
      " $ V18 : int  0 0 0 0 0 0 0 0 0 0 ...\n",
      " $ V19 : int  0 0 0 0 0 0 0 0 0 0 ...\n",
      " $ V20 : int  0 0 0 0 0 0 0 0 0 0 ...\n",
      " $ V21 : int  0 0 0 0 0 0 0 0 0 0 ...\n",
      " $ V22 : int  0 0 0 0 0 0 0 0 0 0 ...\n",
      " $ V23 : int  0 0 0 0 0 0 0 0 0 0 ...\n",
      " $ V24 : int  0 0 0 0 0 0 0 0 0 0 ...\n",
      " $ V25 : int  0 0 0 0 0 0 0 0 0 0 ...\n",
      " $ V26 : int  0 0 0 0 0 0 0 0 0 0 ...\n",
      " $ V27 : int  0 0 0 0 0 0 0 0 0 0 ...\n",
      " $ V28 : int  0 0 0 0 0 0 0 0 0 0 ...\n",
      " $ V29 : int  0 0 0 0 0 0 0 0 0 0 ...\n",
      " $ V30 : int  0 0 0 0 0 0 0 0 0 0 ...\n",
      " $ V31 : int  0 0 0 0 0 0 0 0 0 0 ...\n",
      " $ V32 : int  0 0 0 0 0 0 0 0 0 0 ...\n",
      " $ V33 : int  0 0 0 0 0 0 0 0 0 0 ...\n",
      " $ V34 : int  0 0 0 0 0 0 0 0 0 0 ...\n",
      " $ V35 : int  0 0 0 0 0 0 0 0 0 0 ...\n",
      " $ V36 : int  0 0 0 0 0 0 0 0 0 0 ...\n",
      " $ V37 : int  0 0 0 0 0 0 0 0 0 0 ...\n",
      " $ V38 : int  0 0 0 0 0 0 0 0 0 0 ...\n",
      " $ V39 : int  0 0 0 0 0 0 0 0 0 0 ...\n",
      " $ V40 : int  0 0 0 0 0 0 0 0 0 0 ...\n",
      " $ V41 : int  0 0 0 0 0 0 0 0 0 0 ...\n",
      " $ V42 : int  0 0 0 0 0 0 0 0 0 0 ...\n",
      " $ V43 : int  0 0 0 0 0 0 0 0 0 0 ...\n",
      " $ V44 : int  0 0 0 0 0 0 0 0 0 0 ...\n",
      " $ V45 : int  0 0 0 0 0 0 0 0 0 0 ...\n",
      " $ V46 : int  0 0 0 0 0 0 0 0 0 0 ...\n",
      " $ V47 : int  0 0 0 0 0 0 0 0 0 0 ...\n",
      " $ V48 : int  0 0 0 0 0 0 0 0 0 0 ...\n",
      " $ V49 : int  0 0 0 0 0 0 0 0 0 0 ...\n",
      " $ V50 : int  0 0 0 0 0 0 0 0 0 0 ...\n",
      " $ V51 : int  0 0 0 0 0 0 0 0 0 0 ...\n",
      " $ V52 : int  0 0 0 0 0 0 0 0 0 0 ...\n",
      " $ V53 : int  0 0 0 0 0 0 0 0 0 0 ...\n",
      " $ V54 : int  0 0 0 0 0 0 0 0 0 0 ...\n",
      " $ V55 : int  0 0 0 0 0 0 0 0 0 0 ...\n",
      " $ V56 : int  0 0 0 0 0 0 0 0 0 0 ...\n",
      " $ V57 : int  0 0 0 0 0 0 0 0 0 0 ...\n",
      " $ V58 : int  0 0 0 0 0 0 0 0 0 0 ...\n",
      " $ V59 : int  0 0 0 0 0 0 0 0 0 0 ...\n",
      " $ V60 : int  0 0 0 0 0 0 0 0 0 0 ...\n",
      " $ V61 : int  0 0 0 0 0 0 0 0 0 0 ...\n",
      " $ V62 : int  0 0 0 0 0 0 0 0 0 0 ...\n",
      " $ V63 : int  0 0 0 0 0 0 0 0 0 0 ...\n",
      " $ V64 : int  0 0 0 0 0 0 0 0 0 0 ...\n",
      " $ V65 : int  0 0 0 0 0 0 0 0 0 0 ...\n",
      " $ V66 : int  0 0 0 0 0 0 0 0 0 0 ...\n",
      " $ V67 : int  0 0 0 0 0 0 0 0 0 0 ...\n",
      " $ V68 : int  0 0 0 0 0 0 0 0 0 0 ...\n",
      " $ V69 : int  0 0 0 0 0 0 0 0 0 0 ...\n",
      " $ V70 : int  0 0 0 0 0 0 0 0 0 0 ...\n",
      " $ V71 : int  0 0 0 0 0 0 0 0 0 0 ...\n",
      " $ V72 : int  0 0 0 0 0 0 0 0 0 0 ...\n",
      " $ V73 : int  0 0 0 0 0 0 0 0 0 0 ...\n",
      " $ V74 : int  0 0 0 0 0 0 0 0 0 0 ...\n",
      " $ V75 : int  0 0 0 0 0 0 0 0 0 0 ...\n",
      " $ V76 : int  0 0 0 0 0 0 0 0 0 0 ...\n",
      " $ V77 : int  0 0 0 0 0 0 0 0 0 0 ...\n",
      " $ V78 : int  0 0 0 0 0 0 0 0 0 0 ...\n",
      " $ V79 : int  0 0 0 0 0 0 0 0 0 0 ...\n",
      " $ V80 : int  0 0 0 0 0 0 0 0 0 0 ...\n",
      " $ V81 : int  0 0 0 0 0 0 0 0 0 0 ...\n",
      " $ V82 : int  0 0 0 0 0 0 0 0 0 0 ...\n",
      " $ V83 : int  0 0 0 0 0 0 0 0 0 0 ...\n",
      " $ V84 : int  0 0 0 0 0 0 0 0 0 0 ...\n",
      " $ V85 : int  0 0 0 0 0 0 0 0 0 0 ...\n",
      " $ V86 : int  0 0 0 0 0 0 0 0 0 0 ...\n",
      " $ V87 : int  0 0 0 0 0 0 0 0 0 0 ...\n",
      " $ V88 : int  0 0 0 0 0 0 0 0 0 0 ...\n",
      " $ V89 : int  0 0 0 0 0 0 0 0 0 0 ...\n",
      " $ V90 : int  0 0 0 0 0 0 0 0 0 0 ...\n",
      " $ V91 : int  0 0 0 0 0 0 0 0 0 0 ...\n",
      " $ V92 : int  0 0 0 0 0 0 0 0 0 0 ...\n",
      " $ V93 : int  0 0 0 0 0 0 0 0 0 0 ...\n",
      " $ V94 : int  0 0 0 0 0 0 0 0 0 0 ...\n",
      " $ V95 : int  0 0 0 0 0 0 0 0 0 0 ...\n",
      " $ V96 : int  0 0 0 0 0 0 0 0 0 0 ...\n",
      " $ V97 : int  0 0 0 0 0 0 0 0 0 0 ...\n",
      " $ V98 : int  0 0 0 0 0 0 0 0 0 0 ...\n",
      " $ V99 : int  0 0 0 0 0 0 0 0 0 0 ...\n",
      "  [list output truncated]\n"
     ]
    }
   ],
   "source": [
    "str(mnist2)"
   ]
  },
  {
   "cell_type": "code",
   "execution_count": 35,
   "id": "fd64f7fa",
   "metadata": {},
   "outputs": [],
   "source": [
    "# V1을 factor로 변환\n",
    "mnist2$V1 <- as.factor(mnist2$V1)"
   ]
  },
  {
   "cell_type": "code",
   "execution_count": 36,
   "id": "23f1ac88",
   "metadata": {},
   "outputs": [],
   "source": [
    "# Sampling 하기\n",
    "set.seed(1234)\n",
    "samp <- createDataPartition(mnist2$V1, p=0.7, list = F)"
   ]
  },
  {
   "cell_type": "code",
   "execution_count": 37,
   "id": "8391d769",
   "metadata": {},
   "outputs": [],
   "source": [
    "# 학습용 데이터 만들기\n",
    "data.tr <- mnist2[samp,]\n",
    "# 테스트용 데이터 만들기\n",
    "data.test <- mnist2[-samp,]\n",
    "x <- subset(data.test, select = -V1)\n",
    "y <- data.test$V1"
   ]
  },
  {
   "cell_type": "code",
   "execution_count": 38,
   "id": "5c33f461",
   "metadata": {},
   "outputs": [],
   "source": [
    "# 학습시키기\n",
    "model.rf <- randomForest(V1 ~ ., data.tr, ntree = 100)"
   ]
  },
  {
   "cell_type": "code",
   "execution_count": 39,
   "id": "25a75174",
   "metadata": {},
   "outputs": [],
   "source": [
    "pred <- predict(model.rf , x)"
   ]
  },
  {
   "cell_type": "code",
   "execution_count": 40,
   "id": "55fcfe1b",
   "metadata": {},
   "outputs": [
    {
     "data": {
      "text/html": [
       "0.949282615949283"
      ],
      "text/latex": [
       "0.949282615949283"
      ],
      "text/markdown": [
       "0.949282615949283"
      ],
      "text/plain": [
       "[1] 0.9492826"
      ]
     },
     "metadata": {},
     "output_type": "display_data"
    }
   ],
   "source": [
    "mean(pred == y)"
   ]
  },
  {
   "cell_type": "code",
   "execution_count": 41,
   "id": "986d6306",
   "metadata": {},
   "outputs": [
    {
     "data": {
      "text/plain": [
       "    y\n",
       "pred   0   1   2   3   4   5   6   7   8   9\n",
       "   0 296   0   4   1   1   3   2   2   0   2\n",
       "   1   0 331   0   1   1   1   0   0   3   1\n",
       "   2   0   6 280   4   0   0   0   6   6   1\n",
       "   3   0   0   2 283   0   6   0   0   1   2\n",
       "   4   1   0   1   0 280   3   0   4   4   7\n",
       "   5   0   0   0   6   0 237   2   0   3   0\n",
       "   6   1   0   2   2   1   5 299   0   4   0\n",
       "   7   0   1   1   5   1   1   1 304   1   3\n",
       "   8   2   0   6   2   2   1   0   0 259   1\n",
       "   9   0   0   1   5   8   1   0   5   2 276"
      ]
     },
     "metadata": {},
     "output_type": "display_data"
    }
   ],
   "source": [
    "table(pred, y)"
   ]
  },
  {
   "cell_type": "code",
   "execution_count": null,
   "id": "4fc14387",
   "metadata": {},
   "outputs": [],
   "source": []
  }
 ],
 "metadata": {
  "kernelspec": {
   "display_name": "R",
   "language": "R",
   "name": "ir"
  },
  "language_info": {
   "codemirror_mode": "r",
   "file_extension": ".r",
   "mimetype": "text/x-r-source",
   "name": "R",
   "pygments_lexer": "r",
   "version": "3.6.1"
  }
 },
 "nbformat": 4,
 "nbformat_minor": 5
}
